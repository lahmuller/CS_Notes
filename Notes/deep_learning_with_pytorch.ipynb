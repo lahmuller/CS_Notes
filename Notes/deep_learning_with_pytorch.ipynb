{
  "nbformat": 4,
  "nbformat_minor": 0,
  "metadata": {
    "colab": {
      "name": "deep learning with pytorch.ipynb",
      "provenance": [],
      "collapsed_sections": [],
      "authorship_tag": "ABX9TyOOVo2PKSTygh09CzZYUNxy",
      "include_colab_link": true
    },
    "kernelspec": {
      "name": "python3",
      "display_name": "Python 3"
    },
    "widgets": {
      "application/vnd.jupyter.widget-state+json": {
        "758e1d7d1eb74591ab108b6db9d6569c": {
          "model_module": "@jupyter-widgets/controls",
          "model_name": "HBoxModel",
          "state": {
            "_view_name": "HBoxView",
            "_dom_classes": [],
            "_model_name": "HBoxModel",
            "_view_module": "@jupyter-widgets/controls",
            "_model_module_version": "1.5.0",
            "_view_count": null,
            "_view_module_version": "1.5.0",
            "box_style": "",
            "layout": "IPY_MODEL_5ebc112f277e45249c989ac44e30ca92",
            "_model_module": "@jupyter-widgets/controls",
            "children": [
              "IPY_MODEL_9b1e42ca5689433bb039aeb4bf6e8f0b",
              "IPY_MODEL_0590d84ca8374212b86031be2077b434"
            ]
          }
        },
        "5ebc112f277e45249c989ac44e30ca92": {
          "model_module": "@jupyter-widgets/base",
          "model_name": "LayoutModel",
          "state": {
            "_view_name": "LayoutView",
            "grid_template_rows": null,
            "right": null,
            "justify_content": null,
            "_view_module": "@jupyter-widgets/base",
            "overflow": null,
            "_model_module_version": "1.2.0",
            "_view_count": null,
            "flex_flow": null,
            "width": null,
            "min_width": null,
            "border": null,
            "align_items": null,
            "bottom": null,
            "_model_module": "@jupyter-widgets/base",
            "top": null,
            "grid_column": null,
            "overflow_y": null,
            "overflow_x": null,
            "grid_auto_flow": null,
            "grid_area": null,
            "grid_template_columns": null,
            "flex": null,
            "_model_name": "LayoutModel",
            "justify_items": null,
            "grid_row": null,
            "max_height": null,
            "align_content": null,
            "visibility": null,
            "align_self": null,
            "height": null,
            "min_height": null,
            "padding": null,
            "grid_auto_rows": null,
            "grid_gap": null,
            "max_width": null,
            "order": null,
            "_view_module_version": "1.2.0",
            "grid_template_areas": null,
            "object_position": null,
            "object_fit": null,
            "grid_auto_columns": null,
            "margin": null,
            "display": null,
            "left": null
          }
        },
        "9b1e42ca5689433bb039aeb4bf6e8f0b": {
          "model_module": "@jupyter-widgets/controls",
          "model_name": "FloatProgressModel",
          "state": {
            "_view_name": "ProgressView",
            "style": "IPY_MODEL_d3012587146c4e4a83f52d3206d6d9fa",
            "_dom_classes": [],
            "description": "",
            "_model_name": "FloatProgressModel",
            "bar_style": "success",
            "max": 1,
            "_view_module": "@jupyter-widgets/controls",
            "_model_module_version": "1.5.0",
            "value": 1,
            "_view_count": null,
            "_view_module_version": "1.5.0",
            "orientation": "horizontal",
            "min": 0,
            "description_tooltip": null,
            "_model_module": "@jupyter-widgets/controls",
            "layout": "IPY_MODEL_47ea73492f124a20801675c75cbb42a9"
          }
        },
        "0590d84ca8374212b86031be2077b434": {
          "model_module": "@jupyter-widgets/controls",
          "model_name": "HTMLModel",
          "state": {
            "_view_name": "HTMLView",
            "style": "IPY_MODEL_bdc52c03c2d04c6da0a8910ae5641984",
            "_dom_classes": [],
            "description": "",
            "_model_name": "HTMLModel",
            "placeholder": "​",
            "_view_module": "@jupyter-widgets/controls",
            "_model_module_version": "1.5.0",
            "value": " 9920512/? [00:02&lt;00:00, 4360400.76it/s]",
            "_view_count": null,
            "_view_module_version": "1.5.0",
            "description_tooltip": null,
            "_model_module": "@jupyter-widgets/controls",
            "layout": "IPY_MODEL_891aa4e18363437c8a2232edbe691f0c"
          }
        },
        "d3012587146c4e4a83f52d3206d6d9fa": {
          "model_module": "@jupyter-widgets/controls",
          "model_name": "ProgressStyleModel",
          "state": {
            "_view_name": "StyleView",
            "_model_name": "ProgressStyleModel",
            "description_width": "initial",
            "_view_module": "@jupyter-widgets/base",
            "_model_module_version": "1.5.0",
            "_view_count": null,
            "_view_module_version": "1.2.0",
            "bar_color": null,
            "_model_module": "@jupyter-widgets/controls"
          }
        },
        "47ea73492f124a20801675c75cbb42a9": {
          "model_module": "@jupyter-widgets/base",
          "model_name": "LayoutModel",
          "state": {
            "_view_name": "LayoutView",
            "grid_template_rows": null,
            "right": null,
            "justify_content": null,
            "_view_module": "@jupyter-widgets/base",
            "overflow": null,
            "_model_module_version": "1.2.0",
            "_view_count": null,
            "flex_flow": null,
            "width": null,
            "min_width": null,
            "border": null,
            "align_items": null,
            "bottom": null,
            "_model_module": "@jupyter-widgets/base",
            "top": null,
            "grid_column": null,
            "overflow_y": null,
            "overflow_x": null,
            "grid_auto_flow": null,
            "grid_area": null,
            "grid_template_columns": null,
            "flex": null,
            "_model_name": "LayoutModel",
            "justify_items": null,
            "grid_row": null,
            "max_height": null,
            "align_content": null,
            "visibility": null,
            "align_self": null,
            "height": null,
            "min_height": null,
            "padding": null,
            "grid_auto_rows": null,
            "grid_gap": null,
            "max_width": null,
            "order": null,
            "_view_module_version": "1.2.0",
            "grid_template_areas": null,
            "object_position": null,
            "object_fit": null,
            "grid_auto_columns": null,
            "margin": null,
            "display": null,
            "left": null
          }
        },
        "bdc52c03c2d04c6da0a8910ae5641984": {
          "model_module": "@jupyter-widgets/controls",
          "model_name": "DescriptionStyleModel",
          "state": {
            "_view_name": "StyleView",
            "_model_name": "DescriptionStyleModel",
            "description_width": "",
            "_view_module": "@jupyter-widgets/base",
            "_model_module_version": "1.5.0",
            "_view_count": null,
            "_view_module_version": "1.2.0",
            "_model_module": "@jupyter-widgets/controls"
          }
        },
        "891aa4e18363437c8a2232edbe691f0c": {
          "model_module": "@jupyter-widgets/base",
          "model_name": "LayoutModel",
          "state": {
            "_view_name": "LayoutView",
            "grid_template_rows": null,
            "right": null,
            "justify_content": null,
            "_view_module": "@jupyter-widgets/base",
            "overflow": null,
            "_model_module_version": "1.2.0",
            "_view_count": null,
            "flex_flow": null,
            "width": null,
            "min_width": null,
            "border": null,
            "align_items": null,
            "bottom": null,
            "_model_module": "@jupyter-widgets/base",
            "top": null,
            "grid_column": null,
            "overflow_y": null,
            "overflow_x": null,
            "grid_auto_flow": null,
            "grid_area": null,
            "grid_template_columns": null,
            "flex": null,
            "_model_name": "LayoutModel",
            "justify_items": null,
            "grid_row": null,
            "max_height": null,
            "align_content": null,
            "visibility": null,
            "align_self": null,
            "height": null,
            "min_height": null,
            "padding": null,
            "grid_auto_rows": null,
            "grid_gap": null,
            "max_width": null,
            "order": null,
            "_view_module_version": "1.2.0",
            "grid_template_areas": null,
            "object_position": null,
            "object_fit": null,
            "grid_auto_columns": null,
            "margin": null,
            "display": null,
            "left": null
          }
        },
        "6e7f57d0ad504b33bf3fb3057f5c2853": {
          "model_module": "@jupyter-widgets/controls",
          "model_name": "HBoxModel",
          "state": {
            "_view_name": "HBoxView",
            "_dom_classes": [],
            "_model_name": "HBoxModel",
            "_view_module": "@jupyter-widgets/controls",
            "_model_module_version": "1.5.0",
            "_view_count": null,
            "_view_module_version": "1.5.0",
            "box_style": "",
            "layout": "IPY_MODEL_8fb41279fd984231b0555f22ccaf18ee",
            "_model_module": "@jupyter-widgets/controls",
            "children": [
              "IPY_MODEL_d07534250a364b2aa431865fb24b4d63",
              "IPY_MODEL_b8e3ccdbcca94195838eebfda0094bbf"
            ]
          }
        },
        "8fb41279fd984231b0555f22ccaf18ee": {
          "model_module": "@jupyter-widgets/base",
          "model_name": "LayoutModel",
          "state": {
            "_view_name": "LayoutView",
            "grid_template_rows": null,
            "right": null,
            "justify_content": null,
            "_view_module": "@jupyter-widgets/base",
            "overflow": null,
            "_model_module_version": "1.2.0",
            "_view_count": null,
            "flex_flow": null,
            "width": null,
            "min_width": null,
            "border": null,
            "align_items": null,
            "bottom": null,
            "_model_module": "@jupyter-widgets/base",
            "top": null,
            "grid_column": null,
            "overflow_y": null,
            "overflow_x": null,
            "grid_auto_flow": null,
            "grid_area": null,
            "grid_template_columns": null,
            "flex": null,
            "_model_name": "LayoutModel",
            "justify_items": null,
            "grid_row": null,
            "max_height": null,
            "align_content": null,
            "visibility": null,
            "align_self": null,
            "height": null,
            "min_height": null,
            "padding": null,
            "grid_auto_rows": null,
            "grid_gap": null,
            "max_width": null,
            "order": null,
            "_view_module_version": "1.2.0",
            "grid_template_areas": null,
            "object_position": null,
            "object_fit": null,
            "grid_auto_columns": null,
            "margin": null,
            "display": null,
            "left": null
          }
        },
        "d07534250a364b2aa431865fb24b4d63": {
          "model_module": "@jupyter-widgets/controls",
          "model_name": "FloatProgressModel",
          "state": {
            "_view_name": "ProgressView",
            "style": "IPY_MODEL_e86c7f69db6d4054a8e284f38d871a53",
            "_dom_classes": [],
            "description": "",
            "_model_name": "FloatProgressModel",
            "bar_style": "success",
            "max": 1,
            "_view_module": "@jupyter-widgets/controls",
            "_model_module_version": "1.5.0",
            "value": 1,
            "_view_count": null,
            "_view_module_version": "1.5.0",
            "orientation": "horizontal",
            "min": 0,
            "description_tooltip": null,
            "_model_module": "@jupyter-widgets/controls",
            "layout": "IPY_MODEL_7fa148a792e34a2eb81d994cc64464ef"
          }
        },
        "b8e3ccdbcca94195838eebfda0094bbf": {
          "model_module": "@jupyter-widgets/controls",
          "model_name": "HTMLModel",
          "state": {
            "_view_name": "HTMLView",
            "style": "IPY_MODEL_011c04016ad04f0d984d4259b658d4a4",
            "_dom_classes": [],
            "description": "",
            "_model_name": "HTMLModel",
            "placeholder": "​",
            "_view_module": "@jupyter-widgets/controls",
            "_model_module_version": "1.5.0",
            "value": " 32768/? [00:01&lt;00:00, 20870.48it/s]",
            "_view_count": null,
            "_view_module_version": "1.5.0",
            "description_tooltip": null,
            "_model_module": "@jupyter-widgets/controls",
            "layout": "IPY_MODEL_1146ce7c9bbb4d29ab334a82f63be7ce"
          }
        },
        "e86c7f69db6d4054a8e284f38d871a53": {
          "model_module": "@jupyter-widgets/controls",
          "model_name": "ProgressStyleModel",
          "state": {
            "_view_name": "StyleView",
            "_model_name": "ProgressStyleModel",
            "description_width": "initial",
            "_view_module": "@jupyter-widgets/base",
            "_model_module_version": "1.5.0",
            "_view_count": null,
            "_view_module_version": "1.2.0",
            "bar_color": null,
            "_model_module": "@jupyter-widgets/controls"
          }
        },
        "7fa148a792e34a2eb81d994cc64464ef": {
          "model_module": "@jupyter-widgets/base",
          "model_name": "LayoutModel",
          "state": {
            "_view_name": "LayoutView",
            "grid_template_rows": null,
            "right": null,
            "justify_content": null,
            "_view_module": "@jupyter-widgets/base",
            "overflow": null,
            "_model_module_version": "1.2.0",
            "_view_count": null,
            "flex_flow": null,
            "width": null,
            "min_width": null,
            "border": null,
            "align_items": null,
            "bottom": null,
            "_model_module": "@jupyter-widgets/base",
            "top": null,
            "grid_column": null,
            "overflow_y": null,
            "overflow_x": null,
            "grid_auto_flow": null,
            "grid_area": null,
            "grid_template_columns": null,
            "flex": null,
            "_model_name": "LayoutModel",
            "justify_items": null,
            "grid_row": null,
            "max_height": null,
            "align_content": null,
            "visibility": null,
            "align_self": null,
            "height": null,
            "min_height": null,
            "padding": null,
            "grid_auto_rows": null,
            "grid_gap": null,
            "max_width": null,
            "order": null,
            "_view_module_version": "1.2.0",
            "grid_template_areas": null,
            "object_position": null,
            "object_fit": null,
            "grid_auto_columns": null,
            "margin": null,
            "display": null,
            "left": null
          }
        },
        "011c04016ad04f0d984d4259b658d4a4": {
          "model_module": "@jupyter-widgets/controls",
          "model_name": "DescriptionStyleModel",
          "state": {
            "_view_name": "StyleView",
            "_model_name": "DescriptionStyleModel",
            "description_width": "",
            "_view_module": "@jupyter-widgets/base",
            "_model_module_version": "1.5.0",
            "_view_count": null,
            "_view_module_version": "1.2.0",
            "_model_module": "@jupyter-widgets/controls"
          }
        },
        "1146ce7c9bbb4d29ab334a82f63be7ce": {
          "model_module": "@jupyter-widgets/base",
          "model_name": "LayoutModel",
          "state": {
            "_view_name": "LayoutView",
            "grid_template_rows": null,
            "right": null,
            "justify_content": null,
            "_view_module": "@jupyter-widgets/base",
            "overflow": null,
            "_model_module_version": "1.2.0",
            "_view_count": null,
            "flex_flow": null,
            "width": null,
            "min_width": null,
            "border": null,
            "align_items": null,
            "bottom": null,
            "_model_module": "@jupyter-widgets/base",
            "top": null,
            "grid_column": null,
            "overflow_y": null,
            "overflow_x": null,
            "grid_auto_flow": null,
            "grid_area": null,
            "grid_template_columns": null,
            "flex": null,
            "_model_name": "LayoutModel",
            "justify_items": null,
            "grid_row": null,
            "max_height": null,
            "align_content": null,
            "visibility": null,
            "align_self": null,
            "height": null,
            "min_height": null,
            "padding": null,
            "grid_auto_rows": null,
            "grid_gap": null,
            "max_width": null,
            "order": null,
            "_view_module_version": "1.2.0",
            "grid_template_areas": null,
            "object_position": null,
            "object_fit": null,
            "grid_auto_columns": null,
            "margin": null,
            "display": null,
            "left": null
          }
        },
        "4bb5bbd3a4604d5683de86338cce166d": {
          "model_module": "@jupyter-widgets/controls",
          "model_name": "HBoxModel",
          "state": {
            "_view_name": "HBoxView",
            "_dom_classes": [],
            "_model_name": "HBoxModel",
            "_view_module": "@jupyter-widgets/controls",
            "_model_module_version": "1.5.0",
            "_view_count": null,
            "_view_module_version": "1.5.0",
            "box_style": "",
            "layout": "IPY_MODEL_e7e4246f6cff4a68b99015d3d8ecc245",
            "_model_module": "@jupyter-widgets/controls",
            "children": [
              "IPY_MODEL_47abcc8b49db43dbacfa6d8ab92844c2",
              "IPY_MODEL_73a5e26af5c44b31ab0771b4840742cb"
            ]
          }
        },
        "e7e4246f6cff4a68b99015d3d8ecc245": {
          "model_module": "@jupyter-widgets/base",
          "model_name": "LayoutModel",
          "state": {
            "_view_name": "LayoutView",
            "grid_template_rows": null,
            "right": null,
            "justify_content": null,
            "_view_module": "@jupyter-widgets/base",
            "overflow": null,
            "_model_module_version": "1.2.0",
            "_view_count": null,
            "flex_flow": null,
            "width": null,
            "min_width": null,
            "border": null,
            "align_items": null,
            "bottom": null,
            "_model_module": "@jupyter-widgets/base",
            "top": null,
            "grid_column": null,
            "overflow_y": null,
            "overflow_x": null,
            "grid_auto_flow": null,
            "grid_area": null,
            "grid_template_columns": null,
            "flex": null,
            "_model_name": "LayoutModel",
            "justify_items": null,
            "grid_row": null,
            "max_height": null,
            "align_content": null,
            "visibility": null,
            "align_self": null,
            "height": null,
            "min_height": null,
            "padding": null,
            "grid_auto_rows": null,
            "grid_gap": null,
            "max_width": null,
            "order": null,
            "_view_module_version": "1.2.0",
            "grid_template_areas": null,
            "object_position": null,
            "object_fit": null,
            "grid_auto_columns": null,
            "margin": null,
            "display": null,
            "left": null
          }
        },
        "47abcc8b49db43dbacfa6d8ab92844c2": {
          "model_module": "@jupyter-widgets/controls",
          "model_name": "FloatProgressModel",
          "state": {
            "_view_name": "ProgressView",
            "style": "IPY_MODEL_16de8c3059434baab30d618deda1baa2",
            "_dom_classes": [],
            "description": "",
            "_model_name": "FloatProgressModel",
            "bar_style": "success",
            "max": 1,
            "_view_module": "@jupyter-widgets/controls",
            "_model_module_version": "1.5.0",
            "value": 1,
            "_view_count": null,
            "_view_module_version": "1.5.0",
            "orientation": "horizontal",
            "min": 0,
            "description_tooltip": null,
            "_model_module": "@jupyter-widgets/controls",
            "layout": "IPY_MODEL_2939dc62e3cc4414b6fdfd9927d7b2f9"
          }
        },
        "73a5e26af5c44b31ab0771b4840742cb": {
          "model_module": "@jupyter-widgets/controls",
          "model_name": "HTMLModel",
          "state": {
            "_view_name": "HTMLView",
            "style": "IPY_MODEL_385de8cf77ee4debbc5fc26eeb740490",
            "_dom_classes": [],
            "description": "",
            "_model_name": "HTMLModel",
            "placeholder": "​",
            "_view_module": "@jupyter-widgets/controls",
            "_model_module_version": "1.5.0",
            "value": " 1654784/? [00:01&lt;00:00, 1131733.54it/s]",
            "_view_count": null,
            "_view_module_version": "1.5.0",
            "description_tooltip": null,
            "_model_module": "@jupyter-widgets/controls",
            "layout": "IPY_MODEL_2f4c8be4d02141d09cfa21648afe8cc3"
          }
        },
        "16de8c3059434baab30d618deda1baa2": {
          "model_module": "@jupyter-widgets/controls",
          "model_name": "ProgressStyleModel",
          "state": {
            "_view_name": "StyleView",
            "_model_name": "ProgressStyleModel",
            "description_width": "initial",
            "_view_module": "@jupyter-widgets/base",
            "_model_module_version": "1.5.0",
            "_view_count": null,
            "_view_module_version": "1.2.0",
            "bar_color": null,
            "_model_module": "@jupyter-widgets/controls"
          }
        },
        "2939dc62e3cc4414b6fdfd9927d7b2f9": {
          "model_module": "@jupyter-widgets/base",
          "model_name": "LayoutModel",
          "state": {
            "_view_name": "LayoutView",
            "grid_template_rows": null,
            "right": null,
            "justify_content": null,
            "_view_module": "@jupyter-widgets/base",
            "overflow": null,
            "_model_module_version": "1.2.0",
            "_view_count": null,
            "flex_flow": null,
            "width": null,
            "min_width": null,
            "border": null,
            "align_items": null,
            "bottom": null,
            "_model_module": "@jupyter-widgets/base",
            "top": null,
            "grid_column": null,
            "overflow_y": null,
            "overflow_x": null,
            "grid_auto_flow": null,
            "grid_area": null,
            "grid_template_columns": null,
            "flex": null,
            "_model_name": "LayoutModel",
            "justify_items": null,
            "grid_row": null,
            "max_height": null,
            "align_content": null,
            "visibility": null,
            "align_self": null,
            "height": null,
            "min_height": null,
            "padding": null,
            "grid_auto_rows": null,
            "grid_gap": null,
            "max_width": null,
            "order": null,
            "_view_module_version": "1.2.0",
            "grid_template_areas": null,
            "object_position": null,
            "object_fit": null,
            "grid_auto_columns": null,
            "margin": null,
            "display": null,
            "left": null
          }
        },
        "385de8cf77ee4debbc5fc26eeb740490": {
          "model_module": "@jupyter-widgets/controls",
          "model_name": "DescriptionStyleModel",
          "state": {
            "_view_name": "StyleView",
            "_model_name": "DescriptionStyleModel",
            "description_width": "",
            "_view_module": "@jupyter-widgets/base",
            "_model_module_version": "1.5.0",
            "_view_count": null,
            "_view_module_version": "1.2.0",
            "_model_module": "@jupyter-widgets/controls"
          }
        },
        "2f4c8be4d02141d09cfa21648afe8cc3": {
          "model_module": "@jupyter-widgets/base",
          "model_name": "LayoutModel",
          "state": {
            "_view_name": "LayoutView",
            "grid_template_rows": null,
            "right": null,
            "justify_content": null,
            "_view_module": "@jupyter-widgets/base",
            "overflow": null,
            "_model_module_version": "1.2.0",
            "_view_count": null,
            "flex_flow": null,
            "width": null,
            "min_width": null,
            "border": null,
            "align_items": null,
            "bottom": null,
            "_model_module": "@jupyter-widgets/base",
            "top": null,
            "grid_column": null,
            "overflow_y": null,
            "overflow_x": null,
            "grid_auto_flow": null,
            "grid_area": null,
            "grid_template_columns": null,
            "flex": null,
            "_model_name": "LayoutModel",
            "justify_items": null,
            "grid_row": null,
            "max_height": null,
            "align_content": null,
            "visibility": null,
            "align_self": null,
            "height": null,
            "min_height": null,
            "padding": null,
            "grid_auto_rows": null,
            "grid_gap": null,
            "max_width": null,
            "order": null,
            "_view_module_version": "1.2.0",
            "grid_template_areas": null,
            "object_position": null,
            "object_fit": null,
            "grid_auto_columns": null,
            "margin": null,
            "display": null,
            "left": null
          }
        },
        "8397a8f3751b4266bd8cbc68faa01e06": {
          "model_module": "@jupyter-widgets/controls",
          "model_name": "HBoxModel",
          "state": {
            "_view_name": "HBoxView",
            "_dom_classes": [],
            "_model_name": "HBoxModel",
            "_view_module": "@jupyter-widgets/controls",
            "_model_module_version": "1.5.0",
            "_view_count": null,
            "_view_module_version": "1.5.0",
            "box_style": "",
            "layout": "IPY_MODEL_184c459042d240ee92afa8a3af06545d",
            "_model_module": "@jupyter-widgets/controls",
            "children": [
              "IPY_MODEL_4ae3a028e7e540a49d469fdc93fe48d8",
              "IPY_MODEL_048c85df399e490ba89e77f1c9dfaaae"
            ]
          }
        },
        "184c459042d240ee92afa8a3af06545d": {
          "model_module": "@jupyter-widgets/base",
          "model_name": "LayoutModel",
          "state": {
            "_view_name": "LayoutView",
            "grid_template_rows": null,
            "right": null,
            "justify_content": null,
            "_view_module": "@jupyter-widgets/base",
            "overflow": null,
            "_model_module_version": "1.2.0",
            "_view_count": null,
            "flex_flow": null,
            "width": null,
            "min_width": null,
            "border": null,
            "align_items": null,
            "bottom": null,
            "_model_module": "@jupyter-widgets/base",
            "top": null,
            "grid_column": null,
            "overflow_y": null,
            "overflow_x": null,
            "grid_auto_flow": null,
            "grid_area": null,
            "grid_template_columns": null,
            "flex": null,
            "_model_name": "LayoutModel",
            "justify_items": null,
            "grid_row": null,
            "max_height": null,
            "align_content": null,
            "visibility": null,
            "align_self": null,
            "height": null,
            "min_height": null,
            "padding": null,
            "grid_auto_rows": null,
            "grid_gap": null,
            "max_width": null,
            "order": null,
            "_view_module_version": "1.2.0",
            "grid_template_areas": null,
            "object_position": null,
            "object_fit": null,
            "grid_auto_columns": null,
            "margin": null,
            "display": null,
            "left": null
          }
        },
        "4ae3a028e7e540a49d469fdc93fe48d8": {
          "model_module": "@jupyter-widgets/controls",
          "model_name": "FloatProgressModel",
          "state": {
            "_view_name": "ProgressView",
            "style": "IPY_MODEL_83ef33a3c2b546c48ae4c093a3a4c48c",
            "_dom_classes": [],
            "description": "",
            "_model_name": "FloatProgressModel",
            "bar_style": "success",
            "max": 1,
            "_view_module": "@jupyter-widgets/controls",
            "_model_module_version": "1.5.0",
            "value": 1,
            "_view_count": null,
            "_view_module_version": "1.5.0",
            "orientation": "horizontal",
            "min": 0,
            "description_tooltip": null,
            "_model_module": "@jupyter-widgets/controls",
            "layout": "IPY_MODEL_6001e1142d6748cf903a5df85693e215"
          }
        },
        "048c85df399e490ba89e77f1c9dfaaae": {
          "model_module": "@jupyter-widgets/controls",
          "model_name": "HTMLModel",
          "state": {
            "_view_name": "HTMLView",
            "style": "IPY_MODEL_129edb2c46d0439eb5bc43903bcda379",
            "_dom_classes": [],
            "description": "",
            "_model_name": "HTMLModel",
            "placeholder": "​",
            "_view_module": "@jupyter-widgets/controls",
            "_model_module_version": "1.5.0",
            "value": " 8192/? [00:01&lt;00:00, 6784.03it/s]",
            "_view_count": null,
            "_view_module_version": "1.5.0",
            "description_tooltip": null,
            "_model_module": "@jupyter-widgets/controls",
            "layout": "IPY_MODEL_99bee2f8fc3d40209f01970513764ccf"
          }
        },
        "83ef33a3c2b546c48ae4c093a3a4c48c": {
          "model_module": "@jupyter-widgets/controls",
          "model_name": "ProgressStyleModel",
          "state": {
            "_view_name": "StyleView",
            "_model_name": "ProgressStyleModel",
            "description_width": "initial",
            "_view_module": "@jupyter-widgets/base",
            "_model_module_version": "1.5.0",
            "_view_count": null,
            "_view_module_version": "1.2.0",
            "bar_color": null,
            "_model_module": "@jupyter-widgets/controls"
          }
        },
        "6001e1142d6748cf903a5df85693e215": {
          "model_module": "@jupyter-widgets/base",
          "model_name": "LayoutModel",
          "state": {
            "_view_name": "LayoutView",
            "grid_template_rows": null,
            "right": null,
            "justify_content": null,
            "_view_module": "@jupyter-widgets/base",
            "overflow": null,
            "_model_module_version": "1.2.0",
            "_view_count": null,
            "flex_flow": null,
            "width": null,
            "min_width": null,
            "border": null,
            "align_items": null,
            "bottom": null,
            "_model_module": "@jupyter-widgets/base",
            "top": null,
            "grid_column": null,
            "overflow_y": null,
            "overflow_x": null,
            "grid_auto_flow": null,
            "grid_area": null,
            "grid_template_columns": null,
            "flex": null,
            "_model_name": "LayoutModel",
            "justify_items": null,
            "grid_row": null,
            "max_height": null,
            "align_content": null,
            "visibility": null,
            "align_self": null,
            "height": null,
            "min_height": null,
            "padding": null,
            "grid_auto_rows": null,
            "grid_gap": null,
            "max_width": null,
            "order": null,
            "_view_module_version": "1.2.0",
            "grid_template_areas": null,
            "object_position": null,
            "object_fit": null,
            "grid_auto_columns": null,
            "margin": null,
            "display": null,
            "left": null
          }
        },
        "129edb2c46d0439eb5bc43903bcda379": {
          "model_module": "@jupyter-widgets/controls",
          "model_name": "DescriptionStyleModel",
          "state": {
            "_view_name": "StyleView",
            "_model_name": "DescriptionStyleModel",
            "description_width": "",
            "_view_module": "@jupyter-widgets/base",
            "_model_module_version": "1.5.0",
            "_view_count": null,
            "_view_module_version": "1.2.0",
            "_model_module": "@jupyter-widgets/controls"
          }
        },
        "99bee2f8fc3d40209f01970513764ccf": {
          "model_module": "@jupyter-widgets/base",
          "model_name": "LayoutModel",
          "state": {
            "_view_name": "LayoutView",
            "grid_template_rows": null,
            "right": null,
            "justify_content": null,
            "_view_module": "@jupyter-widgets/base",
            "overflow": null,
            "_model_module_version": "1.2.0",
            "_view_count": null,
            "flex_flow": null,
            "width": null,
            "min_width": null,
            "border": null,
            "align_items": null,
            "bottom": null,
            "_model_module": "@jupyter-widgets/base",
            "top": null,
            "grid_column": null,
            "overflow_y": null,
            "overflow_x": null,
            "grid_auto_flow": null,
            "grid_area": null,
            "grid_template_columns": null,
            "flex": null,
            "_model_name": "LayoutModel",
            "justify_items": null,
            "grid_row": null,
            "max_height": null,
            "align_content": null,
            "visibility": null,
            "align_self": null,
            "height": null,
            "min_height": null,
            "padding": null,
            "grid_auto_rows": null,
            "grid_gap": null,
            "max_width": null,
            "order": null,
            "_view_module_version": "1.2.0",
            "grid_template_areas": null,
            "object_position": null,
            "object_fit": null,
            "grid_auto_columns": null,
            "margin": null,
            "display": null,
            "left": null
          }
        }
      }
    }
  },
  "cells": [
    {
      "cell_type": "markdown",
      "metadata": {
        "id": "view-in-github",
        "colab_type": "text"
      },
      "source": [
        "<a href=\"https://colab.research.google.com/github/lahmuller/CS_Notes/blob/main/Notes/deep_learning_with_pytorch.ipynb\" target=\"_parent\"><img src=\"https://colab.research.google.com/assets/colab-badge.svg\" alt=\"Open In Colab\"/></a>"
      ]
    },
    {
      "cell_type": "markdown",
      "metadata": {
        "id": "1A9fvqNKXBsU"
      },
      "source": [
        "# numpy深度学习"
      ]
    },
    {
      "cell_type": "code",
      "metadata": {
        "id": "-ScM2PGpSlET",
        "colab": {
          "base_uri": "https://localhost:8080/",
          "height": 282
        },
        "outputId": "c75fe40e-f67c-40de-c6e1-02abc476ea47"
      },
      "source": [
        "import numpy as np\n",
        "%matplotlib inline\n",
        "from matplotlib import pyplot as plt\n",
        "np.random.seed(100)\n",
        "x=np.linspace(-1,1,100).reshape(100,1)\n",
        "print(x.size)\n",
        "y=3*np.power(x,2)+2+0.2*np.random.rand(x.size).reshape(100,1)\n",
        "plt.scatter(x,y)\n",
        "plt.show()"
      ],
      "execution_count": null,
      "outputs": [
        {
          "output_type": "stream",
          "text": [
            "100\n"
          ],
          "name": "stdout"
        },
        {
          "output_type": "display_data",
          "data": {
            "text/plain": [
              "<Figure size 432x288 with 1 Axes>"
            ],
            "image/svg+xml": "<?xml version=\"1.0\" encoding=\"utf-8\" standalone=\"no\"?>\r\n<!DOCTYPE svg PUBLIC \"-//W3C//DTD SVG 1.1//EN\"\r\n  \"http://www.w3.org/Graphics/SVG/1.1/DTD/svg11.dtd\">\r\n<!-- Created with matplotlib (https://matplotlib.org/) -->\r\n<svg height=\"248.518125pt\" version=\"1.1\" viewBox=\"0 0 372.103125 248.518125\" width=\"372.103125pt\" xmlns=\"http://www.w3.org/2000/svg\" xmlns:xlink=\"http://www.w3.org/1999/xlink\">\r\n <metadata>\r\n  <rdf:RDF xmlns:cc=\"http://creativecommons.org/ns#\" xmlns:dc=\"http://purl.org/dc/elements/1.1/\" xmlns:rdf=\"http://www.w3.org/1999/02/22-rdf-syntax-ns#\">\r\n   <cc:Work>\r\n    <dc:type rdf:resource=\"http://purl.org/dc/dcmitype/StillImage\"/>\r\n    <dc:date>2020-11-30T18:54:12.702441</dc:date>\r\n    <dc:format>image/svg+xml</dc:format>\r\n    <dc:creator>\r\n     <cc:Agent>\r\n      <dc:title>Matplotlib v3.3.2, https://matplotlib.org/</dc:title>\r\n     </cc:Agent>\r\n    </dc:creator>\r\n   </cc:Work>\r\n  </rdf:RDF>\r\n </metadata>\r\n <defs>\r\n  <style type=\"text/css\">*{stroke-linecap:butt;stroke-linejoin:round;}</style>\r\n </defs>\r\n <g id=\"figure_1\">\r\n  <g id=\"patch_1\">\r\n   <path d=\"M 0 248.518125 \r\nL 372.103125 248.518125 \r\nL 372.103125 0 \r\nL 0 0 \r\nz\r\n\" style=\"fill:none;\"/>\r\n  </g>\r\n  <g id=\"axes_1\">\r\n   <g id=\"patch_2\">\r\n    <path d=\"M 30.103125 224.64 \r\nL 364.903125 224.64 \r\nL 364.903125 7.2 \r\nL 30.103125 7.2 \r\nz\r\n\" style=\"fill:#ffffff;\"/>\r\n   </g>\r\n   <g id=\"PathCollection_1\">\r\n    <defs>\r\n     <path d=\"M 0 3 \r\nC 0.795609 3 1.55874 2.683901 2.12132 2.12132 \r\nC 2.683901 1.55874 3 0.795609 3 0 \r\nC 3 -0.795609 2.683901 -1.55874 2.12132 -2.12132 \r\nC 1.55874 -2.683901 0.795609 -3 0 -3 \r\nC -0.795609 -3 -1.55874 -2.683901 -2.12132 -2.12132 \r\nC -2.683901 -1.55874 -3 -0.795609 -3 0 \r\nC -3 0.795609 -2.683901 1.55874 -2.12132 2.12132 \r\nC -1.55874 2.683901 -0.795609 3 0 3 \r\nz\r\n\" id=\"m557e24ce1f\" style=\"stroke:#1f77b4;\"/>\r\n    </defs>\r\n    <g clip-path=\"url(#p37b788ced6)\">\r\n     <use style=\"fill:#1f77b4;stroke:#1f77b4;\" x=\"45.321307\" xlink:href=\"#m557e24ce1f\" y=\"18.551796\"/>\r\n     <use style=\"fill:#1f77b4;stroke:#1f77b4;\" x=\"48.395687\" xlink:href=\"#m557e24ce1f\" y=\"29.670007\"/>\r\n     <use style=\"fill:#1f77b4;stroke:#1f77b4;\" x=\"51.470067\" xlink:href=\"#m557e24ce1f\" y=\"35.345565\"/>\r\n     <use style=\"fill:#1f77b4;stroke:#1f77b4;\" x=\"54.544447\" xlink:href=\"#m557e24ce1f\" y=\"37.340385\"/>\r\n     <use style=\"fill:#1f77b4;stroke:#1f77b4;\" x=\"57.618827\" xlink:href=\"#m557e24ce1f\" y=\"55.37768\"/>\r\n     <use style=\"fill:#1f77b4;stroke:#1f77b4;\" x=\"60.693208\" xlink:href=\"#m557e24ce1f\" y=\"60.957695\"/>\r\n     <use style=\"fill:#1f77b4;stroke:#1f77b4;\" x=\"63.767588\" xlink:href=\"#m557e24ce1f\" y=\"60.823252\"/>\r\n     <use style=\"fill:#1f77b4;stroke:#1f77b4;\" x=\"66.841968\" xlink:href=\"#m557e24ce1f\" y=\"65.596811\"/>\r\n     <use style=\"fill:#1f77b4;stroke:#1f77b4;\" x=\"69.916348\" xlink:href=\"#m557e24ce1f\" y=\"81.064814\"/>\r\n     <use style=\"fill:#1f77b4;stroke:#1f77b4;\" x=\"72.990728\" xlink:href=\"#m557e24ce1f\" y=\"81.882353\"/>\r\n     <use style=\"fill:#1f77b4;stroke:#1f77b4;\" x=\"76.065108\" xlink:href=\"#m557e24ce1f\" y=\"84.112711\"/>\r\n     <use style=\"fill:#1f77b4;stroke:#1f77b4;\" x=\"79.139489\" xlink:href=\"#m557e24ce1f\" y=\"99.018267\"/>\r\n     <use style=\"fill:#1f77b4;stroke:#1f77b4;\" x=\"82.213869\" xlink:href=\"#m557e24ce1f\" y=\"105.305481\"/>\r\n     <use style=\"fill:#1f77b4;stroke:#1f77b4;\" x=\"85.288249\" xlink:href=\"#m557e24ce1f\" y=\"112.117564\"/>\r\n     <use style=\"fill:#1f77b4;stroke:#1f77b4;\" x=\"88.362629\" xlink:href=\"#m557e24ce1f\" y=\"116.35226\"/>\r\n     <use style=\"fill:#1f77b4;stroke:#1f77b4;\" x=\"91.437009\" xlink:href=\"#m557e24ce1f\" y=\"112.105381\"/>\r\n     <use style=\"fill:#1f77b4;stroke:#1f77b4;\" x=\"94.511389\" xlink:href=\"#m557e24ce1f\" y=\"119.602037\"/>\r\n     <use style=\"fill:#1f77b4;stroke:#1f77b4;\" x=\"97.58577\" xlink:href=\"#m557e24ce1f\" y=\"133.018614\"/>\r\n     <use style=\"fill:#1f77b4;stroke:#1f77b4;\" x=\"100.66015\" xlink:href=\"#m557e24ce1f\" y=\"129.773195\"/>\r\n     <use style=\"fill:#1f77b4;stroke:#1f77b4;\" x=\"103.73453\" xlink:href=\"#m557e24ce1f\" y=\"141.6206\"/>\r\n     <use style=\"fill:#1f77b4;stroke:#1f77b4;\" x=\"106.80891\" xlink:href=\"#m557e24ce1f\" y=\"144.315773\"/>\r\n     <use style=\"fill:#1f77b4;stroke:#1f77b4;\" x=\"109.88329\" xlink:href=\"#m557e24ce1f\" y=\"142.345801\"/>\r\n     <use style=\"fill:#1f77b4;stroke:#1f77b4;\" x=\"112.95767\" xlink:href=\"#m557e24ce1f\" y=\"148.325424\"/>\r\n     <use style=\"fill:#1f77b4;stroke:#1f77b4;\" x=\"116.032051\" xlink:href=\"#m557e24ce1f\" y=\"158.764204\"/>\r\n     <use style=\"fill:#1f77b4;stroke:#1f77b4;\" x=\"119.106431\" xlink:href=\"#m557e24ce1f\" y=\"164.921643\"/>\r\n     <use style=\"fill:#1f77b4;stroke:#1f77b4;\" x=\"122.180811\" xlink:href=\"#m557e24ce1f\" y=\"166.318461\"/>\r\n     <use style=\"fill:#1f77b4;stroke:#1f77b4;\" x=\"125.255191\" xlink:href=\"#m557e24ce1f\" y=\"174.814712\"/>\r\n     <use style=\"fill:#1f77b4;stroke:#1f77b4;\" x=\"128.329571\" xlink:href=\"#m557e24ce1f\" y=\"175.262874\"/>\r\n     <use style=\"fill:#1f77b4;stroke:#1f77b4;\" x=\"131.403951\" xlink:href=\"#m557e24ce1f\" y=\"171.742526\"/>\r\n     <use style=\"fill:#1f77b4;stroke:#1f77b4;\" x=\"134.478332\" xlink:href=\"#m557e24ce1f\" y=\"185.078659\"/>\r\n     <use style=\"fill:#1f77b4;stroke:#1f77b4;\" x=\"137.552712\" xlink:href=\"#m557e24ce1f\" y=\"180.724877\"/>\r\n     <use style=\"fill:#1f77b4;stroke:#1f77b4;\" x=\"140.627092\" xlink:href=\"#m557e24ce1f\" y=\"183.651279\"/>\r\n     <use style=\"fill:#1f77b4;stroke:#1f77b4;\" x=\"143.701472\" xlink:href=\"#m557e24ce1f\" y=\"192.893711\"/>\r\n     <use style=\"fill:#1f77b4;stroke:#1f77b4;\" x=\"146.775852\" xlink:href=\"#m557e24ce1f\" y=\"192.011249\"/>\r\n     <use style=\"fill:#1f77b4;stroke:#1f77b4;\" x=\"149.850232\" xlink:href=\"#m557e24ce1f\" y=\"198.969859\"/>\r\n     <use style=\"fill:#1f77b4;stroke:#1f77b4;\" x=\"152.924613\" xlink:href=\"#m557e24ce1f\" y=\"190.354201\"/>\r\n     <use style=\"fill:#1f77b4;stroke:#1f77b4;\" x=\"155.998993\" xlink:href=\"#m557e24ce1f\" y=\"191.394097\"/>\r\n     <use style=\"fill:#1f77b4;stroke:#1f77b4;\" x=\"159.073373\" xlink:href=\"#m557e24ce1f\" y=\"205.278086\"/>\r\n     <use style=\"fill:#1f77b4;stroke:#1f77b4;\" x=\"162.147753\" xlink:href=\"#m557e24ce1f\" y=\"196.490195\"/>\r\n     <use style=\"fill:#1f77b4;stroke:#1f77b4;\" x=\"165.222133\" xlink:href=\"#m557e24ce1f\" y=\"202.252871\"/>\r\n     <use style=\"fill:#1f77b4;stroke:#1f77b4;\" x=\"168.296513\" xlink:href=\"#m557e24ce1f\" y=\"201.698336\"/>\r\n     <use style=\"fill:#1f77b4;stroke:#1f77b4;\" x=\"171.370894\" xlink:href=\"#m557e24ce1f\" y=\"204.558161\"/>\r\n     <use style=\"fill:#1f77b4;stroke:#1f77b4;\" x=\"174.445274\" xlink:href=\"#m557e24ce1f\" y=\"206.438556\"/>\r\n     <use style=\"fill:#1f77b4;stroke:#1f77b4;\" x=\"177.519654\" xlink:href=\"#m557e24ce1f\" y=\"214.756364\"/>\r\n     <use style=\"fill:#1f77b4;stroke:#1f77b4;\" x=\"180.594034\" xlink:href=\"#m557e24ce1f\" y=\"213.263708\"/>\r\n     <use style=\"fill:#1f77b4;stroke:#1f77b4;\" x=\"183.668414\" xlink:href=\"#m557e24ce1f\" y=\"209.748963\"/>\r\n     <use style=\"fill:#1f77b4;stroke:#1f77b4;\" x=\"186.742794\" xlink:href=\"#m557e24ce1f\" y=\"207.49369\"/>\r\n     <use style=\"fill:#1f77b4;stroke:#1f77b4;\" x=\"189.817175\" xlink:href=\"#m557e24ce1f\" y=\"214.629491\"/>\r\n     <use style=\"fill:#1f77b4;stroke:#1f77b4;\" x=\"192.891555\" xlink:href=\"#m557e24ce1f\" y=\"214.491786\"/>\r\n     <use style=\"fill:#1f77b4;stroke:#1f77b4;\" x=\"195.965935\" xlink:href=\"#m557e24ce1f\" y=\"207.367491\"/>\r\n     <use style=\"fill:#1f77b4;stroke:#1f77b4;\" x=\"199.040315\" xlink:href=\"#m557e24ce1f\" y=\"205.791468\"/>\r\n     <use style=\"fill:#1f77b4;stroke:#1f77b4;\" x=\"202.114695\" xlink:href=\"#m557e24ce1f\" y=\"206.792902\"/>\r\n     <use style=\"fill:#1f77b4;stroke:#1f77b4;\" x=\"205.189075\" xlink:href=\"#m557e24ce1f\" y=\"213.230835\"/>\r\n     <use style=\"fill:#1f77b4;stroke:#1f77b4;\" x=\"208.263456\" xlink:href=\"#m557e24ce1f\" y=\"209.68213\"/>\r\n     <use style=\"fill:#1f77b4;stroke:#1f77b4;\" x=\"211.337836\" xlink:href=\"#m557e24ce1f\" y=\"212.189763\"/>\r\n     <use style=\"fill:#1f77b4;stroke:#1f77b4;\" x=\"214.412216\" xlink:href=\"#m557e24ce1f\" y=\"211.590611\"/>\r\n     <use style=\"fill:#1f77b4;stroke:#1f77b4;\" x=\"217.486596\" xlink:href=\"#m557e24ce1f\" y=\"212.730066\"/>\r\n     <use style=\"fill:#1f77b4;stroke:#1f77b4;\" x=\"220.560976\" xlink:href=\"#m557e24ce1f\" y=\"210.862167\"/>\r\n     <use style=\"fill:#1f77b4;stroke:#1f77b4;\" x=\"223.635356\" xlink:href=\"#m557e24ce1f\" y=\"212.081771\"/>\r\n     <use style=\"fill:#1f77b4;stroke:#1f77b4;\" x=\"226.709737\" xlink:href=\"#m557e24ce1f\" y=\"204.745308\"/>\r\n     <use style=\"fill:#1f77b4;stroke:#1f77b4;\" x=\"229.784117\" xlink:href=\"#m557e24ce1f\" y=\"204.831975\"/>\r\n     <use style=\"fill:#1f77b4;stroke:#1f77b4;\" x=\"232.858497\" xlink:href=\"#m557e24ce1f\" y=\"200.317294\"/>\r\n     <use style=\"fill:#1f77b4;stroke:#1f77b4;\" x=\"235.932877\" xlink:href=\"#m557e24ce1f\" y=\"197.951419\"/>\r\n     <use style=\"fill:#1f77b4;stroke:#1f77b4;\" x=\"239.007257\" xlink:href=\"#m557e24ce1f\" y=\"202.169705\"/>\r\n     <use style=\"fill:#1f77b4;stroke:#1f77b4;\" x=\"242.081637\" xlink:href=\"#m557e24ce1f\" y=\"189.795964\"/>\r\n     <use style=\"fill:#1f77b4;stroke:#1f77b4;\" x=\"245.156018\" xlink:href=\"#m557e24ce1f\" y=\"187.274133\"/>\r\n     <use style=\"fill:#1f77b4;stroke:#1f77b4;\" x=\"248.230398\" xlink:href=\"#m557e24ce1f\" y=\"189.178872\"/>\r\n     <use style=\"fill:#1f77b4;stroke:#1f77b4;\" x=\"251.304778\" xlink:href=\"#m557e24ce1f\" y=\"189.260987\"/>\r\n     <use style=\"fill:#1f77b4;stroke:#1f77b4;\" x=\"254.379158\" xlink:href=\"#m557e24ce1f\" y=\"186.744117\"/>\r\n     <use style=\"fill:#1f77b4;stroke:#1f77b4;\" x=\"257.453538\" xlink:href=\"#m557e24ce1f\" y=\"185.795679\"/>\r\n     <use style=\"fill:#1f77b4;stroke:#1f77b4;\" x=\"260.527918\" xlink:href=\"#m557e24ce1f\" y=\"181.717259\"/>\r\n     <use style=\"fill:#1f77b4;stroke:#1f77b4;\" x=\"263.602299\" xlink:href=\"#m557e24ce1f\" y=\"178.800893\"/>\r\n     <use style=\"fill:#1f77b4;stroke:#1f77b4;\" x=\"266.676679\" xlink:href=\"#m557e24ce1f\" y=\"176.275989\"/>\r\n     <use style=\"fill:#1f77b4;stroke:#1f77b4;\" x=\"269.751059\" xlink:href=\"#m557e24ce1f\" y=\"162.463219\"/>\r\n     <use style=\"fill:#1f77b4;stroke:#1f77b4;\" x=\"272.825439\" xlink:href=\"#m557e24ce1f\" y=\"158.809519\"/>\r\n     <use style=\"fill:#1f77b4;stroke:#1f77b4;\" x=\"275.899819\" xlink:href=\"#m557e24ce1f\" y=\"159.490098\"/>\r\n     <use style=\"fill:#1f77b4;stroke:#1f77b4;\" x=\"278.974199\" xlink:href=\"#m557e24ce1f\" y=\"153.684524\"/>\r\n     <use style=\"fill:#1f77b4;stroke:#1f77b4;\" x=\"282.04858\" xlink:href=\"#m557e24ce1f\" y=\"154.460084\"/>\r\n     <use style=\"fill:#1f77b4;stroke:#1f77b4;\" x=\"285.12296\" xlink:href=\"#m557e24ce1f\" y=\"153.245496\"/>\r\n     <use style=\"fill:#1f77b4;stroke:#1f77b4;\" x=\"288.19734\" xlink:href=\"#m557e24ce1f\" y=\"143.907101\"/>\r\n     <use style=\"fill:#1f77b4;stroke:#1f77b4;\" x=\"291.27172\" xlink:href=\"#m557e24ce1f\" y=\"138.604774\"/>\r\n     <use style=\"fill:#1f77b4;stroke:#1f77b4;\" x=\"294.3461\" xlink:href=\"#m557e24ce1f\" y=\"139.127739\"/>\r\n     <use style=\"fill:#1f77b4;stroke:#1f77b4;\" x=\"297.42048\" xlink:href=\"#m557e24ce1f\" y=\"128.441448\"/>\r\n     <use style=\"fill:#1f77b4;stroke:#1f77b4;\" x=\"300.494861\" xlink:href=\"#m557e24ce1f\" y=\"117.282248\"/>\r\n     <use style=\"fill:#1f77b4;stroke:#1f77b4;\" x=\"303.569241\" xlink:href=\"#m557e24ce1f\" y=\"119.606705\"/>\r\n     <use style=\"fill:#1f77b4;stroke:#1f77b4;\" x=\"306.643621\" xlink:href=\"#m557e24ce1f\" y=\"114.862517\"/>\r\n     <use style=\"fill:#1f77b4;stroke:#1f77b4;\" x=\"309.718001\" xlink:href=\"#m557e24ce1f\" y=\"103.157516\"/>\r\n     <use style=\"fill:#1f77b4;stroke:#1f77b4;\" x=\"312.792381\" xlink:href=\"#m557e24ce1f\" y=\"97.991399\"/>\r\n     <use style=\"fill:#1f77b4;stroke:#1f77b4;\" x=\"315.866761\" xlink:href=\"#m557e24ce1f\" y=\"97.683215\"/>\r\n     <use style=\"fill:#1f77b4;stroke:#1f77b4;\" x=\"318.941142\" xlink:href=\"#m557e24ce1f\" y=\"87.419805\"/>\r\n     <use style=\"fill:#1f77b4;stroke:#1f77b4;\" x=\"322.015522\" xlink:href=\"#m557e24ce1f\" y=\"82.328235\"/>\r\n     <use style=\"fill:#1f77b4;stroke:#1f77b4;\" x=\"325.089902\" xlink:href=\"#m557e24ce1f\" y=\"79.007085\"/>\r\n     <use style=\"fill:#1f77b4;stroke:#1f77b4;\" x=\"328.164282\" xlink:href=\"#m557e24ce1f\" y=\"74.788115\"/>\r\n     <use style=\"fill:#1f77b4;stroke:#1f77b4;\" x=\"331.238662\" xlink:href=\"#m557e24ce1f\" y=\"65.426312\"/>\r\n     <use style=\"fill:#1f77b4;stroke:#1f77b4;\" x=\"334.313042\" xlink:href=\"#m557e24ce1f\" y=\"56.646401\"/>\r\n     <use style=\"fill:#1f77b4;stroke:#1f77b4;\" x=\"337.387423\" xlink:href=\"#m557e24ce1f\" y=\"46.968448\"/>\r\n     <use style=\"fill:#1f77b4;stroke:#1f77b4;\" x=\"340.461803\" xlink:href=\"#m557e24ce1f\" y=\"44.930795\"/>\r\n     <use style=\"fill:#1f77b4;stroke:#1f77b4;\" x=\"343.536183\" xlink:href=\"#m557e24ce1f\" y=\"32.561641\"/>\r\n     <use style=\"fill:#1f77b4;stroke:#1f77b4;\" x=\"346.610563\" xlink:href=\"#m557e24ce1f\" y=\"30.675763\"/>\r\n     <use style=\"fill:#1f77b4;stroke:#1f77b4;\" x=\"349.684943\" xlink:href=\"#m557e24ce1f\" y=\"17.083636\"/>\r\n    </g>\r\n   </g>\r\n   <g id=\"matplotlib.axis_1\">\r\n    <g id=\"xtick_1\">\r\n     <g id=\"line2d_1\">\r\n      <defs>\r\n       <path d=\"M 0 0 \r\nL 0 3.5 \r\n\" id=\"mfb0db3cef3\" style=\"stroke:#000000;stroke-width:0.8;\"/>\r\n      </defs>\r\n      <g>\r\n       <use style=\"stroke:#000000;stroke-width:0.8;\" x=\"45.321307\" xlink:href=\"#mfb0db3cef3\" y=\"224.64\"/>\r\n      </g>\r\n     </g>\r\n     <g id=\"text_1\">\r\n      <!-- −1.00 -->\r\n      <g transform=\"translate(29.998651 239.238437)scale(0.1 -0.1)\">\r\n       <defs>\r\n        <path d=\"M 10.59375 35.5 \r\nL 73.1875 35.5 \r\nL 73.1875 27.203125 \r\nL 10.59375 27.203125 \r\nz\r\n\" id=\"DejaVuSans-8722\"/>\r\n        <path d=\"M 12.40625 8.296875 \r\nL 28.515625 8.296875 \r\nL 28.515625 63.921875 \r\nL 10.984375 60.40625 \r\nL 10.984375 69.390625 \r\nL 28.421875 72.90625 \r\nL 38.28125 72.90625 \r\nL 38.28125 8.296875 \r\nL 54.390625 8.296875 \r\nL 54.390625 0 \r\nL 12.40625 0 \r\nz\r\n\" id=\"DejaVuSans-49\"/>\r\n        <path d=\"M 10.6875 12.40625 \r\nL 21 12.40625 \r\nL 21 0 \r\nL 10.6875 0 \r\nz\r\n\" id=\"DejaVuSans-46\"/>\r\n        <path d=\"M 31.78125 66.40625 \r\nQ 24.171875 66.40625 20.328125 58.90625 \r\nQ 16.5 51.421875 16.5 36.375 \r\nQ 16.5 21.390625 20.328125 13.890625 \r\nQ 24.171875 6.390625 31.78125 6.390625 \r\nQ 39.453125 6.390625 43.28125 13.890625 \r\nQ 47.125 21.390625 47.125 36.375 \r\nQ 47.125 51.421875 43.28125 58.90625 \r\nQ 39.453125 66.40625 31.78125 66.40625 \r\nz\r\nM 31.78125 74.21875 \r\nQ 44.046875 74.21875 50.515625 64.515625 \r\nQ 56.984375 54.828125 56.984375 36.375 \r\nQ 56.984375 17.96875 50.515625 8.265625 \r\nQ 44.046875 -1.421875 31.78125 -1.421875 \r\nQ 19.53125 -1.421875 13.0625 8.265625 \r\nQ 6.59375 17.96875 6.59375 36.375 \r\nQ 6.59375 54.828125 13.0625 64.515625 \r\nQ 19.53125 74.21875 31.78125 74.21875 \r\nz\r\n\" id=\"DejaVuSans-48\"/>\r\n       </defs>\r\n       <use xlink:href=\"#DejaVuSans-8722\"/>\r\n       <use x=\"83.789062\" xlink:href=\"#DejaVuSans-49\"/>\r\n       <use x=\"147.412109\" xlink:href=\"#DejaVuSans-46\"/>\r\n       <use x=\"179.199219\" xlink:href=\"#DejaVuSans-48\"/>\r\n       <use x=\"242.822266\" xlink:href=\"#DejaVuSans-48\"/>\r\n      </g>\r\n     </g>\r\n    </g>\r\n    <g id=\"xtick_2\">\r\n     <g id=\"line2d_2\">\r\n      <g>\r\n       <use style=\"stroke:#000000;stroke-width:0.8;\" x=\"83.366761\" xlink:href=\"#mfb0db3cef3\" y=\"224.64\"/>\r\n      </g>\r\n     </g>\r\n     <g id=\"text_2\">\r\n      <!-- −0.75 -->\r\n      <g transform=\"translate(68.044105 239.238437)scale(0.1 -0.1)\">\r\n       <defs>\r\n        <path d=\"M 8.203125 72.90625 \r\nL 55.078125 72.90625 \r\nL 55.078125 68.703125 \r\nL 28.609375 0 \r\nL 18.3125 0 \r\nL 43.21875 64.59375 \r\nL 8.203125 64.59375 \r\nz\r\n\" id=\"DejaVuSans-55\"/>\r\n        <path d=\"M 10.796875 72.90625 \r\nL 49.515625 72.90625 \r\nL 49.515625 64.59375 \r\nL 19.828125 64.59375 \r\nL 19.828125 46.734375 \r\nQ 21.96875 47.46875 24.109375 47.828125 \r\nQ 26.265625 48.1875 28.421875 48.1875 \r\nQ 40.625 48.1875 47.75 41.5 \r\nQ 54.890625 34.8125 54.890625 23.390625 \r\nQ 54.890625 11.625 47.5625 5.09375 \r\nQ 40.234375 -1.421875 26.90625 -1.421875 \r\nQ 22.3125 -1.421875 17.546875 -0.640625 \r\nQ 12.796875 0.140625 7.71875 1.703125 \r\nL 7.71875 11.625 \r\nQ 12.109375 9.234375 16.796875 8.0625 \r\nQ 21.484375 6.890625 26.703125 6.890625 \r\nQ 35.15625 6.890625 40.078125 11.328125 \r\nQ 45.015625 15.765625 45.015625 23.390625 \r\nQ 45.015625 31 40.078125 35.4375 \r\nQ 35.15625 39.890625 26.703125 39.890625 \r\nQ 22.75 39.890625 18.8125 39.015625 \r\nQ 14.890625 38.140625 10.796875 36.28125 \r\nz\r\n\" id=\"DejaVuSans-53\"/>\r\n       </defs>\r\n       <use xlink:href=\"#DejaVuSans-8722\"/>\r\n       <use x=\"83.789062\" xlink:href=\"#DejaVuSans-48\"/>\r\n       <use x=\"147.412109\" xlink:href=\"#DejaVuSans-46\"/>\r\n       <use x=\"179.199219\" xlink:href=\"#DejaVuSans-55\"/>\r\n       <use x=\"242.822266\" xlink:href=\"#DejaVuSans-53\"/>\r\n      </g>\r\n     </g>\r\n    </g>\r\n    <g id=\"xtick_3\">\r\n     <g id=\"line2d_3\">\r\n      <g>\r\n       <use style=\"stroke:#000000;stroke-width:0.8;\" x=\"121.412216\" xlink:href=\"#mfb0db3cef3\" y=\"224.64\"/>\r\n      </g>\r\n     </g>\r\n     <g id=\"text_3\">\r\n      <!-- −0.50 -->\r\n      <g transform=\"translate(106.08956 239.238437)scale(0.1 -0.1)\">\r\n       <use xlink:href=\"#DejaVuSans-8722\"/>\r\n       <use x=\"83.789062\" xlink:href=\"#DejaVuSans-48\"/>\r\n       <use x=\"147.412109\" xlink:href=\"#DejaVuSans-46\"/>\r\n       <use x=\"179.199219\" xlink:href=\"#DejaVuSans-53\"/>\r\n       <use x=\"242.822266\" xlink:href=\"#DejaVuSans-48\"/>\r\n      </g>\r\n     </g>\r\n    </g>\r\n    <g id=\"xtick_4\">\r\n     <g id=\"line2d_4\">\r\n      <g>\r\n       <use style=\"stroke:#000000;stroke-width:0.8;\" x=\"159.45767\" xlink:href=\"#mfb0db3cef3\" y=\"224.64\"/>\r\n      </g>\r\n     </g>\r\n     <g id=\"text_4\">\r\n      <!-- −0.25 -->\r\n      <g transform=\"translate(144.135014 239.238437)scale(0.1 -0.1)\">\r\n       <defs>\r\n        <path d=\"M 19.1875 8.296875 \r\nL 53.609375 8.296875 \r\nL 53.609375 0 \r\nL 7.328125 0 \r\nL 7.328125 8.296875 \r\nQ 12.9375 14.109375 22.625 23.890625 \r\nQ 32.328125 33.6875 34.8125 36.53125 \r\nQ 39.546875 41.84375 41.421875 45.53125 \r\nQ 43.3125 49.21875 43.3125 52.78125 \r\nQ 43.3125 58.59375 39.234375 62.25 \r\nQ 35.15625 65.921875 28.609375 65.921875 \r\nQ 23.96875 65.921875 18.8125 64.3125 \r\nQ 13.671875 62.703125 7.8125 59.421875 \r\nL 7.8125 69.390625 \r\nQ 13.765625 71.78125 18.9375 73 \r\nQ 24.125 74.21875 28.421875 74.21875 \r\nQ 39.75 74.21875 46.484375 68.546875 \r\nQ 53.21875 62.890625 53.21875 53.421875 \r\nQ 53.21875 48.921875 51.53125 44.890625 \r\nQ 49.859375 40.875 45.40625 35.40625 \r\nQ 44.1875 33.984375 37.640625 27.21875 \r\nQ 31.109375 20.453125 19.1875 8.296875 \r\nz\r\n\" id=\"DejaVuSans-50\"/>\r\n       </defs>\r\n       <use xlink:href=\"#DejaVuSans-8722\"/>\r\n       <use x=\"83.789062\" xlink:href=\"#DejaVuSans-48\"/>\r\n       <use x=\"147.412109\" xlink:href=\"#DejaVuSans-46\"/>\r\n       <use x=\"179.199219\" xlink:href=\"#DejaVuSans-50\"/>\r\n       <use x=\"242.822266\" xlink:href=\"#DejaVuSans-53\"/>\r\n      </g>\r\n     </g>\r\n    </g>\r\n    <g id=\"xtick_5\">\r\n     <g id=\"line2d_5\">\r\n      <g>\r\n       <use style=\"stroke:#000000;stroke-width:0.8;\" x=\"197.503125\" xlink:href=\"#mfb0db3cef3\" y=\"224.64\"/>\r\n      </g>\r\n     </g>\r\n     <g id=\"text_5\">\r\n      <!-- 0.00 -->\r\n      <g transform=\"translate(186.370313 239.238437)scale(0.1 -0.1)\">\r\n       <use xlink:href=\"#DejaVuSans-48\"/>\r\n       <use x=\"63.623047\" xlink:href=\"#DejaVuSans-46\"/>\r\n       <use x=\"95.410156\" xlink:href=\"#DejaVuSans-48\"/>\r\n       <use x=\"159.033203\" xlink:href=\"#DejaVuSans-48\"/>\r\n      </g>\r\n     </g>\r\n    </g>\r\n    <g id=\"xtick_6\">\r\n     <g id=\"line2d_6\">\r\n      <g>\r\n       <use style=\"stroke:#000000;stroke-width:0.8;\" x=\"235.54858\" xlink:href=\"#mfb0db3cef3\" y=\"224.64\"/>\r\n      </g>\r\n     </g>\r\n     <g id=\"text_6\">\r\n      <!-- 0.25 -->\r\n      <g transform=\"translate(224.415767 239.238437)scale(0.1 -0.1)\">\r\n       <use xlink:href=\"#DejaVuSans-48\"/>\r\n       <use x=\"63.623047\" xlink:href=\"#DejaVuSans-46\"/>\r\n       <use x=\"95.410156\" xlink:href=\"#DejaVuSans-50\"/>\r\n       <use x=\"159.033203\" xlink:href=\"#DejaVuSans-53\"/>\r\n      </g>\r\n     </g>\r\n    </g>\r\n    <g id=\"xtick_7\">\r\n     <g id=\"line2d_7\">\r\n      <g>\r\n       <use style=\"stroke:#000000;stroke-width:0.8;\" x=\"273.594034\" xlink:href=\"#mfb0db3cef3\" y=\"224.64\"/>\r\n      </g>\r\n     </g>\r\n     <g id=\"text_7\">\r\n      <!-- 0.50 -->\r\n      <g transform=\"translate(262.461222 239.238437)scale(0.1 -0.1)\">\r\n       <use xlink:href=\"#DejaVuSans-48\"/>\r\n       <use x=\"63.623047\" xlink:href=\"#DejaVuSans-46\"/>\r\n       <use x=\"95.410156\" xlink:href=\"#DejaVuSans-53\"/>\r\n       <use x=\"159.033203\" xlink:href=\"#DejaVuSans-48\"/>\r\n      </g>\r\n     </g>\r\n    </g>\r\n    <g id=\"xtick_8\">\r\n     <g id=\"line2d_8\">\r\n      <g>\r\n       <use style=\"stroke:#000000;stroke-width:0.8;\" x=\"311.639489\" xlink:href=\"#mfb0db3cef3\" y=\"224.64\"/>\r\n      </g>\r\n     </g>\r\n     <g id=\"text_8\">\r\n      <!-- 0.75 -->\r\n      <g transform=\"translate(300.506676 239.238437)scale(0.1 -0.1)\">\r\n       <use xlink:href=\"#DejaVuSans-48\"/>\r\n       <use x=\"63.623047\" xlink:href=\"#DejaVuSans-46\"/>\r\n       <use x=\"95.410156\" xlink:href=\"#DejaVuSans-55\"/>\r\n       <use x=\"159.033203\" xlink:href=\"#DejaVuSans-53\"/>\r\n      </g>\r\n     </g>\r\n    </g>\r\n    <g id=\"xtick_9\">\r\n     <g id=\"line2d_9\">\r\n      <g>\r\n       <use style=\"stroke:#000000;stroke-width:0.8;\" x=\"349.684943\" xlink:href=\"#mfb0db3cef3\" y=\"224.64\"/>\r\n      </g>\r\n     </g>\r\n     <g id=\"text_9\">\r\n      <!-- 1.00 -->\r\n      <g transform=\"translate(338.552131 239.238437)scale(0.1 -0.1)\">\r\n       <use xlink:href=\"#DejaVuSans-49\"/>\r\n       <use x=\"63.623047\" xlink:href=\"#DejaVuSans-46\"/>\r\n       <use x=\"95.410156\" xlink:href=\"#DejaVuSans-48\"/>\r\n       <use x=\"159.033203\" xlink:href=\"#DejaVuSans-48\"/>\r\n      </g>\r\n     </g>\r\n    </g>\r\n   </g>\r\n   <g id=\"matplotlib.axis_2\">\r\n    <g id=\"ytick_1\">\r\n     <g id=\"line2d_10\">\r\n      <defs>\r\n       <path d=\"M 0 0 \r\nL -3.5 0 \r\n\" id=\"m804b7d1eaa\" style=\"stroke:#000000;stroke-width:0.8;\"/>\r\n      </defs>\r\n      <g>\r\n       <use style=\"stroke:#000000;stroke-width:0.8;\" x=\"30.103125\" xlink:href=\"#m804b7d1eaa\" y=\"218.343683\"/>\r\n      </g>\r\n     </g>\r\n     <g id=\"text_10\">\r\n      <!-- 2.0 -->\r\n      <g transform=\"translate(7.2 222.142902)scale(0.1 -0.1)\">\r\n       <use xlink:href=\"#DejaVuSans-50\"/>\r\n       <use x=\"63.623047\" xlink:href=\"#DejaVuSans-46\"/>\r\n       <use x=\"95.410156\" xlink:href=\"#DejaVuSans-48\"/>\r\n      </g>\r\n     </g>\r\n    </g>\r\n    <g id=\"ytick_2\">\r\n     <g id=\"line2d_11\">\r\n      <g>\r\n       <use style=\"stroke:#000000;stroke-width:0.8;\" x=\"30.103125\" xlink:href=\"#m804b7d1eaa\" y=\"186.209172\"/>\r\n      </g>\r\n     </g>\r\n     <g id=\"text_11\">\r\n      <!-- 2.5 -->\r\n      <g transform=\"translate(7.2 190.008391)scale(0.1 -0.1)\">\r\n       <use xlink:href=\"#DejaVuSans-50\"/>\r\n       <use x=\"63.623047\" xlink:href=\"#DejaVuSans-46\"/>\r\n       <use x=\"95.410156\" xlink:href=\"#DejaVuSans-53\"/>\r\n      </g>\r\n     </g>\r\n    </g>\r\n    <g id=\"ytick_3\">\r\n     <g id=\"line2d_12\">\r\n      <g>\r\n       <use style=\"stroke:#000000;stroke-width:0.8;\" x=\"30.103125\" xlink:href=\"#m804b7d1eaa\" y=\"154.074661\"/>\r\n      </g>\r\n     </g>\r\n     <g id=\"text_12\">\r\n      <!-- 3.0 -->\r\n      <g transform=\"translate(7.2 157.87388)scale(0.1 -0.1)\">\r\n       <defs>\r\n        <path d=\"M 40.578125 39.3125 \r\nQ 47.65625 37.796875 51.625 33 \r\nQ 55.609375 28.21875 55.609375 21.1875 \r\nQ 55.609375 10.40625 48.1875 4.484375 \r\nQ 40.765625 -1.421875 27.09375 -1.421875 \r\nQ 22.515625 -1.421875 17.65625 -0.515625 \r\nQ 12.796875 0.390625 7.625 2.203125 \r\nL 7.625 11.71875 \r\nQ 11.71875 9.328125 16.59375 8.109375 \r\nQ 21.484375 6.890625 26.8125 6.890625 \r\nQ 36.078125 6.890625 40.9375 10.546875 \r\nQ 45.796875 14.203125 45.796875 21.1875 \r\nQ 45.796875 27.640625 41.28125 31.265625 \r\nQ 36.765625 34.90625 28.71875 34.90625 \r\nL 20.21875 34.90625 \r\nL 20.21875 43.015625 \r\nL 29.109375 43.015625 \r\nQ 36.375 43.015625 40.234375 45.921875 \r\nQ 44.09375 48.828125 44.09375 54.296875 \r\nQ 44.09375 59.90625 40.109375 62.90625 \r\nQ 36.140625 65.921875 28.71875 65.921875 \r\nQ 24.65625 65.921875 20.015625 65.03125 \r\nQ 15.375 64.15625 9.8125 62.3125 \r\nL 9.8125 71.09375 \r\nQ 15.4375 72.65625 20.34375 73.4375 \r\nQ 25.25 74.21875 29.59375 74.21875 \r\nQ 40.828125 74.21875 47.359375 69.109375 \r\nQ 53.90625 64.015625 53.90625 55.328125 \r\nQ 53.90625 49.265625 50.4375 45.09375 \r\nQ 46.96875 40.921875 40.578125 39.3125 \r\nz\r\n\" id=\"DejaVuSans-51\"/>\r\n       </defs>\r\n       <use xlink:href=\"#DejaVuSans-51\"/>\r\n       <use x=\"63.623047\" xlink:href=\"#DejaVuSans-46\"/>\r\n       <use x=\"95.410156\" xlink:href=\"#DejaVuSans-48\"/>\r\n      </g>\r\n     </g>\r\n    </g>\r\n    <g id=\"ytick_4\">\r\n     <g id=\"line2d_13\">\r\n      <g>\r\n       <use style=\"stroke:#000000;stroke-width:0.8;\" x=\"30.103125\" xlink:href=\"#m804b7d1eaa\" y=\"121.94015\"/>\r\n      </g>\r\n     </g>\r\n     <g id=\"text_13\">\r\n      <!-- 3.5 -->\r\n      <g transform=\"translate(7.2 125.739369)scale(0.1 -0.1)\">\r\n       <use xlink:href=\"#DejaVuSans-51\"/>\r\n       <use x=\"63.623047\" xlink:href=\"#DejaVuSans-46\"/>\r\n       <use x=\"95.410156\" xlink:href=\"#DejaVuSans-53\"/>\r\n      </g>\r\n     </g>\r\n    </g>\r\n    <g id=\"ytick_5\">\r\n     <g id=\"line2d_14\">\r\n      <g>\r\n       <use style=\"stroke:#000000;stroke-width:0.8;\" x=\"30.103125\" xlink:href=\"#m804b7d1eaa\" y=\"89.805639\"/>\r\n      </g>\r\n     </g>\r\n     <g id=\"text_14\">\r\n      <!-- 4.0 -->\r\n      <g transform=\"translate(7.2 93.604858)scale(0.1 -0.1)\">\r\n       <defs>\r\n        <path d=\"M 37.796875 64.3125 \r\nL 12.890625 25.390625 \r\nL 37.796875 25.390625 \r\nz\r\nM 35.203125 72.90625 \r\nL 47.609375 72.90625 \r\nL 47.609375 25.390625 \r\nL 58.015625 25.390625 \r\nL 58.015625 17.1875 \r\nL 47.609375 17.1875 \r\nL 47.609375 0 \r\nL 37.796875 0 \r\nL 37.796875 17.1875 \r\nL 4.890625 17.1875 \r\nL 4.890625 26.703125 \r\nz\r\n\" id=\"DejaVuSans-52\"/>\r\n       </defs>\r\n       <use xlink:href=\"#DejaVuSans-52\"/>\r\n       <use x=\"63.623047\" xlink:href=\"#DejaVuSans-46\"/>\r\n       <use x=\"95.410156\" xlink:href=\"#DejaVuSans-48\"/>\r\n      </g>\r\n     </g>\r\n    </g>\r\n    <g id=\"ytick_6\">\r\n     <g id=\"line2d_15\">\r\n      <g>\r\n       <use style=\"stroke:#000000;stroke-width:0.8;\" x=\"30.103125\" xlink:href=\"#m804b7d1eaa\" y=\"57.671128\"/>\r\n      </g>\r\n     </g>\r\n     <g id=\"text_15\">\r\n      <!-- 4.5 -->\r\n      <g transform=\"translate(7.2 61.470347)scale(0.1 -0.1)\">\r\n       <use xlink:href=\"#DejaVuSans-52\"/>\r\n       <use x=\"63.623047\" xlink:href=\"#DejaVuSans-46\"/>\r\n       <use x=\"95.410156\" xlink:href=\"#DejaVuSans-53\"/>\r\n      </g>\r\n     </g>\r\n    </g>\r\n    <g id=\"ytick_7\">\r\n     <g id=\"line2d_16\">\r\n      <g>\r\n       <use style=\"stroke:#000000;stroke-width:0.8;\" x=\"30.103125\" xlink:href=\"#m804b7d1eaa\" y=\"25.536617\"/>\r\n      </g>\r\n     </g>\r\n     <g id=\"text_16\">\r\n      <!-- 5.0 -->\r\n      <g transform=\"translate(7.2 29.335836)scale(0.1 -0.1)\">\r\n       <use xlink:href=\"#DejaVuSans-53\"/>\r\n       <use x=\"63.623047\" xlink:href=\"#DejaVuSans-46\"/>\r\n       <use x=\"95.410156\" xlink:href=\"#DejaVuSans-48\"/>\r\n      </g>\r\n     </g>\r\n    </g>\r\n   </g>\r\n   <g id=\"patch_3\">\r\n    <path d=\"M 30.103125 224.64 \r\nL 30.103125 7.2 \r\n\" style=\"fill:none;stroke:#000000;stroke-linecap:square;stroke-linejoin:miter;stroke-width:0.8;\"/>\r\n   </g>\r\n   <g id=\"patch_4\">\r\n    <path d=\"M 364.903125 224.64 \r\nL 364.903125 7.2 \r\n\" style=\"fill:none;stroke:#000000;stroke-linecap:square;stroke-linejoin:miter;stroke-width:0.8;\"/>\r\n   </g>\r\n   <g id=\"patch_5\">\r\n    <path d=\"M 30.103125 224.64 \r\nL 364.903125 224.64 \r\n\" style=\"fill:none;stroke:#000000;stroke-linecap:square;stroke-linejoin:miter;stroke-width:0.8;\"/>\r\n   </g>\r\n   <g id=\"patch_6\">\r\n    <path d=\"M 30.103125 7.2 \r\nL 364.903125 7.2 \r\n\" style=\"fill:none;stroke:#000000;stroke-linecap:square;stroke-linejoin:miter;stroke-width:0.8;\"/>\r\n   </g>\r\n  </g>\r\n </g>\r\n <defs>\r\n  <clipPath id=\"p37b788ced6\">\r\n   <rect height=\"217.44\" width=\"334.8\" x=\"30.103125\" y=\"7.2\"/>\r\n  </clipPath>\r\n </defs>\r\n</svg>\r\n",
            "image/png": "[encoded data removed]"
          },
          "metadata": {
            "tags": [],
            "needs_background": "light"
          }
        }
      ]
    },
    {
      "cell_type": "code",
      "metadata": {
        "id": "ksWznvRaLILi"
      },
      "source": [
        "w1=np.random.rand(1,1)\n",
        "b1=np.random.rand(1,1)\n",
        "lr=0.001\n",
        "for i in range(800):\n",
        "  y_pred=np.power(x,2)*w1+b1\n",
        "  loss=0.5*(y_pred-y)**2\n",
        "  loss=loss.sum()\n",
        "  #grad\n",
        "  grad_w=np.sum((y_pred-y)*np.power(x,2))\n",
        "  grad_b=np.sum(y_pred-y)\n",
        "  w1-=lr*grad_w\n",
        "  b1-=lr*grad_b"
      ],
      "execution_count": null,
      "outputs": []
    },
    {
      "cell_type": "code",
      "metadata": {
        "colab": {
          "base_uri": "https://localhost:8080/",
          "height": 286
        },
        "id": "AFhRr1KgMvhO",
        "outputId": "9be4a56c-2ade-41bb-9e9b-5986509b5d26"
      },
      "source": [
        "plt.plot(x,y_pred,'r-',label='predict')\n",
        "plt.scatter(x,y,color='blue',marker='o',label='true')\n",
        "plt.xlim(-1,1)\n",
        "plt.ylim(2,6)\n",
        "plt.legend()\n",
        "plt.show()\n",
        "print(w1,b1)"
      ],
      "execution_count": null,
      "outputs": [
        {
          "output_type": "display_data",
          "data": {
            "text/plain": [
              "<Figure size 432x288 with 1 Axes>"
            ],
            "image/svg+xml": "<?xml version=\"1.0\" encoding=\"utf-8\" standalone=\"no\"?>\r\n<!DOCTYPE svg PUBLIC \"-//W3C//DTD SVG 1.1//EN\"\r\n  \"http://www.w3.org/Graphics/SVG/1.1/DTD/svg11.dtd\">\r\n<!-- Created with matplotlib (https://matplotlib.org/) -->\r\n<svg height=\"252.317344pt\" version=\"1.1\" viewBox=\"0 0 383.235937 252.317344\" width=\"383.235937pt\" xmlns=\"http://www.w3.org/2000/svg\" xmlns:xlink=\"http://www.w3.org/1999/xlink\">\r\n <metadata>\r\n  <rdf:RDF xmlns:cc=\"http://creativecommons.org/ns#\" xmlns:dc=\"http://purl.org/dc/elements/1.1/\" xmlns:rdf=\"http://www.w3.org/1999/02/22-rdf-syntax-ns#\">\r\n   <cc:Work>\r\n    <dc:type rdf:resource=\"http://purl.org/dc/dcmitype/StillImage\"/>\r\n    <dc:date>2020-11-30T18:54:48.075485</dc:date>\r\n    <dc:format>image/svg+xml</dc:format>\r\n    <dc:creator>\r\n     <cc:Agent>\r\n      <dc:title>Matplotlib v3.3.2, https://matplotlib.org/</dc:title>\r\n     </cc:Agent>\r\n    </dc:creator>\r\n   </cc:Work>\r\n  </rdf:RDF>\r\n </metadata>\r\n <defs>\r\n  <style type=\"text/css\">*{stroke-linecap:butt;stroke-linejoin:round;}</style>\r\n </defs>\r\n <g id=\"figure_1\">\r\n  <g id=\"patch_1\">\r\n   <path d=\"M 0 252.317344 \r\nL 383.235937 252.317344 \r\nL 383.235937 0 \r\nL 0 0 \r\nz\r\n\" style=\"fill:none;\"/>\r\n  </g>\r\n  <g id=\"axes_1\">\r\n   <g id=\"patch_2\">\r\n    <path d=\"M 30.103125 228.439219 \r\nL 364.903125 228.439219 \r\nL 364.903125 10.999219 \r\nL 30.103125 10.999219 \r\nz\r\n\" style=\"fill:#ffffff;\"/>\r\n   </g>\r\n   <g id=\"PathCollection_1\">\r\n    <defs>\r\n     <path d=\"M 0 3 \r\nC 0.795609 3 1.55874 2.683901 2.12132 2.12132 \r\nC 2.683901 1.55874 3 0.795609 3 0 \r\nC 3 -0.795609 2.683901 -1.55874 2.12132 -2.12132 \r\nC 1.55874 -2.683901 0.795609 -3 0 -3 \r\nC -0.795609 -3 -1.55874 -2.683901 -2.12132 -2.12132 \r\nC -2.683901 -1.55874 -3 -0.795609 -3 0 \r\nC -3 0.795609 -2.683901 1.55874 -2.12132 2.12132 \r\nC -1.55874 2.683901 -0.795609 3 0 3 \r\nz\r\n\" id=\"m2b48181ced\" style=\"stroke:#0000ff;\"/>\r\n    </defs>\r\n    <g clip-path=\"url(#pa21aca04d7)\">\r\n     <use style=\"fill:#0000ff;stroke:#0000ff;\" x=\"30.103125\" xlink:href=\"#m2b48181ced\" y=\"59.45132\"/>\r\n     <use style=\"fill:#0000ff;stroke:#0000ff;\" x=\"33.484943\" xlink:href=\"#m2b48181ced\" y=\"68.855321\"/>\r\n     <use style=\"fill:#0000ff;stroke:#0000ff;\" x=\"36.866761\" xlink:href=\"#m2b48181ced\" y=\"73.655819\"/>\r\n     <use style=\"fill:#0000ff;stroke:#0000ff;\" x=\"40.24858\" xlink:href=\"#m2b48181ced\" y=\"75.343077\"/>\r\n     <use style=\"fill:#0000ff;stroke:#0000ff;\" x=\"43.630398\" xlink:href=\"#m2b48181ced\" y=\"90.599375\"/>\r\n     <use style=\"fill:#0000ff;stroke:#0000ff;\" x=\"47.012216\" xlink:href=\"#m2b48181ced\" y=\"95.319062\"/>\r\n     <use style=\"fill:#0000ff;stroke:#0000ff;\" x=\"50.394034\" xlink:href=\"#m2b48181ced\" y=\"95.205347\"/>\r\n     <use style=\"fill:#0000ff;stroke:#0000ff;\" x=\"53.775852\" xlink:href=\"#m2b48181ced\" y=\"99.242917\"/>\r\n     <use style=\"fill:#0000ff;stroke:#0000ff;\" x=\"57.15767\" xlink:href=\"#m2b48181ced\" y=\"112.326058\"/>\r\n     <use style=\"fill:#0000ff;stroke:#0000ff;\" x=\"60.539489\" xlink:href=\"#m2b48181ced\" y=\"113.017548\"/>\r\n     <use style=\"fill:#0000ff;stroke:#0000ff;\" x=\"63.921307\" xlink:href=\"#m2b48181ced\" y=\"114.904028\"/>\r\n     <use style=\"fill:#0000ff;stroke:#0000ff;\" x=\"67.303125\" xlink:href=\"#m2b48181ced\" y=\"127.51144\"/>\r\n     <use style=\"fill:#0000ff;stroke:#0000ff;\" x=\"70.684943\" xlink:href=\"#m2b48181ced\" y=\"132.829289\"/>\r\n     <use style=\"fill:#0000ff;stroke:#0000ff;\" x=\"74.066761\" xlink:href=\"#m2b48181ced\" y=\"138.591083\"/>\r\n     <use style=\"fill:#0000ff;stroke:#0000ff;\" x=\"77.44858\" xlink:href=\"#m2b48181ced\" y=\"142.172871\"/>\r\n     <use style=\"fill:#0000ff;stroke:#0000ff;\" x=\"80.830398\" xlink:href=\"#m2b48181ced\" y=\"138.580778\"/>\r\n     <use style=\"fill:#0000ff;stroke:#0000ff;\" x=\"84.212216\" xlink:href=\"#m2b48181ced\" y=\"144.921597\"/>\r\n     <use style=\"fill:#0000ff;stroke:#0000ff;\" x=\"87.594034\" xlink:href=\"#m2b48181ced\" y=\"156.269601\"/>\r\n     <use style=\"fill:#0000ff;stroke:#0000ff;\" x=\"90.975852\" xlink:href=\"#m2b48181ced\" y=\"153.524562\"/>\r\n     <use style=\"fill:#0000ff;stroke:#0000ff;\" x=\"94.35767\" xlink:href=\"#m2b48181ced\" y=\"163.545329\"/>\r\n     <use style=\"fill:#0000ff;stroke:#0000ff;\" x=\"97.739489\" xlink:href=\"#m2b48181ced\" y=\"165.82496\"/>\r\n     <use style=\"fill:#0000ff;stroke:#0000ff;\" x=\"101.121307\" xlink:href=\"#m2b48181ced\" y=\"164.158719\"/>\r\n     <use style=\"fill:#0000ff;stroke:#0000ff;\" x=\"104.503125\" xlink:href=\"#m2b48181ced\" y=\"169.216401\"/>\r\n     <use style=\"fill:#0000ff;stroke:#0000ff;\" x=\"107.884943\" xlink:href=\"#m2b48181ced\" y=\"178.045726\"/>\r\n     <use style=\"fill:#0000ff;stroke:#0000ff;\" x=\"111.266761\" xlink:href=\"#m2b48181ced\" y=\"183.253809\"/>\r\n     <use style=\"fill:#0000ff;stroke:#0000ff;\" x=\"114.64858\" xlink:href=\"#m2b48181ced\" y=\"184.435265\"/>\r\n     <use style=\"fill:#0000ff;stroke:#0000ff;\" x=\"118.030398\" xlink:href=\"#m2b48181ced\" y=\"191.621561\"/>\r\n     <use style=\"fill:#0000ff;stroke:#0000ff;\" x=\"121.412216\" xlink:href=\"#m2b48181ced\" y=\"192.000625\"/>\r\n     <use style=\"fill:#0000ff;stroke:#0000ff;\" x=\"124.794034\" xlink:href=\"#m2b48181ced\" y=\"189.023046\"/>\r\n     <use style=\"fill:#0000ff;stroke:#0000ff;\" x=\"128.175852\" xlink:href=\"#m2b48181ced\" y=\"200.303009\"/>\r\n     <use style=\"fill:#0000ff;stroke:#0000ff;\" x=\"131.55767\" xlink:href=\"#m2b48181ced\" y=\"196.620494\"/>\r\n     <use style=\"fill:#0000ff;stroke:#0000ff;\" x=\"134.939489\" xlink:href=\"#m2b48181ced\" y=\"199.095703\"/>\r\n     <use style=\"fill:#0000ff;stroke:#0000ff;\" x=\"138.321307\" xlink:href=\"#m2b48181ced\" y=\"206.913133\"/>\r\n     <use style=\"fill:#0000ff;stroke:#0000ff;\" x=\"141.703125\" xlink:href=\"#m2b48181ced\" y=\"206.16673\"/>\r\n     <use style=\"fill:#0000ff;stroke:#0000ff;\" x=\"145.084943\" xlink:href=\"#m2b48181ced\" y=\"212.052458\"/>\r\n     <use style=\"fill:#0000ff;stroke:#0000ff;\" x=\"148.466761\" xlink:href=\"#m2b48181ced\" y=\"204.765166\"/>\r\n     <use style=\"fill:#0000ff;stroke:#0000ff;\" x=\"151.84858\" xlink:href=\"#m2b48181ced\" y=\"205.64473\"/>\r\n     <use style=\"fill:#0000ff;stroke:#0000ff;\" x=\"155.230398\" xlink:href=\"#m2b48181ced\" y=\"217.38808\"/>\r\n     <use style=\"fill:#0000ff;stroke:#0000ff;\" x=\"158.612216\" xlink:href=\"#m2b48181ced\" y=\"209.95511\"/>\r\n     <use style=\"fill:#0000ff;stroke:#0000ff;\" x=\"161.994034\" xlink:href=\"#m2b48181ced\" y=\"214.829294\"/>\r\n     <use style=\"fill:#0000ff;stroke:#0000ff;\" x=\"165.375852\" xlink:href=\"#m2b48181ced\" y=\"214.360258\"/>\r\n     <use style=\"fill:#0000ff;stroke:#0000ff;\" x=\"168.75767\" xlink:href=\"#m2b48181ced\" y=\"216.779154\"/>\r\n     <use style=\"fill:#0000ff;stroke:#0000ff;\" x=\"172.139489\" xlink:href=\"#m2b48181ced\" y=\"218.369629\"/>\r\n     <use style=\"fill:#0000ff;stroke:#0000ff;\" x=\"175.521307\" xlink:href=\"#m2b48181ced\" y=\"225.404993\"/>\r\n     <use style=\"fill:#0000ff;stroke:#0000ff;\" x=\"178.903125\" xlink:href=\"#m2b48181ced\" y=\"224.142476\"/>\r\n     <use style=\"fill:#0000ff;stroke:#0000ff;\" x=\"182.284943\" xlink:href=\"#m2b48181ced\" y=\"221.169636\"/>\r\n     <use style=\"fill:#0000ff;stroke:#0000ff;\" x=\"185.666761\" xlink:href=\"#m2b48181ced\" y=\"219.262082\"/>\r\n     <use style=\"fill:#0000ff;stroke:#0000ff;\" x=\"189.04858\" xlink:href=\"#m2b48181ced\" y=\"225.297682\"/>\r\n     <use style=\"fill:#0000ff;stroke:#0000ff;\" x=\"192.430398\" xlink:href=\"#m2b48181ced\" y=\"225.181209\"/>\r\n     <use style=\"fill:#0000ff;stroke:#0000ff;\" x=\"195.812216\" xlink:href=\"#m2b48181ced\" y=\"219.15534\"/>\r\n     <use style=\"fill:#0000ff;stroke:#0000ff;\" x=\"199.194034\" xlink:href=\"#m2b48181ced\" y=\"217.822309\"/>\r\n     <use style=\"fill:#0000ff;stroke:#0000ff;\" x=\"202.575852\" xlink:href=\"#m2b48181ced\" y=\"218.669342\"/>\r\n     <use style=\"fill:#0000ff;stroke:#0000ff;\" x=\"205.95767\" xlink:href=\"#m2b48181ced\" y=\"224.114672\"/>\r\n     <use style=\"fill:#0000ff;stroke:#0000ff;\" x=\"209.339489\" xlink:href=\"#m2b48181ced\" y=\"221.113107\"/>\r\n     <use style=\"fill:#0000ff;stroke:#0000ff;\" x=\"212.721307\" xlink:href=\"#m2b48181ced\" y=\"223.234112\"/>\r\n     <use style=\"fill:#0000ff;stroke:#0000ff;\" x=\"216.103125\" xlink:href=\"#m2b48181ced\" y=\"222.727337\"/>\r\n     <use style=\"fill:#0000ff;stroke:#0000ff;\" x=\"219.484943\" xlink:href=\"#m2b48181ced\" y=\"223.691111\"/>\r\n     <use style=\"fill:#0000ff;stroke:#0000ff;\" x=\"222.866761\" xlink:href=\"#m2b48181ced\" y=\"222.111206\"/>\r\n     <use style=\"fill:#0000ff;stroke:#0000ff;\" x=\"226.24858\" xlink:href=\"#m2b48181ced\" y=\"223.142771\"/>\r\n     <use style=\"fill:#0000ff;stroke:#0000ff;\" x=\"229.630398\" xlink:href=\"#m2b48181ced\" y=\"216.937446\"/>\r\n     <use style=\"fill:#0000ff;stroke:#0000ff;\" x=\"233.012216\" xlink:href=\"#m2b48181ced\" y=\"217.010751\"/>\r\n     <use style=\"fill:#0000ff;stroke:#0000ff;\" x=\"236.394034\" xlink:href=\"#m2b48181ced\" y=\"213.192145\"/>\r\n     <use style=\"fill:#0000ff;stroke:#0000ff;\" x=\"239.775852\" xlink:href=\"#m2b48181ced\" y=\"211.191042\"/>\r\n     <use style=\"fill:#0000ff;stroke:#0000ff;\" x=\"243.15767\" xlink:href=\"#m2b48181ced\" y=\"214.758951\"/>\r\n     <use style=\"fill:#0000ff;stroke:#0000ff;\" x=\"246.539489\" xlink:href=\"#m2b48181ced\" y=\"204.292998\"/>\r\n     <use style=\"fill:#0000ff;stroke:#0000ff;\" x=\"249.921307\" xlink:href=\"#m2b48181ced\" y=\"202.159984\"/>\r\n     <use style=\"fill:#0000ff;stroke:#0000ff;\" x=\"253.303125\" xlink:href=\"#m2b48181ced\" y=\"203.771049\"/>\r\n     <use style=\"fill:#0000ff;stroke:#0000ff;\" x=\"256.684943\" xlink:href=\"#m2b48181ced\" y=\"203.840504\"/>\r\n     <use style=\"fill:#0000ff;stroke:#0000ff;\" x=\"260.066761\" xlink:href=\"#m2b48181ced\" y=\"201.711686\"/>\r\n     <use style=\"fill:#0000ff;stroke:#0000ff;\" x=\"263.44858\" xlink:href=\"#m2b48181ced\" y=\"200.909478\"/>\r\n     <use style=\"fill:#0000ff;stroke:#0000ff;\" x=\"266.830398\" xlink:href=\"#m2b48181ced\" y=\"197.459871\"/>\r\n     <use style=\"fill:#0000ff;stroke:#0000ff;\" x=\"270.212216\" xlink:href=\"#m2b48181ced\" y=\"194.993151\"/>\r\n     <use style=\"fill:#0000ff;stroke:#0000ff;\" x=\"273.594034\" xlink:href=\"#m2b48181ced\" y=\"192.857538\"/>\r\n     <use style=\"fill:#0000ff;stroke:#0000ff;\" x=\"276.975852\" xlink:href=\"#m2b48181ced\" y=\"181.174425\"/>\r\n     <use style=\"fill:#0000ff;stroke:#0000ff;\" x=\"280.35767\" xlink:href=\"#m2b48181ced\" y=\"178.084054\"/>\r\n     <use style=\"fill:#0000ff;stroke:#0000ff;\" x=\"283.739489\" xlink:href=\"#m2b48181ced\" y=\"178.659702\"/>\r\n     <use style=\"fill:#0000ff;stroke:#0000ff;\" x=\"287.121307\" xlink:href=\"#m2b48181ced\" y=\"173.749233\"/>\r\n     <use style=\"fill:#0000ff;stroke:#0000ff;\" x=\"290.503125\" xlink:href=\"#m2b48181ced\" y=\"174.405217\"/>\r\n     <use style=\"fill:#0000ff;stroke:#0000ff;\" x=\"293.884943\" xlink:href=\"#m2b48181ced\" y=\"173.377894\"/>\r\n     <use style=\"fill:#0000ff;stroke:#0000ff;\" x=\"297.266761\" xlink:href=\"#m2b48181ced\" y=\"165.479297\"/>\r\n     <use style=\"fill:#0000ff;stroke:#0000ff;\" x=\"300.64858\" xlink:href=\"#m2b48181ced\" y=\"160.994485\"/>\r\n     <use style=\"fill:#0000ff;stroke:#0000ff;\" x=\"304.030398\" xlink:href=\"#m2b48181ced\" y=\"161.436819\"/>\r\n     <use style=\"fill:#0000ff;stroke:#0000ff;\" x=\"307.412216\" xlink:href=\"#m2b48181ced\" y=\"152.398144\"/>\r\n     <use style=\"fill:#0000ff;stroke:#0000ff;\" x=\"310.794034\" xlink:href=\"#m2b48181ced\" y=\"142.959474\"/>\r\n     <use style=\"fill:#0000ff;stroke:#0000ff;\" x=\"314.175852\" xlink:href=\"#m2b48181ced\" y=\"144.925545\"/>\r\n     <use style=\"fill:#0000ff;stroke:#0000ff;\" x=\"317.55767\" xlink:href=\"#m2b48181ced\" y=\"140.912818\"/>\r\n     <use style=\"fill:#0000ff;stroke:#0000ff;\" x=\"320.939489\" xlink:href=\"#m2b48181ced\" y=\"131.012498\"/>\r\n     <use style=\"fill:#0000ff;stroke:#0000ff;\" x=\"324.321307\" xlink:href=\"#m2b48181ced\" y=\"126.642895\"/>\r\n     <use style=\"fill:#0000ff;stroke:#0000ff;\" x=\"327.703125\" xlink:href=\"#m2b48181ced\" y=\"126.382227\"/>\r\n     <use style=\"fill:#0000ff;stroke:#0000ff;\" x=\"331.084943\" xlink:href=\"#m2b48181ced\" y=\"117.701234\"/>\r\n     <use style=\"fill:#0000ff;stroke:#0000ff;\" x=\"334.466761\" xlink:href=\"#m2b48181ced\" y=\"113.394684\"/>\r\n     <use style=\"fill:#0000ff;stroke:#0000ff;\" x=\"337.84858\" xlink:href=\"#m2b48181ced\" y=\"110.58559\"/>\r\n     <use style=\"fill:#0000ff;stroke:#0000ff;\" x=\"341.230398\" xlink:href=\"#m2b48181ced\" y=\"107.017102\"/>\r\n     <use style=\"fill:#0000ff;stroke:#0000ff;\" x=\"344.612216\" xlink:href=\"#m2b48181ced\" y=\"99.098706\"/>\r\n     <use style=\"fill:#0000ff;stroke:#0000ff;\" x=\"347.994034\" xlink:href=\"#m2b48181ced\" y=\"91.672484\"/>\r\n     <use style=\"fill:#0000ff;stroke:#0000ff;\" x=\"351.375852\" xlink:href=\"#m2b48181ced\" y=\"83.486682\"/>\r\n     <use style=\"fill:#0000ff;stroke:#0000ff;\" x=\"354.75767\" xlink:href=\"#m2b48181ced\" y=\"81.763195\"/>\r\n     <use style=\"fill:#0000ff;stroke:#0000ff;\" x=\"358.139489\" xlink:href=\"#m2b48181ced\" y=\"71.301122\"/>\r\n     <use style=\"fill:#0000ff;stroke:#0000ff;\" x=\"361.521307\" xlink:href=\"#m2b48181ced\" y=\"69.706009\"/>\r\n     <use style=\"fill:#0000ff;stroke:#0000ff;\" x=\"364.903125\" xlink:href=\"#m2b48181ced\" y=\"58.209522\"/>\r\n    </g>\r\n   </g>\r\n   <g id=\"matplotlib.axis_1\">\r\n    <g id=\"xtick_1\">\r\n     <g id=\"line2d_1\">\r\n      <defs>\r\n       <path d=\"M 0 0 \r\nL 0 3.5 \r\n\" id=\"me2116f3022\" style=\"stroke:#000000;stroke-width:0.8;\"/>\r\n      </defs>\r\n      <g>\r\n       <use style=\"stroke:#000000;stroke-width:0.8;\" x=\"30.103125\" xlink:href=\"#me2116f3022\" y=\"228.439219\"/>\r\n      </g>\r\n     </g>\r\n     <g id=\"text_1\">\r\n      <!-- −1.00 -->\r\n      <g transform=\"translate(14.780469 243.037656)scale(0.1 -0.1)\">\r\n       <defs>\r\n        <path d=\"M 10.59375 35.5 \r\nL 73.1875 35.5 \r\nL 73.1875 27.203125 \r\nL 10.59375 27.203125 \r\nz\r\n\" id=\"DejaVuSans-8722\"/>\r\n        <path d=\"M 12.40625 8.296875 \r\nL 28.515625 8.296875 \r\nL 28.515625 63.921875 \r\nL 10.984375 60.40625 \r\nL 10.984375 69.390625 \r\nL 28.421875 72.90625 \r\nL 38.28125 72.90625 \r\nL 38.28125 8.296875 \r\nL 54.390625 8.296875 \r\nL 54.390625 0 \r\nL 12.40625 0 \r\nz\r\n\" id=\"DejaVuSans-49\"/>\r\n        <path d=\"M 10.6875 12.40625 \r\nL 21 12.40625 \r\nL 21 0 \r\nL 10.6875 0 \r\nz\r\n\" id=\"DejaVuSans-46\"/>\r\n        <path d=\"M 31.78125 66.40625 \r\nQ 24.171875 66.40625 20.328125 58.90625 \r\nQ 16.5 51.421875 16.5 36.375 \r\nQ 16.5 21.390625 20.328125 13.890625 \r\nQ 24.171875 6.390625 31.78125 6.390625 \r\nQ 39.453125 6.390625 43.28125 13.890625 \r\nQ 47.125 21.390625 47.125 36.375 \r\nQ 47.125 51.421875 43.28125 58.90625 \r\nQ 39.453125 66.40625 31.78125 66.40625 \r\nz\r\nM 31.78125 74.21875 \r\nQ 44.046875 74.21875 50.515625 64.515625 \r\nQ 56.984375 54.828125 56.984375 36.375 \r\nQ 56.984375 17.96875 50.515625 8.265625 \r\nQ 44.046875 -1.421875 31.78125 -1.421875 \r\nQ 19.53125 -1.421875 13.0625 8.265625 \r\nQ 6.59375 17.96875 6.59375 36.375 \r\nQ 6.59375 54.828125 13.0625 64.515625 \r\nQ 19.53125 74.21875 31.78125 74.21875 \r\nz\r\n\" id=\"DejaVuSans-48\"/>\r\n       </defs>\r\n       <use xlink:href=\"#DejaVuSans-8722\"/>\r\n       <use x=\"83.789062\" xlink:href=\"#DejaVuSans-49\"/>\r\n       <use x=\"147.412109\" xlink:href=\"#DejaVuSans-46\"/>\r\n       <use x=\"179.199219\" xlink:href=\"#DejaVuSans-48\"/>\r\n       <use x=\"242.822266\" xlink:href=\"#DejaVuSans-48\"/>\r\n      </g>\r\n     </g>\r\n    </g>\r\n    <g id=\"xtick_2\">\r\n     <g id=\"line2d_2\">\r\n      <g>\r\n       <use style=\"stroke:#000000;stroke-width:0.8;\" x=\"71.953125\" xlink:href=\"#me2116f3022\" y=\"228.439219\"/>\r\n      </g>\r\n     </g>\r\n     <g id=\"text_2\">\r\n      <!-- −0.75 -->\r\n      <g transform=\"translate(56.630469 243.037656)scale(0.1 -0.1)\">\r\n       <defs>\r\n        <path d=\"M 8.203125 72.90625 \r\nL 55.078125 72.90625 \r\nL 55.078125 68.703125 \r\nL 28.609375 0 \r\nL 18.3125 0 \r\nL 43.21875 64.59375 \r\nL 8.203125 64.59375 \r\nz\r\n\" id=\"DejaVuSans-55\"/>\r\n        <path d=\"M 10.796875 72.90625 \r\nL 49.515625 72.90625 \r\nL 49.515625 64.59375 \r\nL 19.828125 64.59375 \r\nL 19.828125 46.734375 \r\nQ 21.96875 47.46875 24.109375 47.828125 \r\nQ 26.265625 48.1875 28.421875 48.1875 \r\nQ 40.625 48.1875 47.75 41.5 \r\nQ 54.890625 34.8125 54.890625 23.390625 \r\nQ 54.890625 11.625 47.5625 5.09375 \r\nQ 40.234375 -1.421875 26.90625 -1.421875 \r\nQ 22.3125 -1.421875 17.546875 -0.640625 \r\nQ 12.796875 0.140625 7.71875 1.703125 \r\nL 7.71875 11.625 \r\nQ 12.109375 9.234375 16.796875 8.0625 \r\nQ 21.484375 6.890625 26.703125 6.890625 \r\nQ 35.15625 6.890625 40.078125 11.328125 \r\nQ 45.015625 15.765625 45.015625 23.390625 \r\nQ 45.015625 31 40.078125 35.4375 \r\nQ 35.15625 39.890625 26.703125 39.890625 \r\nQ 22.75 39.890625 18.8125 39.015625 \r\nQ 14.890625 38.140625 10.796875 36.28125 \r\nz\r\n\" id=\"DejaVuSans-53\"/>\r\n       </defs>\r\n       <use xlink:href=\"#DejaVuSans-8722\"/>\r\n       <use x=\"83.789062\" xlink:href=\"#DejaVuSans-48\"/>\r\n       <use x=\"147.412109\" xlink:href=\"#DejaVuSans-46\"/>\r\n       <use x=\"179.199219\" xlink:href=\"#DejaVuSans-55\"/>\r\n       <use x=\"242.822266\" xlink:href=\"#DejaVuSans-53\"/>\r\n      </g>\r\n     </g>\r\n    </g>\r\n    <g id=\"xtick_3\">\r\n     <g id=\"line2d_3\">\r\n      <g>\r\n       <use style=\"stroke:#000000;stroke-width:0.8;\" x=\"113.803125\" xlink:href=\"#me2116f3022\" y=\"228.439219\"/>\r\n      </g>\r\n     </g>\r\n     <g id=\"text_3\">\r\n      <!-- −0.50 -->\r\n      <g transform=\"translate(98.480469 243.037656)scale(0.1 -0.1)\">\r\n       <use xlink:href=\"#DejaVuSans-8722\"/>\r\n       <use x=\"83.789062\" xlink:href=\"#DejaVuSans-48\"/>\r\n       <use x=\"147.412109\" xlink:href=\"#DejaVuSans-46\"/>\r\n       <use x=\"179.199219\" xlink:href=\"#DejaVuSans-53\"/>\r\n       <use x=\"242.822266\" xlink:href=\"#DejaVuSans-48\"/>\r\n      </g>\r\n     </g>\r\n    </g>\r\n    <g id=\"xtick_4\">\r\n     <g id=\"line2d_4\">\r\n      <g>\r\n       <use style=\"stroke:#000000;stroke-width:0.8;\" x=\"155.653125\" xlink:href=\"#me2116f3022\" y=\"228.439219\"/>\r\n      </g>\r\n     </g>\r\n     <g id=\"text_4\">\r\n      <!-- −0.25 -->\r\n      <g transform=\"translate(140.330469 243.037656)scale(0.1 -0.1)\">\r\n       <defs>\r\n        <path d=\"M 19.1875 8.296875 \r\nL 53.609375 8.296875 \r\nL 53.609375 0 \r\nL 7.328125 0 \r\nL 7.328125 8.296875 \r\nQ 12.9375 14.109375 22.625 23.890625 \r\nQ 32.328125 33.6875 34.8125 36.53125 \r\nQ 39.546875 41.84375 41.421875 45.53125 \r\nQ 43.3125 49.21875 43.3125 52.78125 \r\nQ 43.3125 58.59375 39.234375 62.25 \r\nQ 35.15625 65.921875 28.609375 65.921875 \r\nQ 23.96875 65.921875 18.8125 64.3125 \r\nQ 13.671875 62.703125 7.8125 59.421875 \r\nL 7.8125 69.390625 \r\nQ 13.765625 71.78125 18.9375 73 \r\nQ 24.125 74.21875 28.421875 74.21875 \r\nQ 39.75 74.21875 46.484375 68.546875 \r\nQ 53.21875 62.890625 53.21875 53.421875 \r\nQ 53.21875 48.921875 51.53125 44.890625 \r\nQ 49.859375 40.875 45.40625 35.40625 \r\nQ 44.1875 33.984375 37.640625 27.21875 \r\nQ 31.109375 20.453125 19.1875 8.296875 \r\nz\r\n\" id=\"DejaVuSans-50\"/>\r\n       </defs>\r\n       <use xlink:href=\"#DejaVuSans-8722\"/>\r\n       <use x=\"83.789062\" xlink:href=\"#DejaVuSans-48\"/>\r\n       <use x=\"147.412109\" xlink:href=\"#DejaVuSans-46\"/>\r\n       <use x=\"179.199219\" xlink:href=\"#DejaVuSans-50\"/>\r\n       <use x=\"242.822266\" xlink:href=\"#DejaVuSans-53\"/>\r\n      </g>\r\n     </g>\r\n    </g>\r\n    <g id=\"xtick_5\">\r\n     <g id=\"line2d_5\">\r\n      <g>\r\n       <use style=\"stroke:#000000;stroke-width:0.8;\" x=\"197.503125\" xlink:href=\"#me2116f3022\" y=\"228.439219\"/>\r\n      </g>\r\n     </g>\r\n     <g id=\"text_5\">\r\n      <!-- 0.00 -->\r\n      <g transform=\"translate(186.370313 243.037656)scale(0.1 -0.1)\">\r\n       <use xlink:href=\"#DejaVuSans-48\"/>\r\n       <use x=\"63.623047\" xlink:href=\"#DejaVuSans-46\"/>\r\n       <use x=\"95.410156\" xlink:href=\"#DejaVuSans-48\"/>\r\n       <use x=\"159.033203\" xlink:href=\"#DejaVuSans-48\"/>\r\n      </g>\r\n     </g>\r\n    </g>\r\n    <g id=\"xtick_6\">\r\n     <g id=\"line2d_6\">\r\n      <g>\r\n       <use style=\"stroke:#000000;stroke-width:0.8;\" x=\"239.353125\" xlink:href=\"#me2116f3022\" y=\"228.439219\"/>\r\n      </g>\r\n     </g>\r\n     <g id=\"text_6\">\r\n      <!-- 0.25 -->\r\n      <g transform=\"translate(228.220313 243.037656)scale(0.1 -0.1)\">\r\n       <use xlink:href=\"#DejaVuSans-48\"/>\r\n       <use x=\"63.623047\" xlink:href=\"#DejaVuSans-46\"/>\r\n       <use x=\"95.410156\" xlink:href=\"#DejaVuSans-50\"/>\r\n       <use x=\"159.033203\" xlink:href=\"#DejaVuSans-53\"/>\r\n      </g>\r\n     </g>\r\n    </g>\r\n    <g id=\"xtick_7\">\r\n     <g id=\"line2d_7\">\r\n      <g>\r\n       <use style=\"stroke:#000000;stroke-width:0.8;\" x=\"281.203125\" xlink:href=\"#me2116f3022\" y=\"228.439219\"/>\r\n      </g>\r\n     </g>\r\n     <g id=\"text_7\">\r\n      <!-- 0.50 -->\r\n      <g transform=\"translate(270.070313 243.037656)scale(0.1 -0.1)\">\r\n       <use xlink:href=\"#DejaVuSans-48\"/>\r\n       <use x=\"63.623047\" xlink:href=\"#DejaVuSans-46\"/>\r\n       <use x=\"95.410156\" xlink:href=\"#DejaVuSans-53\"/>\r\n       <use x=\"159.033203\" xlink:href=\"#DejaVuSans-48\"/>\r\n      </g>\r\n     </g>\r\n    </g>\r\n    <g id=\"xtick_8\">\r\n     <g id=\"line2d_8\">\r\n      <g>\r\n       <use style=\"stroke:#000000;stroke-width:0.8;\" x=\"323.053125\" xlink:href=\"#me2116f3022\" y=\"228.439219\"/>\r\n      </g>\r\n     </g>\r\n     <g id=\"text_8\">\r\n      <!-- 0.75 -->\r\n      <g transform=\"translate(311.920313 243.037656)scale(0.1 -0.1)\">\r\n       <use xlink:href=\"#DejaVuSans-48\"/>\r\n       <use x=\"63.623047\" xlink:href=\"#DejaVuSans-46\"/>\r\n       <use x=\"95.410156\" xlink:href=\"#DejaVuSans-55\"/>\r\n       <use x=\"159.033203\" xlink:href=\"#DejaVuSans-53\"/>\r\n      </g>\r\n     </g>\r\n    </g>\r\n    <g id=\"xtick_9\">\r\n     <g id=\"line2d_9\">\r\n      <g>\r\n       <use style=\"stroke:#000000;stroke-width:0.8;\" x=\"364.903125\" xlink:href=\"#me2116f3022\" y=\"228.439219\"/>\r\n      </g>\r\n     </g>\r\n     <g id=\"text_9\">\r\n      <!-- 1.00 -->\r\n      <g transform=\"translate(353.770313 243.037656)scale(0.1 -0.1)\">\r\n       <use xlink:href=\"#DejaVuSans-49\"/>\r\n       <use x=\"63.623047\" xlink:href=\"#DejaVuSans-46\"/>\r\n       <use x=\"95.410156\" xlink:href=\"#DejaVuSans-48\"/>\r\n       <use x=\"159.033203\" xlink:href=\"#DejaVuSans-48\"/>\r\n      </g>\r\n     </g>\r\n    </g>\r\n   </g>\r\n   <g id=\"matplotlib.axis_2\">\r\n    <g id=\"ytick_1\">\r\n     <g id=\"line2d_10\">\r\n      <defs>\r\n       <path d=\"M 0 0 \r\nL -3.5 0 \r\n\" id=\"m17c42050b2\" style=\"stroke:#000000;stroke-width:0.8;\"/>\r\n      </defs>\r\n      <g>\r\n       <use style=\"stroke:#000000;stroke-width:0.8;\" x=\"30.103125\" xlink:href=\"#m17c42050b2\" y=\"228.439219\"/>\r\n      </g>\r\n     </g>\r\n     <g id=\"text_10\">\r\n      <!-- 2.0 -->\r\n      <g transform=\"translate(7.2 232.238437)scale(0.1 -0.1)\">\r\n       <use xlink:href=\"#DejaVuSans-50\"/>\r\n       <use x=\"63.623047\" xlink:href=\"#DejaVuSans-46\"/>\r\n       <use x=\"95.410156\" xlink:href=\"#DejaVuSans-48\"/>\r\n      </g>\r\n     </g>\r\n    </g>\r\n    <g id=\"ytick_2\">\r\n     <g id=\"line2d_11\">\r\n      <g>\r\n       <use style=\"stroke:#000000;stroke-width:0.8;\" x=\"30.103125\" xlink:href=\"#m17c42050b2\" y=\"201.259219\"/>\r\n      </g>\r\n     </g>\r\n     <g id=\"text_11\">\r\n      <!-- 2.5 -->\r\n      <g transform=\"translate(7.2 205.058437)scale(0.1 -0.1)\">\r\n       <use xlink:href=\"#DejaVuSans-50\"/>\r\n       <use x=\"63.623047\" xlink:href=\"#DejaVuSans-46\"/>\r\n       <use x=\"95.410156\" xlink:href=\"#DejaVuSans-53\"/>\r\n      </g>\r\n     </g>\r\n    </g>\r\n    <g id=\"ytick_3\">\r\n     <g id=\"line2d_12\">\r\n      <g>\r\n       <use style=\"stroke:#000000;stroke-width:0.8;\" x=\"30.103125\" xlink:href=\"#m17c42050b2\" y=\"174.079219\"/>\r\n      </g>\r\n     </g>\r\n     <g id=\"text_12\">\r\n      <!-- 3.0 -->\r\n      <g transform=\"translate(7.2 177.878437)scale(0.1 -0.1)\">\r\n       <defs>\r\n        <path d=\"M 40.578125 39.3125 \r\nQ 47.65625 37.796875 51.625 33 \r\nQ 55.609375 28.21875 55.609375 21.1875 \r\nQ 55.609375 10.40625 48.1875 4.484375 \r\nQ 40.765625 -1.421875 27.09375 -1.421875 \r\nQ 22.515625 -1.421875 17.65625 -0.515625 \r\nQ 12.796875 0.390625 7.625 2.203125 \r\nL 7.625 11.71875 \r\nQ 11.71875 9.328125 16.59375 8.109375 \r\nQ 21.484375 6.890625 26.8125 6.890625 \r\nQ 36.078125 6.890625 40.9375 10.546875 \r\nQ 45.796875 14.203125 45.796875 21.1875 \r\nQ 45.796875 27.640625 41.28125 31.265625 \r\nQ 36.765625 34.90625 28.71875 34.90625 \r\nL 20.21875 34.90625 \r\nL 20.21875 43.015625 \r\nL 29.109375 43.015625 \r\nQ 36.375 43.015625 40.234375 45.921875 \r\nQ 44.09375 48.828125 44.09375 54.296875 \r\nQ 44.09375 59.90625 40.109375 62.90625 \r\nQ 36.140625 65.921875 28.71875 65.921875 \r\nQ 24.65625 65.921875 20.015625 65.03125 \r\nQ 15.375 64.15625 9.8125 62.3125 \r\nL 9.8125 71.09375 \r\nQ 15.4375 72.65625 20.34375 73.4375 \r\nQ 25.25 74.21875 29.59375 74.21875 \r\nQ 40.828125 74.21875 47.359375 69.109375 \r\nQ 53.90625 64.015625 53.90625 55.328125 \r\nQ 53.90625 49.265625 50.4375 45.09375 \r\nQ 46.96875 40.921875 40.578125 39.3125 \r\nz\r\n\" id=\"DejaVuSans-51\"/>\r\n       </defs>\r\n       <use xlink:href=\"#DejaVuSans-51\"/>\r\n       <use x=\"63.623047\" xlink:href=\"#DejaVuSans-46\"/>\r\n       <use x=\"95.410156\" xlink:href=\"#DejaVuSans-48\"/>\r\n      </g>\r\n     </g>\r\n    </g>\r\n    <g id=\"ytick_4\">\r\n     <g id=\"line2d_13\">\r\n      <g>\r\n       <use style=\"stroke:#000000;stroke-width:0.8;\" x=\"30.103125\" xlink:href=\"#m17c42050b2\" y=\"146.899219\"/>\r\n      </g>\r\n     </g>\r\n     <g id=\"text_13\">\r\n      <!-- 3.5 -->\r\n      <g transform=\"translate(7.2 150.698437)scale(0.1 -0.1)\">\r\n       <use xlink:href=\"#DejaVuSans-51\"/>\r\n       <use x=\"63.623047\" xlink:href=\"#DejaVuSans-46\"/>\r\n       <use x=\"95.410156\" xlink:href=\"#DejaVuSans-53\"/>\r\n      </g>\r\n     </g>\r\n    </g>\r\n    <g id=\"ytick_5\">\r\n     <g id=\"line2d_14\">\r\n      <g>\r\n       <use style=\"stroke:#000000;stroke-width:0.8;\" x=\"30.103125\" xlink:href=\"#m17c42050b2\" y=\"119.719219\"/>\r\n      </g>\r\n     </g>\r\n     <g id=\"text_14\">\r\n      <!-- 4.0 -->\r\n      <g transform=\"translate(7.2 123.518437)scale(0.1 -0.1)\">\r\n       <defs>\r\n        <path d=\"M 37.796875 64.3125 \r\nL 12.890625 25.390625 \r\nL 37.796875 25.390625 \r\nz\r\nM 35.203125 72.90625 \r\nL 47.609375 72.90625 \r\nL 47.609375 25.390625 \r\nL 58.015625 25.390625 \r\nL 58.015625 17.1875 \r\nL 47.609375 17.1875 \r\nL 47.609375 0 \r\nL 37.796875 0 \r\nL 37.796875 17.1875 \r\nL 4.890625 17.1875 \r\nL 4.890625 26.703125 \r\nz\r\n\" id=\"DejaVuSans-52\"/>\r\n       </defs>\r\n       <use xlink:href=\"#DejaVuSans-52\"/>\r\n       <use x=\"63.623047\" xlink:href=\"#DejaVuSans-46\"/>\r\n       <use x=\"95.410156\" xlink:href=\"#DejaVuSans-48\"/>\r\n      </g>\r\n     </g>\r\n    </g>\r\n    <g id=\"ytick_6\">\r\n     <g id=\"line2d_15\">\r\n      <g>\r\n       <use style=\"stroke:#000000;stroke-width:0.8;\" x=\"30.103125\" xlink:href=\"#m17c42050b2\" y=\"92.539219\"/>\r\n      </g>\r\n     </g>\r\n     <g id=\"text_15\">\r\n      <!-- 4.5 -->\r\n      <g transform=\"translate(7.2 96.338437)scale(0.1 -0.1)\">\r\n       <use xlink:href=\"#DejaVuSans-52\"/>\r\n       <use x=\"63.623047\" xlink:href=\"#DejaVuSans-46\"/>\r\n       <use x=\"95.410156\" xlink:href=\"#DejaVuSans-53\"/>\r\n      </g>\r\n     </g>\r\n    </g>\r\n    <g id=\"ytick_7\">\r\n     <g id=\"line2d_16\">\r\n      <g>\r\n       <use style=\"stroke:#000000;stroke-width:0.8;\" x=\"30.103125\" xlink:href=\"#m17c42050b2\" y=\"65.359219\"/>\r\n      </g>\r\n     </g>\r\n     <g id=\"text_16\">\r\n      <!-- 5.0 -->\r\n      <g transform=\"translate(7.2 69.158437)scale(0.1 -0.1)\">\r\n       <use xlink:href=\"#DejaVuSans-53\"/>\r\n       <use x=\"63.623047\" xlink:href=\"#DejaVuSans-46\"/>\r\n       <use x=\"95.410156\" xlink:href=\"#DejaVuSans-48\"/>\r\n      </g>\r\n     </g>\r\n    </g>\r\n    <g id=\"ytick_8\">\r\n     <g id=\"line2d_17\">\r\n      <g>\r\n       <use style=\"stroke:#000000;stroke-width:0.8;\" x=\"30.103125\" xlink:href=\"#m17c42050b2\" y=\"38.179219\"/>\r\n      </g>\r\n     </g>\r\n     <g id=\"text_17\">\r\n      <!-- 5.5 -->\r\n      <g transform=\"translate(7.2 41.978437)scale(0.1 -0.1)\">\r\n       <use xlink:href=\"#DejaVuSans-53\"/>\r\n       <use x=\"63.623047\" xlink:href=\"#DejaVuSans-46\"/>\r\n       <use x=\"95.410156\" xlink:href=\"#DejaVuSans-53\"/>\r\n      </g>\r\n     </g>\r\n    </g>\r\n    <g id=\"ytick_9\">\r\n     <g id=\"line2d_18\">\r\n      <g>\r\n       <use style=\"stroke:#000000;stroke-width:0.8;\" x=\"30.103125\" xlink:href=\"#m17c42050b2\" y=\"10.999219\"/>\r\n      </g>\r\n     </g>\r\n     <g id=\"text_18\">\r\n      <!-- 6.0 -->\r\n      <g transform=\"translate(7.2 14.798437)scale(0.1 -0.1)\">\r\n       <defs>\r\n        <path d=\"M 33.015625 40.375 \r\nQ 26.375 40.375 22.484375 35.828125 \r\nQ 18.609375 31.296875 18.609375 23.390625 \r\nQ 18.609375 15.53125 22.484375 10.953125 \r\nQ 26.375 6.390625 33.015625 6.390625 \r\nQ 39.65625 6.390625 43.53125 10.953125 \r\nQ 47.40625 15.53125 47.40625 23.390625 \r\nQ 47.40625 31.296875 43.53125 35.828125 \r\nQ 39.65625 40.375 33.015625 40.375 \r\nz\r\nM 52.59375 71.296875 \r\nL 52.59375 62.3125 \r\nQ 48.875 64.0625 45.09375 64.984375 \r\nQ 41.3125 65.921875 37.59375 65.921875 \r\nQ 27.828125 65.921875 22.671875 59.328125 \r\nQ 17.53125 52.734375 16.796875 39.40625 \r\nQ 19.671875 43.65625 24.015625 45.921875 \r\nQ 28.375 48.1875 33.59375 48.1875 \r\nQ 44.578125 48.1875 50.953125 41.515625 \r\nQ 57.328125 34.859375 57.328125 23.390625 \r\nQ 57.328125 12.15625 50.6875 5.359375 \r\nQ 44.046875 -1.421875 33.015625 -1.421875 \r\nQ 20.359375 -1.421875 13.671875 8.265625 \r\nQ 6.984375 17.96875 6.984375 36.375 \r\nQ 6.984375 53.65625 15.1875 63.9375 \r\nQ 23.390625 74.21875 37.203125 74.21875 \r\nQ 40.921875 74.21875 44.703125 73.484375 \r\nQ 48.484375 72.75 52.59375 71.296875 \r\nz\r\n\" id=\"DejaVuSans-54\"/>\r\n       </defs>\r\n       <use xlink:href=\"#DejaVuSans-54\"/>\r\n       <use x=\"63.623047\" xlink:href=\"#DejaVuSans-46\"/>\r\n       <use x=\"95.410156\" xlink:href=\"#DejaVuSans-48\"/>\r\n      </g>\r\n     </g>\r\n    </g>\r\n   </g>\r\n   <g id=\"line2d_19\">\r\n    <path clip-path=\"url(#pa21aca04d7)\" d=\"M 30.103125 60.605519 \r\nL 33.484943 67.104701 \r\nL 36.866761 73.471246 \r\nL 40.24858 79.705155 \r\nL 43.630398 85.806428 \r\nL 47.012216 91.775064 \r\nL 50.394034 97.611064 \r\nL 53.775852 103.314428 \r\nL 57.15767 108.885155 \r\nL 60.539489 114.323246 \r\nL 63.921307 119.6287 \r\nL 67.303125 124.801518 \r\nL 70.684943 129.8417 \r\nL 74.066761 134.749246 \r\nL 77.44858 139.524155 \r\nL 80.830398 144.166427 \r\nL 84.212216 148.676064 \r\nL 87.594034 153.053064 \r\nL 90.975852 157.297427 \r\nL 94.35767 161.409154 \r\nL 97.739489 165.388245 \r\nL 101.121307 169.2347 \r\nL 104.503125 172.948518 \r\nL 107.884943 176.5297 \r\nL 111.266761 179.978245 \r\nL 114.64858 183.294154 \r\nL 118.030398 186.477427 \r\nL 121.412216 189.528063 \r\nL 124.794034 192.446063 \r\nL 128.175852 195.231427 \r\nL 131.55767 197.884154 \r\nL 134.939489 200.404245 \r\nL 138.321307 202.791699 \r\nL 141.703125 205.046518 \r\nL 145.084943 207.168699 \r\nL 148.466761 209.158245 \r\nL 151.84858 211.015154 \r\nL 155.230398 212.739427 \r\nL 158.612216 214.331063 \r\nL 161.994034 215.790063 \r\nL 165.375852 217.116427 \r\nL 168.75767 218.310154 \r\nL 172.139489 219.371245 \r\nL 175.521307 220.299699 \r\nL 178.903125 221.095517 \r\nL 182.284943 221.758699 \r\nL 185.666761 222.289245 \r\nL 189.04858 222.687154 \r\nL 192.430398 222.952427 \r\nL 195.812216 223.085063 \r\nL 199.194034 223.085063 \r\nL 202.575852 222.952427 \r\nL 205.95767 222.687154 \r\nL 209.339489 222.289245 \r\nL 212.721307 221.758699 \r\nL 216.103125 221.095517 \r\nL 219.484943 220.299699 \r\nL 222.866761 219.371245 \r\nL 226.24858 218.310154 \r\nL 229.630398 217.116427 \r\nL 233.012216 215.790063 \r\nL 236.394034 214.331063 \r\nL 239.775852 212.739427 \r\nL 243.15767 211.015154 \r\nL 246.539489 209.158245 \r\nL 249.921307 207.168699 \r\nL 253.303125 205.046518 \r\nL 256.684943 202.791699 \r\nL 260.066761 200.404245 \r\nL 263.44858 197.884154 \r\nL 266.830398 195.231427 \r\nL 270.212216 192.446063 \r\nL 273.594034 189.528063 \r\nL 276.975852 186.477427 \r\nL 280.35767 183.294154 \r\nL 283.739489 179.978245 \r\nL 287.121307 176.5297 \r\nL 290.503125 172.948518 \r\nL 293.884943 169.2347 \r\nL 297.266761 165.388245 \r\nL 300.64858 161.409154 \r\nL 304.030398 157.297427 \r\nL 307.412216 153.053064 \r\nL 310.794034 148.676064 \r\nL 314.175852 144.166427 \r\nL 317.55767 139.524155 \r\nL 320.939489 134.749246 \r\nL 324.321307 129.8417 \r\nL 327.703125 124.801518 \r\nL 331.084943 119.6287 \r\nL 334.466761 114.323246 \r\nL 337.84858 108.885155 \r\nL 341.230398 103.314428 \r\nL 344.612216 97.611064 \r\nL 347.994034 91.775064 \r\nL 351.375852 85.806428 \r\nL 354.75767 79.705155 \r\nL 358.139489 73.471246 \r\nL 361.521307 67.104701 \r\nL 364.903125 60.605519 \r\n\" style=\"fill:none;stroke:#ff0000;stroke-linecap:square;stroke-width:1.5;\"/>\r\n   </g>\r\n   <g id=\"patch_3\">\r\n    <path d=\"M 30.103125 228.439219 \r\nL 30.103125 10.999219 \r\n\" style=\"fill:none;stroke:#000000;stroke-linecap:square;stroke-linejoin:miter;stroke-width:0.8;\"/>\r\n   </g>\r\n   <g id=\"patch_4\">\r\n    <path d=\"M 364.903125 228.439219 \r\nL 364.903125 10.999219 \r\n\" style=\"fill:none;stroke:#000000;stroke-linecap:square;stroke-linejoin:miter;stroke-width:0.8;\"/>\r\n   </g>\r\n   <g id=\"patch_5\">\r\n    <path d=\"M 30.103125 228.439219 \r\nL 364.903125 228.439219 \r\n\" style=\"fill:none;stroke:#000000;stroke-linecap:square;stroke-linejoin:miter;stroke-width:0.8;\"/>\r\n   </g>\r\n   <g id=\"patch_6\">\r\n    <path d=\"M 30.103125 10.999219 \r\nL 364.903125 10.999219 \r\n\" style=\"fill:none;stroke:#000000;stroke-linecap:square;stroke-linejoin:miter;stroke-width:0.8;\"/>\r\n   </g>\r\n   <g id=\"legend_1\">\r\n    <g id=\"patch_7\">\r\n     <path d=\"M 290.970313 48.355469 \r\nL 357.903125 48.355469 \r\nQ 359.903125 48.355469 359.903125 46.355469 \r\nL 359.903125 17.999219 \r\nQ 359.903125 15.999219 357.903125 15.999219 \r\nL 290.970313 15.999219 \r\nQ 288.970313 15.999219 288.970313 17.999219 \r\nL 288.970313 46.355469 \r\nQ 288.970313 48.355469 290.970313 48.355469 \r\nz\r\n\" style=\"fill:#ffffff;opacity:0.8;stroke:#cccccc;stroke-linejoin:miter;\"/>\r\n    </g>\r\n    <g id=\"line2d_20\">\r\n     <path d=\"M 292.970313 24.097656 \r\nL 312.970313 24.097656 \r\n\" style=\"fill:none;stroke:#ff0000;stroke-linecap:square;stroke-width:1.5;\"/>\r\n    </g>\r\n    <g id=\"line2d_21\"/>\r\n    <g id=\"text_19\">\r\n     <!-- predict -->\r\n     <g transform=\"translate(320.970313 27.597656)scale(0.1 -0.1)\">\r\n      <defs>\r\n       <path d=\"M 18.109375 8.203125 \r\nL 18.109375 -20.796875 \r\nL 9.078125 -20.796875 \r\nL 9.078125 54.6875 \r\nL 18.109375 54.6875 \r\nL 18.109375 46.390625 \r\nQ 20.953125 51.265625 25.265625 53.625 \r\nQ 29.59375 56 35.59375 56 \r\nQ 45.5625 56 51.78125 48.09375 \r\nQ 58.015625 40.1875 58.015625 27.296875 \r\nQ 58.015625 14.40625 51.78125 6.484375 \r\nQ 45.5625 -1.421875 35.59375 -1.421875 \r\nQ 29.59375 -1.421875 25.265625 0.953125 \r\nQ 20.953125 3.328125 18.109375 8.203125 \r\nz\r\nM 48.6875 27.296875 \r\nQ 48.6875 37.203125 44.609375 42.84375 \r\nQ 40.53125 48.484375 33.40625 48.484375 \r\nQ 26.265625 48.484375 22.1875 42.84375 \r\nQ 18.109375 37.203125 18.109375 27.296875 \r\nQ 18.109375 17.390625 22.1875 11.75 \r\nQ 26.265625 6.109375 33.40625 6.109375 \r\nQ 40.53125 6.109375 44.609375 11.75 \r\nQ 48.6875 17.390625 48.6875 27.296875 \r\nz\r\n\" id=\"DejaVuSans-112\"/>\r\n       <path d=\"M 41.109375 46.296875 \r\nQ 39.59375 47.171875 37.8125 47.578125 \r\nQ 36.03125 48 33.890625 48 \r\nQ 26.265625 48 22.1875 43.046875 \r\nQ 18.109375 38.09375 18.109375 28.8125 \r\nL 18.109375 0 \r\nL 9.078125 0 \r\nL 9.078125 54.6875 \r\nL 18.109375 54.6875 \r\nL 18.109375 46.1875 \r\nQ 20.953125 51.171875 25.484375 53.578125 \r\nQ 30.03125 56 36.53125 56 \r\nQ 37.453125 56 38.578125 55.875 \r\nQ 39.703125 55.765625 41.0625 55.515625 \r\nz\r\n\" id=\"DejaVuSans-114\"/>\r\n       <path d=\"M 56.203125 29.59375 \r\nL 56.203125 25.203125 \r\nL 14.890625 25.203125 \r\nQ 15.484375 15.921875 20.484375 11.0625 \r\nQ 25.484375 6.203125 34.421875 6.203125 \r\nQ 39.59375 6.203125 44.453125 7.46875 \r\nQ 49.3125 8.734375 54.109375 11.28125 \r\nL 54.109375 2.78125 \r\nQ 49.265625 0.734375 44.1875 -0.34375 \r\nQ 39.109375 -1.421875 33.890625 -1.421875 \r\nQ 20.796875 -1.421875 13.15625 6.1875 \r\nQ 5.515625 13.8125 5.515625 26.8125 \r\nQ 5.515625 40.234375 12.765625 48.109375 \r\nQ 20.015625 56 32.328125 56 \r\nQ 43.359375 56 49.78125 48.890625 \r\nQ 56.203125 41.796875 56.203125 29.59375 \r\nz\r\nM 47.21875 32.234375 \r\nQ 47.125 39.59375 43.09375 43.984375 \r\nQ 39.0625 48.390625 32.421875 48.390625 \r\nQ 24.90625 48.390625 20.390625 44.140625 \r\nQ 15.875 39.890625 15.1875 32.171875 \r\nz\r\n\" id=\"DejaVuSans-101\"/>\r\n       <path d=\"M 45.40625 46.390625 \r\nL 45.40625 75.984375 \r\nL 54.390625 75.984375 \r\nL 54.390625 0 \r\nL 45.40625 0 \r\nL 45.40625 8.203125 \r\nQ 42.578125 3.328125 38.25 0.953125 \r\nQ 33.9375 -1.421875 27.875 -1.421875 \r\nQ 17.96875 -1.421875 11.734375 6.484375 \r\nQ 5.515625 14.40625 5.515625 27.296875 \r\nQ 5.515625 40.1875 11.734375 48.09375 \r\nQ 17.96875 56 27.875 56 \r\nQ 33.9375 56 38.25 53.625 \r\nQ 42.578125 51.265625 45.40625 46.390625 \r\nz\r\nM 14.796875 27.296875 \r\nQ 14.796875 17.390625 18.875 11.75 \r\nQ 22.953125 6.109375 30.078125 6.109375 \r\nQ 37.203125 6.109375 41.296875 11.75 \r\nQ 45.40625 17.390625 45.40625 27.296875 \r\nQ 45.40625 37.203125 41.296875 42.84375 \r\nQ 37.203125 48.484375 30.078125 48.484375 \r\nQ 22.953125 48.484375 18.875 42.84375 \r\nQ 14.796875 37.203125 14.796875 27.296875 \r\nz\r\n\" id=\"DejaVuSans-100\"/>\r\n       <path d=\"M 9.421875 54.6875 \r\nL 18.40625 54.6875 \r\nL 18.40625 0 \r\nL 9.421875 0 \r\nz\r\nM 9.421875 75.984375 \r\nL 18.40625 75.984375 \r\nL 18.40625 64.59375 \r\nL 9.421875 64.59375 \r\nz\r\n\" id=\"DejaVuSans-105\"/>\r\n       <path d=\"M 48.78125 52.59375 \r\nL 48.78125 44.1875 \r\nQ 44.96875 46.296875 41.140625 47.34375 \r\nQ 37.3125 48.390625 33.40625 48.390625 \r\nQ 24.65625 48.390625 19.8125 42.84375 \r\nQ 14.984375 37.3125 14.984375 27.296875 \r\nQ 14.984375 17.28125 19.8125 11.734375 \r\nQ 24.65625 6.203125 33.40625 6.203125 \r\nQ 37.3125 6.203125 41.140625 7.25 \r\nQ 44.96875 8.296875 48.78125 10.40625 \r\nL 48.78125 2.09375 \r\nQ 45.015625 0.34375 40.984375 -0.53125 \r\nQ 36.96875 -1.421875 32.421875 -1.421875 \r\nQ 20.0625 -1.421875 12.78125 6.34375 \r\nQ 5.515625 14.109375 5.515625 27.296875 \r\nQ 5.515625 40.671875 12.859375 48.328125 \r\nQ 20.21875 56 33.015625 56 \r\nQ 37.15625 56 41.109375 55.140625 \r\nQ 45.0625 54.296875 48.78125 52.59375 \r\nz\r\n\" id=\"DejaVuSans-99\"/>\r\n       <path d=\"M 18.3125 70.21875 \r\nL 18.3125 54.6875 \r\nL 36.8125 54.6875 \r\nL 36.8125 47.703125 \r\nL 18.3125 47.703125 \r\nL 18.3125 18.015625 \r\nQ 18.3125 11.328125 20.140625 9.421875 \r\nQ 21.96875 7.515625 27.59375 7.515625 \r\nL 36.8125 7.515625 \r\nL 36.8125 0 \r\nL 27.59375 0 \r\nQ 17.1875 0 13.234375 3.875 \r\nQ 9.28125 7.765625 9.28125 18.015625 \r\nL 9.28125 47.703125 \r\nL 2.6875 47.703125 \r\nL 2.6875 54.6875 \r\nL 9.28125 54.6875 \r\nL 9.28125 70.21875 \r\nz\r\n\" id=\"DejaVuSans-116\"/>\r\n      </defs>\r\n      <use xlink:href=\"#DejaVuSans-112\"/>\r\n      <use x=\"63.476562\" xlink:href=\"#DejaVuSans-114\"/>\r\n      <use x=\"102.339844\" xlink:href=\"#DejaVuSans-101\"/>\r\n      <use x=\"163.863281\" xlink:href=\"#DejaVuSans-100\"/>\r\n      <use x=\"227.339844\" xlink:href=\"#DejaVuSans-105\"/>\r\n      <use x=\"255.123047\" xlink:href=\"#DejaVuSans-99\"/>\r\n      <use x=\"310.103516\" xlink:href=\"#DejaVuSans-116\"/>\r\n     </g>\r\n    </g>\r\n    <g id=\"PathCollection_2\">\r\n     <g>\r\n      <use style=\"fill:#0000ff;stroke:#0000ff;\" x=\"302.970313\" xlink:href=\"#m2b48181ced\" y=\"39.650781\"/>\r\n     </g>\r\n    </g>\r\n    <g id=\"text_20\">\r\n     <!-- true -->\r\n     <g transform=\"translate(320.970313 42.275781)scale(0.1 -0.1)\">\r\n      <defs>\r\n       <path d=\"M 8.5 21.578125 \r\nL 8.5 54.6875 \r\nL 17.484375 54.6875 \r\nL 17.484375 21.921875 \r\nQ 17.484375 14.15625 20.5 10.265625 \r\nQ 23.53125 6.390625 29.59375 6.390625 \r\nQ 36.859375 6.390625 41.078125 11.03125 \r\nQ 45.3125 15.671875 45.3125 23.6875 \r\nL 45.3125 54.6875 \r\nL 54.296875 54.6875 \r\nL 54.296875 0 \r\nL 45.3125 0 \r\nL 45.3125 8.40625 \r\nQ 42.046875 3.421875 37.71875 1 \r\nQ 33.40625 -1.421875 27.6875 -1.421875 \r\nQ 18.265625 -1.421875 13.375 4.4375 \r\nQ 8.5 10.296875 8.5 21.578125 \r\nz\r\nM 31.109375 56 \r\nz\r\n\" id=\"DejaVuSans-117\"/>\r\n      </defs>\r\n      <use xlink:href=\"#DejaVuSans-116\"/>\r\n      <use x=\"39.208984\" xlink:href=\"#DejaVuSans-114\"/>\r\n      <use x=\"80.322266\" xlink:href=\"#DejaVuSans-117\"/>\r\n      <use x=\"143.701172\" xlink:href=\"#DejaVuSans-101\"/>\r\n     </g>\r\n    </g>\r\n   </g>\r\n  </g>\r\n </g>\r\n <defs>\r\n  <clipPath id=\"pa21aca04d7\">\r\n   <rect height=\"217.44\" width=\"334.8\" x=\"30.103125\" y=\"10.999219\"/>\r\n  </clipPath>\r\n </defs>\r\n</svg>\r\n",
            "image/png": "[encoded data removed]"
          },
          "metadata": {
            "tags": [],
            "needs_background": "light"
          }
        },
        {
          "output_type": "stream",
          "text": [
            "[[2.98927619]] [[2.09818307]]\n"
          ],
          "name": "stdout"
        }
      ]
    },
    {
      "cell_type": "markdown",
      "metadata": {
        "id": "j0t7hG2GNwhW"
      },
      "source": [
        "\n",
        "\n",
        "---\n",
        "\n"
      ]
    },
    {
      "cell_type": "markdown",
      "metadata": {
        "id": "RXm5DfuGXK9M"
      },
      "source": [
        "# pytorch深度学习"
      ]
    },
    {
      "cell_type": "markdown",
      "metadata": {
        "id": "9bB1fzWJ62ht"
      },
      "source": [
        "## a simple one"
      ]
    },
    {
      "cell_type": "code",
      "metadata": {
        "id": "6Nt1K6hfNv9c"
      },
      "source": [
        "import torch as t\n",
        "%matplotlib inline\n",
        "from matplotlib import pyplot as plt"
      ],
      "execution_count": null,
      "outputs": []
    },
    {
      "cell_type": "code",
      "metadata": {
        "colab": {
          "base_uri": "https://localhost:8080/",
          "height": 265
        },
        "id": "Mh36X-N9ON80",
        "outputId": "b65174c5-80bc-4109-9367-68d681c2a5b0"
      },
      "source": [
        "t.manual_seed(100)\n",
        "dtype=t.float\n",
        "x=t.unsqueeze(t.linspace(-1,1,100),dim=1)\n",
        "y=3*x.pow(2)+2+0.2*t.rand(x.size())\n",
        "plt.scatter(x.numpy(),y.numpy())\n",
        "plt.show()"
      ],
      "execution_count": null,
      "outputs": [
        {
          "output_type": "display_data",
          "data": {
            "text/plain": [
              "<Figure size 432x288 with 1 Axes>"
            ],
            "image/svg+xml": "<?xml version=\"1.0\" encoding=\"utf-8\" standalone=\"no\"?>\r\n<!DOCTYPE svg PUBLIC \"-//W3C//DTD SVG 1.1//EN\"\r\n  \"http://www.w3.org/Graphics/SVG/1.1/DTD/svg11.dtd\">\r\n<!-- Created with matplotlib (https://matplotlib.org/) -->\r\n<svg height=\"248.518125pt\" version=\"1.1\" viewBox=\"0 0 372.103125 248.518125\" width=\"372.103125pt\" xmlns=\"http://www.w3.org/2000/svg\" xmlns:xlink=\"http://www.w3.org/1999/xlink\">\r\n <metadata>\r\n  <rdf:RDF xmlns:cc=\"http://creativecommons.org/ns#\" xmlns:dc=\"http://purl.org/dc/elements/1.1/\" xmlns:rdf=\"http://www.w3.org/1999/02/22-rdf-syntax-ns#\">\r\n   <cc:Work>\r\n    <dc:type rdf:resource=\"http://purl.org/dc/dcmitype/StillImage\"/>\r\n    <dc:date>2020-11-30T18:55:03.905204</dc:date>\r\n    <dc:format>image/svg+xml</dc:format>\r\n    <dc:creator>\r\n     <cc:Agent>\r\n      <dc:title>Matplotlib v3.3.2, https://matplotlib.org/</dc:title>\r\n     </cc:Agent>\r\n    </dc:creator>\r\n   </cc:Work>\r\n  </rdf:RDF>\r\n </metadata>\r\n <defs>\r\n  <style type=\"text/css\">*{stroke-linecap:butt;stroke-linejoin:round;}</style>\r\n </defs>\r\n <g id=\"figure_1\">\r\n  <g id=\"patch_1\">\r\n   <path d=\"M 0 248.518125 \r\nL 372.103125 248.518125 \r\nL 372.103125 0 \r\nL 0 0 \r\nz\r\n\" style=\"fill:none;\"/>\r\n  </g>\r\n  <g id=\"axes_1\">\r\n   <g id=\"patch_2\">\r\n    <path d=\"M 30.103125 224.64 \r\nL 364.903125 224.64 \r\nL 364.903125 7.2 \r\nL 30.103125 7.2 \r\nz\r\n\" style=\"fill:#ffffff;\"/>\r\n   </g>\r\n   <g id=\"PathCollection_1\">\r\n    <defs>\r\n     <path d=\"M 0 3 \r\nC 0.795609 3 1.55874 2.683901 2.12132 2.12132 \r\nC 2.683901 1.55874 3 0.795609 3 0 \r\nC 3 -0.795609 2.683901 -1.55874 2.12132 -2.12132 \r\nC 1.55874 -2.683901 0.795609 -3 0 -3 \r\nC -0.795609 -3 -1.55874 -2.683901 -2.12132 -2.12132 \r\nC -2.683901 -1.55874 -3 -0.795609 -3 0 \r\nC -3 0.795609 -2.683901 1.55874 -2.12132 2.12132 \r\nC -1.55874 2.683901 -0.795609 3 0 3 \r\nz\r\n\" id=\"m0b6fadd921\" style=\"stroke:#1f77b4;\"/>\r\n    </defs>\r\n    <g clip-path=\"url(#p2ce25a6ad7)\">\r\n     <use style=\"fill:#1f77b4;stroke:#1f77b4;\" x=\"45.321307\" xlink:href=\"#m0b6fadd921\" y=\"20.75864\"/>\r\n     <use style=\"fill:#1f77b4;stroke:#1f77b4;\" x=\"48.39569\" xlink:href=\"#m0b6fadd921\" y=\"19.40978\"/>\r\n     <use style=\"fill:#1f77b4;stroke:#1f77b4;\" x=\"51.470064\" xlink:href=\"#m0b6fadd921\" y=\"34.174091\"/>\r\n     <use style=\"fill:#1f77b4;stroke:#1f77b4;\" x=\"54.544448\" xlink:href=\"#m0b6fadd921\" y=\"38.756624\"/>\r\n     <use style=\"fill:#1f77b4;stroke:#1f77b4;\" x=\"57.618831\" xlink:href=\"#m0b6fadd921\" y=\"43.551971\"/>\r\n     <use style=\"fill:#1f77b4;stroke:#1f77b4;\" x=\"60.693205\" xlink:href=\"#m0b6fadd921\" y=\"49.679826\"/>\r\n     <use style=\"fill:#1f77b4;stroke:#1f77b4;\" x=\"63.767588\" xlink:href=\"#m0b6fadd921\" y=\"63.00735\"/>\r\n     <use style=\"fill:#1f77b4;stroke:#1f77b4;\" x=\"66.841972\" xlink:href=\"#m0b6fadd921\" y=\"72.664898\"/>\r\n     <use style=\"fill:#1f77b4;stroke:#1f77b4;\" x=\"69.916346\" xlink:href=\"#m0b6fadd921\" y=\"77.181501\"/>\r\n     <use style=\"fill:#1f77b4;stroke:#1f77b4;\" x=\"72.990729\" xlink:href=\"#m0b6fadd921\" y=\"84.841814\"/>\r\n     <use style=\"fill:#1f77b4;stroke:#1f77b4;\" x=\"76.065103\" xlink:href=\"#m0b6fadd921\" y=\"91.13181\"/>\r\n     <use style=\"fill:#1f77b4;stroke:#1f77b4;\" x=\"79.139487\" xlink:href=\"#m0b6fadd921\" y=\"89.366778\"/>\r\n     <use style=\"fill:#1f77b4;stroke:#1f77b4;\" x=\"82.21387\" xlink:href=\"#m0b6fadd921\" y=\"95.695662\"/>\r\n     <use style=\"fill:#1f77b4;stroke:#1f77b4;\" x=\"85.288244\" xlink:href=\"#m0b6fadd921\" y=\"100.576652\"/>\r\n     <use style=\"fill:#1f77b4;stroke:#1f77b4;\" x=\"88.362627\" xlink:href=\"#m0b6fadd921\" y=\"111.058708\"/>\r\n     <use style=\"fill:#1f77b4;stroke:#1f77b4;\" x=\"91.437002\" xlink:href=\"#m0b6fadd921\" y=\"110.352409\"/>\r\n     <use style=\"fill:#1f77b4;stroke:#1f77b4;\" x=\"94.511385\" xlink:href=\"#m0b6fadd921\" y=\"114.50376\"/>\r\n     <use style=\"fill:#1f77b4;stroke:#1f77b4;\" x=\"97.585768\" xlink:href=\"#m0b6fadd921\" y=\"122.842514\"/>\r\n     <use style=\"fill:#1f77b4;stroke:#1f77b4;\" x=\"100.660142\" xlink:href=\"#m0b6fadd921\" y=\"134.804518\"/>\r\n     <use style=\"fill:#1f77b4;stroke:#1f77b4;\" x=\"103.734526\" xlink:href=\"#m0b6fadd921\" y=\"138.700789\"/>\r\n     <use style=\"fill:#1f77b4;stroke:#1f77b4;\" x=\"106.808909\" xlink:href=\"#m0b6fadd921\" y=\"145.057424\"/>\r\n     <use style=\"fill:#1f77b4;stroke:#1f77b4;\" x=\"109.883283\" xlink:href=\"#m0b6fadd921\" y=\"141.300154\"/>\r\n     <use style=\"fill:#1f77b4;stroke:#1f77b4;\" x=\"112.957666\" xlink:href=\"#m0b6fadd921\" y=\"149.205536\"/>\r\n     <use style=\"fill:#1f77b4;stroke:#1f77b4;\" x=\"116.03205\" xlink:href=\"#m0b6fadd921\" y=\"148.031851\"/>\r\n     <use style=\"fill:#1f77b4;stroke:#1f77b4;\" x=\"119.106433\" xlink:href=\"#m0b6fadd921\" y=\"159.048209\"/>\r\n     <use style=\"fill:#1f77b4;stroke:#1f77b4;\" x=\"122.180812\" xlink:href=\"#m0b6fadd921\" y=\"156.489553\"/>\r\n     <use style=\"fill:#1f77b4;stroke:#1f77b4;\" x=\"125.255195\" xlink:href=\"#m0b6fadd921\" y=\"162.923455\"/>\r\n     <use style=\"fill:#1f77b4;stroke:#1f77b4;\" x=\"128.329574\" xlink:href=\"#m0b6fadd921\" y=\"169.870805\"/>\r\n     <use style=\"fill:#1f77b4;stroke:#1f77b4;\" x=\"131.403952\" xlink:href=\"#m0b6fadd921\" y=\"176.547925\"/>\r\n     <use style=\"fill:#1f77b4;stroke:#1f77b4;\" x=\"134.478331\" xlink:href=\"#m0b6fadd921\" y=\"173.951321\"/>\r\n     <use style=\"fill:#1f77b4;stroke:#1f77b4;\" x=\"137.552715\" xlink:href=\"#m0b6fadd921\" y=\"179.354119\"/>\r\n     <use style=\"fill:#1f77b4;stroke:#1f77b4;\" x=\"140.627093\" xlink:href=\"#m0b6fadd921\" y=\"185.99411\"/>\r\n     <use style=\"fill:#1f77b4;stroke:#1f77b4;\" x=\"143.701472\" xlink:href=\"#m0b6fadd921\" y=\"181.810364\"/>\r\n     <use style=\"fill:#1f77b4;stroke:#1f77b4;\" x=\"146.775851\" xlink:href=\"#m0b6fadd921\" y=\"189.257909\"/>\r\n     <use style=\"fill:#1f77b4;stroke:#1f77b4;\" x=\"149.850234\" xlink:href=\"#m0b6fadd921\" y=\"197.054123\"/>\r\n     <use style=\"fill:#1f77b4;stroke:#1f77b4;\" x=\"152.924613\" xlink:href=\"#m0b6fadd921\" y=\"196.790913\"/>\r\n     <use style=\"fill:#1f77b4;stroke:#1f77b4;\" x=\"155.998992\" xlink:href=\"#m0b6fadd921\" y=\"189.528554\"/>\r\n     <use style=\"fill:#1f77b4;stroke:#1f77b4;\" x=\"159.07337\" xlink:href=\"#m0b6fadd921\" y=\"194.786103\"/>\r\n     <use style=\"fill:#1f77b4;stroke:#1f77b4;\" x=\"162.147754\" xlink:href=\"#m0b6fadd921\" y=\"203.720569\"/>\r\n     <use style=\"fill:#1f77b4;stroke:#1f77b4;\" x=\"165.222132\" xlink:href=\"#m0b6fadd921\" y=\"196.051772\"/>\r\n     <use style=\"fill:#1f77b4;stroke:#1f77b4;\" x=\"168.296511\" xlink:href=\"#m0b6fadd921\" y=\"202.474738\"/>\r\n     <use style=\"fill:#1f77b4;stroke:#1f77b4;\" x=\"171.370892\" xlink:href=\"#m0b6fadd921\" y=\"210.116879\"/>\r\n     <use style=\"fill:#1f77b4;stroke:#1f77b4;\" x=\"174.445271\" xlink:href=\"#m0b6fadd921\" y=\"203.468281\"/>\r\n     <use style=\"fill:#1f77b4;stroke:#1f77b4;\" x=\"177.519652\" xlink:href=\"#m0b6fadd921\" y=\"208.518955\"/>\r\n     <use style=\"fill:#1f77b4;stroke:#1f77b4;\" x=\"180.594032\" xlink:href=\"#m0b6fadd921\" y=\"209.790285\"/>\r\n     <use style=\"fill:#1f77b4;stroke:#1f77b4;\" x=\"183.668412\" xlink:href=\"#m0b6fadd921\" y=\"207.8929\"/>\r\n     <use style=\"fill:#1f77b4;stroke:#1f77b4;\" x=\"186.742793\" xlink:href=\"#m0b6fadd921\" y=\"214.756364\"/>\r\n     <use style=\"fill:#1f77b4;stroke:#1f77b4;\" x=\"189.817171\" xlink:href=\"#m0b6fadd921\" y=\"209.179717\"/>\r\n     <use style=\"fill:#1f77b4;stroke:#1f77b4;\" x=\"192.891559\" xlink:href=\"#m0b6fadd921\" y=\"204.414651\"/>\r\n     <use style=\"fill:#1f77b4;stroke:#1f77b4;\" x=\"195.965939\" xlink:href=\"#m0b6fadd921\" y=\"208.535583\"/>\r\n     <use style=\"fill:#1f77b4;stroke:#1f77b4;\" x=\"199.040319\" xlink:href=\"#m0b6fadd921\" y=\"210.526464\"/>\r\n     <use style=\"fill:#1f77b4;stroke:#1f77b4;\" x=\"202.1147\" xlink:href=\"#m0b6fadd921\" y=\"206.708247\"/>\r\n     <use style=\"fill:#1f77b4;stroke:#1f77b4;\" x=\"205.18908\" xlink:href=\"#m0b6fadd921\" y=\"209.90553\"/>\r\n     <use style=\"fill:#1f77b4;stroke:#1f77b4;\" x=\"208.26346\" xlink:href=\"#m0b6fadd921\" y=\"210.949284\"/>\r\n     <use style=\"fill:#1f77b4;stroke:#1f77b4;\" x=\"211.337841\" xlink:href=\"#m0b6fadd921\" y=\"206.662818\"/>\r\n     <use style=\"fill:#1f77b4;stroke:#1f77b4;\" x=\"214.412219\" xlink:href=\"#m0b6fadd921\" y=\"206.752272\"/>\r\n     <use style=\"fill:#1f77b4;stroke:#1f77b4;\" x=\"217.486598\" xlink:href=\"#m0b6fadd921\" y=\"204.034221\"/>\r\n     <use style=\"fill:#1f77b4;stroke:#1f77b4;\" x=\"220.560979\" xlink:href=\"#m0b6fadd921\" y=\"207.077216\"/>\r\n     <use style=\"fill:#1f77b4;stroke:#1f77b4;\" x=\"223.635358\" xlink:href=\"#m0b6fadd921\" y=\"198.866944\"/>\r\n     <use style=\"fill:#1f77b4;stroke:#1f77b4;\" x=\"226.709739\" xlink:href=\"#m0b6fadd921\" y=\"198.34293\"/>\r\n     <use style=\"fill:#1f77b4;stroke:#1f77b4;\" x=\"229.784118\" xlink:href=\"#m0b6fadd921\" y=\"203.638442\"/>\r\n     <use style=\"fill:#1f77b4;stroke:#1f77b4;\" x=\"232.858499\" xlink:href=\"#m0b6fadd921\" y=\"197.124418\"/>\r\n     <use style=\"fill:#1f77b4;stroke:#1f77b4;\" x=\"235.93288\" xlink:href=\"#m0b6fadd921\" y=\"196.499891\"/>\r\n     <use style=\"fill:#1f77b4;stroke:#1f77b4;\" x=\"239.007258\" xlink:href=\"#m0b6fadd921\" y=\"189.919906\"/>\r\n     <use style=\"fill:#1f77b4;stroke:#1f77b4;\" x=\"242.081637\" xlink:href=\"#m0b6fadd921\" y=\"187.772809\"/>\r\n     <use style=\"fill:#1f77b4;stroke:#1f77b4;\" x=\"245.156016\" xlink:href=\"#m0b6fadd921\" y=\"187.450935\"/>\r\n     <use style=\"fill:#1f77b4;stroke:#1f77b4;\" x=\"248.230399\" xlink:href=\"#m0b6fadd921\" y=\"184.676657\"/>\r\n     <use style=\"fill:#1f77b4;stroke:#1f77b4;\" x=\"251.304778\" xlink:href=\"#m0b6fadd921\" y=\"184.049106\"/>\r\n     <use style=\"fill:#1f77b4;stroke:#1f77b4;\" x=\"254.379157\" xlink:href=\"#m0b6fadd921\" y=\"184.820625\"/>\r\n     <use style=\"fill:#1f77b4;stroke:#1f77b4;\" x=\"257.453535\" xlink:href=\"#m0b6fadd921\" y=\"183.374028\"/>\r\n     <use style=\"fill:#1f77b4;stroke:#1f77b4;\" x=\"260.527919\" xlink:href=\"#m0b6fadd921\" y=\"170.78074\"/>\r\n     <use style=\"fill:#1f77b4;stroke:#1f77b4;\" x=\"263.602298\" xlink:href=\"#m0b6fadd921\" y=\"170.479043\"/>\r\n     <use style=\"fill:#1f77b4;stroke:#1f77b4;\" x=\"266.676676\" xlink:href=\"#m0b6fadd921\" y=\"174.703451\"/>\r\n     <use style=\"fill:#1f77b4;stroke:#1f77b4;\" x=\"269.751055\" xlink:href=\"#m0b6fadd921\" y=\"164.050848\"/>\r\n     <use style=\"fill:#1f77b4;stroke:#1f77b4;\" x=\"272.825438\" xlink:href=\"#m0b6fadd921\" y=\"164.288481\"/>\r\n     <use style=\"fill:#1f77b4;stroke:#1f77b4;\" x=\"275.899817\" xlink:href=\"#m0b6fadd921\" y=\"164.207157\"/>\r\n     <use style=\"fill:#1f77b4;stroke:#1f77b4;\" x=\"278.9742\" xlink:href=\"#m0b6fadd921\" y=\"147.996418\"/>\r\n     <use style=\"fill:#1f77b4;stroke:#1f77b4;\" x=\"282.048575\" xlink:href=\"#m0b6fadd921\" y=\"149.217892\"/>\r\n     <use style=\"fill:#1f77b4;stroke:#1f77b4;\" x=\"285.122958\" xlink:href=\"#m0b6fadd921\" y=\"143.073732\"/>\r\n     <use style=\"fill:#1f77b4;stroke:#1f77b4;\" x=\"288.197332\" xlink:href=\"#m0b6fadd921\" y=\"140.999182\"/>\r\n     <use style=\"fill:#1f77b4;stroke:#1f77b4;\" x=\"291.271715\" xlink:href=\"#m0b6fadd921\" y=\"141.64529\"/>\r\n     <use style=\"fill:#1f77b4;stroke:#1f77b4;\" x=\"294.346099\" xlink:href=\"#m0b6fadd921\" y=\"125.272982\"/>\r\n     <use style=\"fill:#1f77b4;stroke:#1f77b4;\" x=\"297.420473\" xlink:href=\"#m0b6fadd921\" y=\"128.399307\"/>\r\n     <use style=\"fill:#1f77b4;stroke:#1f77b4;\" x=\"300.494856\" xlink:href=\"#m0b6fadd921\" y=\"127.270851\"/>\r\n     <use style=\"fill:#1f77b4;stroke:#1f77b4;\" x=\"303.569239\" xlink:href=\"#m0b6fadd921\" y=\"109.702999\"/>\r\n     <use style=\"fill:#1f77b4;stroke:#1f77b4;\" x=\"306.643614\" xlink:href=\"#m0b6fadd921\" y=\"112.776892\"/>\r\n     <use style=\"fill:#1f77b4;stroke:#1f77b4;\" x=\"309.717997\" xlink:href=\"#m0b6fadd921\" y=\"107.760509\"/>\r\n     <use style=\"fill:#1f77b4;stroke:#1f77b4;\" x=\"312.79238\" xlink:href=\"#m0b6fadd921\" y=\"93.077539\"/>\r\n     <use style=\"fill:#1f77b4;stroke:#1f77b4;\" x=\"315.866763\" xlink:href=\"#m0b6fadd921\" y=\"88.962962\"/>\r\n     <use style=\"fill:#1f77b4;stroke:#1f77b4;\" x=\"318.941147\" xlink:href=\"#m0b6fadd921\" y=\"90.559514\"/>\r\n     <use style=\"fill:#1f77b4;stroke:#1f77b4;\" x=\"322.015521\" xlink:href=\"#m0b6fadd921\" y=\"80.684261\"/>\r\n     <use style=\"fill:#1f77b4;stroke:#1f77b4;\" x=\"325.089904\" xlink:href=\"#m0b6fadd921\" y=\"76.971156\"/>\r\n     <use style=\"fill:#1f77b4;stroke:#1f77b4;\" x=\"328.164287\" xlink:href=\"#m0b6fadd921\" y=\"61.657472\"/>\r\n     <use style=\"fill:#1f77b4;stroke:#1f77b4;\" x=\"331.238662\" xlink:href=\"#m0b6fadd921\" y=\"65.762885\"/>\r\n     <use style=\"fill:#1f77b4;stroke:#1f77b4;\" x=\"334.313045\" xlink:href=\"#m0b6fadd921\" y=\"57.132415\"/>\r\n     <use style=\"fill:#1f77b4;stroke:#1f77b4;\" x=\"337.387428\" xlink:href=\"#m0b6fadd921\" y=\"48.409761\"/>\r\n     <use style=\"fill:#1f77b4;stroke:#1f77b4;\" x=\"340.461802\" xlink:href=\"#m0b6fadd921\" y=\"42.568516\"/>\r\n     <use style=\"fill:#1f77b4;stroke:#1f77b4;\" x=\"343.536186\" xlink:href=\"#m0b6fadd921\" y=\"25.68489\"/>\r\n     <use style=\"fill:#1f77b4;stroke:#1f77b4;\" x=\"346.61056\" xlink:href=\"#m0b6fadd921\" y=\"27.208771\"/>\r\n     <use style=\"fill:#1f77b4;stroke:#1f77b4;\" x=\"349.684943\" xlink:href=\"#m0b6fadd921\" y=\"17.083636\"/>\r\n    </g>\r\n   </g>\r\n   <g id=\"matplotlib.axis_1\">\r\n    <g id=\"xtick_1\">\r\n     <g id=\"line2d_1\">\r\n      <defs>\r\n       <path d=\"M 0 0 \r\nL 0 3.5 \r\n\" id=\"m037c61b634\" style=\"stroke:#000000;stroke-width:0.8;\"/>\r\n      </defs>\r\n      <g>\r\n       <use style=\"stroke:#000000;stroke-width:0.8;\" x=\"45.321307\" xlink:href=\"#m037c61b634\" y=\"224.64\"/>\r\n      </g>\r\n     </g>\r\n     <g id=\"text_1\">\r\n      <!-- −1.00 -->\r\n      <g transform=\"translate(29.998651 239.238437)scale(0.1 -0.1)\">\r\n       <defs>\r\n        <path d=\"M 10.59375 35.5 \r\nL 73.1875 35.5 \r\nL 73.1875 27.203125 \r\nL 10.59375 27.203125 \r\nz\r\n\" id=\"DejaVuSans-8722\"/>\r\n        <path d=\"M 12.40625 8.296875 \r\nL 28.515625 8.296875 \r\nL 28.515625 63.921875 \r\nL 10.984375 60.40625 \r\nL 10.984375 69.390625 \r\nL 28.421875 72.90625 \r\nL 38.28125 72.90625 \r\nL 38.28125 8.296875 \r\nL 54.390625 8.296875 \r\nL 54.390625 0 \r\nL 12.40625 0 \r\nz\r\n\" id=\"DejaVuSans-49\"/>\r\n        <path d=\"M 10.6875 12.40625 \r\nL 21 12.40625 \r\nL 21 0 \r\nL 10.6875 0 \r\nz\r\n\" id=\"DejaVuSans-46\"/>\r\n        <path d=\"M 31.78125 66.40625 \r\nQ 24.171875 66.40625 20.328125 58.90625 \r\nQ 16.5 51.421875 16.5 36.375 \r\nQ 16.5 21.390625 20.328125 13.890625 \r\nQ 24.171875 6.390625 31.78125 6.390625 \r\nQ 39.453125 6.390625 43.28125 13.890625 \r\nQ 47.125 21.390625 47.125 36.375 \r\nQ 47.125 51.421875 43.28125 58.90625 \r\nQ 39.453125 66.40625 31.78125 66.40625 \r\nz\r\nM 31.78125 74.21875 \r\nQ 44.046875 74.21875 50.515625 64.515625 \r\nQ 56.984375 54.828125 56.984375 36.375 \r\nQ 56.984375 17.96875 50.515625 8.265625 \r\nQ 44.046875 -1.421875 31.78125 -1.421875 \r\nQ 19.53125 -1.421875 13.0625 8.265625 \r\nQ 6.59375 17.96875 6.59375 36.375 \r\nQ 6.59375 54.828125 13.0625 64.515625 \r\nQ 19.53125 74.21875 31.78125 74.21875 \r\nz\r\n\" id=\"DejaVuSans-48\"/>\r\n       </defs>\r\n       <use xlink:href=\"#DejaVuSans-8722\"/>\r\n       <use x=\"83.789062\" xlink:href=\"#DejaVuSans-49\"/>\r\n       <use x=\"147.412109\" xlink:href=\"#DejaVuSans-46\"/>\r\n       <use x=\"179.199219\" xlink:href=\"#DejaVuSans-48\"/>\r\n       <use x=\"242.822266\" xlink:href=\"#DejaVuSans-48\"/>\r\n      </g>\r\n     </g>\r\n    </g>\r\n    <g id=\"xtick_2\">\r\n     <g id=\"line2d_2\">\r\n      <g>\r\n       <use style=\"stroke:#000000;stroke-width:0.8;\" x=\"83.366761\" xlink:href=\"#m037c61b634\" y=\"224.64\"/>\r\n      </g>\r\n     </g>\r\n     <g id=\"text_2\">\r\n      <!-- −0.75 -->\r\n      <g transform=\"translate(68.044105 239.238437)scale(0.1 -0.1)\">\r\n       <defs>\r\n        <path d=\"M 8.203125 72.90625 \r\nL 55.078125 72.90625 \r\nL 55.078125 68.703125 \r\nL 28.609375 0 \r\nL 18.3125 0 \r\nL 43.21875 64.59375 \r\nL 8.203125 64.59375 \r\nz\r\n\" id=\"DejaVuSans-55\"/>\r\n        <path d=\"M 10.796875 72.90625 \r\nL 49.515625 72.90625 \r\nL 49.515625 64.59375 \r\nL 19.828125 64.59375 \r\nL 19.828125 46.734375 \r\nQ 21.96875 47.46875 24.109375 47.828125 \r\nQ 26.265625 48.1875 28.421875 48.1875 \r\nQ 40.625 48.1875 47.75 41.5 \r\nQ 54.890625 34.8125 54.890625 23.390625 \r\nQ 54.890625 11.625 47.5625 5.09375 \r\nQ 40.234375 -1.421875 26.90625 -1.421875 \r\nQ 22.3125 -1.421875 17.546875 -0.640625 \r\nQ 12.796875 0.140625 7.71875 1.703125 \r\nL 7.71875 11.625 \r\nQ 12.109375 9.234375 16.796875 8.0625 \r\nQ 21.484375 6.890625 26.703125 6.890625 \r\nQ 35.15625 6.890625 40.078125 11.328125 \r\nQ 45.015625 15.765625 45.015625 23.390625 \r\nQ 45.015625 31 40.078125 35.4375 \r\nQ 35.15625 39.890625 26.703125 39.890625 \r\nQ 22.75 39.890625 18.8125 39.015625 \r\nQ 14.890625 38.140625 10.796875 36.28125 \r\nz\r\n\" id=\"DejaVuSans-53\"/>\r\n       </defs>\r\n       <use xlink:href=\"#DejaVuSans-8722\"/>\r\n       <use x=\"83.789062\" xlink:href=\"#DejaVuSans-48\"/>\r\n       <use x=\"147.412109\" xlink:href=\"#DejaVuSans-46\"/>\r\n       <use x=\"179.199219\" xlink:href=\"#DejaVuSans-55\"/>\r\n       <use x=\"242.822266\" xlink:href=\"#DejaVuSans-53\"/>\r\n      </g>\r\n     </g>\r\n    </g>\r\n    <g id=\"xtick_3\">\r\n     <g id=\"line2d_3\">\r\n      <g>\r\n       <use style=\"stroke:#000000;stroke-width:0.8;\" x=\"121.412216\" xlink:href=\"#m037c61b634\" y=\"224.64\"/>\r\n      </g>\r\n     </g>\r\n     <g id=\"text_3\">\r\n      <!-- −0.50 -->\r\n      <g transform=\"translate(106.08956 239.238437)scale(0.1 -0.1)\">\r\n       <use xlink:href=\"#DejaVuSans-8722\"/>\r\n       <use x=\"83.789062\" xlink:href=\"#DejaVuSans-48\"/>\r\n       <use x=\"147.412109\" xlink:href=\"#DejaVuSans-46\"/>\r\n       <use x=\"179.199219\" xlink:href=\"#DejaVuSans-53\"/>\r\n       <use x=\"242.822266\" xlink:href=\"#DejaVuSans-48\"/>\r\n      </g>\r\n     </g>\r\n    </g>\r\n    <g id=\"xtick_4\">\r\n     <g id=\"line2d_4\">\r\n      <g>\r\n       <use style=\"stroke:#000000;stroke-width:0.8;\" x=\"159.45767\" xlink:href=\"#m037c61b634\" y=\"224.64\"/>\r\n      </g>\r\n     </g>\r\n     <g id=\"text_4\">\r\n      <!-- −0.25 -->\r\n      <g transform=\"translate(144.135014 239.238437)scale(0.1 -0.1)\">\r\n       <defs>\r\n        <path d=\"M 19.1875 8.296875 \r\nL 53.609375 8.296875 \r\nL 53.609375 0 \r\nL 7.328125 0 \r\nL 7.328125 8.296875 \r\nQ 12.9375 14.109375 22.625 23.890625 \r\nQ 32.328125 33.6875 34.8125 36.53125 \r\nQ 39.546875 41.84375 41.421875 45.53125 \r\nQ 43.3125 49.21875 43.3125 52.78125 \r\nQ 43.3125 58.59375 39.234375 62.25 \r\nQ 35.15625 65.921875 28.609375 65.921875 \r\nQ 23.96875 65.921875 18.8125 64.3125 \r\nQ 13.671875 62.703125 7.8125 59.421875 \r\nL 7.8125 69.390625 \r\nQ 13.765625 71.78125 18.9375 73 \r\nQ 24.125 74.21875 28.421875 74.21875 \r\nQ 39.75 74.21875 46.484375 68.546875 \r\nQ 53.21875 62.890625 53.21875 53.421875 \r\nQ 53.21875 48.921875 51.53125 44.890625 \r\nQ 49.859375 40.875 45.40625 35.40625 \r\nQ 44.1875 33.984375 37.640625 27.21875 \r\nQ 31.109375 20.453125 19.1875 8.296875 \r\nz\r\n\" id=\"DejaVuSans-50\"/>\r\n       </defs>\r\n       <use xlink:href=\"#DejaVuSans-8722\"/>\r\n       <use x=\"83.789062\" xlink:href=\"#DejaVuSans-48\"/>\r\n       <use x=\"147.412109\" xlink:href=\"#DejaVuSans-46\"/>\r\n       <use x=\"179.199219\" xlink:href=\"#DejaVuSans-50\"/>\r\n       <use x=\"242.822266\" xlink:href=\"#DejaVuSans-53\"/>\r\n      </g>\r\n     </g>\r\n    </g>\r\n    <g id=\"xtick_5\">\r\n     <g id=\"line2d_5\">\r\n      <g>\r\n       <use style=\"stroke:#000000;stroke-width:0.8;\" x=\"197.503125\" xlink:href=\"#m037c61b634\" y=\"224.64\"/>\r\n      </g>\r\n     </g>\r\n     <g id=\"text_5\">\r\n      <!-- 0.00 -->\r\n      <g transform=\"translate(186.370313 239.238437)scale(0.1 -0.1)\">\r\n       <use xlink:href=\"#DejaVuSans-48\"/>\r\n       <use x=\"63.623047\" xlink:href=\"#DejaVuSans-46\"/>\r\n       <use x=\"95.410156\" xlink:href=\"#DejaVuSans-48\"/>\r\n       <use x=\"159.033203\" xlink:href=\"#DejaVuSans-48\"/>\r\n      </g>\r\n     </g>\r\n    </g>\r\n    <g id=\"xtick_6\">\r\n     <g id=\"line2d_6\">\r\n      <g>\r\n       <use style=\"stroke:#000000;stroke-width:0.8;\" x=\"235.54858\" xlink:href=\"#m037c61b634\" y=\"224.64\"/>\r\n      </g>\r\n     </g>\r\n     <g id=\"text_6\">\r\n      <!-- 0.25 -->\r\n      <g transform=\"translate(224.415767 239.238437)scale(0.1 -0.1)\">\r\n       <use xlink:href=\"#DejaVuSans-48\"/>\r\n       <use x=\"63.623047\" xlink:href=\"#DejaVuSans-46\"/>\r\n       <use x=\"95.410156\" xlink:href=\"#DejaVuSans-50\"/>\r\n       <use x=\"159.033203\" xlink:href=\"#DejaVuSans-53\"/>\r\n      </g>\r\n     </g>\r\n    </g>\r\n    <g id=\"xtick_7\">\r\n     <g id=\"line2d_7\">\r\n      <g>\r\n       <use style=\"stroke:#000000;stroke-width:0.8;\" x=\"273.594034\" xlink:href=\"#m037c61b634\" y=\"224.64\"/>\r\n      </g>\r\n     </g>\r\n     <g id=\"text_7\">\r\n      <!-- 0.50 -->\r\n      <g transform=\"translate(262.461222 239.238437)scale(0.1 -0.1)\">\r\n       <use xlink:href=\"#DejaVuSans-48\"/>\r\n       <use x=\"63.623047\" xlink:href=\"#DejaVuSans-46\"/>\r\n       <use x=\"95.410156\" xlink:href=\"#DejaVuSans-53\"/>\r\n       <use x=\"159.033203\" xlink:href=\"#DejaVuSans-48\"/>\r\n      </g>\r\n     </g>\r\n    </g>\r\n    <g id=\"xtick_8\">\r\n     <g id=\"line2d_8\">\r\n      <g>\r\n       <use style=\"stroke:#000000;stroke-width:0.8;\" x=\"311.639489\" xlink:href=\"#m037c61b634\" y=\"224.64\"/>\r\n      </g>\r\n     </g>\r\n     <g id=\"text_8\">\r\n      <!-- 0.75 -->\r\n      <g transform=\"translate(300.506676 239.238437)scale(0.1 -0.1)\">\r\n       <use xlink:href=\"#DejaVuSans-48\"/>\r\n       <use x=\"63.623047\" xlink:href=\"#DejaVuSans-46\"/>\r\n       <use x=\"95.410156\" xlink:href=\"#DejaVuSans-55\"/>\r\n       <use x=\"159.033203\" xlink:href=\"#DejaVuSans-53\"/>\r\n      </g>\r\n     </g>\r\n    </g>\r\n    <g id=\"xtick_9\">\r\n     <g id=\"line2d_9\">\r\n      <g>\r\n       <use style=\"stroke:#000000;stroke-width:0.8;\" x=\"349.684943\" xlink:href=\"#m037c61b634\" y=\"224.64\"/>\r\n      </g>\r\n     </g>\r\n     <g id=\"text_9\">\r\n      <!-- 1.00 -->\r\n      <g transform=\"translate(338.552131 239.238437)scale(0.1 -0.1)\">\r\n       <use xlink:href=\"#DejaVuSans-49\"/>\r\n       <use x=\"63.623047\" xlink:href=\"#DejaVuSans-46\"/>\r\n       <use x=\"95.410156\" xlink:href=\"#DejaVuSans-48\"/>\r\n       <use x=\"159.033203\" xlink:href=\"#DejaVuSans-48\"/>\r\n      </g>\r\n     </g>\r\n    </g>\r\n   </g>\r\n   <g id=\"matplotlib.axis_2\">\r\n    <g id=\"ytick_1\">\r\n     <g id=\"line2d_10\">\r\n      <defs>\r\n       <path d=\"M 0 0 \r\nL -3.5 0 \r\n\" id=\"m0c7f6fa639\" style=\"stroke:#000000;stroke-width:0.8;\"/>\r\n      </defs>\r\n      <g>\r\n       <use style=\"stroke:#000000;stroke-width:0.8;\" x=\"30.103125\" xlink:href=\"#m0c7f6fa639\" y=\"216.304648\"/>\r\n      </g>\r\n     </g>\r\n     <g id=\"text_10\">\r\n      <!-- 2.0 -->\r\n      <g transform=\"translate(7.2 220.103867)scale(0.1 -0.1)\">\r\n       <use xlink:href=\"#DejaVuSans-50\"/>\r\n       <use x=\"63.623047\" xlink:href=\"#DejaVuSans-46\"/>\r\n       <use x=\"95.410156\" xlink:href=\"#DejaVuSans-48\"/>\r\n      </g>\r\n     </g>\r\n    </g>\r\n    <g id=\"ytick_2\">\r\n     <g id=\"line2d_11\">\r\n      <g>\r\n       <use style=\"stroke:#000000;stroke-width:0.8;\" x=\"30.103125\" xlink:href=\"#m0c7f6fa639\" y=\"183.954469\"/>\r\n      </g>\r\n     </g>\r\n     <g id=\"text_11\">\r\n      <!-- 2.5 -->\r\n      <g transform=\"translate(7.2 187.753687)scale(0.1 -0.1)\">\r\n       <use xlink:href=\"#DejaVuSans-50\"/>\r\n       <use x=\"63.623047\" xlink:href=\"#DejaVuSans-46\"/>\r\n       <use x=\"95.410156\" xlink:href=\"#DejaVuSans-53\"/>\r\n      </g>\r\n     </g>\r\n    </g>\r\n    <g id=\"ytick_3\">\r\n     <g id=\"line2d_12\">\r\n      <g>\r\n       <use style=\"stroke:#000000;stroke-width:0.8;\" x=\"30.103125\" xlink:href=\"#m0c7f6fa639\" y=\"151.604289\"/>\r\n      </g>\r\n     </g>\r\n     <g id=\"text_12\">\r\n      <!-- 3.0 -->\r\n      <g transform=\"translate(7.2 155.403508)scale(0.1 -0.1)\">\r\n       <defs>\r\n        <path d=\"M 40.578125 39.3125 \r\nQ 47.65625 37.796875 51.625 33 \r\nQ 55.609375 28.21875 55.609375 21.1875 \r\nQ 55.609375 10.40625 48.1875 4.484375 \r\nQ 40.765625 -1.421875 27.09375 -1.421875 \r\nQ 22.515625 -1.421875 17.65625 -0.515625 \r\nQ 12.796875 0.390625 7.625 2.203125 \r\nL 7.625 11.71875 \r\nQ 11.71875 9.328125 16.59375 8.109375 \r\nQ 21.484375 6.890625 26.8125 6.890625 \r\nQ 36.078125 6.890625 40.9375 10.546875 \r\nQ 45.796875 14.203125 45.796875 21.1875 \r\nQ 45.796875 27.640625 41.28125 31.265625 \r\nQ 36.765625 34.90625 28.71875 34.90625 \r\nL 20.21875 34.90625 \r\nL 20.21875 43.015625 \r\nL 29.109375 43.015625 \r\nQ 36.375 43.015625 40.234375 45.921875 \r\nQ 44.09375 48.828125 44.09375 54.296875 \r\nQ 44.09375 59.90625 40.109375 62.90625 \r\nQ 36.140625 65.921875 28.71875 65.921875 \r\nQ 24.65625 65.921875 20.015625 65.03125 \r\nQ 15.375 64.15625 9.8125 62.3125 \r\nL 9.8125 71.09375 \r\nQ 15.4375 72.65625 20.34375 73.4375 \r\nQ 25.25 74.21875 29.59375 74.21875 \r\nQ 40.828125 74.21875 47.359375 69.109375 \r\nQ 53.90625 64.015625 53.90625 55.328125 \r\nQ 53.90625 49.265625 50.4375 45.09375 \r\nQ 46.96875 40.921875 40.578125 39.3125 \r\nz\r\n\" id=\"DejaVuSans-51\"/>\r\n       </defs>\r\n       <use xlink:href=\"#DejaVuSans-51\"/>\r\n       <use x=\"63.623047\" xlink:href=\"#DejaVuSans-46\"/>\r\n       <use x=\"95.410156\" xlink:href=\"#DejaVuSans-48\"/>\r\n      </g>\r\n     </g>\r\n    </g>\r\n    <g id=\"ytick_4\">\r\n     <g id=\"line2d_13\">\r\n      <g>\r\n       <use style=\"stroke:#000000;stroke-width:0.8;\" x=\"30.103125\" xlink:href=\"#m0c7f6fa639\" y=\"119.25411\"/>\r\n      </g>\r\n     </g>\r\n     <g id=\"text_13\">\r\n      <!-- 3.5 -->\r\n      <g transform=\"translate(7.2 123.053329)scale(0.1 -0.1)\">\r\n       <use xlink:href=\"#DejaVuSans-51\"/>\r\n       <use x=\"63.623047\" xlink:href=\"#DejaVuSans-46\"/>\r\n       <use x=\"95.410156\" xlink:href=\"#DejaVuSans-53\"/>\r\n      </g>\r\n     </g>\r\n    </g>\r\n    <g id=\"ytick_5\">\r\n     <g id=\"line2d_14\">\r\n      <g>\r\n       <use style=\"stroke:#000000;stroke-width:0.8;\" x=\"30.103125\" xlink:href=\"#m0c7f6fa639\" y=\"86.903931\"/>\r\n      </g>\r\n     </g>\r\n     <g id=\"text_14\">\r\n      <!-- 4.0 -->\r\n      <g transform=\"translate(7.2 90.703149)scale(0.1 -0.1)\">\r\n       <defs>\r\n        <path d=\"M 37.796875 64.3125 \r\nL 12.890625 25.390625 \r\nL 37.796875 25.390625 \r\nz\r\nM 35.203125 72.90625 \r\nL 47.609375 72.90625 \r\nL 47.609375 25.390625 \r\nL 58.015625 25.390625 \r\nL 58.015625 17.1875 \r\nL 47.609375 17.1875 \r\nL 47.609375 0 \r\nL 37.796875 0 \r\nL 37.796875 17.1875 \r\nL 4.890625 17.1875 \r\nL 4.890625 26.703125 \r\nz\r\n\" id=\"DejaVuSans-52\"/>\r\n       </defs>\r\n       <use xlink:href=\"#DejaVuSans-52\"/>\r\n       <use x=\"63.623047\" xlink:href=\"#DejaVuSans-46\"/>\r\n       <use x=\"95.410156\" xlink:href=\"#DejaVuSans-48\"/>\r\n      </g>\r\n     </g>\r\n    </g>\r\n    <g id=\"ytick_6\">\r\n     <g id=\"line2d_15\">\r\n      <g>\r\n       <use style=\"stroke:#000000;stroke-width:0.8;\" x=\"30.103125\" xlink:href=\"#m0c7f6fa639\" y=\"54.553751\"/>\r\n      </g>\r\n     </g>\r\n     <g id=\"text_15\">\r\n      <!-- 4.5 -->\r\n      <g transform=\"translate(7.2 58.35297)scale(0.1 -0.1)\">\r\n       <use xlink:href=\"#DejaVuSans-52\"/>\r\n       <use x=\"63.623047\" xlink:href=\"#DejaVuSans-46\"/>\r\n       <use x=\"95.410156\" xlink:href=\"#DejaVuSans-53\"/>\r\n      </g>\r\n     </g>\r\n    </g>\r\n    <g id=\"ytick_7\">\r\n     <g id=\"line2d_16\">\r\n      <g>\r\n       <use style=\"stroke:#000000;stroke-width:0.8;\" x=\"30.103125\" xlink:href=\"#m0c7f6fa639\" y=\"22.203572\"/>\r\n      </g>\r\n     </g>\r\n     <g id=\"text_16\">\r\n      <!-- 5.0 -->\r\n      <g transform=\"translate(7.2 26.002791)scale(0.1 -0.1)\">\r\n       <use xlink:href=\"#DejaVuSans-53\"/>\r\n       <use x=\"63.623047\" xlink:href=\"#DejaVuSans-46\"/>\r\n       <use x=\"95.410156\" xlink:href=\"#DejaVuSans-48\"/>\r\n      </g>\r\n     </g>\r\n    </g>\r\n   </g>\r\n   <g id=\"patch_3\">\r\n    <path d=\"M 30.103125 224.64 \r\nL 30.103125 7.2 \r\n\" style=\"fill:none;stroke:#000000;stroke-linecap:square;stroke-linejoin:miter;stroke-width:0.8;\"/>\r\n   </g>\r\n   <g id=\"patch_4\">\r\n    <path d=\"M 364.903125 224.64 \r\nL 364.903125 7.2 \r\n\" style=\"fill:none;stroke:#000000;stroke-linecap:square;stroke-linejoin:miter;stroke-width:0.8;\"/>\r\n   </g>\r\n   <g id=\"patch_5\">\r\n    <path d=\"M 30.103125 224.64 \r\nL 364.903125 224.64 \r\n\" style=\"fill:none;stroke:#000000;stroke-linecap:square;stroke-linejoin:miter;stroke-width:0.8;\"/>\r\n   </g>\r\n   <g id=\"patch_6\">\r\n    <path d=\"M 30.103125 7.2 \r\nL 364.903125 7.2 \r\n\" style=\"fill:none;stroke:#000000;stroke-linecap:square;stroke-linejoin:miter;stroke-width:0.8;\"/>\r\n   </g>\r\n  </g>\r\n </g>\r\n <defs>\r\n  <clipPath id=\"p2ce25a6ad7\">\r\n   <rect height=\"217.44\" width=\"334.8\" x=\"30.103125\" y=\"7.2\"/>\r\n  </clipPath>\r\n </defs>\r\n</svg>\r\n",
            "image/png": "[encoded data removed]"
          },
          "metadata": {
            "tags": [],
            "needs_background": "light"
          }
        }
      ]
    },
    {
      "cell_type": "code",
      "metadata": {
        "id": "brBOpGtTO0UF"
      },
      "source": [
        "lr=0.001\n",
        "w=t.rand(1,1,dtype=dtype,requires_grad=True)\n",
        "b=t.rand(1,1,dtype=dtype,requires_grad=True)\n",
        "for ii in range(800):\n",
        "  y_pred=x.pow(2)*w+b\n",
        "  loss=0.5*(y_pred-y)**2\n",
        "  loss=loss.sum()\n",
        "  #autograd\n",
        "  loss.backward()\n",
        "  #手动更新参数，需要用torch.no_grad()切断上下文自动求导的计算,此时不会track 对参数的计算（https://blog.csdn.net/weixin_46559271/article/details/105658654）\n",
        "  with t.no_grad():\n",
        "    w-=lr*w.grad\n",
        "    b-=lr*b.grad\n",
        "    #清零\n",
        "    w.grad.data.zero_()\n",
        "    b.grad.data.zero_()"
      ],
      "execution_count": null,
      "outputs": []
    },
    {
      "cell_type": "code",
      "metadata": {
        "colab": {
          "base_uri": "https://localhost:8080/",
          "height": 286
        },
        "id": "yyiEU1pxQ5o9",
        "outputId": "5981d159-f5ac-4b0d-d178-c50fc6b7b20d"
      },
      "source": [
        "plt.plot(x.numpy(),y_pred.detach().numpy(),'r-',label='predict')\n",
        "plt.scatter(x.numpy(),y.numpy(),color='blue',marker='o',label='true')\n",
        "plt.xlim(-1,1)\n",
        "plt.ylim(2,6)\n",
        "plt.legend()\n",
        "plt.show()\n",
        "print(w,b)"
      ],
      "execution_count": null,
      "outputs": [
        {
          "output_type": "display_data",
          "data": {
            "text/plain": [
              "<Figure size 432x288 with 1 Axes>"
            ],
            "image/svg+xml": "<?xml version=\"1.0\" encoding=\"utf-8\" standalone=\"no\"?>\r\n<!DOCTYPE svg PUBLIC \"-//W3C//DTD SVG 1.1//EN\"\r\n  \"http://www.w3.org/Graphics/SVG/1.1/DTD/svg11.dtd\">\r\n<!-- Created with matplotlib (https://matplotlib.org/) -->\r\n<svg height=\"252.317344pt\" version=\"1.1\" viewBox=\"0 0 383.235937 252.317344\" width=\"383.235937pt\" xmlns=\"http://www.w3.org/2000/svg\" xmlns:xlink=\"http://www.w3.org/1999/xlink\">\r\n <metadata>\r\n  <rdf:RDF xmlns:cc=\"http://creativecommons.org/ns#\" xmlns:dc=\"http://purl.org/dc/elements/1.1/\" xmlns:rdf=\"http://www.w3.org/1999/02/22-rdf-syntax-ns#\">\r\n   <cc:Work>\r\n    <dc:type rdf:resource=\"http://purl.org/dc/dcmitype/StillImage\"/>\r\n    <dc:date>2020-11-30T18:55:12.149108</dc:date>\r\n    <dc:format>image/svg+xml</dc:format>\r\n    <dc:creator>\r\n     <cc:Agent>\r\n      <dc:title>Matplotlib v3.3.2, https://matplotlib.org/</dc:title>\r\n     </cc:Agent>\r\n    </dc:creator>\r\n   </cc:Work>\r\n  </rdf:RDF>\r\n </metadata>\r\n <defs>\r\n  <style type=\"text/css\">*{stroke-linecap:butt;stroke-linejoin:round;}</style>\r\n </defs>\r\n <g id=\"figure_1\">\r\n  <g id=\"patch_1\">\r\n   <path d=\"M 0 252.317344 \r\nL 383.235937 252.317344 \r\nL 383.235937 0 \r\nL 0 0 \r\nz\r\n\" style=\"fill:none;\"/>\r\n  </g>\r\n  <g id=\"axes_1\">\r\n   <g id=\"patch_2\">\r\n    <path d=\"M 30.103125 228.439219 \r\nL 364.903125 228.439219 \r\nL 364.903125 10.999219 \r\nL 30.103125 10.999219 \r\nz\r\n\" style=\"fill:#ffffff;\"/>\r\n   </g>\r\n   <g id=\"PathCollection_1\">\r\n    <defs>\r\n     <path d=\"M 0 3 \r\nC 0.795609 3 1.55874 2.683901 2.12132 2.12132 \r\nC 2.683901 1.55874 3 0.795609 3 0 \r\nC 3 -0.795609 2.683901 -1.55874 2.12132 -2.12132 \r\nC 1.55874 -2.683901 0.795609 -3 0 -3 \r\nC -0.795609 -3 -1.55874 -2.683901 -2.12132 -2.12132 \r\nC -2.683901 -1.55874 -3 -0.795609 -3 0 \r\nC -3 0.795609 -2.683901 1.55874 -2.12132 2.12132 \r\nC -1.55874 2.683901 -0.795609 3 0 3 \r\nz\r\n\" id=\"m9df6f3434b\" style=\"stroke:#0000ff;\"/>\r\n    </defs>\r\n    <g clip-path=\"url(#p89f96764f7)\">\r\n     <use style=\"fill:#0000ff;stroke:#0000ff;\" x=\"30.103125\" xlink:href=\"#m9df6f3434b\" y=\"64.145215\"/>\r\n     <use style=\"fill:#0000ff;stroke:#0000ff;\" x=\"33.484947\" xlink:href=\"#m9df6f3434b\" y=\"63.011929\"/>\r\n     <use style=\"fill:#0000ff;stroke:#0000ff;\" x=\"36.866758\" xlink:href=\"#m9df6f3434b\" y=\"75.416619\"/>\r\n     <use style=\"fill:#0000ff;stroke:#0000ff;\" x=\"40.24858\" xlink:href=\"#m9df6f3434b\" y=\"79.266775\"/>\r\n     <use style=\"fill:#0000ff;stroke:#0000ff;\" x=\"43.630401\" xlink:href=\"#m9df6f3434b\" y=\"83.295734\"/>\r\n     <use style=\"fill:#0000ff;stroke:#0000ff;\" x=\"47.012213\" xlink:href=\"#m9df6f3434b\" y=\"88.44424\"/>\r\n     <use style=\"fill:#0000ff;stroke:#0000ff;\" x=\"50.394035\" xlink:href=\"#m9df6f3434b\" y=\"99.64177\"/>\r\n     <use style=\"fill:#0000ff;stroke:#0000ff;\" x=\"53.775856\" xlink:href=\"#m9df6f3434b\" y=\"107.755857\"/>\r\n     <use style=\"fill:#0000ff;stroke:#0000ff;\" x=\"57.157668\" xlink:href=\"#m9df6f3434b\" y=\"111.55062\"/>\r\n     <use style=\"fill:#0000ff;stroke:#0000ff;\" x=\"60.53949\" xlink:href=\"#m9df6f3434b\" y=\"117.986668\"/>\r\n     <use style=\"fill:#0000ff;stroke:#0000ff;\" x=\"63.921301\" xlink:href=\"#m9df6f3434b\" y=\"123.271402\"/>\r\n     <use style=\"fill:#0000ff;stroke:#0000ff;\" x=\"67.303123\" xlink:href=\"#m9df6f3434b\" y=\"121.788456\"/>\r\n     <use style=\"fill:#0000ff;stroke:#0000ff;\" x=\"70.684944\" xlink:href=\"#m9df6f3434b\" y=\"127.105863\"/>\r\n     <use style=\"fill:#0000ff;stroke:#0000ff;\" x=\"74.066756\" xlink:href=\"#m9df6f3434b\" y=\"131.206777\"/>\r\n     <use style=\"fill:#0000ff;stroke:#0000ff;\" x=\"77.448578\" xlink:href=\"#m9df6f3434b\" y=\"140.013599\"/>\r\n     <use style=\"fill:#0000ff;stroke:#0000ff;\" x=\"80.830389\" xlink:href=\"#m9df6f3434b\" y=\"139.42018\"/>\r\n     <use style=\"fill:#0000ff;stroke:#0000ff;\" x=\"84.212211\" xlink:href=\"#m9df6f3434b\" y=\"142.908066\"/>\r\n     <use style=\"fill:#0000ff;stroke:#0000ff;\" x=\"87.594032\" xlink:href=\"#m9df6f3434b\" y=\"149.914127\"/>\r\n     <use style=\"fill:#0000ff;stroke:#0000ff;\" x=\"90.975844\" xlink:href=\"#m9df6f3434b\" y=\"159.964373\"/>\r\n     <use style=\"fill:#0000ff;stroke:#0000ff;\" x=\"94.357666\" xlink:href=\"#m9df6f3434b\" y=\"163.237945\"/>\r\n     <use style=\"fill:#0000ff;stroke:#0000ff;\" x=\"97.739487\" xlink:href=\"#m9df6f3434b\" y=\"168.578668\"/>\r\n     <use style=\"fill:#0000ff;stroke:#0000ff;\" x=\"101.121299\" xlink:href=\"#m9df6f3434b\" y=\"165.421882\"/>\r\n     <use style=\"fill:#0000ff;stroke:#0000ff;\" x=\"104.503121\" xlink:href=\"#m9df6f3434b\" y=\"172.063832\"/>\r\n     <use style=\"fill:#0000ff;stroke:#0000ff;\" x=\"107.884942\" xlink:href=\"#m9df6f3434b\" y=\"171.077725\"/>\r\n     <use style=\"fill:#0000ff;stroke:#0000ff;\" x=\"111.266764\" xlink:href=\"#m9df6f3434b\" y=\"180.333458\"/>\r\n     <use style=\"fill:#0000ff;stroke:#0000ff;\" x=\"114.64858\" xlink:href=\"#m9df6f3434b\" y=\"178.183723\"/>\r\n     <use style=\"fill:#0000ff;stroke:#0000ff;\" x=\"118.030402\" xlink:href=\"#m9df6f3434b\" y=\"183.589365\"/>\r\n     <use style=\"fill:#0000ff;stroke:#0000ff;\" x=\"121.412219\" xlink:href=\"#m9df6f3434b\" y=\"189.426394\"/>\r\n     <use style=\"fill:#0000ff;stroke:#0000ff;\" x=\"124.794035\" xlink:href=\"#m9df6f3434b\" y=\"195.036383\"/>\r\n     <use style=\"fill:#0000ff;stroke:#0000ff;\" x=\"128.175852\" xlink:href=\"#m9df6f3434b\" y=\"192.854766\"/>\r\n     <use style=\"fill:#0000ff;stroke:#0000ff;\" x=\"131.557673\" xlink:href=\"#m9df6f3434b\" y=\"197.394093\"/>\r\n     <use style=\"fill:#0000ff;stroke:#0000ff;\" x=\"134.93949\" xlink:href=\"#m9df6f3434b\" y=\"202.972886\"/>\r\n     <use style=\"fill:#0000ff;stroke:#0000ff;\" x=\"138.321307\" xlink:href=\"#m9df6f3434b\" y=\"199.457783\"/>\r\n     <use style=\"fill:#0000ff;stroke:#0000ff;\" x=\"141.703123\" xlink:href=\"#m9df6f3434b\" y=\"205.715068\"/>\r\n     <use style=\"fill:#0000ff;stroke:#0000ff;\" x=\"145.084945\" xlink:href=\"#m9df6f3434b\" y=\"212.265297\"/>\r\n     <use style=\"fill:#0000ff;stroke:#0000ff;\" x=\"148.466762\" xlink:href=\"#m9df6f3434b\" y=\"212.044153\"/>\r\n     <use style=\"fill:#0000ff;stroke:#0000ff;\" x=\"151.848578\" xlink:href=\"#m9df6f3434b\" y=\"205.942459\"/>\r\n     <use style=\"fill:#0000ff;stroke:#0000ff;\" x=\"155.230395\" xlink:href=\"#m9df6f3434b\" y=\"210.35975\"/>\r\n     <use style=\"fill:#0000ff;stroke:#0000ff;\" x=\"158.612216\" xlink:href=\"#m9df6f3434b\" y=\"217.866317\"/>\r\n     <use style=\"fill:#0000ff;stroke:#0000ff;\" x=\"161.994033\" xlink:href=\"#m9df6f3434b\" y=\"211.423141\"/>\r\n     <use style=\"fill:#0000ff;stroke:#0000ff;\" x=\"165.37585\" xlink:href=\"#m9df6f3434b\" y=\"216.819594\"/>\r\n     <use style=\"fill:#0000ff;stroke:#0000ff;\" x=\"168.757669\" xlink:href=\"#m9df6f3434b\" y=\"223.240374\"/>\r\n     <use style=\"fill:#0000ff;stroke:#0000ff;\" x=\"172.139485\" xlink:href=\"#m9df6f3434b\" y=\"217.654349\"/>\r\n     <use style=\"fill:#0000ff;stroke:#0000ff;\" x=\"175.521305\" xlink:href=\"#m9df6f3434b\" y=\"221.897829\"/>\r\n     <use style=\"fill:#0000ff;stroke:#0000ff;\" x=\"178.903122\" xlink:href=\"#m9df6f3434b\" y=\"222.965976\"/>\r\n     <use style=\"fill:#0000ff;stroke:#0000ff;\" x=\"182.28494\" xlink:href=\"#m9df6f3434b\" y=\"221.371829\"/>\r\n     <use style=\"fill:#0000ff;stroke:#0000ff;\" x=\"185.666759\" xlink:href=\"#m9df6f3434b\" y=\"227.13838\"/>\r\n     <use style=\"fill:#0000ff;stroke:#0000ff;\" x=\"189.048576\" xlink:href=\"#m9df6f3434b\" y=\"222.452989\"/>\r\n     <use style=\"fill:#0000ff;stroke:#0000ff;\" x=\"192.430403\" xlink:href=\"#m9df6f3434b\" y=\"218.449472\"/>\r\n     <use style=\"fill:#0000ff;stroke:#0000ff;\" x=\"195.812221\" xlink:href=\"#m9df6f3434b\" y=\"221.9118\"/>\r\n     <use style=\"fill:#0000ff;stroke:#0000ff;\" x=\"199.194039\" xlink:href=\"#m9df6f3434b\" y=\"223.584499\"/>\r\n     <use style=\"fill:#0000ff;stroke:#0000ff;\" x=\"202.575857\" xlink:href=\"#m9df6f3434b\" y=\"220.376507\"/>\r\n     <use style=\"fill:#0000ff;stroke:#0000ff;\" x=\"205.957675\" xlink:href=\"#m9df6f3434b\" y=\"223.062803\"/>\r\n     <use style=\"fill:#0000ff;stroke:#0000ff;\" x=\"209.339493\" xlink:href=\"#m9df6f3434b\" y=\"223.939745\"/>\r\n     <use style=\"fill:#0000ff;stroke:#0000ff;\" x=\"212.721312\" xlink:href=\"#m9df6f3434b\" y=\"220.338338\"/>\r\n     <use style=\"fill:#0000ff;stroke:#0000ff;\" x=\"216.103129\" xlink:href=\"#m9df6f3434b\" y=\"220.413496\"/>\r\n     <use style=\"fill:#0000ff;stroke:#0000ff;\" x=\"219.484945\" xlink:href=\"#m9df6f3434b\" y=\"218.129842\"/>\r\n     <use style=\"fill:#0000ff;stroke:#0000ff;\" x=\"222.866765\" xlink:href=\"#m9df6f3434b\" y=\"220.686507\"/>\r\n     <use style=\"fill:#0000ff;stroke:#0000ff;\" x=\"226.248581\" xlink:href=\"#m9df6f3434b\" y=\"213.788394\"/>\r\n     <use style=\"fill:#0000ff;stroke:#0000ff;\" x=\"229.6304\" xlink:href=\"#m9df6f3434b\" y=\"213.348128\"/>\r\n     <use style=\"fill:#0000ff;stroke:#0000ff;\" x=\"233.012217\" xlink:href=\"#m9df6f3434b\" y=\"217.797316\"/>\r\n     <use style=\"fill:#0000ff;stroke:#0000ff;\" x=\"236.394036\" xlink:href=\"#m9df6f3434b\" y=\"212.324358\"/>\r\n     <use style=\"fill:#0000ff;stroke:#0000ff;\" x=\"239.775855\" xlink:href=\"#m9df6f3434b\" y=\"211.799642\"/>\r\n     <use style=\"fill:#0000ff;stroke:#0000ff;\" x=\"243.157672\" xlink:href=\"#m9df6f3434b\" y=\"206.271265\"/>\r\n     <use style=\"fill:#0000ff;stroke:#0000ff;\" x=\"246.539488\" xlink:href=\"#m9df6f3434b\" y=\"204.467315\"/>\r\n     <use style=\"fill:#0000ff;stroke:#0000ff;\" x=\"249.921305\" xlink:href=\"#m9df6f3434b\" y=\"204.196883\"/>\r\n     <use style=\"fill:#0000ff;stroke:#0000ff;\" x=\"253.303127\" xlink:href=\"#m9df6f3434b\" y=\"201.865987\"/>\r\n     <use style=\"fill:#0000ff;stroke:#0000ff;\" x=\"256.684943\" xlink:href=\"#m9df6f3434b\" y=\"201.338731\"/>\r\n     <use style=\"fill:#0000ff;stroke:#0000ff;\" x=\"260.06676\" xlink:href=\"#m9df6f3434b\" y=\"201.986947\"/>\r\n     <use style=\"fill:#0000ff;stroke:#0000ff;\" x=\"263.448577\" xlink:href=\"#m9df6f3434b\" y=\"200.771544\"/>\r\n     <use style=\"fill:#0000ff;stroke:#0000ff;\" x=\"266.830398\" xlink:href=\"#m9df6f3434b\" y=\"190.190904\"/>\r\n     <use style=\"fill:#0000ff;stroke:#0000ff;\" x=\"270.212215\" xlink:href=\"#m9df6f3434b\" y=\"189.937424\"/>\r\n     <use style=\"fill:#0000ff;stroke:#0000ff;\" x=\"273.594031\" xlink:href=\"#m9df6f3434b\" y=\"193.486691\"/>\r\n     <use style=\"fill:#0000ff;stroke:#0000ff;\" x=\"276.975848\" xlink:href=\"#m9df6f3434b\" y=\"184.536578\"/>\r\n     <use style=\"fill:#0000ff;stroke:#0000ff;\" x=\"280.35767\" xlink:href=\"#m9df6f3434b\" y=\"184.736234\"/>\r\n     <use style=\"fill:#0000ff;stroke:#0000ff;\" x=\"283.739486\" xlink:href=\"#m9df6f3434b\" y=\"184.667906\"/>\r\n     <use style=\"fill:#0000ff;stroke:#0000ff;\" x=\"287.121308\" xlink:href=\"#m9df6f3434b\" y=\"171.047955\"/>\r\n     <use style=\"fill:#0000ff;stroke:#0000ff;\" x=\"290.503119\" xlink:href=\"#m9df6f3434b\" y=\"172.074214\"/>\r\n     <use style=\"fill:#0000ff;stroke:#0000ff;\" x=\"293.884941\" xlink:href=\"#m9df6f3434b\" y=\"166.912008\"/>\r\n     <use style=\"fill:#0000ff;stroke:#0000ff;\" x=\"297.266753\" xlink:href=\"#m9df6f3434b\" y=\"165.169011\"/>\r\n     <use style=\"fill:#0000ff;stroke:#0000ff;\" x=\"300.648574\" xlink:href=\"#m9df6f3434b\" y=\"165.711859\"/>\r\n     <use style=\"fill:#0000ff;stroke:#0000ff;\" x=\"304.030396\" xlink:href=\"#m9df6f3434b\" y=\"151.95616\"/>\r\n     <use style=\"fill:#0000ff;stroke:#0000ff;\" x=\"307.412208\" xlink:href=\"#m9df6f3434b\" y=\"154.582838\"/>\r\n     <use style=\"fill:#0000ff;stroke:#0000ff;\" x=\"310.794029\" xlink:href=\"#m9df6f3434b\" y=\"153.63473\"/>\r\n     <use style=\"fill:#0000ff;stroke:#0000ff;\" x=\"314.175851\" xlink:href=\"#m9df6f3434b\" y=\"138.874559\"/>\r\n     <use style=\"fill:#0000ff;stroke:#0000ff;\" x=\"317.557662\" xlink:href=\"#m9df6f3434b\" y=\"141.457184\"/>\r\n     <use style=\"fill:#0000ff;stroke:#0000ff;\" x=\"320.939484\" xlink:href=\"#m9df6f3434b\" y=\"137.242516\"/>\r\n     <use style=\"fill:#0000ff;stroke:#0000ff;\" x=\"324.321306\" xlink:href=\"#m9df6f3434b\" y=\"124.906166\"/>\r\n     <use style=\"fill:#0000ff;stroke:#0000ff;\" x=\"327.703127\" xlink:href=\"#m9df6f3434b\" y=\"121.449177\"/>\r\n     <use style=\"fill:#0000ff;stroke:#0000ff;\" x=\"331.084949\" xlink:href=\"#m9df6f3434b\" y=\"122.790569\"/>\r\n     <use style=\"fill:#0000ff;stroke:#0000ff;\" x=\"334.46676\" xlink:href=\"#m9df6f3434b\" y=\"114.493572\"/>\r\n     <use style=\"fill:#0000ff;stroke:#0000ff;\" x=\"337.848582\" xlink:href=\"#m9df6f3434b\" y=\"111.373892\"/>\r\n     <use style=\"fill:#0000ff;stroke:#0000ff;\" x=\"341.230404\" xlink:href=\"#m9df6f3434b\" y=\"98.507628\"/>\r\n     <use style=\"fill:#0000ff;stroke:#0000ff;\" x=\"344.612215\" xlink:href=\"#m9df6f3434b\" y=\"101.956918\"/>\r\n     <use style=\"fill:#0000ff;stroke:#0000ff;\" x=\"347.994037\" xlink:href=\"#m9df6f3434b\" y=\"94.705763\"/>\r\n     <use style=\"fill:#0000ff;stroke:#0000ff;\" x=\"351.375859\" xlink:href=\"#m9df6f3434b\" y=\"87.377156\"/>\r\n     <use style=\"fill:#0000ff;stroke:#0000ff;\" x=\"354.75767\" xlink:href=\"#m9df6f3434b\" y=\"82.469454\"/>\r\n     <use style=\"fill:#0000ff;stroke:#0000ff;\" x=\"358.139492\" xlink:href=\"#m9df6f3434b\" y=\"68.284155\"/>\r\n     <use style=\"fill:#0000ff;stroke:#0000ff;\" x=\"361.521303\" xlink:href=\"#m9df6f3434b\" y=\"69.564491\"/>\r\n     <use style=\"fill:#0000ff;stroke:#0000ff;\" x=\"364.903125\" xlink:href=\"#m9df6f3434b\" y=\"61.057547\"/>\r\n    </g>\r\n   </g>\r\n   <g id=\"matplotlib.axis_1\">\r\n    <g id=\"xtick_1\">\r\n     <g id=\"line2d_1\">\r\n      <defs>\r\n       <path d=\"M 0 0 \r\nL 0 3.5 \r\n\" id=\"mcbdf924258\" style=\"stroke:#000000;stroke-width:0.8;\"/>\r\n      </defs>\r\n      <g>\r\n       <use style=\"stroke:#000000;stroke-width:0.8;\" x=\"30.103125\" xlink:href=\"#mcbdf924258\" y=\"228.439219\"/>\r\n      </g>\r\n     </g>\r\n     <g id=\"text_1\">\r\n      <!-- −1.00 -->\r\n      <g transform=\"translate(14.780469 243.037656)scale(0.1 -0.1)\">\r\n       <defs>\r\n        <path d=\"M 10.59375 35.5 \r\nL 73.1875 35.5 \r\nL 73.1875 27.203125 \r\nL 10.59375 27.203125 \r\nz\r\n\" id=\"DejaVuSans-8722\"/>\r\n        <path d=\"M 12.40625 8.296875 \r\nL 28.515625 8.296875 \r\nL 28.515625 63.921875 \r\nL 10.984375 60.40625 \r\nL 10.984375 69.390625 \r\nL 28.421875 72.90625 \r\nL 38.28125 72.90625 \r\nL 38.28125 8.296875 \r\nL 54.390625 8.296875 \r\nL 54.390625 0 \r\nL 12.40625 0 \r\nz\r\n\" id=\"DejaVuSans-49\"/>\r\n        <path d=\"M 10.6875 12.40625 \r\nL 21 12.40625 \r\nL 21 0 \r\nL 10.6875 0 \r\nz\r\n\" id=\"DejaVuSans-46\"/>\r\n        <path d=\"M 31.78125 66.40625 \r\nQ 24.171875 66.40625 20.328125 58.90625 \r\nQ 16.5 51.421875 16.5 36.375 \r\nQ 16.5 21.390625 20.328125 13.890625 \r\nQ 24.171875 6.390625 31.78125 6.390625 \r\nQ 39.453125 6.390625 43.28125 13.890625 \r\nQ 47.125 21.390625 47.125 36.375 \r\nQ 47.125 51.421875 43.28125 58.90625 \r\nQ 39.453125 66.40625 31.78125 66.40625 \r\nz\r\nM 31.78125 74.21875 \r\nQ 44.046875 74.21875 50.515625 64.515625 \r\nQ 56.984375 54.828125 56.984375 36.375 \r\nQ 56.984375 17.96875 50.515625 8.265625 \r\nQ 44.046875 -1.421875 31.78125 -1.421875 \r\nQ 19.53125 -1.421875 13.0625 8.265625 \r\nQ 6.59375 17.96875 6.59375 36.375 \r\nQ 6.59375 54.828125 13.0625 64.515625 \r\nQ 19.53125 74.21875 31.78125 74.21875 \r\nz\r\n\" id=\"DejaVuSans-48\"/>\r\n       </defs>\r\n       <use xlink:href=\"#DejaVuSans-8722\"/>\r\n       <use x=\"83.789062\" xlink:href=\"#DejaVuSans-49\"/>\r\n       <use x=\"147.412109\" xlink:href=\"#DejaVuSans-46\"/>\r\n       <use x=\"179.199219\" xlink:href=\"#DejaVuSans-48\"/>\r\n       <use x=\"242.822266\" xlink:href=\"#DejaVuSans-48\"/>\r\n      </g>\r\n     </g>\r\n    </g>\r\n    <g id=\"xtick_2\">\r\n     <g id=\"line2d_2\">\r\n      <g>\r\n       <use style=\"stroke:#000000;stroke-width:0.8;\" x=\"71.953125\" xlink:href=\"#mcbdf924258\" y=\"228.439219\"/>\r\n      </g>\r\n     </g>\r\n     <g id=\"text_2\">\r\n      <!-- −0.75 -->\r\n      <g transform=\"translate(56.630469 243.037656)scale(0.1 -0.1)\">\r\n       <defs>\r\n        <path d=\"M 8.203125 72.90625 \r\nL 55.078125 72.90625 \r\nL 55.078125 68.703125 \r\nL 28.609375 0 \r\nL 18.3125 0 \r\nL 43.21875 64.59375 \r\nL 8.203125 64.59375 \r\nz\r\n\" id=\"DejaVuSans-55\"/>\r\n        <path d=\"M 10.796875 72.90625 \r\nL 49.515625 72.90625 \r\nL 49.515625 64.59375 \r\nL 19.828125 64.59375 \r\nL 19.828125 46.734375 \r\nQ 21.96875 47.46875 24.109375 47.828125 \r\nQ 26.265625 48.1875 28.421875 48.1875 \r\nQ 40.625 48.1875 47.75 41.5 \r\nQ 54.890625 34.8125 54.890625 23.390625 \r\nQ 54.890625 11.625 47.5625 5.09375 \r\nQ 40.234375 -1.421875 26.90625 -1.421875 \r\nQ 22.3125 -1.421875 17.546875 -0.640625 \r\nQ 12.796875 0.140625 7.71875 1.703125 \r\nL 7.71875 11.625 \r\nQ 12.109375 9.234375 16.796875 8.0625 \r\nQ 21.484375 6.890625 26.703125 6.890625 \r\nQ 35.15625 6.890625 40.078125 11.328125 \r\nQ 45.015625 15.765625 45.015625 23.390625 \r\nQ 45.015625 31 40.078125 35.4375 \r\nQ 35.15625 39.890625 26.703125 39.890625 \r\nQ 22.75 39.890625 18.8125 39.015625 \r\nQ 14.890625 38.140625 10.796875 36.28125 \r\nz\r\n\" id=\"DejaVuSans-53\"/>\r\n       </defs>\r\n       <use xlink:href=\"#DejaVuSans-8722\"/>\r\n       <use x=\"83.789062\" xlink:href=\"#DejaVuSans-48\"/>\r\n       <use x=\"147.412109\" xlink:href=\"#DejaVuSans-46\"/>\r\n       <use x=\"179.199219\" xlink:href=\"#DejaVuSans-55\"/>\r\n       <use x=\"242.822266\" xlink:href=\"#DejaVuSans-53\"/>\r\n      </g>\r\n     </g>\r\n    </g>\r\n    <g id=\"xtick_3\">\r\n     <g id=\"line2d_3\">\r\n      <g>\r\n       <use style=\"stroke:#000000;stroke-width:0.8;\" x=\"113.803125\" xlink:href=\"#mcbdf924258\" y=\"228.439219\"/>\r\n      </g>\r\n     </g>\r\n     <g id=\"text_3\">\r\n      <!-- −0.50 -->\r\n      <g transform=\"translate(98.480469 243.037656)scale(0.1 -0.1)\">\r\n       <use xlink:href=\"#DejaVuSans-8722\"/>\r\n       <use x=\"83.789062\" xlink:href=\"#DejaVuSans-48\"/>\r\n       <use x=\"147.412109\" xlink:href=\"#DejaVuSans-46\"/>\r\n       <use x=\"179.199219\" xlink:href=\"#DejaVuSans-53\"/>\r\n       <use x=\"242.822266\" xlink:href=\"#DejaVuSans-48\"/>\r\n      </g>\r\n     </g>\r\n    </g>\r\n    <g id=\"xtick_4\">\r\n     <g id=\"line2d_4\">\r\n      <g>\r\n       <use style=\"stroke:#000000;stroke-width:0.8;\" x=\"155.653125\" xlink:href=\"#mcbdf924258\" y=\"228.439219\"/>\r\n      </g>\r\n     </g>\r\n     <g id=\"text_4\">\r\n      <!-- −0.25 -->\r\n      <g transform=\"translate(140.330469 243.037656)scale(0.1 -0.1)\">\r\n       <defs>\r\n        <path d=\"M 19.1875 8.296875 \r\nL 53.609375 8.296875 \r\nL 53.609375 0 \r\nL 7.328125 0 \r\nL 7.328125 8.296875 \r\nQ 12.9375 14.109375 22.625 23.890625 \r\nQ 32.328125 33.6875 34.8125 36.53125 \r\nQ 39.546875 41.84375 41.421875 45.53125 \r\nQ 43.3125 49.21875 43.3125 52.78125 \r\nQ 43.3125 58.59375 39.234375 62.25 \r\nQ 35.15625 65.921875 28.609375 65.921875 \r\nQ 23.96875 65.921875 18.8125 64.3125 \r\nQ 13.671875 62.703125 7.8125 59.421875 \r\nL 7.8125 69.390625 \r\nQ 13.765625 71.78125 18.9375 73 \r\nQ 24.125 74.21875 28.421875 74.21875 \r\nQ 39.75 74.21875 46.484375 68.546875 \r\nQ 53.21875 62.890625 53.21875 53.421875 \r\nQ 53.21875 48.921875 51.53125 44.890625 \r\nQ 49.859375 40.875 45.40625 35.40625 \r\nQ 44.1875 33.984375 37.640625 27.21875 \r\nQ 31.109375 20.453125 19.1875 8.296875 \r\nz\r\n\" id=\"DejaVuSans-50\"/>\r\n       </defs>\r\n       <use xlink:href=\"#DejaVuSans-8722\"/>\r\n       <use x=\"83.789062\" xlink:href=\"#DejaVuSans-48\"/>\r\n       <use x=\"147.412109\" xlink:href=\"#DejaVuSans-46\"/>\r\n       <use x=\"179.199219\" xlink:href=\"#DejaVuSans-50\"/>\r\n       <use x=\"242.822266\" xlink:href=\"#DejaVuSans-53\"/>\r\n      </g>\r\n     </g>\r\n    </g>\r\n    <g id=\"xtick_5\">\r\n     <g id=\"line2d_5\">\r\n      <g>\r\n       <use style=\"stroke:#000000;stroke-width:0.8;\" x=\"197.503125\" xlink:href=\"#mcbdf924258\" y=\"228.439219\"/>\r\n      </g>\r\n     </g>\r\n     <g id=\"text_5\">\r\n      <!-- 0.00 -->\r\n      <g transform=\"translate(186.370313 243.037656)scale(0.1 -0.1)\">\r\n       <use xlink:href=\"#DejaVuSans-48\"/>\r\n       <use x=\"63.623047\" xlink:href=\"#DejaVuSans-46\"/>\r\n       <use x=\"95.410156\" xlink:href=\"#DejaVuSans-48\"/>\r\n       <use x=\"159.033203\" xlink:href=\"#DejaVuSans-48\"/>\r\n      </g>\r\n     </g>\r\n    </g>\r\n    <g id=\"xtick_6\">\r\n     <g id=\"line2d_6\">\r\n      <g>\r\n       <use style=\"stroke:#000000;stroke-width:0.8;\" x=\"239.353125\" xlink:href=\"#mcbdf924258\" y=\"228.439219\"/>\r\n      </g>\r\n     </g>\r\n     <g id=\"text_6\">\r\n      <!-- 0.25 -->\r\n      <g transform=\"translate(228.220313 243.037656)scale(0.1 -0.1)\">\r\n       <use xlink:href=\"#DejaVuSans-48\"/>\r\n       <use x=\"63.623047\" xlink:href=\"#DejaVuSans-46\"/>\r\n       <use x=\"95.410156\" xlink:href=\"#DejaVuSans-50\"/>\r\n       <use x=\"159.033203\" xlink:href=\"#DejaVuSans-53\"/>\r\n      </g>\r\n     </g>\r\n    </g>\r\n    <g id=\"xtick_7\">\r\n     <g id=\"line2d_7\">\r\n      <g>\r\n       <use style=\"stroke:#000000;stroke-width:0.8;\" x=\"281.203125\" xlink:href=\"#mcbdf924258\" y=\"228.439219\"/>\r\n      </g>\r\n     </g>\r\n     <g id=\"text_7\">\r\n      <!-- 0.50 -->\r\n      <g transform=\"translate(270.070313 243.037656)scale(0.1 -0.1)\">\r\n       <use xlink:href=\"#DejaVuSans-48\"/>\r\n       <use x=\"63.623047\" xlink:href=\"#DejaVuSans-46\"/>\r\n       <use x=\"95.410156\" xlink:href=\"#DejaVuSans-53\"/>\r\n       <use x=\"159.033203\" xlink:href=\"#DejaVuSans-48\"/>\r\n      </g>\r\n     </g>\r\n    </g>\r\n    <g id=\"xtick_8\">\r\n     <g id=\"line2d_8\">\r\n      <g>\r\n       <use style=\"stroke:#000000;stroke-width:0.8;\" x=\"323.053125\" xlink:href=\"#mcbdf924258\" y=\"228.439219\"/>\r\n      </g>\r\n     </g>\r\n     <g id=\"text_8\">\r\n      <!-- 0.75 -->\r\n      <g transform=\"translate(311.920313 243.037656)scale(0.1 -0.1)\">\r\n       <use xlink:href=\"#DejaVuSans-48\"/>\r\n       <use x=\"63.623047\" xlink:href=\"#DejaVuSans-46\"/>\r\n       <use x=\"95.410156\" xlink:href=\"#DejaVuSans-55\"/>\r\n       <use x=\"159.033203\" xlink:href=\"#DejaVuSans-53\"/>\r\n      </g>\r\n     </g>\r\n    </g>\r\n    <g id=\"xtick_9\">\r\n     <g id=\"line2d_9\">\r\n      <g>\r\n       <use style=\"stroke:#000000;stroke-width:0.8;\" x=\"364.903125\" xlink:href=\"#mcbdf924258\" y=\"228.439219\"/>\r\n      </g>\r\n     </g>\r\n     <g id=\"text_9\">\r\n      <!-- 1.00 -->\r\n      <g transform=\"translate(353.770313 243.037656)scale(0.1 -0.1)\">\r\n       <use xlink:href=\"#DejaVuSans-49\"/>\r\n       <use x=\"63.623047\" xlink:href=\"#DejaVuSans-46\"/>\r\n       <use x=\"95.410156\" xlink:href=\"#DejaVuSans-48\"/>\r\n       <use x=\"159.033203\" xlink:href=\"#DejaVuSans-48\"/>\r\n      </g>\r\n     </g>\r\n    </g>\r\n   </g>\r\n   <g id=\"matplotlib.axis_2\">\r\n    <g id=\"ytick_1\">\r\n     <g id=\"line2d_10\">\r\n      <defs>\r\n       <path d=\"M 0 0 \r\nL -3.5 0 \r\n\" id=\"md63ff36d3d\" style=\"stroke:#000000;stroke-width:0.8;\"/>\r\n      </defs>\r\n      <g>\r\n       <use style=\"stroke:#000000;stroke-width:0.8;\" x=\"30.103125\" xlink:href=\"#md63ff36d3d\" y=\"228.439219\"/>\r\n      </g>\r\n     </g>\r\n     <g id=\"text_10\">\r\n      <!-- 2.0 -->\r\n      <g transform=\"translate(7.2 232.238437)scale(0.1 -0.1)\">\r\n       <use xlink:href=\"#DejaVuSans-50\"/>\r\n       <use x=\"63.623047\" xlink:href=\"#DejaVuSans-46\"/>\r\n       <use x=\"95.410156\" xlink:href=\"#DejaVuSans-48\"/>\r\n      </g>\r\n     </g>\r\n    </g>\r\n    <g id=\"ytick_2\">\r\n     <g id=\"line2d_11\">\r\n      <g>\r\n       <use style=\"stroke:#000000;stroke-width:0.8;\" x=\"30.103125\" xlink:href=\"#md63ff36d3d\" y=\"201.259219\"/>\r\n      </g>\r\n     </g>\r\n     <g id=\"text_11\">\r\n      <!-- 2.5 -->\r\n      <g transform=\"translate(7.2 205.058437)scale(0.1 -0.1)\">\r\n       <use xlink:href=\"#DejaVuSans-50\"/>\r\n       <use x=\"63.623047\" xlink:href=\"#DejaVuSans-46\"/>\r\n       <use x=\"95.410156\" xlink:href=\"#DejaVuSans-53\"/>\r\n      </g>\r\n     </g>\r\n    </g>\r\n    <g id=\"ytick_3\">\r\n     <g id=\"line2d_12\">\r\n      <g>\r\n       <use style=\"stroke:#000000;stroke-width:0.8;\" x=\"30.103125\" xlink:href=\"#md63ff36d3d\" y=\"174.079219\"/>\r\n      </g>\r\n     </g>\r\n     <g id=\"text_12\">\r\n      <!-- 3.0 -->\r\n      <g transform=\"translate(7.2 177.878437)scale(0.1 -0.1)\">\r\n       <defs>\r\n        <path d=\"M 40.578125 39.3125 \r\nQ 47.65625 37.796875 51.625 33 \r\nQ 55.609375 28.21875 55.609375 21.1875 \r\nQ 55.609375 10.40625 48.1875 4.484375 \r\nQ 40.765625 -1.421875 27.09375 -1.421875 \r\nQ 22.515625 -1.421875 17.65625 -0.515625 \r\nQ 12.796875 0.390625 7.625 2.203125 \r\nL 7.625 11.71875 \r\nQ 11.71875 9.328125 16.59375 8.109375 \r\nQ 21.484375 6.890625 26.8125 6.890625 \r\nQ 36.078125 6.890625 40.9375 10.546875 \r\nQ 45.796875 14.203125 45.796875 21.1875 \r\nQ 45.796875 27.640625 41.28125 31.265625 \r\nQ 36.765625 34.90625 28.71875 34.90625 \r\nL 20.21875 34.90625 \r\nL 20.21875 43.015625 \r\nL 29.109375 43.015625 \r\nQ 36.375 43.015625 40.234375 45.921875 \r\nQ 44.09375 48.828125 44.09375 54.296875 \r\nQ 44.09375 59.90625 40.109375 62.90625 \r\nQ 36.140625 65.921875 28.71875 65.921875 \r\nQ 24.65625 65.921875 20.015625 65.03125 \r\nQ 15.375 64.15625 9.8125 62.3125 \r\nL 9.8125 71.09375 \r\nQ 15.4375 72.65625 20.34375 73.4375 \r\nQ 25.25 74.21875 29.59375 74.21875 \r\nQ 40.828125 74.21875 47.359375 69.109375 \r\nQ 53.90625 64.015625 53.90625 55.328125 \r\nQ 53.90625 49.265625 50.4375 45.09375 \r\nQ 46.96875 40.921875 40.578125 39.3125 \r\nz\r\n\" id=\"DejaVuSans-51\"/>\r\n       </defs>\r\n       <use xlink:href=\"#DejaVuSans-51\"/>\r\n       <use x=\"63.623047\" xlink:href=\"#DejaVuSans-46\"/>\r\n       <use x=\"95.410156\" xlink:href=\"#DejaVuSans-48\"/>\r\n      </g>\r\n     </g>\r\n    </g>\r\n    <g id=\"ytick_4\">\r\n     <g id=\"line2d_13\">\r\n      <g>\r\n       <use style=\"stroke:#000000;stroke-width:0.8;\" x=\"30.103125\" xlink:href=\"#md63ff36d3d\" y=\"146.899219\"/>\r\n      </g>\r\n     </g>\r\n     <g id=\"text_13\">\r\n      <!-- 3.5 -->\r\n      <g transform=\"translate(7.2 150.698437)scale(0.1 -0.1)\">\r\n       <use xlink:href=\"#DejaVuSans-51\"/>\r\n       <use x=\"63.623047\" xlink:href=\"#DejaVuSans-46\"/>\r\n       <use x=\"95.410156\" xlink:href=\"#DejaVuSans-53\"/>\r\n      </g>\r\n     </g>\r\n    </g>\r\n    <g id=\"ytick_5\">\r\n     <g id=\"line2d_14\">\r\n      <g>\r\n       <use style=\"stroke:#000000;stroke-width:0.8;\" x=\"30.103125\" xlink:href=\"#md63ff36d3d\" y=\"119.719219\"/>\r\n      </g>\r\n     </g>\r\n     <g id=\"text_14\">\r\n      <!-- 4.0 -->\r\n      <g transform=\"translate(7.2 123.518437)scale(0.1 -0.1)\">\r\n       <defs>\r\n        <path d=\"M 37.796875 64.3125 \r\nL 12.890625 25.390625 \r\nL 37.796875 25.390625 \r\nz\r\nM 35.203125 72.90625 \r\nL 47.609375 72.90625 \r\nL 47.609375 25.390625 \r\nL 58.015625 25.390625 \r\nL 58.015625 17.1875 \r\nL 47.609375 17.1875 \r\nL 47.609375 0 \r\nL 37.796875 0 \r\nL 37.796875 17.1875 \r\nL 4.890625 17.1875 \r\nL 4.890625 26.703125 \r\nz\r\n\" id=\"DejaVuSans-52\"/>\r\n       </defs>\r\n       <use xlink:href=\"#DejaVuSans-52\"/>\r\n       <use x=\"63.623047\" xlink:href=\"#DejaVuSans-46\"/>\r\n       <use x=\"95.410156\" xlink:href=\"#DejaVuSans-48\"/>\r\n      </g>\r\n     </g>\r\n    </g>\r\n    <g id=\"ytick_6\">\r\n     <g id=\"line2d_15\">\r\n      <g>\r\n       <use style=\"stroke:#000000;stroke-width:0.8;\" x=\"30.103125\" xlink:href=\"#md63ff36d3d\" y=\"92.539219\"/>\r\n      </g>\r\n     </g>\r\n     <g id=\"text_15\">\r\n      <!-- 4.5 -->\r\n      <g transform=\"translate(7.2 96.338437)scale(0.1 -0.1)\">\r\n       <use xlink:href=\"#DejaVuSans-52\"/>\r\n       <use x=\"63.623047\" xlink:href=\"#DejaVuSans-46\"/>\r\n       <use x=\"95.410156\" xlink:href=\"#DejaVuSans-53\"/>\r\n      </g>\r\n     </g>\r\n    </g>\r\n    <g id=\"ytick_7\">\r\n     <g id=\"line2d_16\">\r\n      <g>\r\n       <use style=\"stroke:#000000;stroke-width:0.8;\" x=\"30.103125\" xlink:href=\"#md63ff36d3d\" y=\"65.359219\"/>\r\n      </g>\r\n     </g>\r\n     <g id=\"text_16\">\r\n      <!-- 5.0 -->\r\n      <g transform=\"translate(7.2 69.158437)scale(0.1 -0.1)\">\r\n       <use xlink:href=\"#DejaVuSans-53\"/>\r\n       <use x=\"63.623047\" xlink:href=\"#DejaVuSans-46\"/>\r\n       <use x=\"95.410156\" xlink:href=\"#DejaVuSans-48\"/>\r\n      </g>\r\n     </g>\r\n    </g>\r\n    <g id=\"ytick_8\">\r\n     <g id=\"line2d_17\">\r\n      <g>\r\n       <use style=\"stroke:#000000;stroke-width:0.8;\" x=\"30.103125\" xlink:href=\"#md63ff36d3d\" y=\"38.179219\"/>\r\n      </g>\r\n     </g>\r\n     <g id=\"text_17\">\r\n      <!-- 5.5 -->\r\n      <g transform=\"translate(7.2 41.978437)scale(0.1 -0.1)\">\r\n       <use xlink:href=\"#DejaVuSans-53\"/>\r\n       <use x=\"63.623047\" xlink:href=\"#DejaVuSans-46\"/>\r\n       <use x=\"95.410156\" xlink:href=\"#DejaVuSans-53\"/>\r\n      </g>\r\n     </g>\r\n    </g>\r\n    <g id=\"ytick_9\">\r\n     <g id=\"line2d_18\">\r\n      <g>\r\n       <use style=\"stroke:#000000;stroke-width:0.8;\" x=\"30.103125\" xlink:href=\"#md63ff36d3d\" y=\"10.999219\"/>\r\n      </g>\r\n     </g>\r\n     <g id=\"text_18\">\r\n      <!-- 6.0 -->\r\n      <g transform=\"translate(7.2 14.798437)scale(0.1 -0.1)\">\r\n       <defs>\r\n        <path d=\"M 33.015625 40.375 \r\nQ 26.375 40.375 22.484375 35.828125 \r\nQ 18.609375 31.296875 18.609375 23.390625 \r\nQ 18.609375 15.53125 22.484375 10.953125 \r\nQ 26.375 6.390625 33.015625 6.390625 \r\nQ 39.65625 6.390625 43.53125 10.953125 \r\nQ 47.40625 15.53125 47.40625 23.390625 \r\nQ 47.40625 31.296875 43.53125 35.828125 \r\nQ 39.65625 40.375 33.015625 40.375 \r\nz\r\nM 52.59375 71.296875 \r\nL 52.59375 62.3125 \r\nQ 48.875 64.0625 45.09375 64.984375 \r\nQ 41.3125 65.921875 37.59375 65.921875 \r\nQ 27.828125 65.921875 22.671875 59.328125 \r\nQ 17.53125 52.734375 16.796875 39.40625 \r\nQ 19.671875 43.65625 24.015625 45.921875 \r\nQ 28.375 48.1875 33.59375 48.1875 \r\nQ 44.578125 48.1875 50.953125 41.515625 \r\nQ 57.328125 34.859375 57.328125 23.390625 \r\nQ 57.328125 12.15625 50.6875 5.359375 \r\nQ 44.046875 -1.421875 33.015625 -1.421875 \r\nQ 20.359375 -1.421875 13.671875 8.265625 \r\nQ 6.984375 17.96875 6.984375 36.375 \r\nQ 6.984375 53.65625 15.1875 63.9375 \r\nQ 23.390625 74.21875 37.203125 74.21875 \r\nQ 40.921875 74.21875 44.703125 73.484375 \r\nQ 48.484375 72.75 52.59375 71.296875 \r\nz\r\n\" id=\"DejaVuSans-54\"/>\r\n       </defs>\r\n       <use xlink:href=\"#DejaVuSans-54\"/>\r\n       <use x=\"63.623047\" xlink:href=\"#DejaVuSans-46\"/>\r\n       <use x=\"95.410156\" xlink:href=\"#DejaVuSans-48\"/>\r\n      </g>\r\n     </g>\r\n    </g>\r\n   </g>\r\n   <g id=\"line2d_19\">\r\n    <path clip-path=\"url(#p89f96764f7)\" d=\"M 30.103125 61.04863 \r\nL 33.484947 67.494528 \r\nL 36.866758 73.8088 \r\nL 40.24858 79.991601 \r\nL 43.630401 86.042827 \r\nL 47.012213 91.962479 \r\nL 50.394035 97.750635 \r\nL 53.775856 103.407217 \r\nL 57.157668 108.93225 \r\nL 60.53949 114.325734 \r\nL 63.921301 119.587644 \r\nL 67.303123 124.718058 \r\nL 70.684944 129.716898 \r\nL 74.066756 134.584176 \r\nL 77.448578 139.319931 \r\nL 80.830389 143.924099 \r\nL 84.212211 148.396758 \r\nL 87.594032 152.737868 \r\nL 90.975844 156.947404 \r\nL 94.357666 161.025405 \r\nL 97.739487 164.97187 \r\nL 101.121299 168.786761 \r\nL 104.503121 172.470116 \r\nL 107.884942 176.021923 \r\nL 111.266764 179.442194 \r\nL 114.64858 182.730905 \r\nL 118.030402 185.888066 \r\nL 121.412219 188.91368 \r\nL 124.794035 191.807745 \r\nL 128.175852 194.570261 \r\nL 131.557673 197.201229 \r\nL 134.93949 199.700649 \r\nL 138.321307 202.068507 \r\nL 141.703123 204.30483 \r\nL 145.084945 206.409604 \r\nL 148.466762 208.382831 \r\nL 151.848578 210.224508 \r\nL 155.230395 211.934637 \r\nL 158.612216 213.513218 \r\nL 161.994033 214.960251 \r\nL 165.37585 216.275735 \r\nL 168.757669 217.45967 \r\nL 172.139485 218.512058 \r\nL 175.521305 219.432897 \r\nL 178.903122 220.222187 \r\nL 182.28494 220.879929 \r\nL 185.666759 221.406123 \r\nL 189.048576 221.800768 \r\nL 192.430403 222.063865 \r\nL 195.812221 222.195413 \r\nL 199.194039 222.195413 \r\nL 202.575857 222.063865 \r\nL 205.957675 221.800768 \r\nL 209.339493 221.406123 \r\nL 212.721312 220.879929 \r\nL 216.103129 220.222187 \r\nL 219.484945 219.432897 \r\nL 222.866765 218.512058 \r\nL 226.248581 217.45967 \r\nL 229.6304 216.275735 \r\nL 233.012217 214.960251 \r\nL 236.394036 213.513218 \r\nL 239.775855 211.934637 \r\nL 243.157672 210.224508 \r\nL 246.539488 208.382831 \r\nL 249.921305 206.409604 \r\nL 253.303127 204.30483 \r\nL 256.684943 202.068507 \r\nL 260.06676 199.700649 \r\nL 263.448577 197.201229 \r\nL 266.830398 194.570261 \r\nL 270.212215 191.807745 \r\nL 273.594031 188.91368 \r\nL 276.975848 185.888066 \r\nL 280.35767 182.730905 \r\nL 283.739486 179.442194 \r\nL 287.121308 176.021923 \r\nL 290.503119 172.470129 \r\nL 293.884941 168.786774 \r\nL 297.266753 164.97187 \r\nL 300.648574 161.025418 \r\nL 304.030396 156.947417 \r\nL 307.412208 152.737868 \r\nL 310.794029 148.396771 \r\nL 314.175851 143.924125 \r\nL 317.557662 139.319931 \r\nL 320.939484 134.584188 \r\nL 324.321306 129.716898 \r\nL 327.703127 124.718058 \r\nL 331.084949 119.587644 \r\nL 334.46676 114.325734 \r\nL 337.848582 108.93225 \r\nL 341.230404 103.407217 \r\nL 344.612215 97.750635 \r\nL 347.994037 91.962479 \r\nL 351.375859 86.042827 \r\nL 354.75767 79.991601 \r\nL 358.139492 73.8088 \r\nL 361.521303 67.494528 \r\nL 364.903125 61.04863 \r\n\" style=\"fill:none;stroke:#ff0000;stroke-linecap:square;stroke-width:1.5;\"/>\r\n   </g>\r\n   <g id=\"patch_3\">\r\n    <path d=\"M 30.103125 228.439219 \r\nL 30.103125 10.999219 \r\n\" style=\"fill:none;stroke:#000000;stroke-linecap:square;stroke-linejoin:miter;stroke-width:0.8;\"/>\r\n   </g>\r\n   <g id=\"patch_4\">\r\n    <path d=\"M 364.903125 228.439219 \r\nL 364.903125 10.999219 \r\n\" style=\"fill:none;stroke:#000000;stroke-linecap:square;stroke-linejoin:miter;stroke-width:0.8;\"/>\r\n   </g>\r\n   <g id=\"patch_5\">\r\n    <path d=\"M 30.103125 228.439219 \r\nL 364.903125 228.439219 \r\n\" style=\"fill:none;stroke:#000000;stroke-linecap:square;stroke-linejoin:miter;stroke-width:0.8;\"/>\r\n   </g>\r\n   <g id=\"patch_6\">\r\n    <path d=\"M 30.103125 10.999219 \r\nL 364.903125 10.999219 \r\n\" style=\"fill:none;stroke:#000000;stroke-linecap:square;stroke-linejoin:miter;stroke-width:0.8;\"/>\r\n   </g>\r\n   <g id=\"legend_1\">\r\n    <g id=\"patch_7\">\r\n     <path d=\"M 290.970313 48.355469 \r\nL 357.903125 48.355469 \r\nQ 359.903125 48.355469 359.903125 46.355469 \r\nL 359.903125 17.999219 \r\nQ 359.903125 15.999219 357.903125 15.999219 \r\nL 290.970313 15.999219 \r\nQ 288.970313 15.999219 288.970313 17.999219 \r\nL 288.970313 46.355469 \r\nQ 288.970313 48.355469 290.970313 48.355469 \r\nz\r\n\" style=\"fill:#ffffff;opacity:0.8;stroke:#cccccc;stroke-linejoin:miter;\"/>\r\n    </g>\r\n    <g id=\"line2d_20\">\r\n     <path d=\"M 292.970313 24.097656 \r\nL 312.970313 24.097656 \r\n\" style=\"fill:none;stroke:#ff0000;stroke-linecap:square;stroke-width:1.5;\"/>\r\n    </g>\r\n    <g id=\"line2d_21\"/>\r\n    <g id=\"text_19\">\r\n     <!-- predict -->\r\n     <g transform=\"translate(320.970313 27.597656)scale(0.1 -0.1)\">\r\n      <defs>\r\n       <path d=\"M 18.109375 8.203125 \r\nL 18.109375 -20.796875 \r\nL 9.078125 -20.796875 \r\nL 9.078125 54.6875 \r\nL 18.109375 54.6875 \r\nL 18.109375 46.390625 \r\nQ 20.953125 51.265625 25.265625 53.625 \r\nQ 29.59375 56 35.59375 56 \r\nQ 45.5625 56 51.78125 48.09375 \r\nQ 58.015625 40.1875 58.015625 27.296875 \r\nQ 58.015625 14.40625 51.78125 6.484375 \r\nQ 45.5625 -1.421875 35.59375 -1.421875 \r\nQ 29.59375 -1.421875 25.265625 0.953125 \r\nQ 20.953125 3.328125 18.109375 8.203125 \r\nz\r\nM 48.6875 27.296875 \r\nQ 48.6875 37.203125 44.609375 42.84375 \r\nQ 40.53125 48.484375 33.40625 48.484375 \r\nQ 26.265625 48.484375 22.1875 42.84375 \r\nQ 18.109375 37.203125 18.109375 27.296875 \r\nQ 18.109375 17.390625 22.1875 11.75 \r\nQ 26.265625 6.109375 33.40625 6.109375 \r\nQ 40.53125 6.109375 44.609375 11.75 \r\nQ 48.6875 17.390625 48.6875 27.296875 \r\nz\r\n\" id=\"DejaVuSans-112\"/>\r\n       <path d=\"M 41.109375 46.296875 \r\nQ 39.59375 47.171875 37.8125 47.578125 \r\nQ 36.03125 48 33.890625 48 \r\nQ 26.265625 48 22.1875 43.046875 \r\nQ 18.109375 38.09375 18.109375 28.8125 \r\nL 18.109375 0 \r\nL 9.078125 0 \r\nL 9.078125 54.6875 \r\nL 18.109375 54.6875 \r\nL 18.109375 46.1875 \r\nQ 20.953125 51.171875 25.484375 53.578125 \r\nQ 30.03125 56 36.53125 56 \r\nQ 37.453125 56 38.578125 55.875 \r\nQ 39.703125 55.765625 41.0625 55.515625 \r\nz\r\n\" id=\"DejaVuSans-114\"/>\r\n       <path d=\"M 56.203125 29.59375 \r\nL 56.203125 25.203125 \r\nL 14.890625 25.203125 \r\nQ 15.484375 15.921875 20.484375 11.0625 \r\nQ 25.484375 6.203125 34.421875 6.203125 \r\nQ 39.59375 6.203125 44.453125 7.46875 \r\nQ 49.3125 8.734375 54.109375 11.28125 \r\nL 54.109375 2.78125 \r\nQ 49.265625 0.734375 44.1875 -0.34375 \r\nQ 39.109375 -1.421875 33.890625 -1.421875 \r\nQ 20.796875 -1.421875 13.15625 6.1875 \r\nQ 5.515625 13.8125 5.515625 26.8125 \r\nQ 5.515625 40.234375 12.765625 48.109375 \r\nQ 20.015625 56 32.328125 56 \r\nQ 43.359375 56 49.78125 48.890625 \r\nQ 56.203125 41.796875 56.203125 29.59375 \r\nz\r\nM 47.21875 32.234375 \r\nQ 47.125 39.59375 43.09375 43.984375 \r\nQ 39.0625 48.390625 32.421875 48.390625 \r\nQ 24.90625 48.390625 20.390625 44.140625 \r\nQ 15.875 39.890625 15.1875 32.171875 \r\nz\r\n\" id=\"DejaVuSans-101\"/>\r\n       <path d=\"M 45.40625 46.390625 \r\nL 45.40625 75.984375 \r\nL 54.390625 75.984375 \r\nL 54.390625 0 \r\nL 45.40625 0 \r\nL 45.40625 8.203125 \r\nQ 42.578125 3.328125 38.25 0.953125 \r\nQ 33.9375 -1.421875 27.875 -1.421875 \r\nQ 17.96875 -1.421875 11.734375 6.484375 \r\nQ 5.515625 14.40625 5.515625 27.296875 \r\nQ 5.515625 40.1875 11.734375 48.09375 \r\nQ 17.96875 56 27.875 56 \r\nQ 33.9375 56 38.25 53.625 \r\nQ 42.578125 51.265625 45.40625 46.390625 \r\nz\r\nM 14.796875 27.296875 \r\nQ 14.796875 17.390625 18.875 11.75 \r\nQ 22.953125 6.109375 30.078125 6.109375 \r\nQ 37.203125 6.109375 41.296875 11.75 \r\nQ 45.40625 17.390625 45.40625 27.296875 \r\nQ 45.40625 37.203125 41.296875 42.84375 \r\nQ 37.203125 48.484375 30.078125 48.484375 \r\nQ 22.953125 48.484375 18.875 42.84375 \r\nQ 14.796875 37.203125 14.796875 27.296875 \r\nz\r\n\" id=\"DejaVuSans-100\"/>\r\n       <path d=\"M 9.421875 54.6875 \r\nL 18.40625 54.6875 \r\nL 18.40625 0 \r\nL 9.421875 0 \r\nz\r\nM 9.421875 75.984375 \r\nL 18.40625 75.984375 \r\nL 18.40625 64.59375 \r\nL 9.421875 64.59375 \r\nz\r\n\" id=\"DejaVuSans-105\"/>\r\n       <path d=\"M 48.78125 52.59375 \r\nL 48.78125 44.1875 \r\nQ 44.96875 46.296875 41.140625 47.34375 \r\nQ 37.3125 48.390625 33.40625 48.390625 \r\nQ 24.65625 48.390625 19.8125 42.84375 \r\nQ 14.984375 37.3125 14.984375 27.296875 \r\nQ 14.984375 17.28125 19.8125 11.734375 \r\nQ 24.65625 6.203125 33.40625 6.203125 \r\nQ 37.3125 6.203125 41.140625 7.25 \r\nQ 44.96875 8.296875 48.78125 10.40625 \r\nL 48.78125 2.09375 \r\nQ 45.015625 0.34375 40.984375 -0.53125 \r\nQ 36.96875 -1.421875 32.421875 -1.421875 \r\nQ 20.0625 -1.421875 12.78125 6.34375 \r\nQ 5.515625 14.109375 5.515625 27.296875 \r\nQ 5.515625 40.671875 12.859375 48.328125 \r\nQ 20.21875 56 33.015625 56 \r\nQ 37.15625 56 41.109375 55.140625 \r\nQ 45.0625 54.296875 48.78125 52.59375 \r\nz\r\n\" id=\"DejaVuSans-99\"/>\r\n       <path d=\"M 18.3125 70.21875 \r\nL 18.3125 54.6875 \r\nL 36.8125 54.6875 \r\nL 36.8125 47.703125 \r\nL 18.3125 47.703125 \r\nL 18.3125 18.015625 \r\nQ 18.3125 11.328125 20.140625 9.421875 \r\nQ 21.96875 7.515625 27.59375 7.515625 \r\nL 36.8125 7.515625 \r\nL 36.8125 0 \r\nL 27.59375 0 \r\nQ 17.1875 0 13.234375 3.875 \r\nQ 9.28125 7.765625 9.28125 18.015625 \r\nL 9.28125 47.703125 \r\nL 2.6875 47.703125 \r\nL 2.6875 54.6875 \r\nL 9.28125 54.6875 \r\nL 9.28125 70.21875 \r\nz\r\n\" id=\"DejaVuSans-116\"/>\r\n      </defs>\r\n      <use xlink:href=\"#DejaVuSans-112\"/>\r\n      <use x=\"63.476562\" xlink:href=\"#DejaVuSans-114\"/>\r\n      <use x=\"102.339844\" xlink:href=\"#DejaVuSans-101\"/>\r\n      <use x=\"163.863281\" xlink:href=\"#DejaVuSans-100\"/>\r\n      <use x=\"227.339844\" xlink:href=\"#DejaVuSans-105\"/>\r\n      <use x=\"255.123047\" xlink:href=\"#DejaVuSans-99\"/>\r\n      <use x=\"310.103516\" xlink:href=\"#DejaVuSans-116\"/>\r\n     </g>\r\n    </g>\r\n    <g id=\"PathCollection_2\">\r\n     <g>\r\n      <use style=\"fill:#0000ff;stroke:#0000ff;\" x=\"302.970313\" xlink:href=\"#m9df6f3434b\" y=\"39.650781\"/>\r\n     </g>\r\n    </g>\r\n    <g id=\"text_20\">\r\n     <!-- true -->\r\n     <g transform=\"translate(320.970313 42.275781)scale(0.1 -0.1)\">\r\n      <defs>\r\n       <path d=\"M 8.5 21.578125 \r\nL 8.5 54.6875 \r\nL 17.484375 54.6875 \r\nL 17.484375 21.921875 \r\nQ 17.484375 14.15625 20.5 10.265625 \r\nQ 23.53125 6.390625 29.59375 6.390625 \r\nQ 36.859375 6.390625 41.078125 11.03125 \r\nQ 45.3125 15.671875 45.3125 23.6875 \r\nL 45.3125 54.6875 \r\nL 54.296875 54.6875 \r\nL 54.296875 0 \r\nL 45.3125 0 \r\nL 45.3125 8.40625 \r\nQ 42.046875 3.421875 37.71875 1 \r\nQ 33.40625 -1.421875 27.6875 -1.421875 \r\nQ 18.265625 -1.421875 13.375 4.4375 \r\nQ 8.5 10.296875 8.5 21.578125 \r\nz\r\nM 31.109375 56 \r\nz\r\n\" id=\"DejaVuSans-117\"/>\r\n      </defs>\r\n      <use xlink:href=\"#DejaVuSans-116\"/>\r\n      <use x=\"39.208984\" xlink:href=\"#DejaVuSans-114\"/>\r\n      <use x=\"80.322266\" xlink:href=\"#DejaVuSans-117\"/>\r\n      <use x=\"143.701172\" xlink:href=\"#DejaVuSans-101\"/>\r\n     </g>\r\n    </g>\r\n   </g>\r\n  </g>\r\n </g>\r\n <defs>\r\n  <clipPath id=\"p89f96764f7\">\r\n   <rect height=\"217.44\" width=\"334.8\" x=\"30.103125\" y=\"10.999219\"/>\r\n  </clipPath>\r\n </defs>\r\n</svg>\r\n",
            "image/png": "[encoded data removed]"
          },
          "metadata": {
            "tags": [],
            "needs_background": "light"
          }
        },
        {
          "output_type": "stream",
          "text": [
            "tensor([[2.9648]], requires_grad=True) tensor([[2.1146]], requires_grad=True)\n"
          ],
          "name": "stdout"
        }
      ]
    },
    {
      "cell_type": "markdown",
      "metadata": {
        "id": "Ai1VMNAa7EJ5"
      },
      "source": [
        "## Loss"
      ]
    },
    {
      "cell_type": "markdown",
      "metadata": {
        "id": "QA0R0Gjq7H-S"
      },
      "source": [
        "### CrossEntropyLoss()\n",
        "> torch.nn.CrossEntropyLoss(weight: Optional[torch.Tensor] = None, size_average=None, ignore_index: int = -100, reduce=None, reduction: str = 'mean')\n",
        ">\n",
        "* This CrossEntropyLoss is different to [cross entropy](https://zhuanlan.zhihu.com/p/98785902), which is caculated with ![image.png](data:image/png;base64,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)\n",
        "* This criterion combines nn.LogSoftmax() and nn.NLLLoss() in one single class.\n"
      ]
    },
    {
      "cell_type": "markdown",
      "metadata": {
        "id": "X2nsa4wRtPC5"
      },
      "source": [
        "## Optimizer"
      ]
    },
    {
      "cell_type": "code",
      "metadata": {
        "id": "g8P8187ateRX"
      },
      "source": [
        "import torch\n",
        "import torch.utils.data as Data\n",
        "import torch.nn.functional as F\n",
        "import matplotlib.pyplot as plt\n",
        "%matplotlib inline\n",
        "\n",
        "# hyper parameters\n",
        "LR=0.01\n",
        "BATCH_SIZE=32\n",
        "EPOCH=12\n",
        "# generate training data\n",
        "# torch.unsqueeze() turns 1-D into 2_D, torch can only handle 2-D data\n",
        "x=torch.unsqueeze(torch.linspace(-1,1,1000),dim=1)\n",
        "y=x.pow(2)+0.1*torch.normal(torch.zeros(*x.size()))# normal distribution whose mean and standard deviation are given\n",
        "\n",
        "torch_dataset=Data.TensorDataset(x,y)\n",
        "loader=Data.DataLoader(dataset=torch_dataset,batch_size=BATCH_SIZE,shuffle=True)"
      ],
      "execution_count": 10,
      "outputs": []
    },
    {
      "cell_type": "code",
      "metadata": {
        "id": "A_jXUQKKxPKA"
      },
      "source": [
        "class Net(torch.nn.Module):\n",
        "  def __init__(self):\n",
        "    super(Net,self).__init__()\n",
        "    self.hidden=torch.nn.Linear(1,20)\n",
        "    self.predict=torch.nn.Linear(20,1)\n",
        "  def forward(self,x):\n",
        "    x=F.relu(self.hidden(x))\n",
        "    x=self.predict(x)\n",
        "    return x"
      ],
      "execution_count": 11,
      "outputs": []
    },
    {
      "cell_type": "code",
      "metadata": {
        "id": "R5VfnDrUyQzb"
      },
      "source": [
        "# multiple optimizers\n",
        "net_SGD=Net()\n",
        "net_Momentum=Net()\n",
        "net_RMSProp=Net()\n",
        "net_Adam=Net()\n",
        "nets=[net_SGD,net_Momentum,net_RMSProp,net_Adam]\n",
        "\n",
        "opt_SGD=torch.optim.SGD(net_SGD.parameters(),lr=LR)\n",
        "opt_Momentum=torch.optim.SGD(net_Momentum.parameters(),lr=LR,momentum=0.9)\n",
        "opt_RMSProp=torch.optim.RMSprop(net_RMSProp.parameters(),lr=LR,alpha=0.9)\n",
        "opt_Adam=torch.optim.Adam(net_Adam.parameters(),lr=LR,betas=(0.9,0.99))\n",
        "optimizers=[opt_SGD,opt_Momentum,opt_RMSProp,opt_Adam]"
      ],
      "execution_count": 12,
      "outputs": []
    },
    {
      "cell_type": "code",
      "metadata": {
        "id": "ubQeJ3AX0Qfa"
      },
      "source": [
        "loss_func=torch.nn.MSELoss()\n",
        "loss_his=[[],[],[],[]]\n",
        "for epoch in range(EPOCH):\n",
        "  for step,(batch_x,batch_y) in enumerate(loader):\n",
        "    for net,opt,l_his in zip(nets,optimizers,loss_his):\n",
        "      output=net(batch_x) # get output for every net\n",
        "      loss=loss_func(output,batch_y)\n",
        "      opt.zero_grad()\n",
        "      loss.backward()\n",
        "      opt.step()\n",
        "      l_his.append(loss.data.numpy())\n",
        "labels=['SGD','Momentum','RMSProp','Adam']"
      ],
      "execution_count": 13,
      "outputs": []
    },
    {
      "cell_type": "code",
      "metadata": {
        "id": "7rh5skqc3MjD",
        "outputId": "ea6f19af-f1db-4fd3-cb97-14bc5f174417",
        "colab": {
          "base_uri": "https://localhost:8080/",
          "height": 283
        }
      },
      "source": [
        "for i,l_his in enumerate(loss_his):\n",
        "  plt.plot(l_his,label=labels[i])\n",
        "plt.legend(loc='best')\n",
        "plt.xlabel('Steps')\n",
        "plt.ylabel('Loss')\n",
        "plt.ylim((0,0.8))\n",
        "plt.show()"
      ],
      "execution_count": 16,
      "outputs": [
        {
          "output_type": "display_data",
          "data": {
            "image/png": "[encoded data removed]",
            "text/plain": [
              "<Figure size 432x288 with 1 Axes>"
            ]
          },
          "metadata": {
            "tags": [],
            "needs_background": "light"
          }
        }
      ]
    },
    {
      "cell_type": "markdown",
      "metadata": {
        "id": "jmXCzKGaMCgf"
      },
      "source": [
        "## utils"
      ]
    },
    {
      "cell_type": "markdown",
      "metadata": {
        "id": "ldrx-1xydZnX"
      },
      "source": [
        "### DataLoader\n",
        "* DataLoader: combines a dataset and a sampler, and provides an iterable over the given dataset.\n",
        "> torch.utils.data.DataLoader(dataset, batch_size=1, shuffle=False, sampler=None,\n",
        "batch_sampler=None, num_workers=0, collate_fn=None,\n",
        "pin_memory=False, drop_last=False, timeout=0,\n",
        "worker_init_fn=None)\n",
        "* There are two types of dataset: map-style datasets, iterable-style datasets.\n",
        "  1. map-style dataset is a class which has two constructor funtions: **\\_\\_getitem()\\_\\_** and **\\_\\_len()\\_\\_**."
      ]
    },
    {
      "cell_type": "code",
      "metadata": {
        "id": "Z68Kvyf_ddrC",
        "colab": {
          "base_uri": "https://localhost:8080/"
        },
        "outputId": "45640185-4bf8-4ae1-c109-99412a18dc46"
      },
      "source": [
        "import torch\n",
        "from torch import nn\n",
        "from torch.utils.data import Dataset, DataLoader\n",
        " \n",
        "class My_dataset(Dataset):# map-style\n",
        "  def __init__(self):\n",
        "    super().__init__()\n",
        "    # 使用sin函数返回10个时间序列,如果不自己构造数据，就使用numpy,pandas等读取自己的数据为x即可。\n",
        "    # 以下数据组织这块既可以放在init方法里，也可以放在getitem方法里\n",
        "    self.x = torch.randn(10,3)\n",
        "    self.y = self.x.sum(axis=1)\n",
        "    self.src,  self.trg = [], []\n",
        "    for i in range(10):\n",
        "      self.src.append(self.x[i])# src=[tensor(...),tensor(...),...]\n",
        "      self.trg.append(self.y[i])\n",
        "          \n",
        "  def __getitem__(self, index):\n",
        "    return self.src[index], self.trg[index]\n",
        "\n",
        "  def __len__(self):\n",
        "    return len(self.src) \n",
        "        \n",
        " # 或者return len(self.trg), src和trg长度一样\n",
        " \n",
        "data_train = My_dataset()\n",
        "data_test = My_dataset()\n",
        "data_loader_train = DataLoader(data_train, batch_size=5, shuffle=False)\n",
        "data_loader_test = DataLoader(data_test, batch_size=5, shuffle=False)\n",
        "# i_batch的多少根据batch size和def __len__(self)返回的长度确定\n",
        "# batch_data返回的值根据def __getitem__(self, index)来确定\n",
        "# 对训练集：(不太清楚enumerate返回什么的时候就多print试试)\n",
        "for i_batch, batch_data in enumerate(data_loader_train):\n",
        "    print(i_batch)  # 打印batch编号\n",
        "    print(batch_data[0])  # 打印该batch里面src\n",
        "    print(batch_data[1])  # 打印该batch里面trg\n",
        "# 对测试集：（下面的语句也可以）\n",
        "for i_batch, (src, trg) in enumerate(data_loader_test):\n",
        "    print(i_batch)  # 打印batch编号\n",
        "    print(src)  # 打印该batch里面src的尺寸\n",
        "    print(trg)  # 打印该batch里面trg的尺寸    \n"
      ],
      "execution_count": null,
      "outputs": [
        {
          "output_type": "stream",
          "text": [
            "0\n",
            "tensor([[ 0.7777, -0.3005,  0.7759],\n",
            "        [-0.1943, -0.4988,  1.0211],\n",
            "        [-0.9013,  1.2346,  0.7615],\n",
            "        [ 0.2182,  0.2124, -0.3363],\n",
            "        [ 0.1835,  0.0992,  0.6933]])\n",
            "tensor([1.2531, 0.3280, 1.0949, 0.0942, 0.9760])\n",
            "1\n",
            "tensor([[-0.1419, -0.4066,  2.1445],\n",
            "        [-1.0576, -0.1036, -2.1420],\n",
            "        [-0.0234, -0.2902,  0.4168],\n",
            "        [-1.4408,  1.0976, -0.4800],\n",
            "        [ 3.8838,  0.6355,  0.0686]])\n",
            "tensor([ 1.5960, -3.3032,  0.1032, -0.8232,  4.5880])\n",
            "0\n",
            "tensor([[ 0.3913, -0.2867, -0.3659],\n",
            "        [ 0.0114,  1.4702,  1.3827],\n",
            "        [ 0.2079, -0.6564, -0.1896],\n",
            "        [ 0.9922, -1.3462,  0.5770],\n",
            "        [-0.2942, -0.2180,  1.6384]])\n",
            "tensor([-0.2612,  2.8642, -0.6382,  0.2230,  1.1263])\n",
            "1\n",
            "tensor([[ 0.7523, -1.2070,  0.5562],\n",
            "        [ 0.2840, -1.5392, -0.9443],\n",
            "        [ 0.3075,  1.3998,  1.1748],\n",
            "        [ 0.7228,  1.2405,  0.3971],\n",
            "        [ 1.5699, -0.1896, -2.3072]])\n",
            "tensor([ 0.1015, -2.1995,  2.8820,  2.3605, -0.9269])\n"
          ],
          "name": "stdout"
        }
      ]
    },
    {
      "cell_type": "markdown",
      "metadata": {
        "id": "VQbj4Og6k580"
      },
      "source": [
        "or we can also resort to TensorDataset"
      ]
    },
    {
      "cell_type": "code",
      "metadata": {
        "id": "EQQfcQ1PkpDF",
        "colab": {
          "base_uri": "https://localhost:8080/"
        },
        "outputId": "8fb13324-bcff-440b-a766-6f75c27de7dd"
      },
      "source": [
        "import torch\n",
        "from torch import nn\n",
        "from torch.utils.data import Dataset, DataLoader, TensorDataset\n",
        " \n",
        "src = torch.sin(torch.arange(1, 4, 0.1))\n",
        "trg = torch.cos(torch.arange(1, 4, 0.1))\n",
        " \n",
        "data = TensorDataset(src, trg)\n",
        "data_loader = DataLoader(data, batch_size=5, shuffle=False)\n",
        "for i_batch, batch_data in enumerate(data_loader):\n",
        "    print(i_batch)  # 打印batch编号\n",
        "    print(batch_data[0])  # 打印该batch里面src\n",
        "    print(batch_data[1])  # 打印该batch里面trg\n"
      ],
      "execution_count": null,
      "outputs": [
        {
          "output_type": "stream",
          "text": [
            "0\n",
            "tensor([0.8415, 0.8912, 0.9320, 0.9636, 0.9854])\n",
            "tensor([0.5403, 0.4536, 0.3624, 0.2675, 0.1700])\n",
            "1\n",
            "tensor([0.9975, 0.9996, 0.9917, 0.9738, 0.9463])\n",
            "tensor([ 0.0707, -0.0292, -0.1288, -0.2272, -0.3233])\n",
            "2\n",
            "tensor([0.9093, 0.8632, 0.8085, 0.7457, 0.6755])\n",
            "tensor([-0.4161, -0.5048, -0.5885, -0.6663, -0.7374])\n",
            "3\n",
            "tensor([0.5985, 0.5155, 0.4274, 0.3350, 0.2392])\n",
            "tensor([-0.8011, -0.8569, -0.9041, -0.9422, -0.9710])\n",
            "4\n",
            "tensor([ 0.1411,  0.0416, -0.0584, -0.1577, -0.2555])\n",
            "tensor([-0.9900, -0.9991, -0.9983, -0.9875, -0.9668])\n",
            "5\n",
            "tensor([-0.3508, -0.4425, -0.5298, -0.6119, -0.6878])\n",
            "tensor([-0.9365, -0.8968, -0.8481, -0.7910, -0.7259])\n"
          ],
          "name": "stdout"
        }
      ]
    },
    {
      "cell_type": "markdown",
      "metadata": {
        "id": "vjlmTt36mJDp"
      },
      "source": [
        "对于一些数据集，每一份数据都在一份文件夹中，则可根据地址读取法，以读取lfw（labeled face in the wild)数据集为例"
      ]
    },
    {
      "cell_type": "code",
      "metadata": {
        "id": "QMW8I3Wulvdf"
      },
      "source": [
        "import os\n",
        "\n",
        "from torch.utils.data import Dataset\n",
        "from torch.utils.data import DataLoader\n",
        "import matplotlib.image as mpimg\n",
        "\n",
        "# 对所有图片生成path-label map.txt 这个程序可根据实际需要适当修改\n",
        "def generate_map(root_dir):\n",
        "\t#得到当前绝对路径\n",
        "    current_path = os.path.abspath('.')\n",
        "    #os.path.dirname()向前退一个路径\n",
        "    father_path = os.path.abspath(os.path.dirname(current_path) + os.path.sep + \".\")\n",
        "\n",
        "    with open(root_dir + 'map.txt', 'w') as wfp:\n",
        "        for idx in range(10):\n",
        "            subdir = os.path.join(root_dir, '%d/' % idx)\n",
        "            for file_name in os.listdir(subdir):\n",
        "                abs_name = os.path.join(father_path, subdir, file_name)\n",
        "                # linux_abs_name = abs_name.replace(\"\\\\\", '/')\n",
        "                wfp.write('{file_dir} {label}\\n'.format(file_dir=linux_abs_name, label=idx))\n",
        "\n",
        "# 实现MyDatasets类\n",
        "class MyDatasets(Dataset):\n",
        "\n",
        "    def __init__(self, dir):\n",
        "        # 获取数据存放的dir\n",
        "        # 例如d:/images/\n",
        "        self.data_dir = dir\n",
        "        # 用于存放(image,label) tuple的list,存放的数据例如(d:/image/1.png,4)\n",
        "        self.image_target_list = []\n",
        "        # 从dir--label的map文件中将所有的tuple对读取到image_target_list中\n",
        "        # map.txt中全部存放的是d:/.../image_data/1/3.jpg 1 路径最好是绝对路径\n",
        "        with open(os.path.join(dir, 'map.txt'), 'r') as fp:\n",
        "            content = fp.readlines()\n",
        "            #s.rstrip()删除字符串末尾指定字符（默认是字符）\n",
        "            # 得到 [['d:/.../image_data/1/3.jpg', '1'], ...,]\n",
        "            str_list = [s.rstrip().split() for s in content]\n",
        "            # 将所有图片的dir--label对都放入列表，如果要执行多个epoch，可以在这里多复制几遍，然后统一shuffle比较好\n",
        "            self.image_target_list = [(x[0], int(x[1])) for x in str_list]\n",
        "\n",
        "    def __getitem__(self, index):\n",
        "        image_label_pair = self.image_target_list[index]\n",
        "        # 按path读取图片数据，并转换为图片格式例如[3,32,32]\n",
        "        # 可以用别的代替\n",
        "        img = mpimg.imread(image_label_pair[0])\n",
        "        return img, image_label_pair[1]\n",
        "\n",
        "    def __len__(self):\n",
        "        return len(self.image_target_list)\n",
        "\n",
        "\n",
        "if __name__ == '__main__':\n",
        "    # 生成map.txt\n",
        "    # generate_map('train/')\n",
        "\n",
        "    train_loader = DataLoader(MyDatasets('train/'), batch_size=128, shuffle=True)\n",
        "\n",
        "    for step in range(20000):\n",
        "        for idx, (img, label) in enumerate(train_loader):\n",
        "            print(img.shape)\n",
        "            print(label.shape)\n",
        "\n"
      ],
      "execution_count": null,
      "outputs": []
    },
    {
      "cell_type": "markdown",
      "metadata": {
        "id": "vanmsCfgMagG"
      },
      "source": [
        "## torchvision\n",
        "> There are four modules in torchvision: model, datasets, transforms and utils."
      ]
    },
    {
      "cell_type": "markdown",
      "metadata": {
        "id": "VfCIGRReNHQK"
      },
      "source": [
        "### transforms\n",
        "* transforms accepts PILImage,Tensor Image or batch of Tensor Images as input.\n",
        "* These image transformations can be chained together using compose."
      ]
    },
    {
      "cell_type": "code",
      "metadata": {
        "id": "KSpmdyqzMmqV"
      },
      "source": [
        "transforms.Compose([\n",
        "    #centercrop\n",
        "    #size could be a tuple (height,width)\n",
        "    #size could also be a integer, square in this circumstance\n",
        "    transforms.CenterCrop(10),\n",
        "    # the center is random chosen\n",
        "    transforms.RandomCrop(20,padding=0),\n",
        "    tranforms.ToTensor(),transforms.Normalize(mean=(0.5,0.5,0.5),std=(0.5,0.5,0.5))])"
      ],
      "execution_count": null,
      "outputs": []
    },
    {
      "cell_type": "markdown",
      "metadata": {
        "id": "-StDMpv-fxz5"
      },
      "source": [
        "## MNIST"
      ]
    },
    {
      "cell_type": "markdown",
      "metadata": {
        "id": "c-RjDWdDZZwF"
      },
      "source": [
        "### Preprocess"
      ]
    },
    {
      "cell_type": "markdown",
      "metadata": {
        "id": "TYHjV5l3UQ0W"
      },
      "source": [
        "\n",
        "\n",
        "1.   transforms.Compose() can bind the transforms function together\n",
        "2.   Normalize([0.5],[0.5])对张量进行归一化，这里两个0.5分别表示对张量进行归一化的全局平均值和方差。因为图像是灰色的只有一个通道，如果有多个通道，则需要多个数字，如3个通道，应该是Normalize([m1,m2,m3])\n",
        "\n",
        "\n",
        "\n",
        "\n"
      ]
    },
    {
      "cell_type": "code",
      "metadata": {
        "id": "8s0a1WYnfxbX"
      },
      "source": [
        "import numpy as np\n",
        "import torch\n",
        "from torchvision.datasets import mnist\n",
        "import torchvision.transforms as transforms\n",
        "from torch.utils.data import DataLoader\n",
        "import torch.nn.functional as F\n",
        "import torch.optim as optim\n",
        "from torch import nn"
      ],
      "execution_count": null,
      "outputs": []
    },
    {
      "cell_type": "code",
      "metadata": {
        "id": "YlFcm2q6Q-Y8"
      },
      "source": [
        "# define hyperparameters\n",
        "train_batch_size=64\n",
        "test_batch_size=128\n",
        "learning_rate=0.01\n",
        "num_epoches=20\n",
        "lr=0.01\n",
        "momentum=0.5"
      ],
      "execution_count": null,
      "outputs": []
    },
    {
      "cell_type": "code",
      "metadata": {
        "id": "0yRUQCU8RwEI",
        "colab": {
          "base_uri": "https://localhost:8080/",
          "height": 366,
          "referenced_widgets": [
            "758e1d7d1eb74591ab108b6db9d6569c",
            "5ebc112f277e45249c989ac44e30ca92",
            "9b1e42ca5689433bb039aeb4bf6e8f0b",
            "0590d84ca8374212b86031be2077b434",
            "d3012587146c4e4a83f52d3206d6d9fa",
            "47ea73492f124a20801675c75cbb42a9",
            "bdc52c03c2d04c6da0a8910ae5641984",
            "891aa4e18363437c8a2232edbe691f0c",
            "6e7f57d0ad504b33bf3fb3057f5c2853",
            "8fb41279fd984231b0555f22ccaf18ee",
            "d07534250a364b2aa431865fb24b4d63",
            "b8e3ccdbcca94195838eebfda0094bbf",
            "e86c7f69db6d4054a8e284f38d871a53",
            "7fa148a792e34a2eb81d994cc64464ef",
            "011c04016ad04f0d984d4259b658d4a4",
            "1146ce7c9bbb4d29ab334a82f63be7ce",
            "4bb5bbd3a4604d5683de86338cce166d",
            "e7e4246f6cff4a68b99015d3d8ecc245",
            "47abcc8b49db43dbacfa6d8ab92844c2",
            "73a5e26af5c44b31ab0771b4840742cb",
            "16de8c3059434baab30d618deda1baa2",
            "2939dc62e3cc4414b6fdfd9927d7b2f9",
            "385de8cf77ee4debbc5fc26eeb740490",
            "2f4c8be4d02141d09cfa21648afe8cc3",
            "8397a8f3751b4266bd8cbc68faa01e06",
            "184c459042d240ee92afa8a3af06545d",
            "4ae3a028e7e540a49d469fdc93fe48d8",
            "048c85df399e490ba89e77f1c9dfaaae",
            "83ef33a3c2b546c48ae4c093a3a4c48c",
            "6001e1142d6748cf903a5df85693e215",
            "129edb2c46d0439eb5bc43903bcda379",
            "99bee2f8fc3d40209f01970513764ccf"
          ]
        },
        "outputId": "9a7d671e-6135-4e19-d8d3-565e343c13ab"
      },
      "source": [
        "# define the function\n",
        "transform=transforms.Compose([transforms.ToTensor(),transforms.Normalize([0.5],[0.5])])\n",
        "# download the data and do the preprocess\n",
        "train_dataset=mnist.MNIST('./data',train=True,transform=transform,download=True)\n",
        "test_dataset=mnist.MNIST('./data',train=False,transform=transform)\n",
        "# dataLoader is an iterable object\n",
        "train_loader=DataLoader(train_dataset,batch_size=train_batch_size,shuffle=True)\n",
        "test_loader=DataLoader(test_dataset,batch_size=test_batch_size,shuffle=False)"
      ],
      "execution_count": null,
      "outputs": [
        {
          "output_type": "stream",
          "text": [
            "Downloading http://yann.lecun.com/exdb/mnist/train-images-idx3-ubyte.gz to ./data/MNIST/raw/train-images-idx3-ubyte.gz\n"
          ],
          "name": "stdout"
        },
        {
          "output_type": "display_data",
          "data": {
            "application/vnd.jupyter.widget-view+json": {
              "model_id": "758e1d7d1eb74591ab108b6db9d6569c",
              "version_minor": 0,
              "version_major": 2
            },
            "text/plain": [
              "HBox(children=(FloatProgress(value=1.0, bar_style='info', max=1.0), HTML(value='')))"
            ]
          },
          "metadata": {
            "tags": []
          }
        },
        {
          "output_type": "stream",
          "text": [
            "Extracting ./data/MNIST/raw/train-images-idx3-ubyte.gz to ./data/MNIST/raw\n",
            "Downloading http://yann.lecun.com/exdb/mnist/train-labels-idx1-ubyte.gz to ./data/MNIST/raw/train-labels-idx1-ubyte.gz\n"
          ],
          "name": "stdout"
        },
        {
          "output_type": "display_data",
          "data": {
            "application/vnd.jupyter.widget-view+json": {
              "model_id": "6e7f57d0ad504b33bf3fb3057f5c2853",
              "version_minor": 0,
              "version_major": 2
            },
            "text/plain": [
              "HBox(children=(FloatProgress(value=1.0, bar_style='info', max=1.0), HTML(value='')))"
            ]
          },
          "metadata": {
            "tags": []
          }
        },
        {
          "output_type": "stream",
          "text": [
            "Extracting ./data/MNIST/raw/train-labels-idx1-ubyte.gz to ./data/MNIST/raw\n",
            "Downloading http://yann.lecun.com/exdb/mnist/t10k-images-idx3-ubyte.gz to ./data/MNIST/raw/t10k-images-idx3-ubyte.gz\n"
          ],
          "name": "stdout"
        },
        {
          "output_type": "display_data",
          "data": {
            "application/vnd.jupyter.widget-view+json": {
              "model_id": "4bb5bbd3a4604d5683de86338cce166d",
              "version_minor": 0,
              "version_major": 2
            },
            "text/plain": [
              "HBox(children=(FloatProgress(value=1.0, bar_style='info', max=1.0), HTML(value='')))"
            ]
          },
          "metadata": {
            "tags": []
          }
        },
        {
          "output_type": "stream",
          "text": [
            "Extracting ./data/MNIST/raw/t10k-images-idx3-ubyte.gz to ./data/MNIST/raw\n",
            "Downloading http://yann.lecun.com/exdb/mnist/t10k-labels-idx1-ubyte.gz to ./data/MNIST/raw/t10k-labels-idx1-ubyte.gz\n"
          ],
          "name": "stdout"
        },
        {
          "output_type": "display_data",
          "data": {
            "application/vnd.jupyter.widget-view+json": {
              "model_id": "8397a8f3751b4266bd8cbc68faa01e06",
              "version_minor": 0,
              "version_major": 2
            },
            "text/plain": [
              "HBox(children=(FloatProgress(value=1.0, bar_style='info', max=1.0), HTML(value='')))"
            ]
          },
          "metadata": {
            "tags": []
          }
        },
        {
          "output_type": "stream",
          "text": [
            "Extracting ./data/MNIST/raw/t10k-labels-idx1-ubyte.gz to ./data/MNIST/raw\n",
            "Processing...\n",
            "Done!\n"
          ],
          "name": "stdout"
        },
        {
          "output_type": "stream",
          "text": [
            "/usr/local/lib/python3.6/dist-packages/torchvision/datasets/mnist.py:480: UserWarning: The given NumPy array is not writeable, and PyTorch does not support non-writeable tensors. This means you can write to the underlying (supposedly non-writeable) NumPy array using the tensor. You may want to copy the array to protect its data or make it writeable before converting it to a tensor. This type of warning will be suppressed for the rest of this program. (Triggered internally at  /pytorch/torch/csrc/utils/tensor_numpy.cpp:141.)\n",
            "  return torch.from_numpy(parsed.astype(m[2], copy=False)).view(*s)\n"
          ],
          "name": "stderr"
        }
      ]
    },
    {
      "cell_type": "code",
      "metadata": {
        "colab": {
          "base_uri": "https://localhost:8080/",
          "height": 351
        },
        "id": "UIVjFzGlTiOl",
        "outputId": "96507497-9bde-456e-91e6-e6ec6adfc678"
      },
      "source": [
        "import matplotlib.pyplot as plt\n",
        "%matplotlib inline\n",
        "\n",
        "examples=enumerate(test_loader)\n",
        "batch_idx,(example_data,example_targets)=next(examples)\n",
        "fig=plt.figure()\n",
        "for i in range(6):\n",
        "  plt.subplot(2,3,i+1)# 2*3, i+1 is the index of image starting from 1\n",
        "  plt.tight_layout()\n",
        "  plt.imshow(example_data[i][0],cmap='gray',interpolation='none')#\n",
        "  plt.title(\"Ground Truth:{}\".format(example_targets[i]))\n",
        "  plt.xticks([])\n",
        "  plt.yticks([])"
      ],
      "execution_count": null,
      "outputs": [
        {
          "output_type": "stream",
          "text": [
            "\n",
            "\n",
            "\n",
            "\n"
          ],
          "name": "stdout"
        },
        {
          "output_type": "display_data",
          "data": {
            "image/png": "[encoded data removed]",
            "text/plain": [
              "<Figure size 432x288 with 6 Axes>"
            ]
          },
          "metadata": {
            "tags": []
          }
        }
      ]
    },
    {
      "cell_type": "markdown",
      "metadata": {
        "id": "DkspIiIQZjpS"
      },
      "source": [
        "### build the model"
      ]
    },
    {
      "cell_type": "code",
      "metadata": {
        "id": "yq19ULESZmdL"
      },
      "source": [
        "class Net(nn.Module):\n",
        "  \"\"\"\n",
        "  use sequential to build the net, Sequential() combine the layers\n",
        "  \"\"\"\n",
        "  def __init__(self,in_dim,n_hidden_1,n_hidden_2,out_dim):\n",
        "    super(Net,self).__init__()\n",
        "    self.layer1=nn.Sequential(nn.Linear(in_dim,n_hidden_1),nn.BatchNorm1d(n_hidden_1))\n",
        "    self.layer2=nn.Sequential(nn.Linear(n_hidden_1,n_hidden_2),nn.BatchNorm1d(n_hidden_2))\n",
        "    self.layer3=nn.Sequential(nn.Linear(n_hidden_2,out_dim))\n",
        "  \n",
        "  def forward(self,x):\n",
        "    x=F.relu(self.layer1(x))\n",
        "    x=F.relu(self.layer2(x))\n",
        "    x=self.layer3(x)\n",
        "    return x"
      ],
      "execution_count": null,
      "outputs": []
    },
    {
      "cell_type": "code",
      "metadata": {
        "id": "fz97f0yob4Mp"
      },
      "source": [
        "device=torch.device(\"cuda:0\" if torch.cuda.is_available() else \"cpu\")\n",
        "# instantiate the net\n",
        "model=Net(28*28,300,100,10)\n",
        "model.to(device)\n",
        "\n",
        "# define the loss and optimizer\n",
        "criterion=nn.CrossEntropyLoss()\n",
        "optimizer=optim.SGD(model.parameters(),lr=lr,momentum=momentum)"
      ],
      "execution_count": null,
      "outputs": []
    },
    {
      "cell_type": "code",
      "metadata": {
        "id": "bmw5i_vxv-Vb",
        "colab": {
          "base_uri": "https://localhost:8080/"
        },
        "outputId": "c6071e5d-03d3-4520-c047-bb954b1aa21f"
      },
      "source": [
        "a=torch.randn(128,10)\n",
        "l=criterion(a,example_targets)\n",
        "print(l)"
      ],
      "execution_count": null,
      "outputs": [
        {
          "output_type": "stream",
          "text": [
            "tensor(2.7076)\n"
          ],
          "name": "stdout"
        }
      ]
    },
    {
      "cell_type": "code",
      "metadata": {
        "id": "BeYM59zFUyHM",
        "colab": {
          "base_uri": "https://localhost:8080/"
        },
        "outputId": "355b68f4-a203-45ed-f734-5b4af3f5d0a4"
      },
      "source": [
        "print(len(optimizer.param_groups))# a list\n",
        "print(len(optimizer.param_groups[0]))# a dict"
      ],
      "execution_count": null,
      "outputs": [
        {
          "output_type": "stream",
          "text": [
            "1\n",
            "6\n"
          ],
          "name": "stdout"
        }
      ]
    },
    {
      "cell_type": "markdown",
      "metadata": {
        "id": "B6szjUoacp0t"
      },
      "source": [
        "### Train the model"
      ]
    },
    {
      "cell_type": "code",
      "metadata": {
        "id": "ihPUtdatco32",
        "colab": {
          "base_uri": "https://localhost:8080/"
        },
        "outputId": "a99a8614-763b-4104-f35c-582994e41d6a"
      },
      "source": [
        "losses=[]\n",
        "acces=[]\n",
        "eval_losses=[]\n",
        "eval_acces=[]\n",
        "\n",
        "for epoch in range(num_epoches):\n",
        "  train_loss=0\n",
        "  train_acc=0\n",
        "  model.train()\n",
        "# change the learning rate dynamically\n",
        "  if epoch%5==0:\n",
        "    optimizer.param_groups[0]['lr']*=0.1\n",
        "  for img,label in train_loader:\n",
        "    img=img.to(device)\n",
        "    label=label.to(device)\n",
        "    #img.size()=[64,1,28,28]\n",
        "    #label.size()=[64]\n",
        "    img=img.view(img.size(0),-1)#img.size()=[64,28*28]\n",
        "    # forward\n",
        "    out=model(img)#out.size()=[64,10]\n",
        "    loss=criterion(out,label)#loss.size()=[1]\n",
        "    # backward\n",
        "    optimizer.zero_grad()\n",
        "    loss.backward()\n",
        "    optimizer.step()\n",
        "    # record the difference\n",
        "    train_loss+=loss.item()\n",
        "    # caculate the accuracy\n",
        "    _,pred=out.max(1)# predict the one with the maximum probability\n",
        "    num_correct=(pred==label).sum().item()\n",
        "    acc=num_correct/img.shape[0]\n",
        "    train_acc+=acc\n",
        "  \n",
        "  losses.append(train_loss/len(train_loader))\n",
        "  acces.append(train_acc/len(train_loader))\n",
        "  # test on test data\n",
        "  eval_loss=0\n",
        "  eval_acc=0\n",
        "# change the model into predict model\n",
        "  model.eval()\n",
        "  for img,label in test_loader:\n",
        "    img=img.to(device)\n",
        "    label=label.to(device)\n",
        "    img=img.view(img.size(0),-1)\n",
        "    out=model(img)\n",
        "    loss=criterion(out,label)\n",
        "    # record the loss\n",
        "    eval_loss+=loss.item()\n",
        "    # record the acc\n",
        "    _,pred=out.max(1)\n",
        "    num_correct=(pred==label).sum().item()\n",
        "    acc=num_correct/img.shape[0]\n",
        "    eval_acc+=acc\n",
        "  eval_losses.append(eval_loss/len(test_loader))\n",
        "  eval_acces.append(eval_acc/len(test_loader))\n",
        "  print('epoch: {}, Train Loss: {:.4f}, Train Acc: {:.4f}, Test Loss: {:.4f}, Test Acc: {:.4f}'\n",
        "      .format(epoch,train_loss/len(train_loader),train_acc/len(train_loader),eval_loss/len(test_loader),eval_acc/len(test_loader)))"
      ],
      "execution_count": null,
      "outputs": [
        {
          "output_type": "stream",
          "text": [
            "epoch: 0, Train Loss: 1.0448, Train Acc: 0.7683, Test Loss: 0.5702, Test Acc: 0.8930\n",
            "epoch: 1, Train Loss: 0.4921, Train Acc: 0.8969, Test Loss: 0.3639, Test Acc: 0.9215\n",
            "epoch: 2, Train Loss: 0.3549, Train Acc: 0.9181, Test Loss: 0.2777, Test Acc: 0.9381\n",
            "epoch: 3, Train Loss: 0.2855, Train Acc: 0.9330, Test Loss: 0.2284, Test Acc: 0.9455\n",
            "epoch: 4, Train Loss: 0.2437, Train Acc: 0.9400, Test Loss: 0.1998, Test Acc: 0.9524\n",
            "epoch: 5, Train Loss: 0.2222, Train Acc: 0.9461, Test Loss: 0.1951, Test Acc: 0.9517\n",
            "epoch: 6, Train Loss: 0.2214, Train Acc: 0.9461, Test Loss: 0.1929, Test Acc: 0.9531\n",
            "epoch: 7, Train Loss: 0.2183, Train Acc: 0.9468, Test Loss: 0.1915, Test Acc: 0.9527\n",
            "epoch: 8, Train Loss: 0.2136, Train Acc: 0.9475, Test Loss: 0.1884, Test Acc: 0.9531\n",
            "epoch: 9, Train Loss: 0.2131, Train Acc: 0.9472, Test Loss: 0.1867, Test Acc: 0.9535\n",
            "epoch: 10, Train Loss: 0.2093, Train Acc: 0.9493, Test Loss: 0.1873, Test Acc: 0.9542\n",
            "epoch: 11, Train Loss: 0.2114, Train Acc: 0.9485, Test Loss: 0.1860, Test Acc: 0.9536\n",
            "epoch: 12, Train Loss: 0.2095, Train Acc: 0.9489, Test Loss: 0.1844, Test Acc: 0.9537\n",
            "epoch: 13, Train Loss: 0.2105, Train Acc: 0.9475, Test Loss: 0.1875, Test Acc: 0.9537\n",
            "epoch: 14, Train Loss: 0.2091, Train Acc: 0.9485, Test Loss: 0.1844, Test Acc: 0.9536\n",
            "epoch: 15, Train Loss: 0.2105, Train Acc: 0.9492, Test Loss: 0.1864, Test Acc: 0.9545\n",
            "epoch: 16, Train Loss: 0.2093, Train Acc: 0.9489, Test Loss: 0.1857, Test Acc: 0.9542\n",
            "epoch: 17, Train Loss: 0.2088, Train Acc: 0.9488, Test Loss: 0.1868, Test Acc: 0.9533\n",
            "epoch: 18, Train Loss: 0.2081, Train Acc: 0.9493, Test Loss: 0.1844, Test Acc: 0.9546\n",
            "epoch: 19, Train Loss: 0.2078, Train Acc: 0.9496, Test Loss: 0.1835, Test Acc: 0.9539\n"
          ],
          "name": "stdout"
        }
      ]
    },
    {
      "cell_type": "code",
      "metadata": {
        "id": "A0_WDz1Nzkej"
      },
      "source": [
        ""
      ],
      "execution_count": null,
      "outputs": []
    }
  ]
}