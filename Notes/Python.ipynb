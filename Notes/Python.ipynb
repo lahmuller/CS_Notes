{
  "nbformat": 4,
  "nbformat_minor": 0,
  "metadata": {
    "orig_nbformat": 2,
    "colab": {
      "name": "Python.ipynb",
      "provenance": [],
      "include_colab_link": true
    },
    "kernelspec": {
      "name": "python3",
      "display_name": "Python 3"
    },
    "accelerator": "TPU"
  },
  "cells": [
    {
      "cell_type": "markdown",
      "metadata": {
        "id": "view-in-github",
        "colab_type": "text"
      },
      "source": [
        "<a href=\"https://colab.research.google.com/github/lahmuller/CS_Notes/blob/main/Notes/Python.ipynb\" target=\"_parent\"><img src=\"https://colab.research.google.com/assets/colab-badge.svg\" alt=\"Open In Colab\"/></a>"
      ]
    },
    {
      "cell_type": "markdown",
      "metadata": {
        "id": "S1a7xGWrkeD9"
      },
      "source": [
        "# String"
      ]
    },
    {
      "cell_type": "markdown",
      "metadata": {
        "id": "_ih_U4uMm4K8"
      },
      "source": [
        "You can use single or double quotes around the strings. This flexibility allows you to use quotes and apostrophes within your strings."
      ]
    },
    {
      "cell_type": "code",
      "metadata": {
        "id": "d8xCnJ-qkhWT",
        "colab": {
          "base_uri": "https://localhost:8080/"
        },
        "outputId": "d535f5ba-72e8-445f-836b-c9d83b9e4725"
      },
      "source": [
        "message='I told my friend, \"Python is my favorite lauguage!\"'\r\n",
        "print(message)\r\n",
        "message=\"The language 'Python' is named after Monty Python, not the snake\"\r\n",
        "print(message)"
      ],
      "execution_count": null,
      "outputs": [
        {
          "output_type": "stream",
          "text": [
            "I told my friend, \"Python is my favorite lauguage!\"\n",
            "The language 'Python' is named after Monty Python, not the snake\n"
          ],
          "name": "stdout"
        }
      ]
    },
    {
      "cell_type": "markdown",
      "metadata": {
        "id": "k6VApFbzutOv"
      },
      "source": [
        "## Changing Case in a String with Methods"
      ]
    },
    {
      "cell_type": "code",
      "metadata": {
        "id": "ZEqGETR6pKeO",
        "colab": {
          "base_uri": "https://localhost:8080/"
        },
        "outputId": "9476b700-5ca7-453f-90fe-0b60539dbc9d"
      },
      "source": [
        "name=\"aDa loVelace\"\r\n",
        "print(name.title()) # each word begins with a capital letter\r\n",
        "print(name.upper())\r\n",
        "print(name.lower())"
      ],
      "execution_count": null,
      "outputs": [
        {
          "output_type": "stream",
          "text": [
            "Ada Lovelace\n",
            "ADA LOVELACE\n",
            "ada lovelace\n"
          ],
          "name": "stdout"
        }
      ]
    },
    {
      "cell_type": "markdown",
      "metadata": {
        "id": "tqYSRlGatJdo"
      },
      "source": [
        "## Using variables in Strings\r\n",
        "To insert a variable's value into a string, place the letter *f* immediately before the opening quotation mark. Put braces around the name or the names of any variable. Python will replace each variable with its value when the string is displayed. "
      ]
    },
    {
      "cell_type": "code",
      "metadata": {
        "id": "-6zLuCMaqxXg",
        "colab": {
          "base_uri": "https://localhost:8080/"
        },
        "outputId": "602e4b32-2892-408c-89e0-abeca83c6672"
      },
      "source": [
        "first_name=\"ada\"\r\n",
        "last_name=\"lovelace\"\r\n",
        "full_name=f\"{first_name} {last_name}\"# This string is called f-string. The f is for format\r\n",
        "print(full_name)\r\n",
        "a=11\r\n",
        "print(f\"Hello, {full_name.title()} {a}\")"
      ],
      "execution_count": null,
      "outputs": [
        {
          "output_type": "stream",
          "text": [
            "ada lovelace\n",
            "Hello, Ada Lovelace 11\n"
          ],
          "name": "stdout"
        }
      ]
    },
    {
      "cell_type": "markdown",
      "metadata": {
        "id": "_j2wGI6Pt008"
      },
      "source": [
        "F-string were first introduced in Python 3.6. In Python 3.5 or earlier, we need to use the ***format()*** method rather than this f syntax."
      ]
    },
    {
      "cell_type": "code",
      "metadata": {
        "id": "seFaYz6MuLNo",
        "colab": {
          "base_uri": "https://localhost:8080/"
        },
        "outputId": "fb4b0b41-0397-4212-9352-8f705489aea4"
      },
      "source": [
        "full_name=\"{} {}\".format(first_name,last_name)\r\n",
        "print(full_name)"
      ],
      "execution_count": null,
      "outputs": [
        {
          "output_type": "stream",
          "text": [
            "ada lovelace\n"
          ],
          "name": "stdout"
        }
      ]
    },
    {
      "cell_type": "markdown",
      "metadata": {
        "id": "zTwPwDqIvAtk"
      },
      "source": [
        "## Adding Whitespace to Strings with Tabs or Newlines"
      ]
    },
    {
      "cell_type": "code",
      "metadata": {
        "id": "PJF2M2vzvJmu",
        "colab": {
          "base_uri": "https://localhost:8080/"
        },
        "outputId": "1eb30e1e-c056-4268-c382-526f92fee987"
      },
      "source": [
        "print(\"Python\\n\")\r\n",
        "print(\"\\tPython\\n\")\r\n",
        "print(\"Languages:\\nPython\\nC\\nJavaScript\\n\")\r\n",
        "print(\"Languages:\\n\\tPython\\n\\tC\\n\\tJavaScript\")"
      ],
      "execution_count": null,
      "outputs": [
        {
          "output_type": "stream",
          "text": [
            "Python\n",
            "\n",
            "\tPython\n",
            "\n",
            "Languages:\n",
            "Python\n",
            "C\n",
            "JavaScript\n",
            "\n",
            "Languages:\n",
            "\tPython\n",
            "\tC\n",
            "\tJavaScript\n"
          ],
          "name": "stdout"
        }
      ]
    },
    {
      "cell_type": "markdown",
      "metadata": {
        "id": "tWhKwl2QxTD4"
      },
      "source": [
        "## Stripping Whitespace"
      ]
    },
    {
      "cell_type": "code",
      "metadata": {
        "id": "1Mib4vORxXpM",
        "colab": {
          "base_uri": "https://localhost:8080/"
        },
        "outputId": "081db268-20c8-4d70-ed2c-590a50f2931a"
      },
      "source": [
        "s='  python  '\r\n",
        "print(s.rstrip())# right\r\n",
        "print(s.lstrip())# left\r\n",
        "print(s.strip())# both side"
      ],
      "execution_count": null,
      "outputs": [
        {
          "output_type": "stream",
          "text": [
            "  python\n",
            "python  \n",
            "python\n"
          ],
          "name": "stdout"
        }
      ]
    },
    {
      "cell_type": "markdown",
      "metadata": {
        "id": "CPznO63Qzlar"
      },
      "source": [
        "# Numbers"
      ]
    },
    {
      "cell_type": "markdown",
      "metadata": {
        "id": "E4Nwx9G7zymP"
      },
      "source": [
        "## Floats\r\n",
        "Python calls any number with a decimal point a ***float***"
      ]
    },
    {
      "cell_type": "code",
      "metadata": {
        "id": "eCSbpZhBz5RN",
        "colab": {
          "base_uri": "https://localhost:8080/"
        },
        "outputId": "8afa92d4-513c-4e28-ef3d-8d6d04843b1d"
      },
      "source": [
        "print(0.2+0.1) # This happens in all languages and is of little concern.\r\n",
        "# when you divide any two numbers, even if they are integers that result in a whole number, you'll always get a float\r\n",
        "print(4/2)"
      ],
      "execution_count": null,
      "outputs": [
        {
          "output_type": "stream",
          "text": [
            "0.30000000000000004\n",
            "2.0\n"
          ],
          "name": "stdout"
        }
      ]
    },
    {
      "cell_type": "markdown",
      "metadata": {
        "id": "xWaf9kPQ1DpQ"
      },
      "source": [
        "When writing long numebrs, we can group digits using underscores to make large numbers more readable"
      ]
    },
    {
      "cell_type": "code",
      "metadata": {
        "id": "iSFPDJ7Y0sYc",
        "colab": {
          "base_uri": "https://localhost:8080/"
        },
        "outputId": "4f98f040-04fa-4d24-a65f-12b514cc276f"
      },
      "source": [
        "universe_age=14_000_000_000\r\n",
        "print(universe_age)"
      ],
      "execution_count": null,
      "outputs": [
        {
          "output_type": "stream",
          "text": [
            "14000000000\n"
          ],
          "name": "stdout"
        }
      ]
    },
    {
      "cell_type": "markdown",
      "metadata": {
        "id": "z8xMnWVy1tc-"
      },
      "source": [
        "Multiple assignment"
      ]
    },
    {
      "cell_type": "code",
      "metadata": {
        "id": "DAW1VwnE1yZ_"
      },
      "source": [
        "x,y,z=0,0,0"
      ],
      "execution_count": null,
      "outputs": []
    },
    {
      "cell_type": "markdown",
      "metadata": {
        "id": "a3Tuj1vf2MN_"
      },
      "source": [
        "A constant is like a variable whose value stays the same throughout the life of a program. Python doesn’t have built-in constant types, but Python programmers use all capital letters to indicate a variable should be treated as a constant and never be changed"
      ]
    },
    {
      "cell_type": "code",
      "metadata": {
        "id": "h1mYPKkO2Rlf"
      },
      "source": [
        "MAX_CONNECTIONS=5000"
      ],
      "execution_count": null,
      "outputs": []
    },
    {
      "cell_type": "markdown",
      "metadata": {
        "id": "EUGITGKDdDru"
      },
      "source": [
        "# List"
      ]
    },
    {
      "cell_type": "markdown",
      "metadata": {
        "id": "mWF4M5jZeTlG"
      },
      "source": [
        "## Appending Elements to the End of a List"
      ]
    },
    {
      "cell_type": "code",
      "metadata": {
        "id": "jhC8Y0efeYce",
        "colab": {
          "base_uri": "https://localhost:8080/"
        },
        "outputId": "94da5e99-b9e1-4238-f66e-976a394ff8af"
      },
      "source": [
        "motor=['honda','yamaha','suzuki']\r\n",
        "motor.append('ducati')\r\n",
        "print(motor)"
      ],
      "execution_count": null,
      "outputs": [
        {
          "output_type": "stream",
          "text": [
            "['honda', 'yamaha', 'suzuki', 'ducati']\n"
          ],
          "name": "stdout"
        }
      ]
    },
    {
      "cell_type": "markdown",
      "metadata": {
        "id": "tc1JKd9le-FB"
      },
      "source": [
        "## Removing Elements from a List"
      ]
    },
    {
      "cell_type": "markdown",
      "metadata": {
        "id": "Bv-rEaCEhsQ3"
      },
      "source": [
        "### By position"
      ]
    },
    {
      "cell_type": "code",
      "metadata": {
        "id": "SA4cUovhfX8B",
        "colab": {
          "base_uri": "https://localhost:8080/"
        },
        "outputId": "66cbd20f-61a7-40b2-f16f-07ae73baa617"
      },
      "source": [
        "# If the position of the element is known\r\n",
        "del motor[0]\r\n",
        "print(motor)\r\n",
        "#pop()\r\n",
        "popped_element=motor.pop()\r\n",
        "print(motor)\r\n",
        "print(popped_element)"
      ],
      "execution_count": null,
      "outputs": [
        {
          "output_type": "stream",
          "text": [
            "['yamaha', 'suzuki', 'ducati']\n",
            "['yamaha', 'suzuki']\n",
            "ducati\n"
          ],
          "name": "stdout"
        }
      ]
    },
    {
      "cell_type": "markdown",
      "metadata": {
        "id": "A_xdss3Ig3Yi"
      },
      "source": [
        "Popping items from any position in a List"
      ]
    },
    {
      "cell_type": "code",
      "metadata": {
        "id": "byg9KuZ6g2Mu",
        "colab": {
          "base_uri": "https://localhost:8080/"
        },
        "outputId": "1553dba9-b25f-4c9e-9d34-a60f133f86a4"
      },
      "source": [
        "motor=['honda','yamaha','suzuki']\r\n",
        "elem1=motor.pop(1)\r\n",
        "print(motor,elem1)"
      ],
      "execution_count": null,
      "outputs": [
        {
          "output_type": "stream",
          "text": [
            "['honda', 'suzuki'] yamaha\n"
          ],
          "name": "stdout"
        }
      ]
    },
    {
      "cell_type": "markdown",
      "metadata": {
        "id": "b7BtFwWKhvsY"
      },
      "source": [
        "### By value"
      ]
    },
    {
      "cell_type": "code",
      "metadata": {
        "id": "copJb8kVhyN7",
        "colab": {
          "base_uri": "https://localhost:8080/"
        },
        "outputId": "41ef0354-5ce0-4011-c4b2-a7fe8d418ac8"
      },
      "source": [
        "motor.remove('honda')\r\n",
        "print(motor)\r\n",
        "# remove() deletes only the first occurence of the value we specify"
      ],
      "execution_count": null,
      "outputs": [
        {
          "output_type": "stream",
          "text": [
            "['suzuki']\n"
          ],
          "name": "stdout"
        }
      ]
    },
    {
      "cell_type": "markdown",
      "metadata": {
        "id": "LQFsH7uditC1"
      },
      "source": [
        "## Organizing a List"
      ]
    },
    {
      "cell_type": "markdown",
      "metadata": {
        "id": "N5UNbGXWjEnH"
      },
      "source": [
        "### Sorting a List Permanently with the sort() Method"
      ]
    },
    {
      "cell_type": "code",
      "metadata": {
        "id": "3_8NI2nOjMMc",
        "colab": {
          "base_uri": "https://localhost:8080/"
        },
        "outputId": "2b5503c9-be99-4772-98f2-afca06aeccb9"
      },
      "source": [
        "cars=['bmw','audi','toyota','subaru']\r\n",
        "cars.sort()\r\n",
        "print(cars)\r\n",
        "# You can also sort this in reverse alphabetical order by passing the argument reverse=True to sort() method\r\n",
        "cars.sort(reverse=True)\r\n",
        "print(cars)"
      ],
      "execution_count": null,
      "outputs": [
        {
          "output_type": "stream",
          "text": [
            "['audi', 'bmw', 'subaru', 'toyota']\n",
            "['toyota', 'subaru', 'bmw', 'audi']\n"
          ],
          "name": "stdout"
        }
      ]
    },
    {
      "cell_type": "markdown",
      "metadata": {
        "id": "NPdsD3Vrj4u1"
      },
      "source": [
        "### Sorting a List Temporarily with the sorted() Function"
      ]
    },
    {
      "cell_type": "code",
      "metadata": {
        "id": "Cm6o4b4Lj6_d",
        "colab": {
          "base_uri": "https://localhost:8080/"
        },
        "outputId": "c604b1bf-5957-4f6c-def7-7ffa05989214"
      },
      "source": [
        "print(cars)\r\n",
        "print(sorted(cars))\r\n",
        "print(cars)"
      ],
      "execution_count": null,
      "outputs": [
        {
          "output_type": "stream",
          "text": [
            "['toyota', 'subaru', 'bmw', 'audi']\n",
            "['audi', 'bmw', 'subaru', 'toyota']\n",
            "['toyota', 'subaru', 'bmw', 'audi']\n"
          ],
          "name": "stdout"
        }
      ]
    },
    {
      "cell_type": "markdown",
      "metadata": {
        "id": "f5HwZNfMkpvz"
      },
      "source": [
        "### Reversing a List"
      ]
    },
    {
      "cell_type": "code",
      "metadata": {
        "id": "Yh_S2d2gk0In",
        "colab": {
          "base_uri": "https://localhost:8080/"
        },
        "outputId": "fd4517b8-0bb5-4089-9dac-bb48dbb4cde3"
      },
      "source": [
        "cars=['bmw','audi','toyota','subaru']\r\n",
        "cars.reverse()\r\n",
        "print(cars)"
      ],
      "execution_count": null,
      "outputs": [
        {
          "output_type": "stream",
          "text": [
            "['subaru', 'toyota', 'audi', 'bmw']\n"
          ],
          "name": "stdout"
        }
      ]
    },
    {
      "cell_type": "markdown",
      "metadata": {
        "id": "zmcBpdDIl0hq"
      },
      "source": [
        "### Finding the length of a List"
      ]
    },
    {
      "cell_type": "code",
      "metadata": {
        "id": "4AZPpCE9l9TB",
        "colab": {
          "base_uri": "https://localhost:8080/"
        },
        "outputId": "80815685-764c-4e4c-cef8-f4070b0712a2"
      },
      "source": [
        "len(cars)"
      ],
      "execution_count": null,
      "outputs": [
        {
          "output_type": "execute_result",
          "data": {
            "text/plain": [
              "4"
            ]
          },
          "metadata": {
            "tags": []
          },
          "execution_count": 10
        }
      ]
    },
    {
      "cell_type": "markdown",
      "metadata": {
        "id": "UdlAiytCsFC6"
      },
      "source": [
        "## Making Numerical Lists"
      ]
    },
    {
      "cell_type": "markdown",
      "metadata": {
        "id": "ehcKEwQAsKCq"
      },
      "source": [
        "### Using range() to make a list of Numbers"
      ]
    },
    {
      "cell_type": "code",
      "metadata": {
        "id": "cRqJXVLHsQtb",
        "colab": {
          "base_uri": "https://localhost:8080/"
        },
        "outputId": "0d0f0dda-a2d7-4c81-ed9f-114b52e99b59"
      },
      "source": [
        "numbers=list(range(1,6))\r\n",
        "print(numbers)\r\n",
        "# skip numbers in a given range\r\n",
        "even_numbers=list(range(2,11,2))\r\n",
        "print(even_numbers)"
      ],
      "execution_count": null,
      "outputs": [
        {
          "output_type": "stream",
          "text": [
            "[1, 2, 3, 4, 5]\n",
            "[2, 4, 6, 8, 10]\n"
          ],
          "name": "stdout"
        }
      ]
    },
    {
      "cell_type": "markdown",
      "metadata": {
        "id": "o1YfvnCvuDuu"
      },
      "source": [
        "### Simple Statistics with a List of Numbers"
      ]
    },
    {
      "cell_type": "code",
      "metadata": {
        "id": "o2Y90t9wuQf-",
        "colab": {
          "base_uri": "https://localhost:8080/"
        },
        "outputId": "bf5e6804-f7c1-4e8c-a231-e7ae364fe218"
      },
      "source": [
        "digits=list(range(10))\r\n",
        "print(min(digits),max(digits),sum(digits))"
      ],
      "execution_count": null,
      "outputs": [
        {
          "output_type": "stream",
          "text": [
            "0 9 45\n"
          ],
          "name": "stdout"
        }
      ]
    },
    {
      "cell_type": "markdown",
      "metadata": {
        "id": "zP76585Tugka"
      },
      "source": [
        "### List Comprehension"
      ]
    },
    {
      "cell_type": "code",
      "metadata": {
        "id": "o1JkeW7ruiqk",
        "colab": {
          "base_uri": "https://localhost:8080/"
        },
        "outputId": "4e3cff7f-eca4-479b-ea41-1de2abf1d1cd"
      },
      "source": [
        "squares=[value**2 for value in range(1,11)]\r\n",
        "print(squares)"
      ],
      "execution_count": null,
      "outputs": [
        {
          "output_type": "stream",
          "text": [
            "[1, 4, 9, 16, 25, 36, 49, 64, 81, 100]\n"
          ],
          "name": "stdout"
        }
      ]
    },
    {
      "cell_type": "markdown",
      "metadata": {
        "id": "cV_HqwzwvHh5"
      },
      "source": [
        "## Working with Part of a List\r\n",
        "### Slicing a List"
      ]
    },
    {
      "cell_type": "code",
      "metadata": {
        "id": "WBzJvy7ovKWc",
        "colab": {
          "base_uri": "https://localhost:8080/"
        },
        "outputId": "ae99622c-f845-4a5b-8c2f-da0119625d88"
      },
      "source": [
        "players=['charles','martina','michael','florence','eli']\r\n",
        "print(players[0:3])\r\n",
        "print(players[1:4])\r\n",
        "print(players[:4])\r\n",
        "print(players[2:])\r\n",
        "print(players[-3:])# the last three\r\n",
        "print(players[::2])# skip"
      ],
      "execution_count": null,
      "outputs": [
        {
          "output_type": "stream",
          "text": [
            "['charles', 'martina', 'michael']\n",
            "['martina', 'michael', 'florence']\n",
            "['charles', 'martina', 'michael', 'florence']\n",
            "['michael', 'florence', 'eli']\n",
            "['michael', 'florence', 'eli']\n",
            "['charles', 'michael', 'eli']\n"
          ],
          "name": "stdout"
        }
      ]
    },
    {
      "cell_type": "markdown",
      "metadata": {
        "id": "vbVAVLmewyIT"
      },
      "source": [
        "### Copying a List"
      ]
    },
    {
      "cell_type": "code",
      "metadata": {
        "id": "cXyPgYYFw8M6",
        "colab": {
          "base_uri": "https://localhost:8080/"
        },
        "outputId": "16c6c4c0-321d-4bad-e23e-a512eb01a12e"
      },
      "source": [
        "food=['pizza','falafel','carrot cake']\r\n",
        "friend_food=food[:]\r\n",
        "food.append('steak')\r\n",
        "print(food,friend_food)"
      ],
      "execution_count": null,
      "outputs": [
        {
          "output_type": "stream",
          "text": [
            "['pizza', 'falafel', 'carrot cake', 'steak'] ['pizza', 'falafel', 'carrot cake']\n"
          ],
          "name": "stdout"
        }
      ]
    },
    {
      "cell_type": "markdown",
      "metadata": {
        "id": "8M5DjjZfRX54"
      },
      "source": [
        "## Checking That a List Is Not Empty"
      ]
    },
    {
      "cell_type": "code",
      "metadata": {
        "id": "FGbHeSlYRhja",
        "colab": {
          "base_uri": "https://localhost:8080/"
        },
        "outputId": "33c56842-ec27-489b-db15-24f1fdecf56e"
      },
      "source": [
        "requested_toppings=[]\r\n",
        "if requested_toppings:\r\n",
        "  for r in requested_toppings:\r\n",
        "    print(r)\r\n",
        "else:\r\n",
        "  print('No toppings')"
      ],
      "execution_count": null,
      "outputs": [
        {
          "output_type": "stream",
          "text": [
            "No toppings\n"
          ],
          "name": "stdout"
        }
      ]
    },
    {
      "cell_type": "code",
      "metadata": {
        "id": "7J4owe6zYV7Y",
        "colab": {
          "base_uri": "https://localhost:8080/"
        },
        "outputId": "9c2f8d58-ed72-4264-85f2-500280e635dd"
      },
      "source": [
        "!python -V"
      ],
      "execution_count": null,
      "outputs": [
        {
          "output_type": "stream",
          "text": [
            "Python 3.7.9\n"
          ],
          "name": "stdout"
        }
      ]
    },
    {
      "cell_type": "markdown",
      "metadata": {
        "id": "Dc7hA933yUX8"
      },
      "source": [
        "# Tuples\r\n",
        "Python refers to values that cannot change as immutable, and a immutable list is called tuple.\r\n",
        "\r\n",
        "Tuples are technically defined by the presence of a ***comma***; the parentheses make them look neater and more readable. If we want to define a tuple with one element, we need to include a ***trailing comma***"
      ]
    },
    {
      "cell_type": "code",
      "metadata": {
        "id": "qNSs-mimyV-W"
      },
      "source": [
        "my_t=(2,)"
      ],
      "execution_count": null,
      "outputs": []
    },
    {
      "cell_type": "markdown",
      "metadata": {
        "id": "zRPo5l7v0u8y"
      },
      "source": [
        "## Writing over a Tuple\r\n",
        "* Although we cannot modify a tuple, we can assign a new value to a variable that represents a tuple."
      ]
    },
    {
      "cell_type": "code",
      "metadata": {
        "id": "ZYl43nDm0t7M",
        "colab": {
          "base_uri": "https://localhost:8080/"
        },
        "outputId": "9165927e-d977-40bf-da4f-3185a7e8d88c"
      },
      "source": [
        "dimensions=(200,50)\r\n",
        "for dim in dimensions:\r\n",
        "  print(dim)\r\n",
        "dimensions=(400,100)\r\n",
        "for dim in dimensions:\r\n",
        "  print(dim)"
      ],
      "execution_count": null,
      "outputs": [
        {
          "output_type": "stream",
          "text": [
            "200\n",
            "50\n",
            "400\n",
            "100\n"
          ],
          "name": "stdout"
        }
      ]
    },
    {
      "cell_type": "markdown",
      "metadata": {
        "id": "atKmKQ9IYu7E"
      },
      "source": [
        "# Dict"
      ]
    },
    {
      "cell_type": "markdown",
      "metadata": {
        "id": "8M5pGoUDZQIw"
      },
      "source": [
        "In python, a dictionary is wrapped in braces {}"
      ]
    },
    {
      "cell_type": "code",
      "metadata": {
        "id": "jWblpX_-Y8LC",
        "colab": {
          "base_uri": "https://localhost:8080/"
        },
        "outputId": "19686dd5-0287-4bbb-b484-0087bcc6dadd"
      },
      "source": [
        "alien_0={'color':'green','point':5}\r\n",
        "print(alien_0['color'])\r\n",
        "print(alien_0['point'])\r\n",
        "alien_0['color']='yellow'\r\n",
        "alien_0['x_position']=0\r\n",
        "alien_0['y_position']=25\r\n",
        "print(alien_0)"
      ],
      "execution_count": null,
      "outputs": [
        {
          "output_type": "stream",
          "text": [
            "green\n",
            "5\n",
            "{'color': 'yellow', 'point': 5, 'x_position': 0, 'y_position': 25}\n"
          ],
          "name": "stdout"
        }
      ]
    },
    {
      "cell_type": "markdown",
      "metadata": {
        "id": "wGkAYeyHZzXM"
      },
      "source": [
        "## Removing Key-Value Pairs"
      ]
    },
    {
      "cell_type": "code",
      "metadata": {
        "id": "1krJ8kboZ3Ya",
        "colab": {
          "base_uri": "https://localhost:8080/"
        },
        "outputId": "e63c9e85-6301-43c9-821d-825a34f49b11"
      },
      "source": [
        "print(alien_0)\r\n",
        "del alien_0['point']\r\n",
        "print(alien_0)"
      ],
      "execution_count": null,
      "outputs": [
        {
          "output_type": "stream",
          "text": [
            "{'color': 'yellow', 'point': 5, 'x_position': 0, 'y_position': 25}\n",
            "{'color': 'yellow', 'x_position': 0, 'y_position': 25}\n"
          ],
          "name": "stdout"
        }
      ]
    },
    {
      "cell_type": "code",
      "metadata": {
        "id": "N2PnZc_5atTv"
      },
      "source": [
        "favorite_languages={\r\n",
        "    'jen':'python',\r\n",
        "    'sarah':'c',\r\n",
        "    'edward':'ruby',\r\n",
        "    'phil':'python',# It's good practice to include a comma after the last key-value pair as well\r\n",
        "}"
      ],
      "execution_count": null,
      "outputs": []
    },
    {
      "cell_type": "markdown",
      "metadata": {
        "id": "-ZMxuHkJbPfw"
      },
      "source": [
        "## Using get() to Access Values\r\n",
        "Using keys in square brackets to retrieve the value might cause one potential problem: if the key you ask for does't exist, you'll get an error.\r\n",
        "\r\n",
        "The get() method required a key as the first argument. As a second optional argument, you can pass the value to be returned if the key doesn't exist. The defalut value of second argument is None"
      ]
    },
    {
      "cell_type": "code",
      "metadata": {
        "id": "w85bCu4vbPH8",
        "colab": {
          "base_uri": "https://localhost:8080/"
        },
        "outputId": "276e7800-b999-4473-bd53-26f763b65127"
      },
      "source": [
        "speed=alien_0.get('speed','No point value assigned')\r\n",
        "print(speed)\r\n",
        "speed=alien_0.get('speed')\r\n",
        "print(speed)"
      ],
      "execution_count": null,
      "outputs": [
        {
          "output_type": "stream",
          "text": [
            "No point value assigned\n",
            "None\n"
          ],
          "name": "stdout"
        }
      ]
    },
    {
      "cell_type": "markdown",
      "metadata": {
        "id": "pWUNlV84Qu2K"
      },
      "source": [
        "## Looping Through a Dictionary"
      ]
    },
    {
      "cell_type": "markdown",
      "metadata": {
        "id": "QbIymVvOQ8LZ"
      },
      "source": [
        "### Looping Through All Key-Value Pairs"
      ]
    },
    {
      "cell_type": "code",
      "metadata": {
        "id": "zUOHeVtkRFJp",
        "colab": {
          "base_uri": "https://localhost:8080/"
        },
        "outputId": "567d2d27-4629-4b34-f5f1-1ab071a8cafa"
      },
      "source": [
        "user_0={\r\n",
        "    'username':'efermi',\r\n",
        "    'first':'enrico',\r\n",
        "    'last':'fermi',\r\n",
        "}\r\n",
        "for key,value in user_0.items():\r\n",
        "  print(f\"\\nKey:{key}\")\r\n",
        "  print(f\"Value:{value}\")"
      ],
      "execution_count": null,
      "outputs": [
        {
          "output_type": "stream",
          "text": [
            "\n",
            "Key:username\n",
            "Value:efermi\n",
            "\n",
            "Key:first\n",
            "Value:enrico\n",
            "\n",
            "Key:last\n",
            "Value:fermi\n"
          ],
          "name": "stdout"
        }
      ]
    },
    {
      "cell_type": "markdown",
      "metadata": {
        "id": "1siGWfeDRxHv"
      },
      "source": [
        "### Looping Through All keys in a Dictionary"
      ]
    },
    {
      "cell_type": "code",
      "metadata": {
        "id": "XNpn8noYR2kp",
        "colab": {
          "base_uri": "https://localhost:8080/"
        },
        "outputId": "610facf4-28f5-48e4-e8d5-4ac830bc492d"
      },
      "source": [
        "favorite_languages={\r\n",
        "    'jen':'python',\r\n",
        "    'sarah':'c',\r\n",
        "    'edward':'ruby',\r\n",
        "    'phil':'python',\r\n",
        "}\r\n",
        "for name in favorite_languages.keys():\r\n",
        "  print(name.title())\r\n",
        "# Looping through the keys is actually the default behavior, so it's same as:\r\n",
        "for name in favorite_languages:\r\n",
        "  print(name.title())\r\n",
        "# Using keys makes the code easier to read"
      ],
      "execution_count": null,
      "outputs": [
        {
          "output_type": "stream",
          "text": [
            "Jen\n",
            "Sarah\n",
            "Edward\n",
            "Phil\n",
            "Jen\n",
            "Sarah\n",
            "Edward\n",
            "Phil\n"
          ],
          "name": "stdout"
        }
      ]
    },
    {
      "cell_type": "code",
      "metadata": {
        "id": "yusxaLIcS_Rd",
        "colab": {
          "base_uri": "https://localhost:8080/"
        },
        "outputId": "cf4aaf05-0376-46dc-ee51-3d61e50818fc"
      },
      "source": [
        "# checking if a key is in the dictionary\r\n",
        "if 'erin' not in favorite_languages.keys(): # omit the keys() if you want\r\n",
        "  print(\"Erin, please take the poll\")"
      ],
      "execution_count": null,
      "outputs": [
        {
          "output_type": "stream",
          "text": [
            "Erin, please take the poll\n"
          ],
          "name": "stdout"
        }
      ]
    },
    {
      "cell_type": "markdown",
      "metadata": {
        "id": "BU8LUD-CS-Ml"
      },
      "source": [
        "### Loopint Through a Dictionary's Keys in a Particular Order"
      ]
    },
    {
      "cell_type": "code",
      "metadata": {
        "id": "FCuksypxTmWD",
        "colab": {
          "base_uri": "https://localhost:8080/"
        },
        "outputId": "a430b17b-b9ec-4f19-be0b-bfc3fc665c22"
      },
      "source": [
        "for name in sorted(favorite_languages.keys()):# omit the keys() if you want\r\n",
        "  print(name.title())"
      ],
      "execution_count": null,
      "outputs": [
        {
          "output_type": "stream",
          "text": [
            "Edward\n",
            "Jen\n",
            "Phil\n",
            "Sarah\n"
          ],
          "name": "stdout"
        }
      ]
    },
    {
      "cell_type": "markdown",
      "metadata": {
        "id": "r5QePmG_UbNJ"
      },
      "source": [
        "### Looping Through All Values in a Dictionary"
      ]
    },
    {
      "cell_type": "code",
      "metadata": {
        "id": "M3WFjcjoUf-C",
        "colab": {
          "base_uri": "https://localhost:8080/"
        },
        "outputId": "0549d26d-6bf6-43fe-9620-7942d6c0567e"
      },
      "source": [
        "for language in favorite_languages.values():\r\n",
        "  print(language.title())\r\n",
        "# This approach pulls all the values from the dictionary without checking for repeats.\r\n",
        "# Too see each language chosen without repetition, we can use a set. A set is a colleciton in which each item must be unique\r\n",
        "print('***************')\r\n",
        "for language in set(favorite_languages.values()):\r\n",
        "  print(language.title())"
      ],
      "execution_count": null,
      "outputs": [
        {
          "output_type": "stream",
          "text": [
            "Python\n",
            "C\n",
            "Ruby\n",
            "Python\n",
            "***************\n",
            "Ruby\n",
            "Python\n",
            "C\n"
          ],
          "name": "stdout"
        }
      ]
    },
    {
      "cell_type": "markdown",
      "metadata": {
        "id": "Zi814HPRVufa"
      },
      "source": [
        "Unlike list and dictionary, set does not retain items in any specific order."
      ]
    },
    {
      "cell_type": "markdown",
      "metadata": {
        "id": "A7TPPqXcV8H7"
      },
      "source": [
        "## Nesting\r\n",
        "Sometimes you’ll want to store multiple dictionaries in a list, or a list of items as a value in a dictionary. This is called nesting."
      ]
    },
    {
      "cell_type": "markdown",
      "metadata": {
        "id": "zR9zchYNXdyO"
      },
      "source": [
        "### A List of Dictionaries"
      ]
    },
    {
      "cell_type": "code",
      "metadata": {
        "id": "Q1Zy5_53V-39",
        "colab": {
          "base_uri": "https://localhost:8080/"
        },
        "outputId": "766d3f19-1735-4223-a5c1-0f906b7769fb"
      },
      "source": [
        "alien_0 = {'color': 'green', 'points': 5}\r\n",
        "alien_1 = {'color': 'yellow', 'points': 10}\r\n",
        "alien_2 = {'color': 'red', 'points': 15}\r\n",
        "aliens = [alien_0, alien_1, alien_2]\r\n",
        "for alien in aliens:\r\n",
        "  print(alien)"
      ],
      "execution_count": null,
      "outputs": [
        {
          "output_type": "stream",
          "text": [
            "{'color': 'green', 'points': 5}\n",
            "{'color': 'yellow', 'points': 10}\n",
            "{'color': 'red', 'points': 15}\n"
          ],
          "name": "stdout"
        }
      ]
    },
    {
      "cell_type": "markdown",
      "metadata": {
        "id": "VgGotct9XiGU"
      },
      "source": [
        "### A List in a Dicitonary"
      ]
    },
    {
      "cell_type": "code",
      "metadata": {
        "id": "rpIfOMDJXngl",
        "colab": {
          "base_uri": "https://localhost:8080/"
        },
        "outputId": "a1093fed-0ba7-4109-958c-a33c5f1d8551"
      },
      "source": [
        "# Store information about a pizza being ordered\r\n",
        "pizza = {    \r\n",
        "    'crust': 'thick',    \r\n",
        "    'toppings': ['mushrooms', 'extra cheese'],    \r\n",
        "  }\r\n",
        "# Summarize the order.\r\n",
        "print(f\"You ordered a {pizza['crust']}-crust pizza \"\"with the following toppings:\")\r\n",
        "for topping in pizza['toppings']:    \r\n",
        "  print(\"\\t\" + topping)"
      ],
      "execution_count": null,
      "outputs": [
        {
          "output_type": "stream",
          "text": [
            "You ordered a thick-crust pizza with the following toppings:\n",
            "\tmushrooms\n",
            "\textra cheese\n"
          ],
          "name": "stdout"
        }
      ]
    },
    {
      "cell_type": "code",
      "metadata": {
        "id": "rG2Bo1uQZAYb",
        "colab": {
          "base_uri": "https://localhost:8080/"
        },
        "outputId": "92e46b20-c5f3-42f2-e2c7-6041e0b54d11"
      },
      "source": [
        "favorite_languages = {    \r\n",
        "    'jen': ['python', 'ruby'],    \r\n",
        "    'sarah': ['c'],    \r\n",
        "    'edward': ['ruby', 'go'],    \r\n",
        "    'phil': ['python', 'haskell'],    \r\n",
        "  }\r\n",
        "for name, languages in favorite_languages.items():\r\n",
        "  print(f\"\\n{name.title()}'s favorite languages are:\")    \r\n",
        "  for language in languages:        \r\n",
        "    print(\"\\t\"+language.title())"
      ],
      "execution_count": null,
      "outputs": [
        {
          "output_type": "stream",
          "text": [
            "\n",
            "Jen's favorite languages are:\n",
            "\tPython\n",
            "\tRuby\n",
            "\n",
            "Sarah's favorite languages are:\n",
            "\tC\n",
            "\n",
            "Edward's favorite languages are:\n",
            "\tRuby\n",
            "\tGo\n",
            "\n",
            "Phil's favorite languages are:\n",
            "\tPython\n",
            "\tHaskell\n"
          ],
          "name": "stdout"
        }
      ]
    },
    {
      "cell_type": "markdown",
      "metadata": {
        "id": "1jWZW3t7ZhYg"
      },
      "source": [
        "Notes: you should not nest lists and dictionaries too deeply. If you’re nesting items much deeper than what you see in the preceding examples or you’re working with someone else’s code with significant levels of nesting, most likely a simpler way to solve the problem exists."
      ]
    },
    {
      "cell_type": "markdown",
      "metadata": {
        "id": "rihMKcZ8Znz6"
      },
      "source": [
        "### A Dictionary in a Dictionary"
      ]
    },
    {
      "cell_type": "code",
      "metadata": {
        "id": "munpnd0ZZtRQ",
        "colab": {
          "base_uri": "https://localhost:8080/"
        },
        "outputId": "7bd145d9-9973-4917-f164-06f6e4d361fb"
      },
      "source": [
        "users = {    \r\n",
        "    'aeinstein': {        \r\n",
        "        'first': 'albert',\r\n",
        "        'last': 'einstein',        \r\n",
        "        'location': 'princeton',        \r\n",
        "      },    \r\n",
        "    'mcurie': {        \r\n",
        "        'first': 'marie',        \r\n",
        "        'last': 'curie',        \r\n",
        "        'location': 'paris',        \r\n",
        "      },    \r\n",
        "  } \r\n",
        "for username, user_info in users.items():     \r\n",
        "  print(f\"\\nUsername: {username}\")     \r\n",
        "  full_name = f\"{user_info['first']} {user_info['last']}\"    \r\n",
        "  location = user_info['location']     \r\n",
        "  print(f\"\\tFull name: {full_name.title()}\")\r\n",
        "  print(f\"\\tLocation: {location.title()}\")"
      ],
      "execution_count": null,
      "outputs": [
        {
          "output_type": "stream",
          "text": [
            "\n",
            "Username: aeinstein\n",
            "\tFull name: Albert Einstein\n",
            "\tLocation: Princeton\n",
            "\n",
            "Username: mcurie\n",
            "\tFull name: Marie Curie\n",
            "\tLocation: Paris\n"
          ],
          "name": "stdout"
        }
      ]
    },
    {
      "cell_type": "markdown",
      "metadata": {
        "id": "ne2mEdZASPHX"
      },
      "source": [
        "# Input"
      ]
    },
    {
      "cell_type": "code",
      "metadata": {
        "id": "z8o8dxRTSZRA",
        "colab": {
          "base_uri": "https://localhost:8080/"
        },
        "outputId": "daa33e53-3ad9-46d4-e2fe-f494e1f5981a"
      },
      "source": [
        "message=input(\"Tell me something, and I will repeat back to you: \")\r\n",
        "print(message)"
      ],
      "execution_count": null,
      "outputs": [
        {
          "output_type": "stream",
          "text": [
            "Tell me something, and I will repeat back to you: hello\n",
            "hello\n"
          ],
          "name": "stdout"
        }
      ]
    },
    {
      "cell_type": "markdown",
      "metadata": {
        "id": "SSUBTdENTjfw"
      },
      "source": [
        "## Using int() to Accept Numerical Input"
      ]
    },
    {
      "cell_type": "code",
      "metadata": {
        "id": "jJGZTHfKTt-q",
        "colab": {
          "base_uri": "https://localhost:8080/"
        },
        "outputId": "77b09a68-8d6d-4ba0-9a2c-5bd7ccdc291a"
      },
      "source": [
        "# Python interprets everthing the user enters as a string\r\n",
        "age=input(\"How old are you? \")\r\n",
        "age=int(age)\r\n",
        "age>=18"
      ],
      "execution_count": null,
      "outputs": [
        {
          "output_type": "stream",
          "text": [
            "How old are you? 21\n"
          ],
          "name": "stdout"
        },
        {
          "output_type": "execute_result",
          "data": {
            "text/plain": [
              "True"
            ]
          },
          "metadata": {
            "tags": []
          },
          "execution_count": 3
        }
      ]
    },
    {
      "cell_type": "markdown",
      "metadata": {
        "id": "KDbY_F8gU8TX"
      },
      "source": [
        "# Using While Loop with Lists and Dictionaries\r\n"
      ]
    },
    {
      "cell_type": "markdown",
      "metadata": {
        "id": "gfGbnFw6W3qx"
      },
      "source": [
        "## Removing All Instances of Specific Values from a List"
      ]
    },
    {
      "cell_type": "code",
      "metadata": {
        "id": "hveRAlrhVYKb",
        "colab": {
          "base_uri": "https://localhost:8080/"
        },
        "outputId": "6c045215-bf8a-42a0-ce57-2713d5b0847a"
      },
      "source": [
        "pets=['dog','cat','dog','goldfish','cat','rabbit','cat']\r\n",
        "print(pets)\r\n",
        "while 'cat' in pets:\r\n",
        "  pets.remove('cat')\r\n",
        "print(pets)"
      ],
      "execution_count": null,
      "outputs": [
        {
          "output_type": "stream",
          "text": [
            "['dog', 'cat', 'dog', 'goldfish', 'cat', 'rabbit', 'cat']\n",
            "['dog', 'dog', 'goldfish', 'rabbit']\n"
          ],
          "name": "stdout"
        }
      ]
    },
    {
      "cell_type": "markdown",
      "metadata": {
        "id": "fSqpAJZ9XO2N"
      },
      "source": [
        "## Filling a Dictionary with User Input"
      ]
    },
    {
      "cell_type": "code",
      "metadata": {
        "id": "F_xl_RJmXSJk",
        "colab": {
          "base_uri": "https://localhost:8080/"
        },
        "outputId": "fa2ff8f3-6bbe-41ed-8fed-c28e21210749"
      },
      "source": [
        "responses={}\r\n",
        "polling_active=True\r\n",
        "while polling_active:\r\n",
        "  name=input(\"\\nWhat is your name？ \")\r\n",
        "  response=input(\"Which mountain would you like to climb someday? \")\r\n",
        "  responses[name]=response\r\n",
        "  repeat=input('Would you like to let another person respond? (yes/no)')\r\n",
        "  if repeat=='no':\r\n",
        "    polling_active=False\r\n",
        "print('---Polling Results---')\r\n",
        "for name,response in responses.items():\r\n",
        "  print(f\"{name} would like to climb {response}\")"
      ],
      "execution_count": null,
      "outputs": [
        {
          "output_type": "stream",
          "text": [
            "\n",
            "What is your name？ Jack\n",
            "Which mountain would you like to climb someday? FUJI\n",
            "Would you like to let another person respond? (yes/no)no\n",
            "---Polling Results---\n",
            "Jack would like to climb FUJI\n"
          ],
          "name": "stdout"
        }
      ]
    },
    {
      "cell_type": "markdown",
      "metadata": {
        "id": "LTm12x-aYqtR"
      },
      "source": [
        "# Functions"
      ]
    },
    {
      "cell_type": "markdown",
      "metadata": {
        "id": "rdZ2cdn8YsgE"
      },
      "source": [
        "## Defining a Function"
      ]
    },
    {
      "cell_type": "code",
      "metadata": {
        "id": "qHmACThMYsIo",
        "colab": {
          "base_uri": "https://localhost:8080/"
        },
        "outputId": "d1b04b3a-9bc2-496e-c8da-8f56cc91e898"
      },
      "source": [
        "def greet_user():\r\n",
        "  \"\"\"Display a simple greeting\"\"\" # This is a comment called docstring\r\n",
        "  print('Hello')\r\n",
        "greet_user()"
      ],
      "execution_count": null,
      "outputs": [
        {
          "output_type": "stream",
          "text": [
            "Hello\n"
          ],
          "name": "stdout"
        }
      ]
    },
    {
      "cell_type": "markdown",
      "metadata": {
        "id": "kajAM9LVaDpd"
      },
      "source": [
        "## Passing Information to a Funciton"
      ]
    },
    {
      "cell_type": "code",
      "metadata": {
        "id": "stAnNXmnaHOM",
        "colab": {
          "base_uri": "https://localhost:8080/"
        },
        "outputId": "c2705576-bab2-41dc-e320-87c2d6dfde3b"
      },
      "source": [
        "def greet_user(username):# username is a parameter\r\n",
        "  \"\"\"Display a simple greeting\"\"\"\r\n",
        "  print('Hello '+username.title())\r\n",
        "greet_user('jack')# 'jack' is an argument"
      ],
      "execution_count": null,
      "outputs": [
        {
          "output_type": "stream",
          "text": [
            "Hello Jack\n"
          ],
          "name": "stdout"
        }
      ]
    },
    {
      "cell_type": "markdown",
      "metadata": {
        "id": "fKCbi9Xga5kn"
      },
      "source": [
        "## Passing Arguments"
      ]
    },
    {
      "cell_type": "markdown",
      "metadata": {
        "id": "7rM9soBva8f3"
      },
      "source": [
        "### Positional Arguments"
      ]
    },
    {
      "cell_type": "code",
      "metadata": {
        "id": "K0HhtUJ6a7jq",
        "colab": {
          "base_uri": "https://localhost:8080/"
        },
        "outputId": "0774957d-2c05-4931-e0e0-abf2fd3caa91"
      },
      "source": [
        "def describe_pet(animal_type, pet_name):\r\n",
        "  \"\"\"Display information about a pet.\"\"\"    \r\n",
        "  print(f\"\\nI have a {animal_type}.\")    \r\n",
        "  print(f\"My {animal_type}'s name is {pet_name.title()}.\") \r\n",
        "describe_pet('hamster', 'harry')\r\n",
        "# order matters in positional arguments"
      ],
      "execution_count": null,
      "outputs": [
        {
          "output_type": "stream",
          "text": [
            "\n",
            "I have a hamster.\n",
            "My hamster's name is Harry.\n"
          ],
          "name": "stdout"
        }
      ]
    },
    {
      "cell_type": "markdown",
      "metadata": {
        "id": "KLqCBRSobwJQ"
      },
      "source": [
        "### Keyword Arguments"
      ]
    },
    {
      "cell_type": "code",
      "metadata": {
        "id": "-bNGCqonb3Mx",
        "colab": {
          "base_uri": "https://localhost:8080/"
        },
        "outputId": "d2e303ac-fa0c-4b8a-9038-309f016396a8"
      },
      "source": [
        "describe_pet(pet_name='Harry',animal_type='fish')"
      ],
      "execution_count": null,
      "outputs": [
        {
          "output_type": "stream",
          "text": [
            "\n",
            "I have a fish.\n",
            "My fish's name is Harry.\n"
          ],
          "name": "stdout"
        }
      ]
    },
    {
      "cell_type": "markdown",
      "metadata": {
        "id": "Lmd3DMRMdAYF"
      },
      "source": [
        "### Default Arguments"
      ]
    },
    {
      "cell_type": "code",
      "metadata": {
        "id": "y_WSVkBxdDvV",
        "colab": {
          "base_uri": "https://localhost:8080/"
        },
        "outputId": "717fe0d5-6512-4588-8518-57f28b089937"
      },
      "source": [
        "def describe_pet(animal_type, pet_name='Josh'):# default arguments should follow non-default argument\r\n",
        "  \"\"\"Display information about a pet.\"\"\"    \r\n",
        "  print(f\"\\nI have a {animal_type}.\")    \r\n",
        "  print(f\"My {animal_type}'s name is {pet_name.title()}.\") \r\n",
        "describe_pet('dog')"
      ],
      "execution_count": null,
      "outputs": [
        {
          "output_type": "stream",
          "text": [
            "\n",
            "I have a dog.\n",
            "My dog's name is Josh.\n"
          ],
          "name": "stdout"
        }
      ]
    },
    {
      "cell_type": "markdown",
      "metadata": {
        "id": "XAs_BrrjdhrY"
      },
      "source": [
        "## Return Values"
      ]
    },
    {
      "cell_type": "markdown",
      "metadata": {
        "id": "ymax_0w3doL6"
      },
      "source": [
        "### Returning a Simple Value"
      ]
    },
    {
      "cell_type": "code",
      "metadata": {
        "id": "dxBOJmUqdsRz",
        "colab": {
          "base_uri": "https://localhost:8080/"
        },
        "outputId": "668cd0e0-dde9-479c-83c0-4470f910e95a"
      },
      "source": [
        "def get_formatted_name(first_name, last_name):    \r\n",
        "  \"\"\"Return a full name, neatly formatted.\"\"\"     \r\n",
        "  full_name = f\"{first_name} {last_name}\"\r\n",
        "  return full_name.title() \r\n",
        "musician = get_formatted_name('jimi', 'hendrix')\r\n",
        "print(musician)"
      ],
      "execution_count": null,
      "outputs": [
        {
          "output_type": "stream",
          "text": [
            "Jimi Hendrix\n"
          ],
          "name": "stdout"
        }
      ]
    },
    {
      "cell_type": "markdown",
      "metadata": {
        "id": "ZTF_OWlmeEK4"
      },
      "source": [
        "### Making an Argument Optional"
      ]
    },
    {
      "cell_type": "code",
      "metadata": {
        "id": "PIwALTz8eHr0",
        "colab": {
          "base_uri": "https://localhost:8080/"
        },
        "outputId": "424726c1-e6aa-4582-c9de-445f9b9864ae"
      },
      "source": [
        "def build_person(fisrt_name,last_name,age=None):\r\n",
        "  \"\"\"Return a dictionary of information about a person\"\"\"\r\n",
        "  person={'fisrt':fisrt_name,'last':last_name}\r\n",
        "  if age:\r\n",
        "    person['age']=age\r\n",
        "  return person\r\n",
        "musician=build_person('jimi','hendrix',27)\r\n",
        "print(musician)"
      ],
      "execution_count": null,
      "outputs": [
        {
          "output_type": "stream",
          "text": [
            "{'fisrt': 'jimi', 'last': 'hendrix', 'age': 27}\n"
          ],
          "name": "stdout"
        }
      ]
    },
    {
      "cell_type": "markdown",
      "metadata": {
        "id": "_374AxANhQwI"
      },
      "source": [
        "## Passing an Arbitary Number of Arguments"
      ]
    },
    {
      "cell_type": "code",
      "metadata": {
        "id": "4_cwjpgRhUoz",
        "colab": {
          "base_uri": "https://localhost:8080/"
        },
        "outputId": "4f996b96-ab5d-49e3-afce-27e762b43998"
      },
      "source": [
        "def make_pizza(*toppings):\r\n",
        "  \"\"\"Print the list of toppings that have been requested\"\"\"\r\n",
        "  print(toppings)\r\n",
        "make_pizza('pepperoni')\r\n",
        "make_pizza('mushrooms','green peppers','extra cheese')"
      ],
      "execution_count": null,
      "outputs": [
        {
          "output_type": "stream",
          "text": [
            "('pepperoni',)\n",
            "('mushrooms', 'green peppers', 'extra cheese')\n"
          ],
          "name": "stdout"
        }
      ]
    },
    {
      "cell_type": "markdown",
      "metadata": {
        "id": "Leje0jcvh8_B"
      },
      "source": [
        "### Mixing Positional and Arbitary Arguments"
      ]
    },
    {
      "cell_type": "code",
      "metadata": {
        "id": "yIvbswf0iCG7",
        "colab": {
          "base_uri": "https://localhost:8080/"
        },
        "outputId": "b7f2a5ce-e264-46f9-f3e6-06dd115ccfe1"
      },
      "source": [
        "def make_pizza(size,*toppings):# the parameter that accepts an arbitary number of arguments must be placed last in the function definition\r\n",
        "  \"\"\"Summarize the pizza we are about to make.\"\"\"    \r\n",
        "  print(f\"\\nMaking a {size}-inch pizza with the following toppings:\")     \r\n",
        "  for topping in toppings:         \r\n",
        "    print(f\"- {topping}\")\r\n",
        "make_pizza(16,'pepperoni')\r\n",
        "make_pizza(12,'mushrooms','green peppers','extra cheese')"
      ],
      "execution_count": null,
      "outputs": [
        {
          "output_type": "stream",
          "text": [
            "\n",
            "Making a 16-inch pizza with the following toppings:\n",
            "- pepperoni\n",
            "\n",
            "Making a 12-inch pizza with the following toppings:\n",
            "- mushrooms\n",
            "- green peppers\n",
            "- extra cheese\n"
          ],
          "name": "stdout"
        }
      ]
    },
    {
      "cell_type": "markdown",
      "metadata": {
        "id": "TF_dABwsjfkH"
      },
      "source": [
        "### Using Arbitary Keyword Arguments"
      ]
    },
    {
      "cell_type": "code",
      "metadata": {
        "id": "fjmWng1LjtvF",
        "colab": {
          "base_uri": "https://localhost:8080/"
        },
        "outputId": "65d1ceca-0256-4d18-d4bb-f86c8f920c0a"
      },
      "source": [
        "def build_profile(first, last, **user_info):## **user_info cause Python to create an empty dictionary called user_info and pack whatever name-value pairs\r\n",
        "  \"\"\"Build a dictionary containing everything we know about a user.\"\"\"\r\n",
        "  user_info['first_name'] = first   \r\n",
        "  user_info['last_name'] = last    \r\n",
        "  return user_info\r\n",
        "user_profile = build_profile('albert', 'einstein',\r\n",
        "                location='princeton',                             \r\n",
        "                field='physics')\r\n",
        "print(user_profile)"
      ],
      "execution_count": null,
      "outputs": [
        {
          "output_type": "stream",
          "text": [
            "{'location': 'princeton', 'field': 'physics', 'first_name': 'albert', 'last_name': 'einstein'}\n"
          ],
          "name": "stdout"
        }
      ]
    },
    {
      "cell_type": "markdown",
      "metadata": {
        "id": "dXCVGYgrkfsq"
      },
      "source": [
        "## Styling Functions\r\n",
        "* You need to keep a few details in mind when you’re styling functions. Functions \r\n",
        "should have **descriptive names**, and these names should **use lowercase letters and underscores**.\r\n",
        "* Every function should have a comment that explains concisely what the function does. This comment should appear immediately after the function definition and use the docstring format.\r\n",
        "* If your program or module has more than one function, you can separate each by two blank lines to make it easier to see where one function ends and the next one begins."
      ]
    },
    {
      "cell_type": "markdown",
      "metadata": {
        "id": "r41FeySflLVJ"
      },
      "source": [
        "# Class"
      ]
    },
    {
      "cell_type": "markdown",
      "metadata": {
        "id": "gCZm_U2fmXQo"
      },
      "source": [
        "## Creating and Using a Class"
      ]
    },
    {
      "cell_type": "markdown",
      "metadata": {
        "id": "yb4YWcJvmvBD"
      },
      "source": [
        "### Creating the Dog Class"
      ]
    },
    {
      "cell_type": "code",
      "metadata": {
        "id": "NSHZZyGdmag_"
      },
      "source": [
        "class Dog:# By convention, capitalized names refer to classes in Python\r\n",
        "  \"\"\"A simple attemp to model a dog.\"\"\"\r\n",
        "  \r\n",
        "  def __init__(self,name,age):# run automatically whenever we create a new instance based on the class. \r\n",
        "  #self must come first before the other parameters and is passed automatically\r\n",
        "    \"\"\"Initialize name and age attributes.\"\"\"\r\n",
        "    self.name=name\r\n",
        "    self.age=age\r\n",
        "    # any variable prefixed with self is available to every method in the class,\r\n",
        "    # and we'll also be able to access these variables through any instance created from the class\r\n",
        "\r\n",
        "  def sit(self):\r\n",
        "    \"\"\"Simulate a dog sitting in response to a command\"\"\"\r\n",
        "    print(f\"{self.name} is now sitting.\")\r\n",
        "\r\n",
        "  def roll_over(self):\r\n",
        "    \"\"\"Simulate rolling over in response to a command\"\"\"\r\n",
        "    print(f\"{self.name} rolled over!\")\r\n"
      ],
      "execution_count": null,
      "outputs": []
    },
    {
      "cell_type": "markdown",
      "metadata": {
        "id": "-qJV994-qRm7"
      },
      "source": [
        "### Making an Instance from a Class"
      ]
    },
    {
      "cell_type": "code",
      "metadata": {
        "id": "6V3f2DvhqZ7v",
        "colab": {
          "base_uri": "https://localhost:8080/"
        },
        "outputId": "a17b31fd-9d5c-498e-bceb-8a13663565d6"
      },
      "source": [
        "my_dog=Dog('Willie',6)\r\n",
        "print(f\"My dog's name is {my_dog.name}.\")\r\n",
        "print(f\"My dog is {my_dog.age} years old.\")"
      ],
      "execution_count": null,
      "outputs": [
        {
          "output_type": "stream",
          "text": [
            "My dog's name is Willie.\n",
            "My dog is 6 years old.\n"
          ],
          "name": "stdout"
        }
      ]
    },
    {
      "cell_type": "markdown",
      "metadata": {
        "id": "I2u8OUuisVdv"
      },
      "source": [
        "### Accessing attributes and Calling Methods\r\n",
        "dot notation"
      ]
    },
    {
      "cell_type": "code",
      "metadata": {
        "id": "C1xFhvkHscC5",
        "colab": {
          "base_uri": "https://localhost:8080/"
        },
        "outputId": "5a5e6ea1-7f5e-47c0-88d5-d7d7b443d6ce"
      },
      "source": [
        "print(my_dog.name)\r\n",
        "my_dog.sit()"
      ],
      "execution_count": null,
      "outputs": [
        {
          "output_type": "stream",
          "text": [
            "Willie\n",
            "Willie is now sitting.\n"
          ],
          "name": "stdout"
        }
      ]
    },
    {
      "cell_type": "markdown",
      "metadata": {
        "id": "F3XVKKAJsuYV"
      },
      "source": [
        "## Working with Classes and Instances"
      ]
    },
    {
      "cell_type": "code",
      "metadata": {
        "id": "Old_9dVbtqU6",
        "colab": {
          "base_uri": "https://localhost:8080/"
        },
        "outputId": "d431af29-b950-4375-cbfc-44293e479fca"
      },
      "source": [
        "class Car:    \r\n",
        "  \"\"\"A simple attempt to represent a car.\"\"\"     \r\n",
        "  def __init__(self, make, model, year):        \r\n",
        "    \"\"\"Initialize attributes to describe a car.\"\"\"        \r\n",
        "    self.manufacturer = make\r\n",
        "    self.model = model        \r\n",
        "    self.year = year     \r\n",
        "    self.odometer_reading = 0\r\n",
        "\r\n",
        "  def get_descriptive_name(self):        \r\n",
        "    \"\"\"Return a neatly formatted descriptive name.\"\"\"        \r\n",
        "    long_name = f\"{self.year} {self.manufacturer} {self.model}\"        \r\n",
        "    return long_name.title()\r\n",
        "  \r\n",
        "  def read_odometer(self):        \r\n",
        "    \"\"\"Print a statement showing the car's mileage.\"\"\"        \r\n",
        "    print(f\"This car has {self.odometer_reading} miles on it.\")\r\n",
        "  \r\n",
        "  def update_odometer(self, mileage):        \r\n",
        "    if mileage >= self.odometer_reading:            \r\n",
        "      self.odometer_reading = mileage        \r\n",
        "    else:            \r\n",
        "      print(\"You can't roll back an odometer!\")    \r\n",
        "  def increment_odometer(self, miles):        \r\n",
        "    self.odometer_reading += miles\r\n",
        "\r\n",
        "  def fill_gas_tank(self):\r\n",
        "    print(\"Fill up\")\r\n",
        "my_new_car = Car('audi', 'a4', 2019)\r\n",
        "print(my_new_car.get_descriptive_name())\r\n",
        "my_new_car.read_odometer()"
      ],
      "execution_count": null,
      "outputs": [
        {
          "output_type": "stream",
          "text": [
            "2019 Audi A4\n",
            "This car has 0 miles on it.\n"
          ],
          "name": "stdout"
        }
      ]
    },
    {
      "cell_type": "markdown",
      "metadata": {
        "id": "PbsLvKl4vcC7"
      },
      "source": [
        "## Inheritance"
      ]
    },
    {
      "cell_type": "markdown",
      "metadata": {
        "id": "Lk762fuzyTme"
      },
      "source": [
        "When one class inherits from another, it takes on the **attributes** and **methods** of the first class."
      ]
    },
    {
      "cell_type": "code",
      "metadata": {
        "id": "FZgd-qGUvjyi",
        "colab": {
          "base_uri": "https://localhost:8080/"
        },
        "outputId": "1f21b6bb-7eb0-4852-c343-b421641e3e2e"
      },
      "source": [
        "class ElectricCar(Car):    \r\n",
        "  \"\"\"Represent aspects of a car, specific to electric vehicles.\"\"\"\r\n",
        "  def __init__(self, make, model, year):\r\n",
        "    \"\"\"Initialize attributes of the parent class.\"\"\"\r\n",
        "    super().__init__(make, model, year) # The super() function is a special function that allows you to call a method from the parent class.\r\n",
        "    self.battery_size=75\r\n",
        "\r\n",
        "  def describe_battery(self):\r\n",
        "    \"\"\"Print a statement describing the battery size\"\"\"\r\n",
        "    print(f\"This car has a {self.battery_size}-kWh battery.\")\r\n",
        "\r\n",
        "  def fill_gas_tank(self):# override methods from the parent class\r\n",
        "    \"\"\"Electric cars don't have gas tanks\"\"\"\r\n",
        "    print(\"This car doesn't need a gas tank\")\r\n",
        "my_tesla = ElectricCar('tesla', 'model s', 2019)\r\n",
        "print(my_tesla.get_descriptive_name())\r\n",
        "my_tesla.describe_battery()"
      ],
      "execution_count": null,
      "outputs": [
        {
          "output_type": "stream",
          "text": [
            "2019 Tesla Model S\n",
            "This car has a 75-kWh battery.\n"
          ],
          "name": "stdout"
        }
      ]
    },
    {
      "cell_type": "markdown",
      "metadata": {
        "id": "qV1hPpaCzAVf"
      },
      "source": [
        "### Instances as Attributes"
      ]
    },
    {
      "cell_type": "code",
      "metadata": {
        "id": "J6uuIusj0R9T",
        "colab": {
          "base_uri": "https://localhost:8080/"
        },
        "outputId": "f848a862-0e68-4ab8-bc1d-649dd3d7ebcb"
      },
      "source": [
        "class Battery:    \r\n",
        "  \"\"\"A simple attempt to model a battery for an electric car.\"\"\"     \r\n",
        "  def __init__(self, battery_size=75):        \r\n",
        "    \"\"\"Initialize the battery's attributes.\"\"\"        \r\n",
        "    self.battery_size = battery_size     \r\n",
        "  def describe_battery(self):        \r\n",
        "    \"\"\"Print a statement describing the battery size.\"\"\"        \r\n",
        "    print(f\"This car has a {self.battery_size}-kWh battery.\")\r\n",
        "  \r\n",
        "class ElectricCar(Car):    \r\n",
        "  \"\"\"Represent aspects of a car, specific to electric vehicles.\"\"\"\r\n",
        "  def __init__(self, make, model, year):\r\n",
        "    \"\"\"Initialize attributes of the parent class.\"\"\"\r\n",
        "    super().__init__(make, model, year) # The super() function is a special function that allows you to call a method from the parent class.\r\n",
        "    self.battery=Battery()\r\n",
        "\r\n",
        "my_tesla = ElectricCar('tesla', 'model s', 2019)\r\n",
        "print(my_tesla.get_descriptive_name())\r\n",
        "my_tesla.battery.describe_battery()"
      ],
      "execution_count": null,
      "outputs": [
        {
          "output_type": "stream",
          "text": [
            "2019 Tesla Model S\n",
            "This car has a 75-kWh battery.\n"
          ],
          "name": "stdout"
        }
      ]
    },
    {
      "cell_type": "markdown",
      "metadata": {
        "id": "2Q2pyNPX4-i3"
      },
      "source": [
        "## Styling Classes"
      ]
    },
    {
      "cell_type": "markdown",
      "metadata": {
        "id": "IDE93Qoj5A_f"
      },
      "source": [
        "If you need to import a module from the standard library and a module that you wrote, place the import statement for the standard library module first. Then add a blank line and the import statement for the module you wrote. "
      ]
    },
    {
      "cell_type": "markdown",
      "metadata": {
        "id": "zm5iaac1VJTV"
      },
      "source": [
        "# Files and Exceptions"
      ]
    },
    {
      "cell_type": "markdown",
      "metadata": {
        "id": "iagJjsXSbvvI"
      },
      "source": [
        "## Reading an Entire File"
      ]
    },
    {
      "cell_type": "code",
      "metadata": {
        "id": "KXV3B1lqYPSP",
        "colab": {
          "base_uri": "https://localhost:8080/"
        },
        "outputId": "c2b4207a-986d-4ac7-fa2e-0ec8537c26a1"
      },
      "source": [
        "with open('pi_digits.txt') as file_object:\r\n",
        "  contents=file_object.read()\r\n",
        "print(contents)\r\n",
        "#The only difference between this output and \r\n",
        "#the original file is the extra blank line at the end of the output. \r\n",
        "#The blank line appears because read() returns an empty string \r\n",
        "#when it reaches the end of the file; this empty string shows up as a blank line.\r\n",
        "print(contents.rstrip())# we can use rstrip to delete the blank in the end of string"
      ],
      "execution_count": null,
      "outputs": [
        {
          "output_type": "stream",
          "text": [
            "3.1415926535 \n",
            "  8979323846 \n",
            "  2643383279\n",
            "\n",
            "3.1415926535 \n",
            "  8979323846 \n",
            "  2643383279\n"
          ],
          "name": "stdout"
        }
      ]
    },
    {
      "cell_type": "markdown",
      "metadata": {
        "id": "b9WgchFnZWaZ"
      },
      "source": [
        "To do any work with a file, even just printing its contents, you first need to open the file to access it. The open() function needs one argument: the name of the file you want to open. Python looks for this file in the directory where the program that’s currently being executed is stored. "
      ]
    },
    {
      "cell_type": "markdown",
      "metadata": {
        "id": "hx_x86jxbzFQ"
      },
      "source": [
        "### Reading Line by Line"
      ]
    },
    {
      "cell_type": "code",
      "metadata": {
        "id": "M9hF_ismcHQV",
        "colab": {
          "base_uri": "https://localhost:8080/"
        },
        "outputId": "de56a586-9b08-43ae-c424-263a155affa8"
      },
      "source": [
        "file_name='pi_digits.txt'\r\n",
        "with open(file_name) as file_object:\r\n",
        "  for line in file_object:\r\n",
        "    print(line)"
      ],
      "execution_count": null,
      "outputs": [
        {
          "output_type": "stream",
          "text": [
            "3.1415926535 \n",
            "\n",
            "  8979323846 \n",
            "\n",
            "  2643383279\n",
            "\n"
          ],
          "name": "stdout"
        }
      ]
    },
    {
      "cell_type": "markdown",
      "metadata": {
        "id": "TOGH_lrneG_s"
      },
      "source": [
        "### Making a List of Lines from a File"
      ]
    },
    {
      "cell_type": "code",
      "metadata": {
        "id": "ONm_EcYlcyp4",
        "colab": {
          "base_uri": "https://localhost:8080/"
        },
        "outputId": "8cb615db-4b3d-424a-bbf6-4d11846d9e1f"
      },
      "source": [
        "with open(file_name) as file_object:\r\n",
        "  lines=file_object.readlines()# the readlines() method takes each line from the file and stores it in a list.\r\n",
        "print(lines)"
      ],
      "execution_count": null,
      "outputs": [
        {
          "output_type": "stream",
          "text": [
            "['3.1415926535 \\n', '  8979323846 \\n', '  2643383279\\n']\n"
          ],
          "name": "stdout"
        }
      ]
    },
    {
      "cell_type": "markdown",
      "metadata": {
        "id": "h2COPpKReyVn"
      },
      "source": [
        "### Working with a Fils's Contents"
      ]
    },
    {
      "cell_type": "code",
      "metadata": {
        "id": "gO-yFwtwe2C0",
        "colab": {
          "base_uri": "https://localhost:8080/"
        },
        "outputId": "caf6bca1-3801-4bf8-c9f6-78368cfec092"
      },
      "source": [
        "pi_string=''\r\n",
        "for line in lines:\r\n",
        "  pi_string+=line.strip()\r\n",
        "\r\n",
        "print(pi_string)\r\n",
        "print(len(pi_string))"
      ],
      "execution_count": null,
      "outputs": [
        {
          "output_type": "stream",
          "text": [
            "3.141592653589793238462643383279\n",
            "32\n"
          ],
          "name": "stdout"
        }
      ]
    },
    {
      "cell_type": "markdown",
      "metadata": {
        "id": "rKjmbxg5femU"
      },
      "source": [
        "### Large Files: One Million Digits"
      ]
    },
    {
      "cell_type": "code",
      "metadata": {
        "id": "QqhQJefDfYl2",
        "colab": {
          "base_uri": "https://localhost:8080/"
        },
        "outputId": "72b7dc0c-5fbe-4cd1-aa82-33ce79858f2d"
      },
      "source": [
        "file_name='pi_million_digits.txt'\r\n",
        "\r\n",
        "with open(file_name) as file_object:\r\n",
        "  lines=file_object.readlines()\r\n",
        "\r\n",
        "pi_string=''\r\n",
        "for line in lines:\r\n",
        "  pi_string+=line.strip()\r\n",
        "\r\n",
        "print(f\"{pi_string[:52]}...\")\r\n",
        "print(len(pi_string))\r\n",
        "# you can work with as much data as your system's memory can handle"
      ],
      "execution_count": null,
      "outputs": [
        {
          "output_type": "stream",
          "text": [
            "3.14159265358979323846264338327950288419716939937510...\n",
            "1000002\n"
          ],
          "name": "stdout"
        }
      ]
    },
    {
      "cell_type": "markdown",
      "metadata": {
        "id": "NC8yNLYHgzPf"
      },
      "source": [
        "### Is Your Birthday Contained in Pi?"
      ]
    },
    {
      "cell_type": "code",
      "metadata": {
        "id": "tzW1v3cMg7Ag",
        "colab": {
          "base_uri": "https://localhost:8080/"
        },
        "outputId": "94006840-2804-4e67-ca8b-502d0f93fc27"
      },
      "source": [
        "birthday=input('Enter your birthday, in the form mmddyy: ')\r\n",
        "if birthday in pi_string:\r\n",
        "  print(\"Your birthday appears in the first million digits of pi!\")\r\n",
        "else:\r\n",
        "  print(\"Your birthday does not appear in the first million digits of pi.\")"
      ],
      "execution_count": null,
      "outputs": [
        {
          "output_type": "stream",
          "text": [
            "Enter your birthday, in the form mmddyy: 120372\n",
            "Your birthday appears in the first million digits of pi!\n"
          ],
          "name": "stdout"
        }
      ]
    },
    {
      "cell_type": "markdown",
      "metadata": {
        "id": "YCtyMxGQh_d-"
      },
      "source": [
        "## Writing to a File"
      ]
    },
    {
      "cell_type": "markdown",
      "metadata": {
        "id": "RSd98KoXkCWF"
      },
      "source": [
        "### Writing to an Empty File"
      ]
    },
    {
      "cell_type": "code",
      "metadata": {
        "id": "8gXAr4AoiCZj"
      },
      "source": [
        "file_name='programming.txt'\r\n",
        "\r\n",
        "with open(file_name,'w') as file_object:# add the second argument telling Python you want to write to the file\r\n",
        "  file_object.write(\"I love programming\")"
      ],
      "execution_count": null,
      "outputs": []
    },
    {
      "cell_type": "markdown",
      "metadata": {
        "id": "Dw70fP5mjcJV"
      },
      "source": [
        "* The call to open() in this example has two arguments u. The first argu-ment \r\n",
        "is still the name of the file we want to open. The second argument, 'w', tells Python that we want to open the file in write mode. You can open a file in **read mode ('r'), write mode ('w'), append mode ('a'),** or a mode that **allows you to read and write to the file ('r+').** If you omit the mode argument, Python opens the file in read-only mode by default.\r\n",
        "* Python can only write strings to a text file. If you want to store numerical data in a text file, you’ll have to convert the data to string format first using the str() function.\r\n"
      ]
    },
    {
      "cell_type": "markdown",
      "metadata": {
        "id": "f59PIa8VkIWx"
      },
      "source": [
        "### Appending Multiple Lines"
      ]
    },
    {
      "cell_type": "code",
      "metadata": {
        "id": "Fcxt9gr1jpni"
      },
      "source": [
        "with open(file_name, 'a') as file_object:\r\n",
        "  file_object.write(\"I also love finding meaning in large datasets.\\n\")\r\n",
        "  file_object.write(\"I love creating apps that can run in a browser.\\n\")"
      ],
      "execution_count": null,
      "outputs": []
    },
    {
      "cell_type": "markdown",
      "metadata": {
        "id": "wGjzK3rHl_ww"
      },
      "source": [
        "## Exceptions"
      ]
    },
    {
      "cell_type": "markdown",
      "metadata": {
        "id": "C1vA5aHFmWTy"
      },
      "source": [
        "### Handling ZeroDivisionError Exception"
      ]
    },
    {
      "cell_type": "code",
      "metadata": {
        "id": "xIfXmcfWndTK",
        "colab": {
          "base_uri": "https://localhost:8080/",
          "height": 166
        },
        "outputId": "c2e84186-aba8-4c1e-a9d7-86ee44718879"
      },
      "source": [
        "print(5/0)"
      ],
      "execution_count": null,
      "outputs": [
        {
          "output_type": "error",
          "ename": "ZeroDivisionError",
          "evalue": "ignored",
          "traceback": [
            "\u001b[1;31m---------------------------------------------------------------------------\u001b[0m",
            "\u001b[1;31mZeroDivisionError\u001b[0m                         Traceback (most recent call last)",
            "\u001b[1;32m<ipython-input-31-fad870a50e27>\u001b[0m in \u001b[0;36m<module>\u001b[1;34m\u001b[0m\n\u001b[1;32m----> 1\u001b[1;33m \u001b[0mprint\u001b[0m\u001b[1;33m(\u001b[0m\u001b[1;36m5\u001b[0m\u001b[1;33m/\u001b[0m\u001b[1;36m0\u001b[0m\u001b[1;33m)\u001b[0m\u001b[1;33m\u001b[0m\u001b[1;33m\u001b[0m\u001b[0m\n\u001b[0m",
            "\u001b[1;31mZeroDivisionError\u001b[0m: division by zero"
          ]
        }
      ]
    },
    {
      "cell_type": "markdown",
      "metadata": {
        "id": "025Sbrtinfrs"
      },
      "source": [
        "**ZeroDivisionError** is an exception object. Python creates this kind of object in response to a situation where it can’t do what we ask it to. When this happens, Python stops the program and tells us the kind of exception that was raised. We can use this information to modify our program. We’ll tell Python what to do when this kind of exception occurs; that way, if it happens again, we’re prepared."
      ]
    },
    {
      "cell_type": "code",
      "metadata": {
        "id": "CXt8UYDmoYyL",
        "colab": {
          "base_uri": "https://localhost:8080/"
        },
        "outputId": "f7d93fea-9a0c-4317-8c9f-c9069d22c64f"
      },
      "source": [
        "try:\r\n",
        "  print(5/0)\r\n",
        "except ZeroDivisionError:\r\n",
        "  print(\"You can't divede by 0\")"
      ],
      "execution_count": null,
      "outputs": [
        {
          "output_type": "stream",
          "text": [
            "You can't divede by 0\n"
          ],
          "name": "stdout"
        }
      ]
    },
    {
      "cell_type": "markdown",
      "metadata": {
        "id": "HVPMRn3hn88E"
      },
      "source": [
        "### The else Block"
      ]
    },
    {
      "cell_type": "code",
      "metadata": {
        "id": "qDUhNz9DmfJu",
        "colab": {
          "base_uri": "https://localhost:8080/"
        },
        "outputId": "8789d419-936c-42cf-c891-c2586db6caad"
      },
      "source": [
        "print(\"Give me two numbers, and I'll divide them.\")\r\n",
        "print(\"Enter 'q' to quit.\")\r\n",
        "\r\n",
        "while True:\r\n",
        "    first_number = input(\"\\nFirst number: \")\r\n",
        "    if first_number == 'q':\r\n",
        "        break\r\n",
        "    second_number = input(\"Second number: \")\r\n",
        "    if second_number == 'q':\r\n",
        "        break\r\n",
        "    try:\r\n",
        "        answer = int(first_number) / int(second_number)\r\n",
        "    except ZeroDivisionError:\r\n",
        "        print(\"You can't divide by 0!\")\r\n",
        "    else:\r\n",
        "        print(answer)"
      ],
      "execution_count": null,
      "outputs": [
        {
          "output_type": "stream",
          "text": [
            "Give me two numbers, and I'll divide them.\n",
            "Enter 'q' to quit.\n",
            "\n",
            "First number: 3\n",
            "Second number: 0\n",
            "You can't divide by 0!\n",
            "\n",
            "First number: q\n"
          ],
          "name": "stdout"
        }
      ]
    },
    {
      "cell_type": "markdown",
      "metadata": {
        "id": "xHhxi5z1op0U"
      },
      "source": [
        "### Handling the FileNotFoundError Exception"
      ]
    },
    {
      "cell_type": "code",
      "metadata": {
        "id": "NOOHaWZHoyRX",
        "colab": {
          "base_uri": "https://localhost:8080/",
          "height": 216
        },
        "outputId": "e4b9ea09-0348-4720-fca6-9da3ee351702"
      },
      "source": [
        "file_name='alice.txt'\r\n",
        "\r\n",
        "with open(file_name,encoding='utf-8') as f:\r\n",
        "  contents=f.read()"
      ],
      "execution_count": null,
      "outputs": [
        {
          "output_type": "error",
          "ename": "FileNotFoundError",
          "evalue": "ignored",
          "traceback": [
            "\u001b[1;31m---------------------------------------------------------------------------\u001b[0m",
            "\u001b[1;31mFileNotFoundError\u001b[0m                         Traceback (most recent call last)",
            "\u001b[1;32m<ipython-input-33-5205a32034f4>\u001b[0m in \u001b[0;36m<module>\u001b[1;34m\u001b[0m\n\u001b[0;32m      1\u001b[0m \u001b[0mfile_name\u001b[0m\u001b[1;33m=\u001b[0m\u001b[1;34m'alice.txt'\u001b[0m\u001b[1;33m\u001b[0m\u001b[1;33m\u001b[0m\u001b[0m\n\u001b[0;32m      2\u001b[0m \u001b[1;33m\u001b[0m\u001b[0m\n\u001b[1;32m----> 3\u001b[1;33m \u001b[1;32mwith\u001b[0m \u001b[0mopen\u001b[0m\u001b[1;33m(\u001b[0m\u001b[0mfile_name\u001b[0m\u001b[1;33m,\u001b[0m\u001b[0mencoding\u001b[0m\u001b[1;33m=\u001b[0m\u001b[1;34m'utf-8'\u001b[0m\u001b[1;33m)\u001b[0m \u001b[1;32mas\u001b[0m \u001b[0mf\u001b[0m\u001b[1;33m:\u001b[0m\u001b[1;33m\u001b[0m\u001b[1;33m\u001b[0m\u001b[0m\n\u001b[0m\u001b[0;32m      4\u001b[0m   \u001b[0mcontents\u001b[0m\u001b[1;33m=\u001b[0m\u001b[0mf\u001b[0m\u001b[1;33m.\u001b[0m\u001b[0mread\u001b[0m\u001b[1;33m(\u001b[0m\u001b[1;33m)\u001b[0m\u001b[1;33m\u001b[0m\u001b[1;33m\u001b[0m\u001b[0m\n",
            "\u001b[1;31mFileNotFoundError\u001b[0m: [Errno 2] No such file or directory: 'alice.txt'"
          ]
        }
      ]
    },
    {
      "cell_type": "code",
      "metadata": {
        "id": "Q09snVtEpZez"
      },
      "source": [
        "try:\r\n",
        "  with open(file_name,encoding='utf-8') as f:\r\n",
        "    contents=f.read()\r\n",
        "except FileNotFoundError:\r\n",
        "  #print(f\"Sorry, the file {file_name} does not exist.\")\r\n",
        "  pass"
      ],
      "execution_count": null,
      "outputs": []
    },
    {
      "cell_type": "markdown",
      "metadata": {
        "id": "fgwFFqbLpu6z"
      },
      "source": [
        "### Analysing Text"
      ]
    },
    {
      "cell_type": "code",
      "metadata": {
        "id": "lyDV67BwqnrM",
        "colab": {
          "base_uri": "https://localhost:8080/"
        },
        "outputId": "13fde48b-bc57-4628-edad-a7cffc4635a2"
      },
      "source": [
        "file_name='alice.txt'\r\n",
        "\r\n",
        "try:\r\n",
        "  with open(file_name,encoding='utf-8') as f:\r\n",
        "    contents=f.read()\r\n",
        "except FileNotFoundError:\r\n",
        "  #print(f\"Sorry, the file {file_name} does not exist.\")\r\n",
        "  pass\r\n",
        "else:\r\n",
        "  words=contents.split()\r\n",
        "# The split() method separates a string into parts wherever it finds a space and stores all the parts of the string in a list.\r\n",
        "  print(f\"The file {file_name} has about {len(words)} words\")"
      ],
      "execution_count": null,
      "outputs": [
        {
          "output_type": "stream",
          "text": [
            "The file alice.txt has about 29465 words\n"
          ],
          "name": "stdout"
        }
      ]
    },
    {
      "cell_type": "markdown",
      "metadata": {
        "id": "cODh4ymOtjYJ"
      },
      "source": [
        "## Storing Data"
      ]
    },
    {
      "cell_type": "markdown",
      "metadata": {
        "id": "xCE6pbpgu5HM"
      },
      "source": [
        "The JSON (JavaScript Object Notation) format was originally developed for JavaScript. However, it has since become a common format used by many languages, including Python."
      ]
    },
    {
      "cell_type": "markdown",
      "metadata": {
        "id": "eX0GWVUcu6ON"
      },
      "source": [
        "### Using json.dump() and json.load()"
      ]
    },
    {
      "cell_type": "code",
      "metadata": {
        "id": "ZKW0wPOVtlvp",
        "colab": {
          "base_uri": "https://localhost:8080/"
        },
        "outputId": "8f10aa9e-d99c-4eed-bcfb-eb6b484d608a"
      },
      "source": [
        "import json\r\n",
        "\r\n",
        "numbers=list(range(5))\r\n",
        "file_name='numbers.json'\r\n",
        "with open(file_name,'w') as f:\r\n",
        "  json.dump(numbers,f)\r\n",
        "\r\n",
        "with open(file_name) as f:\r\n",
        "  numbers=json.load(f)\r\n",
        "\r\n",
        "print(numbers)# numbers is still a list rather than string, this is a simple way to share data between two programs"
      ],
      "execution_count": null,
      "outputs": [
        {
          "output_type": "stream",
          "text": [
            "[0, 1, 2, 3, 4]\n"
          ],
          "name": "stdout"
        }
      ]
    },
    {
      "cell_type": "markdown",
      "metadata": {
        "id": "gUMsBkVoytvQ"
      },
      "source": [
        "### Saving and Reading User-Generated Data"
      ]
    },
    {
      "cell_type": "code",
      "metadata": {
        "id": "LJLLsOi1yuu5",
        "colab": {
          "base_uri": "https://localhost:8080/"
        },
        "outputId": "c322753a-60ed-4f11-f943-3a758176a6ed"
      },
      "source": [
        "import json\r\n",
        "\r\n",
        "def get_stored_name():\r\n",
        "  \"\"\"Get user's name from file\"\"\"\r\n",
        "  try:\r\n",
        "    with open('username.json') as f:\r\n",
        "      name=json.load(f)\r\n",
        "  except FileNotFoundError:\r\n",
        "    return ''\r\n",
        "  else:\r\n",
        "    return name;\r\n",
        "\r\n",
        "def get_new_username():\r\n",
        "  \"\"\"Get user's name from user\"\"\"\r\n",
        "  name=input(\"What is your name? \")\r\n",
        "  with open('username.json','w') as f:\r\n",
        "    json.dump(name,f)\r\n",
        "  return name\r\n",
        "\r\n",
        "def greet_user():\r\n",
        "  \"\"\"Greet user\"\"\"\r\n",
        "  name=get_stored_name()\r\n",
        "  if name:\r\n",
        "    print(f\"Welcome back, {name}.\")\r\n",
        "  else:\r\n",
        "    name=get_new_username()\r\n",
        "    print(f\"We'll remember you when you come back, {name}.\")\r\n",
        "  \r\n",
        "greet_user()"
      ],
      "execution_count": null,
      "outputs": [
        {
          "output_type": "stream",
          "text": [
            "Welcome back, Clay.\n"
          ],
          "name": "stdout"
        }
      ]
    },
    {
      "cell_type": "markdown",
      "metadata": {
        "id": "QAPUUC9IepX4"
      },
      "source": [
        "# Testing Your Code"
      ]
    },
    {
      "cell_type": "markdown",
      "metadata": {
        "id": "0KKT7ay5fKxd"
      },
      "source": [
        "## Testing a Function"
      ]
    },
    {
      "cell_type": "code",
      "metadata": {
        "id": "peDZ-ZEzf78K"
      },
      "source": [
        "def get_formatted_name(first, last):\r\n",
        "    \"\"\"Generate a neatly formatted full name.\"\"\"\r\n",
        "  \r\n",
        "    full_name = f\"{first} {last}\"\r\n",
        "    return full_name.title()"
      ],
      "execution_count": 25,
      "outputs": []
    },
    {
      "cell_type": "code",
      "metadata": {
        "id": "VyQC-NThgLxV",
        "outputId": "fc2953a7-6e1f-4f6a-a596-2ad2154d03dc",
        "colab": {
          "base_uri": "https://localhost:8080/"
        }
      },
      "source": [
        "print(\"Enter 'q' at any time to quit.\")\r\n",
        "while True:\r\n",
        "    first = input(\"\\nPlease give me a first name: \")\r\n",
        "    if first == 'q':\r\n",
        "        break\r\n",
        "    last = input(\"Please give me a last name: \")\r\n",
        "    if last == 'q':\r\n",
        "        break\r\n",
        "        \r\n",
        "    formatted_name = get_formatted_name(first, last)\r\n",
        "    print(f\"\\tNeatly formatted name: {formatted_name}.\")\r\n"
      ],
      "execution_count": 2,
      "outputs": [
        {
          "output_type": "stream",
          "text": [
            "Enter 'q' at any time to quit.\n",
            "\n",
            "Please give me a first name: jack\n",
            "Please give me a last name: slow\n",
            "\tNeatly formatted name: Jack Slow.\n",
            "\n",
            "Please give me a first name: merry\n",
            "Please give me a last name: chrismas\n",
            "\tNeatly formatted name: Merry Chrismas.\n",
            "\n",
            "Please give me a first name: q\n"
          ],
          "name": "stdout"
        }
      ]
    },
    {
      "cell_type": "markdown",
      "metadata": {
        "id": "baQAnG5phRrf"
      },
      "source": [
        "### Unit Test and Test Cases\r\n"
      ]
    },
    {
      "cell_type": "markdown",
      "metadata": {
        "id": "FnENKWWXh5Kv"
      },
      "source": [
        "> The module unittest from the Python standard library provides tools for testing your code. A unit test verifies that one specific aspect of a function’s behavior is correct. A test case is a collection of unit tests that together prove that a function behaves as it’s supposed to, within the full range of situa-tions you expect it to handle. A good test case considers all the possible kinds of input a function could receive and includes tests to represent each of these situations. A test case with full coverage includes a full range of unit tests covering all the possible ways you can use a function. Achieving full coverage on a large project can be daunting. It’s often good enough to write tests for your code’s critical behaviors and then aim for full coverage only if the project starts to see widespread use."
      ]
    },
    {
      "cell_type": "markdown",
      "metadata": {
        "id": "7IX34uRiiAgr"
      },
      "source": [
        "### A Passing Test"
      ]
    },
    {
      "cell_type": "code",
      "metadata": {
        "id": "f50ASnZngMBo",
        "outputId": "9a9fea58-8819-4cc8-c382-5b3b18e9740f",
        "colab": {
          "base_uri": "https://localhost:8080/"
        }
      },
      "source": [
        "import unittest\r\n",
        "\r\n",
        "class NamesTestCase(unittest.TestCase):\r\n",
        "  \"\"\"Test for 'get_formatted_name' \"\"\"\r\n",
        "\r\n",
        "  def test_first_last_name(self):\r\n",
        "    \"\"\"Do names like 'Janis Joplin' work?\"\"\"\r\n",
        "    formatted_name=get_formatted_name('janis','joplin')\r\n",
        "    self.assertEqual(formatted_name,'Janis Joplin')\r\n",
        "if __name__ == '__main__':\r\n",
        "  unittest.main(argv=[''],exit=False)\r\n",
        "  # The arguments we have to pass in IPython to run unittest's main function\r\n",
        "  # https://stackoverflow.com/questions/37895781/unable-to-run-unittests-main-function-in-ipython-jupyter-notebook"
      ],
      "execution_count": 26,
      "outputs": [
        {
          "output_type": "stream",
          "text": [
            ".\n",
            "----------------------------------------------------------------------\n",
            "Ran 1 test in 0.001s\n",
            "\n",
            "OK\n"
          ],
          "name": "stderr"
        }
      ]
    },
    {
      "cell_type": "markdown",
      "metadata": {
        "id": "ItisT7OGqc1F"
      },
      "source": [
        "### A Failing Test"
      ]
    },
    {
      "cell_type": "code",
      "metadata": {
        "id": "KWVVGgmwiGDa"
      },
      "source": [
        "def get_formatted_name(first, last, middle):\r\n",
        "    \"\"\"Generate a neatly formatted full name.\"\"\"\r\n",
        "    full_name = f\"{first} {middle} {last}\"\r\n",
        "    return full_name.title()"
      ],
      "execution_count": 27,
      "outputs": []
    },
    {
      "cell_type": "code",
      "metadata": {
        "id": "cHcK9bh0rUIL",
        "outputId": "18981cc8-c346-460c-a1ca-85b6e2cc9196",
        "colab": {
          "base_uri": "https://localhost:8080/"
        }
      },
      "source": [
        "import unittest\r\n",
        "\r\n",
        "class NamesTestCase(unittest.TestCase):\r\n",
        "  \"\"\"Test for 'get_formatted_name' \"\"\"\r\n",
        "\r\n",
        "  def test_first_last_name(self):\r\n",
        "    \"\"\"Do names like 'Janis Joplin' work?\"\"\"\r\n",
        "    formatted_name=get_formatted_name('janis','joplin')\r\n",
        "    self.assertEqual(formatted_name,'Janis Joplin')\r\n",
        "if __name__ == '__main__':\r\n",
        "  unittest.main(argv=[''],exit=False)\r\n",
        "  # The arguments we have to pass in IPython to run unittest's main function\r\n",
        "  # https://stackoverflow.com/questions/37895781/unable-to-run-unittests-main-function-in-ipython-jupyter-notebook"
      ],
      "execution_count": 28,
      "outputs": [
        {
          "output_type": "stream",
          "text": [
            "E\n",
            "======================================================================\n",
            "ERROR: test_first_last_name (__main__.NamesTestCase)\n",
            "Do names like 'Janis Joplin' work?\n",
            "----------------------------------------------------------------------\n",
            "Traceback (most recent call last):\n",
            "  File \"<ipython-input-28-0f0901cb5ba8>\", line 8, in test_first_last_name\n",
            "    formatted_name=get_formatted_name('janis','joplin')\n",
            "TypeError: get_formatted_name() missing 1 required positional argument: 'middle'\n",
            "\n",
            "----------------------------------------------------------------------\n",
            "Ran 1 test in 0.001s\n",
            "\n",
            "FAILED (errors=1)\n"
          ],
          "name": "stderr"
        }
      ]
    },
    {
      "cell_type": "markdown",
      "metadata": {
        "id": "rIjt5SsOrm1g"
      },
      "source": [
        "### Responding to a Failed Test"
      ]
    },
    {
      "cell_type": "code",
      "metadata": {
        "id": "cL1r_hUVrpyY"
      },
      "source": [
        "def get_formatted_name(first, last, middle=''):\r\n",
        "    \"\"\"Generate a neatly formatted full name.\"\"\"\r\n",
        "    if middle:\r\n",
        "        full_name = f\"{first} {middle} {last}\"\r\n",
        "    else:\r\n",
        "        full_name = f\"{first} {last}\"\r\n",
        "    return full_name.title()"
      ],
      "execution_count": 31,
      "outputs": []
    },
    {
      "cell_type": "markdown",
      "metadata": {
        "id": "RtV0EDdVrriB"
      },
      "source": [
        "### Adding New Tests"
      ]
    },
    {
      "cell_type": "code",
      "metadata": {
        "id": "1kDXrlf0rthE",
        "outputId": "bf6d7cf0-d257-4185-8d15-29a95434b740",
        "colab": {
          "base_uri": "https://localhost:8080/"
        }
      },
      "source": [
        "import unittest\r\n",
        "\r\n",
        "class NamesTestCase(unittest.TestCase):\r\n",
        "  \"\"\"Test for 'get_formatted_name' \"\"\"\r\n",
        "\r\n",
        "  def test_first_last_name(self):\r\n",
        "    \"\"\"Do names like 'Janis Joplin' work?\"\"\"\r\n",
        "    formatted_name=get_formatted_name('janis','joplin')\r\n",
        "    self.assertEqual(formatted_name,'Janis Joplin')\r\n",
        "\r\n",
        "  def test_first_last_middle_name(self):\r\n",
        "    formatted_name=get_formatted_name('wolfgang','mozart','amadeus')\r\n",
        "    self.assertEqual(formatted_name,'Wolfgang Amadeus Mozart')\r\n",
        "\r\n",
        "if __name__ == '__main__':\r\n",
        "  unittest.main(argv=[''],exit=False)\r\n",
        "  # The arguments we have to pass in IPython to run unittest's main function\r\n",
        "  # https://stackoverflow.com/questions/37895781/unable-to-run-unittests-main-function-in-ipython-jupyter-notebook"
      ],
      "execution_count": 67,
      "outputs": [
        {
          "output_type": "stream",
          "text": [
            "..\n",
            "----------------------------------------------------------------------\n",
            "Ran 2 tests in 0.004s\n",
            "\n",
            "OK\n"
          ],
          "name": "stderr"
        }
      ]
    },
    {
      "cell_type": "markdown",
      "metadata": {
        "id": "ETBGkeMHtrmM"
      },
      "source": [
        "## Testing a Class"
      ]
    },
    {
      "cell_type": "markdown",
      "metadata": {
        "id": "pDKo6Lq0tn5k"
      },
      "source": [
        "### A Class to Test"
      ]
    },
    {
      "cell_type": "code",
      "metadata": {
        "id": "PQ_Xm_oEtxhD"
      },
      "source": [
        "class AnonymousSurvey:\r\n",
        "  \"\"\"Collect anonymous answers to a survey question.\"\"\"\r\n",
        "\r\n",
        "  def __init__(self,question):\r\n",
        "    \"\"\"Store a question, and prepare to store responses\"\"\"\r\n",
        "    self.question=question;\r\n",
        "    self.responses=[]\r\n",
        "  \r\n",
        "  def show_question(self):\r\n",
        "    \"\"\"Show the survey question.\"\"\"\r\n",
        "    print(self.question)\r\n",
        "\r\n",
        "  def store_response(self,new_response):\r\n",
        "    \"\"\"Store a single response to the survey.\"\"\"\r\n",
        "    self.responses.append(new_response)\r\n",
        "\r\n",
        "  def show_results(self):\r\n",
        "    \"\"\"Show all the responses that have been given.\"\"\"\r\n",
        "    print(\"Survey results: \")\r\n",
        "    for response in self.responses:\r\n",
        "      print(f\"- {response}\")"
      ],
      "execution_count": 45,
      "outputs": []
    },
    {
      "cell_type": "code",
      "metadata": {
        "id": "3cDLWO1suzgr",
        "outputId": "ae2556f1-ad67-4179-d28f-da84eb7206cc",
        "colab": {
          "base_uri": "https://localhost:8080/"
        }
      },
      "source": [
        "question=\"What language did you first learn to speak?\"\r\n",
        "my_survey=AnonymousSurvey(question)\r\n",
        "\r\n",
        "my_survey.show_question()\r\n",
        "print(\"Enter 'q' at any time to quit.\\n\")\r\n",
        "while True:\r\n",
        "  response=input(\"Language: \")\r\n",
        "  if response=='q':\r\n",
        "    break\r\n",
        "  my_survey.store_response(response)\r\n",
        "\r\n",
        "my_survey.show_results()"
      ],
      "execution_count": 36,
      "outputs": [
        {
          "output_type": "stream",
          "text": [
            "What language did you first learn to speak?\n",
            "Enter 'q' at any time to quit.\n",
            "\n",
            "Language: English\n",
            "Language: Chinese\n",
            "Language: Spanish\n",
            "Language: q\n",
            "Survey results: \n",
            "- English\n",
            "- Chinese\n",
            "- Spanish\n"
          ],
          "name": "stdout"
        }
      ]
    },
    {
      "cell_type": "markdown",
      "metadata": {
        "id": "_-_wV5Gszbtp"
      },
      "source": [
        "### Testing the AnonymousSurvey Class"
      ]
    },
    {
      "cell_type": "code",
      "metadata": {
        "id": "RCKx2FsRzg8w",
        "outputId": "213a67d3-c38a-499e-f0c1-e06ddc5970fa",
        "colab": {
          "base_uri": "https://localhost:8080/"
        }
      },
      "source": [
        "import unittest\r\n",
        "\r\n",
        "class TestAnonymousSurvey(unittest.TestCase):\r\n",
        "  \"\"\"Tests for the class AnonymousSurvey\"\"\"\r\n",
        "\r\n",
        "  def test_store_single_response(self):\r\n",
        "    \"\"\"Test that a single response is stored properly\"\"\"\r\n",
        "    question=\"What language did you first learn to speak?\"\r\n",
        "    my_survey=AnonymousSurvey(question)\r\n",
        "    my_survey.store_response('English')\r\n",
        "    self.assertIn('English',my_survey.responses)\r\n",
        "\r\n",
        "  def test_store_three_responses(self):\r\n",
        "    \"\"\"Test that three individual responses are stored properly.\"\"\"\r\n",
        "    question=\"What language did you first learn to speak?\"\r\n",
        "    my_survey=AnonymousSurvey(question)\r\n",
        "    responses=['English','Spanish','Mandarin']\r\n",
        "    for response in responses:\r\n",
        "        my_survey.store_response(response)\r\n",
        "    for response in responses:\r\n",
        "        self.assertIn(response,my_survey.responses)\r\n",
        "\r\n",
        "if __name__ == '__main__':\r\n",
        "  unittest.main(argv=[''],exit=False)"
      ],
      "execution_count": 66,
      "outputs": [
        {
          "output_type": "stream",
          "text": [
            "..\n",
            "----------------------------------------------------------------------\n",
            "Ran 2 tests in 0.003s\n",
            "\n",
            "OK\n"
          ],
          "name": "stderr"
        }
      ]
    },
    {
      "cell_type": "markdown",
      "metadata": {
        "id": "CPSkxg_K3e1S"
      },
      "source": [
        "### The setUp() Method"
      ]
    },
    {
      "cell_type": "markdown",
      "metadata": {
        "id": "JEwohklG7VDL"
      },
      "source": [
        "> Above we created a new instance of AnonymousSurvey in each test method, and we created new responses in each method. The unittest.TestCaseclass has a setUp() method that allows you to create these objects once and then use them in each of your test methods. When you include a setUp()method in a TestCase class, **Python runs the setUp() method before running each method starting with test_.** Any objects created in the setUp() method are then available in each test method you write."
      ]
    },
    {
      "cell_type": "code",
      "metadata": {
        "id": "klbAgEjn3hjO"
      },
      "source": [
        "import unittest\r\n",
        "\r\n",
        "class TestAnonymousSurvey(unittest.TestCase):\r\n",
        "  \"\"\"Tests for the class AnonymousSurvey\"\"\"\r\n",
        "\r\n",
        "  def setUp(self):\r\n",
        "    \"\"\"\r\n",
        "    Create a survey and a set of responses for use in all test methods\r\n",
        "    \"\"\"\r\n",
        "    question=\"What language did you first learn to speak?\"\r\n",
        "    self.my_survey=AnonymousSurvey(question)\r\n",
        "    self.responses=['English','Spanish','Mandarin']\r\n",
        "\r\n",
        "  def test_store_single_response(self):\r\n",
        "    \"\"\"Test that a single response is stored properly\"\"\"\r\n",
        "    self.my_survey.store_response('English')\r\n",
        "    self.assertIn(self.responses[0],self.my_survey.responses)\r\n",
        "\r\n",
        "  def test_store_three_responses(self):\r\n",
        "    \"\"\"Test that three individual responses are stored properly.\"\"\"\r\n",
        "    for response in self.responses:\r\n",
        "        self.my_survey.store_response(response)\r\n",
        "    for response in self.responses:\r\n",
        "        self.assertIn(response,self.my_survey.responses)"
      ],
      "execution_count": null,
      "outputs": []
    },
    {
      "cell_type": "markdown",
      "metadata": {
        "id": "2AYe99fYoMtk"
      },
      "source": [
        "# matplotlib"
      ]
    },
    {
      "cell_type": "markdown",
      "metadata": {
        "id": "aVjXq0EsocMU"
      },
      "source": [
        "## pyplot"
      ]
    },
    {
      "cell_type": "code",
      "metadata": {
        "id": "LFkUzHXIoJce"
      },
      "source": [
        "import matplotlib.pyplot as plt\n",
        "plt.tight_layerout(pad=1.08,h_pad=None,w_pad=None,rec=None)\n",
        "# pad is used for padding between the figure edge and the edges of subplots, as a fraction of the font size\n",
        "# h_pad, w_pad is for height and width padding.\n",
        "# rect: This parameter is rectangle in the normalized figure coordinate that the whole subplots area will fit into."
      ],
      "execution_count": null,
      "outputs": []
    }
  ]
}