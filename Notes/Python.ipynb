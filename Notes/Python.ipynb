{
  "nbformat": 4,
  "nbformat_minor": 0,
  "metadata": {
    "language_info": {
      "codemirror_mode": {
        "name": "ipython",
        "version": 3
      },
      "file_extension": ".py",
      "mimetype": "text/x-python",
      "name": "python",
      "nbconvert_exporter": "python",
      "pygments_lexer": "ipython3",
      "version": 3
    },
    "orig_nbformat": 2,
    "colab": {
      "name": "Python.ipynb",
      "provenance": [],
      "include_colab_link": true
    }
  },
  "cells": [
    {
      "cell_type": "markdown",
      "metadata": {
        "id": "view-in-github",
        "colab_type": "text"
      },
      "source": [
        "<a href=\"https://colab.research.google.com/github/lahmuller/CS_Notes/blob/main/Notes/Python.ipynb\" target=\"_parent\"><img src=\"https://colab.research.google.com/assets/colab-badge.svg\" alt=\"Open In Colab\"/></a>"
      ]
    },
    {
      "cell_type": "markdown",
      "metadata": {
        "id": "2AYe99fYoMtk"
      },
      "source": [
        "# matplotlib"
      ]
    },
    {
      "cell_type": "markdown",
      "metadata": {
        "id": "aVjXq0EsocMU"
      },
      "source": [
        "## pyplot"
      ]
    },
    {
      "cell_type": "code",
      "metadata": {
        "id": "LFkUzHXIoJce"
      },
      "source": [
        "import matplotlib.pyplot as plt\n",
        "plt.tight_layerout(pad=1.08,h_pad=None,w_pad=None,rec=None)\n",
        "# pad is used for padding between the figure edge and the edges of subplots, as a fraction of the font size\n",
        "# h_pad, w_pad is for height and width padding.\n",
        "# rect: This parameter is rectangle in the normalized figure coordinate that the whole subplots area will fit into."
      ],
      "execution_count": null,
      "outputs": []
    }
  ]
}