{
  "nbformat": 4,
  "nbformat_minor": 0,
  "metadata": {
    "orig_nbformat": 2,
    "colab": {
      "name": "Python.ipynb",
      "provenance": [],
      "include_colab_link": true
    },
    "kernelspec": {
      "name": "python3",
      "display_name": "Python 3"
    }
  },
  "cells": [
    {
      "cell_type": "markdown",
      "metadata": {
        "id": "view-in-github",
        "colab_type": "text"
      },
      "source": [
        "<a href=\"https://colab.research.google.com/github/lahmuller/CS_Notes/blob/main/Notes/Python.ipynb\" target=\"_parent\"><img src=\"https://colab.research.google.com/assets/colab-badge.svg\" alt=\"Open In Colab\"/></a>"
      ]
    },
    {
      "cell_type": "markdown",
      "metadata": {
        "id": "S1a7xGWrkeD9"
      },
      "source": [
        "# String"
      ]
    },
    {
      "cell_type": "markdown",
      "metadata": {
        "id": "_ih_U4uMm4K8"
      },
      "source": [
        "You can use single or double quotes around the strings. This flexibility allows you to use quotes and apostrophes within your strings."
      ]
    },
    {
      "cell_type": "code",
      "metadata": {
        "id": "d8xCnJ-qkhWT",
        "colab": {
          "base_uri": "https://localhost:8080/"
        },
        "outputId": "d535f5ba-72e8-445f-836b-c9d83b9e4725"
      },
      "source": [
        "message='I told my friend, \"Python is my favorite lauguage!\"'\r\n",
        "print(message)\r\n",
        "message=\"The language 'Python' is named after Monty Python, not the snake\"\r\n",
        "print(message)"
      ],
      "execution_count": null,
      "outputs": [
        {
          "output_type": "stream",
          "text": [
            "I told my friend, \"Python is my favorite lauguage!\"\n",
            "The language 'Python' is named after Monty Python, not the snake\n"
          ],
          "name": "stdout"
        }
      ]
    },
    {
      "cell_type": "markdown",
      "metadata": {
        "id": "k6VApFbzutOv"
      },
      "source": [
        "## Changing Case in a String with Methods"
      ]
    },
    {
      "cell_type": "code",
      "metadata": {
        "id": "ZEqGETR6pKeO",
        "colab": {
          "base_uri": "https://localhost:8080/"
        },
        "outputId": "9476b700-5ca7-453f-90fe-0b60539dbc9d"
      },
      "source": [
        "name=\"aDa loVelace\"\r\n",
        "print(name.title()) # each word begins with a capital letter\r\n",
        "print(name.upper())\r\n",
        "print(name.lower())"
      ],
      "execution_count": null,
      "outputs": [
        {
          "output_type": "stream",
          "text": [
            "Ada Lovelace\n",
            "ADA LOVELACE\n",
            "ada lovelace\n"
          ],
          "name": "stdout"
        }
      ]
    },
    {
      "cell_type": "markdown",
      "metadata": {
        "id": "tqYSRlGatJdo"
      },
      "source": [
        "## Using variables in Strings\r\n",
        "To insert a variable's value into a string, place the letter *f* immediately before the opening quotation mark. Put braces around the name or the names of any variable. Python will replace each variable with its value when the string is displayed. "
      ]
    },
    {
      "cell_type": "code",
      "metadata": {
        "id": "-6zLuCMaqxXg",
        "colab": {
          "base_uri": "https://localhost:8080/"
        },
        "outputId": "602e4b32-2892-408c-89e0-abeca83c6672"
      },
      "source": [
        "first_name=\"ada\"\r\n",
        "last_name=\"lovelace\"\r\n",
        "full_name=f\"{first_name} {last_name}\"# This string is called f-string. The f is for format\r\n",
        "print(full_name)\r\n",
        "a=11\r\n",
        "print(f\"Hello, {full_name.title()} {a}\")"
      ],
      "execution_count": null,
      "outputs": [
        {
          "output_type": "stream",
          "text": [
            "ada lovelace\n",
            "Hello, Ada Lovelace 11\n"
          ],
          "name": "stdout"
        }
      ]
    },
    {
      "cell_type": "markdown",
      "metadata": {
        "id": "_j2wGI6Pt008"
      },
      "source": [
        "F-string were first introduced in Python 3.6. In Python 3.5 or earlier, we need to use the ***format()*** method rather than this f syntax."
      ]
    },
    {
      "cell_type": "code",
      "metadata": {
        "id": "seFaYz6MuLNo",
        "colab": {
          "base_uri": "https://localhost:8080/"
        },
        "outputId": "fb4b0b41-0397-4212-9352-8f705489aea4"
      },
      "source": [
        "full_name=\"{} {}\".format(first_name,last_name)\r\n",
        "print(full_name)"
      ],
      "execution_count": null,
      "outputs": [
        {
          "output_type": "stream",
          "text": [
            "ada lovelace\n"
          ],
          "name": "stdout"
        }
      ]
    },
    {
      "cell_type": "markdown",
      "metadata": {
        "id": "zTwPwDqIvAtk"
      },
      "source": [
        "## Adding Whitespace to Strings with Tabs or Newlines"
      ]
    },
    {
      "cell_type": "code",
      "metadata": {
        "id": "PJF2M2vzvJmu",
        "colab": {
          "base_uri": "https://localhost:8080/"
        },
        "outputId": "1eb30e1e-c056-4268-c382-526f92fee987"
      },
      "source": [
        "print(\"Python\\n\")\r\n",
        "print(\"\\tPython\\n\")\r\n",
        "print(\"Languages:\\nPython\\nC\\nJavaScript\\n\")\r\n",
        "print(\"Languages:\\n\\tPython\\n\\tC\\n\\tJavaScript\")"
      ],
      "execution_count": null,
      "outputs": [
        {
          "output_type": "stream",
          "text": [
            "Python\n",
            "\n",
            "\tPython\n",
            "\n",
            "Languages:\n",
            "Python\n",
            "C\n",
            "JavaScript\n",
            "\n",
            "Languages:\n",
            "\tPython\n",
            "\tC\n",
            "\tJavaScript\n"
          ],
          "name": "stdout"
        }
      ]
    },
    {
      "cell_type": "markdown",
      "metadata": {
        "id": "tWhKwl2QxTD4"
      },
      "source": [
        "## Stripping Whitespace"
      ]
    },
    {
      "cell_type": "code",
      "metadata": {
        "id": "1Mib4vORxXpM",
        "colab": {
          "base_uri": "https://localhost:8080/"
        },
        "outputId": "081db268-20c8-4d70-ed2c-590a50f2931a"
      },
      "source": [
        "s='  python  '\r\n",
        "print(s.rstrip())# right\r\n",
        "print(s.lstrip())# left\r\n",
        "print(s.strip())# both side"
      ],
      "execution_count": null,
      "outputs": [
        {
          "output_type": "stream",
          "text": [
            "  python\n",
            "python  \n",
            "python\n"
          ],
          "name": "stdout"
        }
      ]
    },
    {
      "cell_type": "markdown",
      "metadata": {
        "id": "CPznO63Qzlar"
      },
      "source": [
        "# Numbers"
      ]
    },
    {
      "cell_type": "markdown",
      "metadata": {
        "id": "E4Nwx9G7zymP"
      },
      "source": [
        "## Floats\r\n",
        "Python calls any number with a decimal point a ***float***"
      ]
    },
    {
      "cell_type": "code",
      "metadata": {
        "id": "eCSbpZhBz5RN",
        "colab": {
          "base_uri": "https://localhost:8080/"
        },
        "outputId": "8afa92d4-513c-4e28-ef3d-8d6d04843b1d"
      },
      "source": [
        "print(0.2+0.1) # This happens in all languages and is of little concern.\r\n",
        "# when you divide any two numbers, even if they are integers that result in a whole number, you'll always get a float\r\n",
        "print(4/2)"
      ],
      "execution_count": null,
      "outputs": [
        {
          "output_type": "stream",
          "text": [
            "0.30000000000000004\n",
            "2.0\n"
          ],
          "name": "stdout"
        }
      ]
    },
    {
      "cell_type": "markdown",
      "metadata": {
        "id": "xWaf9kPQ1DpQ"
      },
      "source": [
        "When writing long numebrs, we can group digits using underscores to make large numbers more readable"
      ]
    },
    {
      "cell_type": "code",
      "metadata": {
        "id": "iSFPDJ7Y0sYc",
        "colab": {
          "base_uri": "https://localhost:8080/"
        },
        "outputId": "4f98f040-04fa-4d24-a65f-12b514cc276f"
      },
      "source": [
        "universe_age=14_000_000_000\r\n",
        "print(universe_age)"
      ],
      "execution_count": null,
      "outputs": [
        {
          "output_type": "stream",
          "text": [
            "14000000000\n"
          ],
          "name": "stdout"
        }
      ]
    },
    {
      "cell_type": "markdown",
      "metadata": {
        "id": "z8xMnWVy1tc-"
      },
      "source": [
        "Multiple assignment"
      ]
    },
    {
      "cell_type": "code",
      "metadata": {
        "id": "DAW1VwnE1yZ_"
      },
      "source": [
        "x,y,z=0,0,0"
      ],
      "execution_count": null,
      "outputs": []
    },
    {
      "cell_type": "markdown",
      "metadata": {
        "id": "a3Tuj1vf2MN_"
      },
      "source": [
        "A constant is like a variable whose value stays the same throughout the life of a program. Python doesn’t have built-in constant types, but Python programmers use all capital letters to indicate a variable should be treated as a constant and never be changed"
      ]
    },
    {
      "cell_type": "code",
      "metadata": {
        "id": "h1mYPKkO2Rlf"
      },
      "source": [
        "MAX_CONNECTIONS=5000"
      ],
      "execution_count": null,
      "outputs": []
    },
    {
      "cell_type": "markdown",
      "metadata": {
        "id": "EUGITGKDdDru"
      },
      "source": [
        "# List"
      ]
    },
    {
      "cell_type": "markdown",
      "metadata": {
        "id": "mWF4M5jZeTlG"
      },
      "source": [
        "## Appending Elements to the End of a List"
      ]
    },
    {
      "cell_type": "code",
      "metadata": {
        "id": "jhC8Y0efeYce",
        "colab": {
          "base_uri": "https://localhost:8080/"
        },
        "outputId": "94da5e99-b9e1-4238-f66e-976a394ff8af"
      },
      "source": [
        "motor=['honda','yamaha','suzuki']\r\n",
        "motor.append('ducati')\r\n",
        "print(motor)"
      ],
      "execution_count": null,
      "outputs": [
        {
          "output_type": "stream",
          "text": [
            "['honda', 'yamaha', 'suzuki', 'ducati']\n"
          ],
          "name": "stdout"
        }
      ]
    },
    {
      "cell_type": "markdown",
      "metadata": {
        "id": "tc1JKd9le-FB"
      },
      "source": [
        "## Removing Elements from a List"
      ]
    },
    {
      "cell_type": "markdown",
      "metadata": {
        "id": "Bv-rEaCEhsQ3"
      },
      "source": [
        "### By position"
      ]
    },
    {
      "cell_type": "code",
      "metadata": {
        "id": "SA4cUovhfX8B",
        "colab": {
          "base_uri": "https://localhost:8080/"
        },
        "outputId": "66cbd20f-61a7-40b2-f16f-07ae73baa617"
      },
      "source": [
        "# If the position of the element is known\r\n",
        "del motor[0]\r\n",
        "print(motor)\r\n",
        "#pop()\r\n",
        "popped_element=motor.pop()\r\n",
        "print(motor)\r\n",
        "print(popped_element)"
      ],
      "execution_count": null,
      "outputs": [
        {
          "output_type": "stream",
          "text": [
            "['yamaha', 'suzuki', 'ducati']\n",
            "['yamaha', 'suzuki']\n",
            "ducati\n"
          ],
          "name": "stdout"
        }
      ]
    },
    {
      "cell_type": "markdown",
      "metadata": {
        "id": "A_xdss3Ig3Yi"
      },
      "source": [
        "Popping items from any position in a List"
      ]
    },
    {
      "cell_type": "code",
      "metadata": {
        "id": "byg9KuZ6g2Mu",
        "colab": {
          "base_uri": "https://localhost:8080/"
        },
        "outputId": "1553dba9-b25f-4c9e-9d34-a60f133f86a4"
      },
      "source": [
        "motor=['honda','yamaha','suzuki']\r\n",
        "elem1=motor.pop(1)\r\n",
        "print(motor,elem1)"
      ],
      "execution_count": null,
      "outputs": [
        {
          "output_type": "stream",
          "text": [
            "['honda', 'suzuki'] yamaha\n"
          ],
          "name": "stdout"
        }
      ]
    },
    {
      "cell_type": "markdown",
      "metadata": {
        "id": "b7BtFwWKhvsY"
      },
      "source": [
        "### By value"
      ]
    },
    {
      "cell_type": "code",
      "metadata": {
        "id": "copJb8kVhyN7",
        "colab": {
          "base_uri": "https://localhost:8080/"
        },
        "outputId": "41ef0354-5ce0-4011-c4b2-a7fe8d418ac8"
      },
      "source": [
        "motor.remove('honda')\r\n",
        "print(motor)\r\n",
        "# remove() deletes only the first occurence of the value we specify"
      ],
      "execution_count": null,
      "outputs": [
        {
          "output_type": "stream",
          "text": [
            "['suzuki']\n"
          ],
          "name": "stdout"
        }
      ]
    },
    {
      "cell_type": "markdown",
      "metadata": {
        "id": "LQFsH7uditC1"
      },
      "source": [
        "## Organizing a List"
      ]
    },
    {
      "cell_type": "markdown",
      "metadata": {
        "id": "N5UNbGXWjEnH"
      },
      "source": [
        "### Sorting a List Permanently with the sort() Method"
      ]
    },
    {
      "cell_type": "code",
      "metadata": {
        "id": "3_8NI2nOjMMc",
        "colab": {
          "base_uri": "https://localhost:8080/"
        },
        "outputId": "2b5503c9-be99-4772-98f2-afca06aeccb9"
      },
      "source": [
        "cars=['bmw','audi','toyota','subaru']\r\n",
        "cars.sort()\r\n",
        "print(cars)\r\n",
        "# You can also sort this in reverse alphabetical order by passing the argument reverse=True to sort() method\r\n",
        "cars.sort(reverse=True)\r\n",
        "print(cars)"
      ],
      "execution_count": null,
      "outputs": [
        {
          "output_type": "stream",
          "text": [
            "['audi', 'bmw', 'subaru', 'toyota']\n",
            "['toyota', 'subaru', 'bmw', 'audi']\n"
          ],
          "name": "stdout"
        }
      ]
    },
    {
      "cell_type": "markdown",
      "metadata": {
        "id": "NPdsD3Vrj4u1"
      },
      "source": [
        "### Sorting a List Temporarily with the sorted() Function"
      ]
    },
    {
      "cell_type": "code",
      "metadata": {
        "id": "Cm6o4b4Lj6_d",
        "colab": {
          "base_uri": "https://localhost:8080/"
        },
        "outputId": "c604b1bf-5957-4f6c-def7-7ffa05989214"
      },
      "source": [
        "print(cars)\r\n",
        "print(sorted(cars))\r\n",
        "print(cars)"
      ],
      "execution_count": null,
      "outputs": [
        {
          "output_type": "stream",
          "text": [
            "['toyota', 'subaru', 'bmw', 'audi']\n",
            "['audi', 'bmw', 'subaru', 'toyota']\n",
            "['toyota', 'subaru', 'bmw', 'audi']\n"
          ],
          "name": "stdout"
        }
      ]
    },
    {
      "cell_type": "markdown",
      "metadata": {
        "id": "f5HwZNfMkpvz"
      },
      "source": [
        "### Reversing a List"
      ]
    },
    {
      "cell_type": "code",
      "metadata": {
        "id": "Yh_S2d2gk0In",
        "colab": {
          "base_uri": "https://localhost:8080/"
        },
        "outputId": "fd4517b8-0bb5-4089-9dac-bb48dbb4cde3"
      },
      "source": [
        "cars=['bmw','audi','toyota','subaru']\r\n",
        "cars.reverse()\r\n",
        "print(cars)"
      ],
      "execution_count": null,
      "outputs": [
        {
          "output_type": "stream",
          "text": [
            "['subaru', 'toyota', 'audi', 'bmw']\n"
          ],
          "name": "stdout"
        }
      ]
    },
    {
      "cell_type": "markdown",
      "metadata": {
        "id": "zmcBpdDIl0hq"
      },
      "source": [
        "### Finding the length of a List"
      ]
    },
    {
      "cell_type": "code",
      "metadata": {
        "id": "4AZPpCE9l9TB",
        "colab": {
          "base_uri": "https://localhost:8080/"
        },
        "outputId": "80815685-764c-4e4c-cef8-f4070b0712a2"
      },
      "source": [
        "len(cars)"
      ],
      "execution_count": null,
      "outputs": [
        {
          "output_type": "execute_result",
          "data": {
            "text/plain": [
              "4"
            ]
          },
          "metadata": {
            "tags": []
          },
          "execution_count": 10
        }
      ]
    },
    {
      "cell_type": "markdown",
      "metadata": {
        "id": "UdlAiytCsFC6"
      },
      "source": [
        "## Making Numerical Lists"
      ]
    },
    {
      "cell_type": "markdown",
      "metadata": {
        "id": "ehcKEwQAsKCq"
      },
      "source": [
        "### Using range() to make a list of Numbers"
      ]
    },
    {
      "cell_type": "code",
      "metadata": {
        "id": "cRqJXVLHsQtb",
        "colab": {
          "base_uri": "https://localhost:8080/"
        },
        "outputId": "0d0f0dda-a2d7-4c81-ed9f-114b52e99b59"
      },
      "source": [
        "numbers=list(range(1,6))\r\n",
        "print(numbers)\r\n",
        "# skip numbers in a given range\r\n",
        "even_numbers=list(range(2,11,2))\r\n",
        "print(even_numbers)"
      ],
      "execution_count": null,
      "outputs": [
        {
          "output_type": "stream",
          "text": [
            "[1, 2, 3, 4, 5]\n",
            "[2, 4, 6, 8, 10]\n"
          ],
          "name": "stdout"
        }
      ]
    },
    {
      "cell_type": "markdown",
      "metadata": {
        "id": "o1YfvnCvuDuu"
      },
      "source": [
        "### Simple Statistics with a List of Numbers"
      ]
    },
    {
      "cell_type": "code",
      "metadata": {
        "id": "o2Y90t9wuQf-",
        "colab": {
          "base_uri": "https://localhost:8080/"
        },
        "outputId": "bf5e6804-f7c1-4e8c-a231-e7ae364fe218"
      },
      "source": [
        "digits=list(range(10))\r\n",
        "print(min(digits),max(digits),sum(digits))"
      ],
      "execution_count": null,
      "outputs": [
        {
          "output_type": "stream",
          "text": [
            "0 9 45\n"
          ],
          "name": "stdout"
        }
      ]
    },
    {
      "cell_type": "markdown",
      "metadata": {
        "id": "zP76585Tugka"
      },
      "source": [
        "### List Comprehension"
      ]
    },
    {
      "cell_type": "code",
      "metadata": {
        "id": "o1JkeW7ruiqk",
        "colab": {
          "base_uri": "https://localhost:8080/"
        },
        "outputId": "4e3cff7f-eca4-479b-ea41-1de2abf1d1cd"
      },
      "source": [
        "squares=[value**2 for value in range(1,11)]\r\n",
        "print(squares)"
      ],
      "execution_count": null,
      "outputs": [
        {
          "output_type": "stream",
          "text": [
            "[1, 4, 9, 16, 25, 36, 49, 64, 81, 100]\n"
          ],
          "name": "stdout"
        }
      ]
    },
    {
      "cell_type": "markdown",
      "metadata": {
        "id": "cV_HqwzwvHh5"
      },
      "source": [
        "## Working with Part of a List\r\n",
        "### Slicing a List"
      ]
    },
    {
      "cell_type": "code",
      "metadata": {
        "id": "WBzJvy7ovKWc",
        "colab": {
          "base_uri": "https://localhost:8080/"
        },
        "outputId": "ae99622c-f845-4a5b-8c2f-da0119625d88"
      },
      "source": [
        "players=['charles','martina','michael','florence','eli']\r\n",
        "print(players[0:3])\r\n",
        "print(players[1:4])\r\n",
        "print(players[:4])\r\n",
        "print(players[2:])\r\n",
        "print(players[-3:])# the last three\r\n",
        "print(players[::2])# skip"
      ],
      "execution_count": null,
      "outputs": [
        {
          "output_type": "stream",
          "text": [
            "['charles', 'martina', 'michael']\n",
            "['martina', 'michael', 'florence']\n",
            "['charles', 'martina', 'michael', 'florence']\n",
            "['michael', 'florence', 'eli']\n",
            "['michael', 'florence', 'eli']\n",
            "['charles', 'michael', 'eli']\n"
          ],
          "name": "stdout"
        }
      ]
    },
    {
      "cell_type": "markdown",
      "metadata": {
        "id": "vbVAVLmewyIT"
      },
      "source": [
        "### Copying a List"
      ]
    },
    {
      "cell_type": "code",
      "metadata": {
        "id": "cXyPgYYFw8M6",
        "colab": {
          "base_uri": "https://localhost:8080/"
        },
        "outputId": "16c6c4c0-321d-4bad-e23e-a512eb01a12e"
      },
      "source": [
        "food=['pizza','falafel','carrot cake']\r\n",
        "friend_food=food[:]\r\n",
        "food.append('steak')\r\n",
        "print(food,friend_food)"
      ],
      "execution_count": null,
      "outputs": [
        {
          "output_type": "stream",
          "text": [
            "['pizza', 'falafel', 'carrot cake', 'steak'] ['pizza', 'falafel', 'carrot cake']\n"
          ],
          "name": "stdout"
        }
      ]
    },
    {
      "cell_type": "markdown",
      "metadata": {
        "id": "8M5DjjZfRX54"
      },
      "source": [
        "## Checking That a List Is Not Empty"
      ]
    },
    {
      "cell_type": "code",
      "metadata": {
        "id": "FGbHeSlYRhja",
        "colab": {
          "base_uri": "https://localhost:8080/"
        },
        "outputId": "33c56842-ec27-489b-db15-24f1fdecf56e"
      },
      "source": [
        "requested_toppings=[]\r\n",
        "if requested_toppings:\r\n",
        "  for r in requested_toppings:\r\n",
        "    print(r)\r\n",
        "else:\r\n",
        "  print('No toppings')"
      ],
      "execution_count": null,
      "outputs": [
        {
          "output_type": "stream",
          "text": [
            "No toppings\n"
          ],
          "name": "stdout"
        }
      ]
    },
    {
      "cell_type": "code",
      "metadata": {
        "id": "7J4owe6zYV7Y",
        "colab": {
          "base_uri": "https://localhost:8080/"
        },
        "outputId": "9c2f8d58-ed72-4264-85f2-500280e635dd"
      },
      "source": [
        "!python -V"
      ],
      "execution_count": null,
      "outputs": [
        {
          "output_type": "stream",
          "text": [
            "Python 3.7.9\n"
          ],
          "name": "stdout"
        }
      ]
    },
    {
      "cell_type": "markdown",
      "metadata": {
        "id": "Dc7hA933yUX8"
      },
      "source": [
        "# Tuples\r\n",
        "Python refers to values that cannot change as immutable, and a immutable list is called tuple.\r\n",
        "\r\n",
        "Tuples are technically defined by the presence of a ***comma***; the parentheses make them look neater and more readable. If we want to define a tuple with one element, we need to include a ***trailing comma***"
      ]
    },
    {
      "cell_type": "code",
      "metadata": {
        "id": "qNSs-mimyV-W"
      },
      "source": [
        "my_t=(2,)"
      ],
      "execution_count": null,
      "outputs": []
    },
    {
      "cell_type": "markdown",
      "metadata": {
        "id": "zRPo5l7v0u8y"
      },
      "source": [
        "## Writing over a Tuple\r\n",
        "* Although we cannot modify a tuple, we can assign a new value to a variable that represents a tuple."
      ]
    },
    {
      "cell_type": "code",
      "metadata": {
        "id": "ZYl43nDm0t7M",
        "colab": {
          "base_uri": "https://localhost:8080/"
        },
        "outputId": "9165927e-d977-40bf-da4f-3185a7e8d88c"
      },
      "source": [
        "dimensions=(200,50)\r\n",
        "for dim in dimensions:\r\n",
        "  print(dim)\r\n",
        "dimensions=(400,100)\r\n",
        "for dim in dimensions:\r\n",
        "  print(dim)"
      ],
      "execution_count": null,
      "outputs": [
        {
          "output_type": "stream",
          "text": [
            "200\n",
            "50\n",
            "400\n",
            "100\n"
          ],
          "name": "stdout"
        }
      ]
    },
    {
      "cell_type": "markdown",
      "metadata": {
        "id": "atKmKQ9IYu7E"
      },
      "source": [
        "# Dict"
      ]
    },
    {
      "cell_type": "markdown",
      "metadata": {
        "id": "8M5pGoUDZQIw"
      },
      "source": [
        "In python, a dictionary is wrapped in braces {}"
      ]
    },
    {
      "cell_type": "code",
      "metadata": {
        "id": "jWblpX_-Y8LC",
        "colab": {
          "base_uri": "https://localhost:8080/"
        },
        "outputId": "19686dd5-0287-4bbb-b484-0087bcc6dadd"
      },
      "source": [
        "alien_0={'color':'green','point':5}\r\n",
        "print(alien_0['color'])\r\n",
        "print(alien_0['point'])\r\n",
        "alien_0['color']='yellow'\r\n",
        "alien_0['x_position']=0\r\n",
        "alien_0['y_position']=25\r\n",
        "print(alien_0)"
      ],
      "execution_count": null,
      "outputs": [
        {
          "output_type": "stream",
          "text": [
            "green\n",
            "5\n",
            "{'color': 'yellow', 'point': 5, 'x_position': 0, 'y_position': 25}\n"
          ],
          "name": "stdout"
        }
      ]
    },
    {
      "cell_type": "markdown",
      "metadata": {
        "id": "wGkAYeyHZzXM"
      },
      "source": [
        "## Removing Key-Value Pairs"
      ]
    },
    {
      "cell_type": "code",
      "metadata": {
        "id": "1krJ8kboZ3Ya",
        "colab": {
          "base_uri": "https://localhost:8080/"
        },
        "outputId": "e63c9e85-6301-43c9-821d-825a34f49b11"
      },
      "source": [
        "print(alien_0)\r\n",
        "del alien_0['point']\r\n",
        "print(alien_0)"
      ],
      "execution_count": null,
      "outputs": [
        {
          "output_type": "stream",
          "text": [
            "{'color': 'yellow', 'point': 5, 'x_position': 0, 'y_position': 25}\n",
            "{'color': 'yellow', 'x_position': 0, 'y_position': 25}\n"
          ],
          "name": "stdout"
        }
      ]
    },
    {
      "cell_type": "code",
      "metadata": {
        "id": "N2PnZc_5atTv"
      },
      "source": [
        "favorite_languages={\r\n",
        "    'jen':'python',\r\n",
        "    'sarah':'c',\r\n",
        "    'edward':'ruby',\r\n",
        "    'phil':'python',# It's good practice to include a comma after the last key-value pair as well\r\n",
        "}"
      ],
      "execution_count": null,
      "outputs": []
    },
    {
      "cell_type": "markdown",
      "metadata": {
        "id": "-ZMxuHkJbPfw"
      },
      "source": [
        "## Using get() to Access Values\r\n",
        "Using keys in square brackets to retrieve the value might cause one potential problem: if the key you ask for does't exist, you'll get an error.\r\n",
        "\r\n",
        "The get() method required a key as the first argument. As a second optional argument, you can pass the value to be returned if the key doesn't exist. The defalut value of second argument is None"
      ]
    },
    {
      "cell_type": "code",
      "metadata": {
        "id": "w85bCu4vbPH8",
        "colab": {
          "base_uri": "https://localhost:8080/"
        },
        "outputId": "276e7800-b999-4473-bd53-26f763b65127"
      },
      "source": [
        "speed=alien_0.get('speed','No point value assigned')\r\n",
        "print(speed)\r\n",
        "speed=alien_0.get('speed')\r\n",
        "print(speed)"
      ],
      "execution_count": null,
      "outputs": [
        {
          "output_type": "stream",
          "text": [
            "No point value assigned\n",
            "None\n"
          ],
          "name": "stdout"
        }
      ]
    },
    {
      "cell_type": "markdown",
      "metadata": {
        "id": "pWUNlV84Qu2K"
      },
      "source": [
        "## Looping Through a Dictionary"
      ]
    },
    {
      "cell_type": "markdown",
      "metadata": {
        "id": "QbIymVvOQ8LZ"
      },
      "source": [
        "### Looping Through All Key-Value Pairs"
      ]
    },
    {
      "cell_type": "code",
      "metadata": {
        "id": "zUOHeVtkRFJp",
        "colab": {
          "base_uri": "https://localhost:8080/"
        },
        "outputId": "567d2d27-4629-4b34-f5f1-1ab071a8cafa"
      },
      "source": [
        "user_0={\r\n",
        "    'username':'efermi',\r\n",
        "    'first':'enrico',\r\n",
        "    'last':'fermi',\r\n",
        "}\r\n",
        "for key,value in user_0.items():\r\n",
        "  print(f\"\\nKey:{key}\")\r\n",
        "  print(f\"Value:{value}\")"
      ],
      "execution_count": null,
      "outputs": [
        {
          "output_type": "stream",
          "text": [
            "\n",
            "Key:username\n",
            "Value:efermi\n",
            "\n",
            "Key:first\n",
            "Value:enrico\n",
            "\n",
            "Key:last\n",
            "Value:fermi\n"
          ],
          "name": "stdout"
        }
      ]
    },
    {
      "cell_type": "markdown",
      "metadata": {
        "id": "1siGWfeDRxHv"
      },
      "source": [
        "### Looping Through All keys in a Dictionary"
      ]
    },
    {
      "cell_type": "code",
      "metadata": {
        "id": "XNpn8noYR2kp",
        "colab": {
          "base_uri": "https://localhost:8080/"
        },
        "outputId": "610facf4-28f5-48e4-e8d5-4ac830bc492d"
      },
      "source": [
        "favorite_languages={\r\n",
        "    'jen':'python',\r\n",
        "    'sarah':'c',\r\n",
        "    'edward':'ruby',\r\n",
        "    'phil':'python',\r\n",
        "}\r\n",
        "for name in favorite_languages.keys():\r\n",
        "  print(name.title())\r\n",
        "# Looping through the keys is actually the default behavior, so it's same as:\r\n",
        "for name in favorite_languages:\r\n",
        "  print(name.title())\r\n",
        "# Using keys makes the code easier to read"
      ],
      "execution_count": null,
      "outputs": [
        {
          "output_type": "stream",
          "text": [
            "Jen\n",
            "Sarah\n",
            "Edward\n",
            "Phil\n",
            "Jen\n",
            "Sarah\n",
            "Edward\n",
            "Phil\n"
          ],
          "name": "stdout"
        }
      ]
    },
    {
      "cell_type": "code",
      "metadata": {
        "id": "yusxaLIcS_Rd",
        "colab": {
          "base_uri": "https://localhost:8080/"
        },
        "outputId": "cf4aaf05-0376-46dc-ee51-3d61e50818fc"
      },
      "source": [
        "# checking if a key is in the dictionary\r\n",
        "if 'erin' not in favorite_languages.keys(): # omit the keys() if you want\r\n",
        "  print(\"Erin, please take the poll\")"
      ],
      "execution_count": null,
      "outputs": [
        {
          "output_type": "stream",
          "text": [
            "Erin, please take the poll\n"
          ],
          "name": "stdout"
        }
      ]
    },
    {
      "cell_type": "markdown",
      "metadata": {
        "id": "BU8LUD-CS-Ml"
      },
      "source": [
        "### Loopint Through a Dictionary's Keys in a Particular Order"
      ]
    },
    {
      "cell_type": "code",
      "metadata": {
        "id": "FCuksypxTmWD",
        "colab": {
          "base_uri": "https://localhost:8080/"
        },
        "outputId": "a430b17b-b9ec-4f19-be0b-bfc3fc665c22"
      },
      "source": [
        "for name in sorted(favorite_languages.keys()):# omit the keys() if you want\r\n",
        "  print(name.title())"
      ],
      "execution_count": null,
      "outputs": [
        {
          "output_type": "stream",
          "text": [
            "Edward\n",
            "Jen\n",
            "Phil\n",
            "Sarah\n"
          ],
          "name": "stdout"
        }
      ]
    },
    {
      "cell_type": "markdown",
      "metadata": {
        "id": "r5QePmG_UbNJ"
      },
      "source": [
        "### Looping Through All Values in a Dictionary"
      ]
    },
    {
      "cell_type": "code",
      "metadata": {
        "id": "M3WFjcjoUf-C",
        "colab": {
          "base_uri": "https://localhost:8080/"
        },
        "outputId": "0549d26d-6bf6-43fe-9620-7942d6c0567e"
      },
      "source": [
        "for language in favorite_languages.values():\r\n",
        "  print(language.title())\r\n",
        "# This approach pulls all the values from the dictionary without checking for repeats.\r\n",
        "# Too see each language chosen without repetition, we can use a set. A set is a colleciton in which each item must be unique\r\n",
        "print('***************')\r\n",
        "for language in set(favorite_languages.values()):\r\n",
        "  print(language.title())"
      ],
      "execution_count": null,
      "outputs": [
        {
          "output_type": "stream",
          "text": [
            "Python\n",
            "C\n",
            "Ruby\n",
            "Python\n",
            "***************\n",
            "Ruby\n",
            "Python\n",
            "C\n"
          ],
          "name": "stdout"
        }
      ]
    },
    {
      "cell_type": "markdown",
      "metadata": {
        "id": "Zi814HPRVufa"
      },
      "source": [
        "Unlike list and dictionary, set does not retain items in any specific order."
      ]
    },
    {
      "cell_type": "markdown",
      "metadata": {
        "id": "A7TPPqXcV8H7"
      },
      "source": [
        "## Nesting\r\n",
        "Sometimes you’ll want to store multiple dictionaries in a list, or a list of items as a value in a dictionary. This is called nesting."
      ]
    },
    {
      "cell_type": "markdown",
      "metadata": {
        "id": "zR9zchYNXdyO"
      },
      "source": [
        "### A List of Dictionaries"
      ]
    },
    {
      "cell_type": "code",
      "metadata": {
        "id": "Q1Zy5_53V-39",
        "colab": {
          "base_uri": "https://localhost:8080/"
        },
        "outputId": "766d3f19-1735-4223-a5c1-0f906b7769fb"
      },
      "source": [
        "alien_0 = {'color': 'green', 'points': 5}\r\n",
        "alien_1 = {'color': 'yellow', 'points': 10}\r\n",
        "alien_2 = {'color': 'red', 'points': 15}\r\n",
        "aliens = [alien_0, alien_1, alien_2]\r\n",
        "for alien in aliens:\r\n",
        "  print(alien)"
      ],
      "execution_count": null,
      "outputs": [
        {
          "output_type": "stream",
          "text": [
            "{'color': 'green', 'points': 5}\n",
            "{'color': 'yellow', 'points': 10}\n",
            "{'color': 'red', 'points': 15}\n"
          ],
          "name": "stdout"
        }
      ]
    },
    {
      "cell_type": "markdown",
      "metadata": {
        "id": "VgGotct9XiGU"
      },
      "source": [
        "### A List in a Dicitonary"
      ]
    },
    {
      "cell_type": "code",
      "metadata": {
        "id": "rpIfOMDJXngl",
        "colab": {
          "base_uri": "https://localhost:8080/"
        },
        "outputId": "a1093fed-0ba7-4109-958c-a33c5f1d8551"
      },
      "source": [
        "# Store information about a pizza being ordered\r\n",
        "pizza = {    \r\n",
        "    'crust': 'thick',    \r\n",
        "    'toppings': ['mushrooms', 'extra cheese'],    \r\n",
        "  }\r\n",
        "# Summarize the order.\r\n",
        "print(f\"You ordered a {pizza['crust']}-crust pizza \"\"with the following toppings:\")\r\n",
        "for topping in pizza['toppings']:    \r\n",
        "  print(\"\\t\" + topping)"
      ],
      "execution_count": null,
      "outputs": [
        {
          "output_type": "stream",
          "text": [
            "You ordered a thick-crust pizza with the following toppings:\n",
            "\tmushrooms\n",
            "\textra cheese\n"
          ],
          "name": "stdout"
        }
      ]
    },
    {
      "cell_type": "code",
      "metadata": {
        "id": "rG2Bo1uQZAYb",
        "colab": {
          "base_uri": "https://localhost:8080/"
        },
        "outputId": "92e46b20-c5f3-42f2-e2c7-6041e0b54d11"
      },
      "source": [
        "favorite_languages = {    \r\n",
        "    'jen': ['python', 'ruby'],    \r\n",
        "    'sarah': ['c'],    \r\n",
        "    'edward': ['ruby', 'go'],    \r\n",
        "    'phil': ['python', 'haskell'],    \r\n",
        "  }\r\n",
        "for name, languages in favorite_languages.items():\r\n",
        "  print(f\"\\n{name.title()}'s favorite languages are:\")    \r\n",
        "  for language in languages:        \r\n",
        "    print(\"\\t\"+language.title())"
      ],
      "execution_count": null,
      "outputs": [
        {
          "output_type": "stream",
          "text": [
            "\n",
            "Jen's favorite languages are:\n",
            "\tPython\n",
            "\tRuby\n",
            "\n",
            "Sarah's favorite languages are:\n",
            "\tC\n",
            "\n",
            "Edward's favorite languages are:\n",
            "\tRuby\n",
            "\tGo\n",
            "\n",
            "Phil's favorite languages are:\n",
            "\tPython\n",
            "\tHaskell\n"
          ],
          "name": "stdout"
        }
      ]
    },
    {
      "cell_type": "markdown",
      "metadata": {
        "id": "1jWZW3t7ZhYg"
      },
      "source": [
        "Notes: you should not nest lists and dictionaries too deeply. If you’re nesting items much deeper than what you see in the preceding examples or you’re working with someone else’s code with significant levels of nesting, most likely a simpler way to solve the problem exists."
      ]
    },
    {
      "cell_type": "markdown",
      "metadata": {
        "id": "rihMKcZ8Znz6"
      },
      "source": [
        "### A Dictionary in a Dictionary"
      ]
    },
    {
      "cell_type": "code",
      "metadata": {
        "id": "munpnd0ZZtRQ",
        "colab": {
          "base_uri": "https://localhost:8080/"
        },
        "outputId": "7bd145d9-9973-4917-f164-06f6e4d361fb"
      },
      "source": [
        "users = {    \r\n",
        "    'aeinstein': {        \r\n",
        "        'first': 'albert',\r\n",
        "        'last': 'einstein',        \r\n",
        "        'location': 'princeton',        \r\n",
        "      },    \r\n",
        "    'mcurie': {        \r\n",
        "        'first': 'marie',        \r\n",
        "        'last': 'curie',        \r\n",
        "        'location': 'paris',        \r\n",
        "      },    \r\n",
        "  } \r\n",
        "for username, user_info in users.items():     \r\n",
        "  print(f\"\\nUsername: {username}\")     \r\n",
        "  full_name = f\"{user_info['first']} {user_info['last']}\"    \r\n",
        "  location = user_info['location']     \r\n",
        "  print(f\"\\tFull name: {full_name.title()}\")\r\n",
        "  print(f\"\\tLocation: {location.title()}\")"
      ],
      "execution_count": null,
      "outputs": [
        {
          "output_type": "stream",
          "text": [
            "\n",
            "Username: aeinstein\n",
            "\tFull name: Albert Einstein\n",
            "\tLocation: Princeton\n",
            "\n",
            "Username: mcurie\n",
            "\tFull name: Marie Curie\n",
            "\tLocation: Paris\n"
          ],
          "name": "stdout"
        }
      ]
    },
    {
      "cell_type": "markdown",
      "metadata": {
        "id": "ne2mEdZASPHX"
      },
      "source": [
        "# Input"
      ]
    },
    {
      "cell_type": "code",
      "metadata": {
        "id": "z8o8dxRTSZRA",
        "outputId": "daa33e53-3ad9-46d4-e2fe-f494e1f5981a",
        "colab": {
          "base_uri": "https://localhost:8080/"
        }
      },
      "source": [
        "message=input(\"Tell me something, and I will repeat back to you: \")\r\n",
        "print(message)"
      ],
      "execution_count": 2,
      "outputs": [
        {
          "output_type": "stream",
          "text": [
            "Tell me something, and I will repeat back to you: hello\n",
            "hello\n"
          ],
          "name": "stdout"
        }
      ]
    },
    {
      "cell_type": "markdown",
      "metadata": {
        "id": "SSUBTdENTjfw"
      },
      "source": [
        "## Using int() to Accept Numerical Input"
      ]
    },
    {
      "cell_type": "code",
      "metadata": {
        "id": "jJGZTHfKTt-q",
        "outputId": "77b09a68-8d6d-4ba0-9a2c-5bd7ccdc291a",
        "colab": {
          "base_uri": "https://localhost:8080/"
        }
      },
      "source": [
        "# Python interprets everthing the user enters as a string\r\n",
        "age=input(\"How old are you? \")\r\n",
        "age=int(age)\r\n",
        "age>=18"
      ],
      "execution_count": 3,
      "outputs": [
        {
          "output_type": "stream",
          "text": [
            "How old are you? 21\n"
          ],
          "name": "stdout"
        },
        {
          "output_type": "execute_result",
          "data": {
            "text/plain": [
              "True"
            ]
          },
          "metadata": {
            "tags": []
          },
          "execution_count": 3
        }
      ]
    },
    {
      "cell_type": "markdown",
      "metadata": {
        "id": "KDbY_F8gU8TX"
      },
      "source": [
        "# Using While Loop with Lists and Dictionaries\r\n"
      ]
    },
    {
      "cell_type": "markdown",
      "metadata": {
        "id": "gfGbnFw6W3qx"
      },
      "source": [
        "## Removing All Instances of Specific Values from a List"
      ]
    },
    {
      "cell_type": "code",
      "metadata": {
        "id": "hveRAlrhVYKb",
        "outputId": "6c045215-bf8a-42a0-ce57-2713d5b0847a",
        "colab": {
          "base_uri": "https://localhost:8080/"
        }
      },
      "source": [
        "pets=['dog','cat','dog','goldfish','cat','rabbit','cat']\r\n",
        "print(pets)\r\n",
        "while 'cat' in pets:\r\n",
        "  pets.remove('cat')\r\n",
        "print(pets)"
      ],
      "execution_count": 4,
      "outputs": [
        {
          "output_type": "stream",
          "text": [
            "['dog', 'cat', 'dog', 'goldfish', 'cat', 'rabbit', 'cat']\n",
            "['dog', 'dog', 'goldfish', 'rabbit']\n"
          ],
          "name": "stdout"
        }
      ]
    },
    {
      "cell_type": "markdown",
      "metadata": {
        "id": "fSqpAJZ9XO2N"
      },
      "source": [
        "## Filling a Dictionary with User Input"
      ]
    },
    {
      "cell_type": "code",
      "metadata": {
        "id": "F_xl_RJmXSJk",
        "outputId": "fa2ff8f3-6bbe-41ed-8fed-c28e21210749",
        "colab": {
          "base_uri": "https://localhost:8080/"
        }
      },
      "source": [
        "responses={}\r\n",
        "polling_active=True\r\n",
        "while polling_active:\r\n",
        "  name=input(\"\\nWhat is your name？ \")\r\n",
        "  response=input(\"Which mountain would you like to climb someday? \")\r\n",
        "  responses[name]=response\r\n",
        "  repeat=input('Would you like to let another person respond? (yes/no)')\r\n",
        "  if repeat=='no':\r\n",
        "    polling_active=False\r\n",
        "print('---Polling Results---')\r\n",
        "for name,response in responses.items():\r\n",
        "  print(f\"{name} would like to climb {response}\")"
      ],
      "execution_count": 5,
      "outputs": [
        {
          "output_type": "stream",
          "text": [
            "\n",
            "What is your name？ Jack\n",
            "Which mountain would you like to climb someday? FUJI\n",
            "Would you like to let another person respond? (yes/no)no\n",
            "---Polling Results---\n",
            "Jack would like to climb FUJI\n"
          ],
          "name": "stdout"
        }
      ]
    },
    {
      "cell_type": "markdown",
      "metadata": {
        "id": "LTm12x-aYqtR"
      },
      "source": [
        "# Functions"
      ]
    },
    {
      "cell_type": "markdown",
      "metadata": {
        "id": "rdZ2cdn8YsgE"
      },
      "source": [
        "## Defining a Function"
      ]
    },
    {
      "cell_type": "code",
      "metadata": {
        "id": "qHmACThMYsIo",
        "outputId": "d1b04b3a-9bc2-496e-c8da-8f56cc91e898",
        "colab": {
          "base_uri": "https://localhost:8080/"
        }
      },
      "source": [
        "def greet_user():\r\n",
        "  \"\"\"Display a simple greeting\"\"\" # This is a comment called docstring\r\n",
        "  print('Hello')\r\n",
        "greet_user()"
      ],
      "execution_count": 8,
      "outputs": [
        {
          "output_type": "stream",
          "text": [
            "Hello\n"
          ],
          "name": "stdout"
        }
      ]
    },
    {
      "cell_type": "markdown",
      "metadata": {
        "id": "kajAM9LVaDpd"
      },
      "source": [
        "## Passing Information to a Funciton"
      ]
    },
    {
      "cell_type": "code",
      "metadata": {
        "id": "stAnNXmnaHOM",
        "outputId": "c2705576-bab2-41dc-e320-87c2d6dfde3b",
        "colab": {
          "base_uri": "https://localhost:8080/"
        }
      },
      "source": [
        "def greet_user(username):# username is a parameter\r\n",
        "  \"\"\"Display a simple greeting\"\"\"\r\n",
        "  print('Hello '+username.title())\r\n",
        "greet_user('jack')# 'jack' is an argument"
      ],
      "execution_count": 9,
      "outputs": [
        {
          "output_type": "stream",
          "text": [
            "Hello Jack\n"
          ],
          "name": "stdout"
        }
      ]
    },
    {
      "cell_type": "markdown",
      "metadata": {
        "id": "fKCbi9Xga5kn"
      },
      "source": [
        "## Passing Arguments"
      ]
    },
    {
      "cell_type": "markdown",
      "metadata": {
        "id": "7rM9soBva8f3"
      },
      "source": [
        "### Positional Arguments"
      ]
    },
    {
      "cell_type": "code",
      "metadata": {
        "id": "K0HhtUJ6a7jq",
        "outputId": "0774957d-2c05-4931-e0e0-abf2fd3caa91",
        "colab": {
          "base_uri": "https://localhost:8080/"
        }
      },
      "source": [
        "def describe_pet(animal_type, pet_name):\r\n",
        "  \"\"\"Display information about a pet.\"\"\"    \r\n",
        "  print(f\"\\nI have a {animal_type}.\")    \r\n",
        "  print(f\"My {animal_type}'s name is {pet_name.title()}.\") \r\n",
        "describe_pet('hamster', 'harry')\r\n",
        "# order matters in positional arguments"
      ],
      "execution_count": 10,
      "outputs": [
        {
          "output_type": "stream",
          "text": [
            "\n",
            "I have a hamster.\n",
            "My hamster's name is Harry.\n"
          ],
          "name": "stdout"
        }
      ]
    },
    {
      "cell_type": "markdown",
      "metadata": {
        "id": "KLqCBRSobwJQ"
      },
      "source": [
        "### Keyword Arguments"
      ]
    },
    {
      "cell_type": "code",
      "metadata": {
        "id": "-bNGCqonb3Mx",
        "outputId": "d2e303ac-fa0c-4b8a-9038-309f016396a8",
        "colab": {
          "base_uri": "https://localhost:8080/"
        }
      },
      "source": [
        "describe_pet(pet_name='Harry',animal_type='fish')"
      ],
      "execution_count": 11,
      "outputs": [
        {
          "output_type": "stream",
          "text": [
            "\n",
            "I have a fish.\n",
            "My fish's name is Harry.\n"
          ],
          "name": "stdout"
        }
      ]
    },
    {
      "cell_type": "markdown",
      "metadata": {
        "id": "Lmd3DMRMdAYF"
      },
      "source": [
        "### Default Arguments"
      ]
    },
    {
      "cell_type": "code",
      "metadata": {
        "id": "y_WSVkBxdDvV",
        "outputId": "717fe0d5-6512-4588-8518-57f28b089937",
        "colab": {
          "base_uri": "https://localhost:8080/"
        }
      },
      "source": [
        "def describe_pet(animal_type, pet_name='Josh'):# default arguments should follow non-default argument\r\n",
        "  \"\"\"Display information about a pet.\"\"\"    \r\n",
        "  print(f\"\\nI have a {animal_type}.\")    \r\n",
        "  print(f\"My {animal_type}'s name is {pet_name.title()}.\") \r\n",
        "describe_pet('dog')"
      ],
      "execution_count": 15,
      "outputs": [
        {
          "output_type": "stream",
          "text": [
            "\n",
            "I have a dog.\n",
            "My dog's name is Josh.\n"
          ],
          "name": "stdout"
        }
      ]
    },
    {
      "cell_type": "markdown",
      "metadata": {
        "id": "XAs_BrrjdhrY"
      },
      "source": [
        "## Return Values"
      ]
    },
    {
      "cell_type": "markdown",
      "metadata": {
        "id": "ymax_0w3doL6"
      },
      "source": [
        "### Returning a Simple Value"
      ]
    },
    {
      "cell_type": "code",
      "metadata": {
        "id": "dxBOJmUqdsRz",
        "outputId": "668cd0e0-dde9-479c-83c0-4470f910e95a",
        "colab": {
          "base_uri": "https://localhost:8080/"
        }
      },
      "source": [
        "def get_formatted_name(first_name, last_name):    \r\n",
        "  \"\"\"Return a full name, neatly formatted.\"\"\"     \r\n",
        "  full_name = f\"{first_name} {last_name}\"\r\n",
        "  return full_name.title() \r\n",
        "musician = get_formatted_name('jimi', 'hendrix')\r\n",
        "print(musician)"
      ],
      "execution_count": 16,
      "outputs": [
        {
          "output_type": "stream",
          "text": [
            "Jimi Hendrix\n"
          ],
          "name": "stdout"
        }
      ]
    },
    {
      "cell_type": "markdown",
      "metadata": {
        "id": "ZTF_OWlmeEK4"
      },
      "source": [
        "### Making an Argument Optional"
      ]
    },
    {
      "cell_type": "code",
      "metadata": {
        "id": "PIwALTz8eHr0",
        "outputId": "424726c1-e6aa-4582-c9de-445f9b9864ae",
        "colab": {
          "base_uri": "https://localhost:8080/"
        }
      },
      "source": [
        "def build_person(fisrt_name,last_name,age=None):\r\n",
        "  \"\"\"Return a dictionary of information about a person\"\"\"\r\n",
        "  person={'fisrt':fisrt_name,'last':last_name}\r\n",
        "  if age:\r\n",
        "    person['age']=age\r\n",
        "  return person\r\n",
        "musician=build_person('jimi','hendrix',27)\r\n",
        "print(musician)"
      ],
      "execution_count": 19,
      "outputs": [
        {
          "output_type": "stream",
          "text": [
            "{'fisrt': 'jimi', 'last': 'hendrix', 'age': 27}\n"
          ],
          "name": "stdout"
        }
      ]
    },
    {
      "cell_type": "markdown",
      "metadata": {
        "id": "_374AxANhQwI"
      },
      "source": [
        "## Passing an Arbitary Number of Arguments"
      ]
    },
    {
      "cell_type": "code",
      "metadata": {
        "id": "4_cwjpgRhUoz",
        "outputId": "4f996b96-ab5d-49e3-afce-27e762b43998",
        "colab": {
          "base_uri": "https://localhost:8080/"
        }
      },
      "source": [
        "def make_pizza(*toppings):\r\n",
        "  \"\"\"Print the list of toppings that have been requested\"\"\"\r\n",
        "  print(toppings)\r\n",
        "make_pizza('pepperoni')\r\n",
        "make_pizza('mushrooms','green peppers','extra cheese')"
      ],
      "execution_count": 20,
      "outputs": [
        {
          "output_type": "stream",
          "text": [
            "('pepperoni',)\n",
            "('mushrooms', 'green peppers', 'extra cheese')\n"
          ],
          "name": "stdout"
        }
      ]
    },
    {
      "cell_type": "markdown",
      "metadata": {
        "id": "Leje0jcvh8_B"
      },
      "source": [
        "### Mixing Positional and Arbitary Arguments"
      ]
    },
    {
      "cell_type": "code",
      "metadata": {
        "id": "yIvbswf0iCG7",
        "outputId": "b7f2a5ce-e264-46f9-f3e6-06dd115ccfe1",
        "colab": {
          "base_uri": "https://localhost:8080/"
        }
      },
      "source": [
        "def make_pizza(size,*toppings):# the parameter that accepts an arbitary number of arguments must be placed last in the function definition\r\n",
        "  \"\"\"Summarize the pizza we are about to make.\"\"\"    \r\n",
        "  print(f\"\\nMaking a {size}-inch pizza with the following toppings:\")     \r\n",
        "  for topping in toppings:         \r\n",
        "    print(f\"- {topping}\")\r\n",
        "make_pizza(16,'pepperoni')\r\n",
        "make_pizza(12,'mushrooms','green peppers','extra cheese')"
      ],
      "execution_count": 21,
      "outputs": [
        {
          "output_type": "stream",
          "text": [
            "\n",
            "Making a 16-inch pizza with the following toppings:\n",
            "- pepperoni\n",
            "\n",
            "Making a 12-inch pizza with the following toppings:\n",
            "- mushrooms\n",
            "- green peppers\n",
            "- extra cheese\n"
          ],
          "name": "stdout"
        }
      ]
    },
    {
      "cell_type": "markdown",
      "metadata": {
        "id": "TF_dABwsjfkH"
      },
      "source": [
        "### Using Arbitary Keyword Arguments"
      ]
    },
    {
      "cell_type": "code",
      "metadata": {
        "id": "fjmWng1LjtvF",
        "outputId": "65d1ceca-0256-4d18-d4bb-f86c8f920c0a",
        "colab": {
          "base_uri": "https://localhost:8080/"
        }
      },
      "source": [
        "def build_profile(first, last, **user_info):## **user_info cause Python to create an empty dictionary called user_info and pack whatever name-value pairs\r\n",
        "  \"\"\"Build a dictionary containing everything we know about a user.\"\"\"\r\n",
        "  user_info['first_name'] = first   \r\n",
        "  user_info['last_name'] = last    \r\n",
        "  return user_info\r\n",
        "user_profile = build_profile('albert', 'einstein',\r\n",
        "                location='princeton',                             \r\n",
        "                field='physics')\r\n",
        "print(user_profile)"
      ],
      "execution_count": 22,
      "outputs": [
        {
          "output_type": "stream",
          "text": [
            "{'location': 'princeton', 'field': 'physics', 'first_name': 'albert', 'last_name': 'einstein'}\n"
          ],
          "name": "stdout"
        }
      ]
    },
    {
      "cell_type": "markdown",
      "metadata": {
        "id": "dXCVGYgrkfsq"
      },
      "source": [
        "## Styling Functions\r\n",
        "* You need to keep a few details in mind when you’re styling functions. Functions \r\n",
        "should have **descriptive names**, and these names should **use lowercase letters and underscores**.\r\n",
        "* Every function should have a comment that explains concisely what the function does. This comment should appear immediately after the function definition and use the docstring format.\r\n",
        "* If your program or module has more than one function, you can separate each by two blank lines to make it easier to see where one function ends and the next one begins."
      ]
    },
    {
      "cell_type": "markdown",
      "metadata": {
        "id": "2AYe99fYoMtk"
      },
      "source": [
        "# matplotlib"
      ]
    },
    {
      "cell_type": "markdown",
      "metadata": {
        "id": "aVjXq0EsocMU"
      },
      "source": [
        "## pyplot"
      ]
    },
    {
      "cell_type": "code",
      "metadata": {
        "id": "LFkUzHXIoJce"
      },
      "source": [
        "import matplotlib.pyplot as plt\n",
        "plt.tight_layerout(pad=1.08,h_pad=None,w_pad=None,rec=None)\n",
        "# pad is used for padding between the figure edge and the edges of subplots, as a fraction of the font size\n",
        "# h_pad, w_pad is for height and width padding.\n",
        "# rect: This parameter is rectangle in the normalized figure coordinate that the whole subplots area will fit into."
      ],
      "execution_count": null,
      "outputs": []
    }
  ]
}