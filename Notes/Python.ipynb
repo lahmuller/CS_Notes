{
  "nbformat": 4,
  "nbformat_minor": 0,
  "metadata": {
    "orig_nbformat": 2,
    "colab": {
      "name": "Python.ipynb",
      "provenance": [],
      "include_colab_link": true
    },
    "kernelspec": {
      "name": "python3",
      "display_name": "Python 3"
    }
  },
  "cells": [
    {
      "cell_type": "markdown",
      "metadata": {
        "id": "view-in-github",
        "colab_type": "text"
      },
      "source": [
        "<a href=\"https://colab.research.google.com/github/lahmuller/CS_Notes/blob/main/Notes/Python.ipynb\" target=\"_parent\"><img src=\"https://colab.research.google.com/assets/colab-badge.svg\" alt=\"Open In Colab\"/></a>"
      ]
    },
    {
      "cell_type": "markdown",
      "metadata": {
        "id": "S1a7xGWrkeD9"
      },
      "source": [
        "# String"
      ]
    },
    {
      "cell_type": "markdown",
      "metadata": {
        "id": "_ih_U4uMm4K8"
      },
      "source": [
        "You can use single or double quotes around the strings. This flexibility allows you to use quotes and apostrophes within your strings."
      ]
    },
    {
      "cell_type": "code",
      "metadata": {
        "id": "d8xCnJ-qkhWT",
        "colab": {
          "base_uri": "https://localhost:8080/"
        },
        "outputId": "d535f5ba-72e8-445f-836b-c9d83b9e4725"
      },
      "source": [
        "message='I told my friend, \"Python is my favorite lauguage!\"'\r\n",
        "print(message)\r\n",
        "message=\"The language 'Python' is named after Monty Python, not the snake\"\r\n",
        "print(message)"
      ],
      "execution_count": null,
      "outputs": [
        {
          "output_type": "stream",
          "text": [
            "I told my friend, \"Python is my favorite lauguage!\"\n",
            "The language 'Python' is named after Monty Python, not the snake\n"
          ],
          "name": "stdout"
        }
      ]
    },
    {
      "cell_type": "markdown",
      "metadata": {
        "id": "k6VApFbzutOv"
      },
      "source": [
        "## Changing Case in a String with Methods"
      ]
    },
    {
      "cell_type": "code",
      "metadata": {
        "id": "ZEqGETR6pKeO",
        "colab": {
          "base_uri": "https://localhost:8080/"
        },
        "outputId": "9476b700-5ca7-453f-90fe-0b60539dbc9d"
      },
      "source": [
        "name=\"aDa loVelace\"\r\n",
        "print(name.title()) # each word begins with a capital letter\r\n",
        "print(name.upper())\r\n",
        "print(name.lower())"
      ],
      "execution_count": null,
      "outputs": [
        {
          "output_type": "stream",
          "text": [
            "Ada Lovelace\n",
            "ADA LOVELACE\n",
            "ada lovelace\n"
          ],
          "name": "stdout"
        }
      ]
    },
    {
      "cell_type": "markdown",
      "metadata": {
        "id": "tqYSRlGatJdo"
      },
      "source": [
        "## Using variables in Strings\r\n",
        "To insert a variable's value into a string, place the letter *f* immediately before the opening quotation mark. Put braces around the name or the names of any variable. Python will replace each variable with its value when the string is displayed. "
      ]
    },
    {
      "cell_type": "code",
      "metadata": {
        "id": "-6zLuCMaqxXg",
        "colab": {
          "base_uri": "https://localhost:8080/"
        },
        "outputId": "602e4b32-2892-408c-89e0-abeca83c6672"
      },
      "source": [
        "first_name=\"ada\"\r\n",
        "last_name=\"lovelace\"\r\n",
        "full_name=f\"{first_name} {last_name}\"# This string is called f-string. The f is for format\r\n",
        "print(full_name)\r\n",
        "a=11\r\n",
        "print(f\"Hello, {full_name.title()} {a}\")"
      ],
      "execution_count": null,
      "outputs": [
        {
          "output_type": "stream",
          "text": [
            "ada lovelace\n",
            "Hello, Ada Lovelace 11\n"
          ],
          "name": "stdout"
        }
      ]
    },
    {
      "cell_type": "markdown",
      "metadata": {
        "id": "_j2wGI6Pt008"
      },
      "source": [
        "F-string were first introduced in Python 3.6. In Python 3.5 or earlier, we need to use the ***format()*** method rather than this f syntax."
      ]
    },
    {
      "cell_type": "code",
      "metadata": {
        "id": "seFaYz6MuLNo",
        "colab": {
          "base_uri": "https://localhost:8080/"
        },
        "outputId": "fb4b0b41-0397-4212-9352-8f705489aea4"
      },
      "source": [
        "full_name=\"{} {}\".format(first_name,last_name)\r\n",
        "print(full_name)"
      ],
      "execution_count": null,
      "outputs": [
        {
          "output_type": "stream",
          "text": [
            "ada lovelace\n"
          ],
          "name": "stdout"
        }
      ]
    },
    {
      "cell_type": "markdown",
      "metadata": {
        "id": "zTwPwDqIvAtk"
      },
      "source": [
        "## Adding Whitespace to Strings with Tabs or Newlines"
      ]
    },
    {
      "cell_type": "code",
      "metadata": {
        "id": "PJF2M2vzvJmu",
        "colab": {
          "base_uri": "https://localhost:8080/"
        },
        "outputId": "1eb30e1e-c056-4268-c382-526f92fee987"
      },
      "source": [
        "print(\"Python\\n\")\r\n",
        "print(\"\\tPython\\n\")\r\n",
        "print(\"Languages:\\nPython\\nC\\nJavaScript\\n\")\r\n",
        "print(\"Languages:\\n\\tPython\\n\\tC\\n\\tJavaScript\")"
      ],
      "execution_count": null,
      "outputs": [
        {
          "output_type": "stream",
          "text": [
            "Python\n",
            "\n",
            "\tPython\n",
            "\n",
            "Languages:\n",
            "Python\n",
            "C\n",
            "JavaScript\n",
            "\n",
            "Languages:\n",
            "\tPython\n",
            "\tC\n",
            "\tJavaScript\n"
          ],
          "name": "stdout"
        }
      ]
    },
    {
      "cell_type": "markdown",
      "metadata": {
        "id": "tWhKwl2QxTD4"
      },
      "source": [
        "## Stripping Whitespace"
      ]
    },
    {
      "cell_type": "code",
      "metadata": {
        "id": "1Mib4vORxXpM",
        "colab": {
          "base_uri": "https://localhost:8080/"
        },
        "outputId": "081db268-20c8-4d70-ed2c-590a50f2931a"
      },
      "source": [
        "s='  python  '\r\n",
        "print(s.rstrip())# right\r\n",
        "print(s.lstrip())# left\r\n",
        "print(s.strip())# both side"
      ],
      "execution_count": null,
      "outputs": [
        {
          "output_type": "stream",
          "text": [
            "  python\n",
            "python  \n",
            "python\n"
          ],
          "name": "stdout"
        }
      ]
    },
    {
      "cell_type": "markdown",
      "metadata": {
        "id": "CPznO63Qzlar"
      },
      "source": [
        "# Numbers"
      ]
    },
    {
      "cell_type": "markdown",
      "metadata": {
        "id": "E4Nwx9G7zymP"
      },
      "source": [
        "## Floats\r\n",
        "Python calls any number with a decimal point a ***float***"
      ]
    },
    {
      "cell_type": "code",
      "metadata": {
        "id": "eCSbpZhBz5RN",
        "colab": {
          "base_uri": "https://localhost:8080/"
        },
        "outputId": "8afa92d4-513c-4e28-ef3d-8d6d04843b1d"
      },
      "source": [
        "print(0.2+0.1) # This happens in all languages and is of little concern.\r\n",
        "# when you divide any two numbers, even if they are integers that result in a whole number, you'll always get a float\r\n",
        "print(4/2)"
      ],
      "execution_count": null,
      "outputs": [
        {
          "output_type": "stream",
          "text": [
            "0.30000000000000004\n",
            "2.0\n"
          ],
          "name": "stdout"
        }
      ]
    },
    {
      "cell_type": "markdown",
      "metadata": {
        "id": "xWaf9kPQ1DpQ"
      },
      "source": [
        "When writing long numebrs, we can group digits using underscores to make large numbers more readable"
      ]
    },
    {
      "cell_type": "code",
      "metadata": {
        "id": "iSFPDJ7Y0sYc",
        "colab": {
          "base_uri": "https://localhost:8080/"
        },
        "outputId": "4f98f040-04fa-4d24-a65f-12b514cc276f"
      },
      "source": [
        "universe_age=14_000_000_000\r\n",
        "print(universe_age)"
      ],
      "execution_count": null,
      "outputs": [
        {
          "output_type": "stream",
          "text": [
            "14000000000\n"
          ],
          "name": "stdout"
        }
      ]
    },
    {
      "cell_type": "markdown",
      "metadata": {
        "id": "z8xMnWVy1tc-"
      },
      "source": [
        "Multiple assignment"
      ]
    },
    {
      "cell_type": "code",
      "metadata": {
        "id": "DAW1VwnE1yZ_"
      },
      "source": [
        "x,y,z=0,0,0"
      ],
      "execution_count": null,
      "outputs": []
    },
    {
      "cell_type": "markdown",
      "metadata": {
        "id": "a3Tuj1vf2MN_"
      },
      "source": [
        "A constant is like a variable whose value stays the same throughout the life of a program. Python doesn’t have built-in constant types, but Python programmers use all capital letters to indicate a variable should be treated as a constant and never be changed"
      ]
    },
    {
      "cell_type": "code",
      "metadata": {
        "id": "h1mYPKkO2Rlf"
      },
      "source": [
        "MAX_CONNECTIONS=5000"
      ],
      "execution_count": null,
      "outputs": []
    },
    {
      "cell_type": "markdown",
      "metadata": {
        "id": "EUGITGKDdDru"
      },
      "source": [
        "# List"
      ]
    },
    {
      "cell_type": "markdown",
      "metadata": {
        "id": "mWF4M5jZeTlG"
      },
      "source": [
        "## Appending Elements to the End of a List"
      ]
    },
    {
      "cell_type": "code",
      "metadata": {
        "id": "jhC8Y0efeYce",
        "outputId": "94da5e99-b9e1-4238-f66e-976a394ff8af",
        "colab": {
          "base_uri": "https://localhost:8080/"
        }
      },
      "source": [
        "motor=['honda','yamaha','suzuki']\r\n",
        "motor.append('ducati')\r\n",
        "print(motor)"
      ],
      "execution_count": 2,
      "outputs": [
        {
          "output_type": "stream",
          "text": [
            "['honda', 'yamaha', 'suzuki', 'ducati']\n"
          ],
          "name": "stdout"
        }
      ]
    },
    {
      "cell_type": "markdown",
      "metadata": {
        "id": "tc1JKd9le-FB"
      },
      "source": [
        "## Removing Elements from a List"
      ]
    },
    {
      "cell_type": "markdown",
      "metadata": {
        "id": "Bv-rEaCEhsQ3"
      },
      "source": [
        "### By position"
      ]
    },
    {
      "cell_type": "code",
      "metadata": {
        "id": "SA4cUovhfX8B",
        "outputId": "66cbd20f-61a7-40b2-f16f-07ae73baa617",
        "colab": {
          "base_uri": "https://localhost:8080/"
        }
      },
      "source": [
        "# If the position of the element is known\r\n",
        "del motor[0]\r\n",
        "print(motor)\r\n",
        "#pop()\r\n",
        "popped_element=motor.pop()\r\n",
        "print(motor)\r\n",
        "print(popped_element)"
      ],
      "execution_count": 3,
      "outputs": [
        {
          "output_type": "stream",
          "text": [
            "['yamaha', 'suzuki', 'ducati']\n",
            "['yamaha', 'suzuki']\n",
            "ducati\n"
          ],
          "name": "stdout"
        }
      ]
    },
    {
      "cell_type": "markdown",
      "metadata": {
        "id": "A_xdss3Ig3Yi"
      },
      "source": [
        "Popping items from any position in a List"
      ]
    },
    {
      "cell_type": "code",
      "metadata": {
        "id": "byg9KuZ6g2Mu",
        "outputId": "1553dba9-b25f-4c9e-9d34-a60f133f86a4",
        "colab": {
          "base_uri": "https://localhost:8080/"
        }
      },
      "source": [
        "motor=['honda','yamaha','suzuki']\r\n",
        "elem1=motor.pop(1)\r\n",
        "print(motor,elem1)"
      ],
      "execution_count": 4,
      "outputs": [
        {
          "output_type": "stream",
          "text": [
            "['honda', 'suzuki'] yamaha\n"
          ],
          "name": "stdout"
        }
      ]
    },
    {
      "cell_type": "markdown",
      "metadata": {
        "id": "b7BtFwWKhvsY"
      },
      "source": [
        "### By value"
      ]
    },
    {
      "cell_type": "code",
      "metadata": {
        "id": "copJb8kVhyN7",
        "outputId": "41ef0354-5ce0-4011-c4b2-a7fe8d418ac8",
        "colab": {
          "base_uri": "https://localhost:8080/"
        }
      },
      "source": [
        "motor.remove('honda')\r\n",
        "print(motor)\r\n",
        "# remove() deletes only the first occurence of the value we specify"
      ],
      "execution_count": 5,
      "outputs": [
        {
          "output_type": "stream",
          "text": [
            "['suzuki']\n"
          ],
          "name": "stdout"
        }
      ]
    },
    {
      "cell_type": "markdown",
      "metadata": {
        "id": "LQFsH7uditC1"
      },
      "source": [
        "## Organizing a List"
      ]
    },
    {
      "cell_type": "markdown",
      "metadata": {
        "id": "N5UNbGXWjEnH"
      },
      "source": [
        "### Sorting a List Permanently with the sort() Method"
      ]
    },
    {
      "cell_type": "code",
      "metadata": {
        "id": "3_8NI2nOjMMc",
        "outputId": "2b5503c9-be99-4772-98f2-afca06aeccb9",
        "colab": {
          "base_uri": "https://localhost:8080/"
        }
      },
      "source": [
        "cars=['bmw','audi','toyota','subaru']\r\n",
        "cars.sort()\r\n",
        "print(cars)\r\n",
        "# You can also sort this in reverse alphabetical order by passing the argument reverse=True to sort() method\r\n",
        "cars.sort(reverse=True)\r\n",
        "print(cars)"
      ],
      "execution_count": 7,
      "outputs": [
        {
          "output_type": "stream",
          "text": [
            "['audi', 'bmw', 'subaru', 'toyota']\n",
            "['toyota', 'subaru', 'bmw', 'audi']\n"
          ],
          "name": "stdout"
        }
      ]
    },
    {
      "cell_type": "markdown",
      "metadata": {
        "id": "NPdsD3Vrj4u1"
      },
      "source": [
        "### Sorting a List Temporarily with the sorted() Function"
      ]
    },
    {
      "cell_type": "code",
      "metadata": {
        "id": "Cm6o4b4Lj6_d",
        "outputId": "c604b1bf-5957-4f6c-def7-7ffa05989214",
        "colab": {
          "base_uri": "https://localhost:8080/"
        }
      },
      "source": [
        "print(cars)\r\n",
        "print(sorted(cars))\r\n",
        "print(cars)"
      ],
      "execution_count": 8,
      "outputs": [
        {
          "output_type": "stream",
          "text": [
            "['toyota', 'subaru', 'bmw', 'audi']\n",
            "['audi', 'bmw', 'subaru', 'toyota']\n",
            "['toyota', 'subaru', 'bmw', 'audi']\n"
          ],
          "name": "stdout"
        }
      ]
    },
    {
      "cell_type": "markdown",
      "metadata": {
        "id": "f5HwZNfMkpvz"
      },
      "source": [
        "### Reversing a List"
      ]
    },
    {
      "cell_type": "code",
      "metadata": {
        "id": "Yh_S2d2gk0In",
        "outputId": "fd4517b8-0bb5-4089-9dac-bb48dbb4cde3",
        "colab": {
          "base_uri": "https://localhost:8080/"
        }
      },
      "source": [
        "cars=['bmw','audi','toyota','subaru']\r\n",
        "cars.reverse()\r\n",
        "print(cars)"
      ],
      "execution_count": 9,
      "outputs": [
        {
          "output_type": "stream",
          "text": [
            "['subaru', 'toyota', 'audi', 'bmw']\n"
          ],
          "name": "stdout"
        }
      ]
    },
    {
      "cell_type": "markdown",
      "metadata": {
        "id": "zmcBpdDIl0hq"
      },
      "source": [
        "### Finding the length of a List"
      ]
    },
    {
      "cell_type": "code",
      "metadata": {
        "id": "4AZPpCE9l9TB",
        "outputId": "80815685-764c-4e4c-cef8-f4070b0712a2",
        "colab": {
          "base_uri": "https://localhost:8080/"
        }
      },
      "source": [
        "len(cars)"
      ],
      "execution_count": 10,
      "outputs": [
        {
          "output_type": "execute_result",
          "data": {
            "text/plain": [
              "4"
            ]
          },
          "metadata": {
            "tags": []
          },
          "execution_count": 10
        }
      ]
    },
    {
      "cell_type": "markdown",
      "metadata": {
        "id": "UdlAiytCsFC6"
      },
      "source": [
        "## Making Numerical Lists"
      ]
    },
    {
      "cell_type": "markdown",
      "metadata": {
        "id": "ehcKEwQAsKCq"
      },
      "source": [
        "### Using range() to make a list of Numbers"
      ]
    },
    {
      "cell_type": "code",
      "metadata": {
        "id": "cRqJXVLHsQtb",
        "outputId": "0d0f0dda-a2d7-4c81-ed9f-114b52e99b59",
        "colab": {
          "base_uri": "https://localhost:8080/"
        }
      },
      "source": [
        "numbers=list(range(1,6))\r\n",
        "print(numbers)\r\n",
        "# skip numbers in a given range\r\n",
        "even_numbers=list(range(2,11,2))\r\n",
        "print(even_numbers)"
      ],
      "execution_count": 11,
      "outputs": [
        {
          "output_type": "stream",
          "text": [
            "[1, 2, 3, 4, 5]\n",
            "[2, 4, 6, 8, 10]\n"
          ],
          "name": "stdout"
        }
      ]
    },
    {
      "cell_type": "markdown",
      "metadata": {
        "id": "o1YfvnCvuDuu"
      },
      "source": [
        "### Simple Statistics with a List of Numbers"
      ]
    },
    {
      "cell_type": "code",
      "metadata": {
        "id": "o2Y90t9wuQf-",
        "outputId": "bf5e6804-f7c1-4e8c-a231-e7ae364fe218",
        "colab": {
          "base_uri": "https://localhost:8080/"
        }
      },
      "source": [
        "digits=list(range(10))\r\n",
        "print(min(digits),max(digits),sum(digits))"
      ],
      "execution_count": 12,
      "outputs": [
        {
          "output_type": "stream",
          "text": [
            "0 9 45\n"
          ],
          "name": "stdout"
        }
      ]
    },
    {
      "cell_type": "markdown",
      "metadata": {
        "id": "zP76585Tugka"
      },
      "source": [
        "### List Comprehension"
      ]
    },
    {
      "cell_type": "code",
      "metadata": {
        "id": "o1JkeW7ruiqk",
        "outputId": "4e3cff7f-eca4-479b-ea41-1de2abf1d1cd",
        "colab": {
          "base_uri": "https://localhost:8080/"
        }
      },
      "source": [
        "squares=[value**2 for value in range(1,11)]\r\n",
        "print(squares)"
      ],
      "execution_count": 13,
      "outputs": [
        {
          "output_type": "stream",
          "text": [
            "[1, 4, 9, 16, 25, 36, 49, 64, 81, 100]\n"
          ],
          "name": "stdout"
        }
      ]
    },
    {
      "cell_type": "markdown",
      "metadata": {
        "id": "cV_HqwzwvHh5"
      },
      "source": [
        "## Working with Part of a List\r\n",
        "### Slicing a List"
      ]
    },
    {
      "cell_type": "code",
      "metadata": {
        "id": "WBzJvy7ovKWc",
        "outputId": "ae99622c-f845-4a5b-8c2f-da0119625d88",
        "colab": {
          "base_uri": "https://localhost:8080/"
        }
      },
      "source": [
        "players=['charles','martina','michael','florence','eli']\r\n",
        "print(players[0:3])\r\n",
        "print(players[1:4])\r\n",
        "print(players[:4])\r\n",
        "print(players[2:])\r\n",
        "print(players[-3:])# the last three\r\n",
        "print(players[::2])# skip"
      ],
      "execution_count": 14,
      "outputs": [
        {
          "output_type": "stream",
          "text": [
            "['charles', 'martina', 'michael']\n",
            "['martina', 'michael', 'florence']\n",
            "['charles', 'martina', 'michael', 'florence']\n",
            "['michael', 'florence', 'eli']\n",
            "['michael', 'florence', 'eli']\n",
            "['charles', 'michael', 'eli']\n"
          ],
          "name": "stdout"
        }
      ]
    },
    {
      "cell_type": "markdown",
      "metadata": {
        "id": "vbVAVLmewyIT"
      },
      "source": [
        "### Copying a List"
      ]
    },
    {
      "cell_type": "code",
      "metadata": {
        "id": "cXyPgYYFw8M6",
        "outputId": "16c6c4c0-321d-4bad-e23e-a512eb01a12e",
        "colab": {
          "base_uri": "https://localhost:8080/"
        }
      },
      "source": [
        "food=['pizza','falafel','carrot cake']\r\n",
        "friend_food=food[:]\r\n",
        "food.append('steak')\r\n",
        "print(food,friend_food)"
      ],
      "execution_count": 15,
      "outputs": [
        {
          "output_type": "stream",
          "text": [
            "['pizza', 'falafel', 'carrot cake', 'steak'] ['pizza', 'falafel', 'carrot cake']\n"
          ],
          "name": "stdout"
        }
      ]
    },
    {
      "cell_type": "markdown",
      "metadata": {
        "id": "Dc7hA933yUX8"
      },
      "source": [
        "# Tuples\r\n",
        "Python refers to values that cannot change as immutable, and a immutable list is called tuple.\r\n",
        "\r\n",
        "Tuples are technically defined by the presence of a ***comma***; the parentheses make them look neater and more readable. If we want to define a tuple with one element, we need to include a ***trailing comma***"
      ]
    },
    {
      "cell_type": "code",
      "metadata": {
        "id": "qNSs-mimyV-W"
      },
      "source": [
        "my_t=(2,)"
      ],
      "execution_count": 16,
      "outputs": []
    },
    {
      "cell_type": "markdown",
      "metadata": {
        "id": "zRPo5l7v0u8y"
      },
      "source": [
        "## Writing over a Tuple\r\n",
        "* Although we cannot modify a tuple, we can assign a new value to a variable that represents a tuple."
      ]
    },
    {
      "cell_type": "code",
      "metadata": {
        "id": "ZYl43nDm0t7M",
        "outputId": "9165927e-d977-40bf-da4f-3185a7e8d88c",
        "colab": {
          "base_uri": "https://localhost:8080/"
        }
      },
      "source": [
        "dimensions=(200,50)\r\n",
        "for dim in dimensions:\r\n",
        "  print(dim)\r\n",
        "dimensions=(400,100)\r\n",
        "for dim in dimensions:\r\n",
        "  print(dim)"
      ],
      "execution_count": 17,
      "outputs": [
        {
          "output_type": "stream",
          "text": [
            "200\n",
            "50\n",
            "400\n",
            "100\n"
          ],
          "name": "stdout"
        }
      ]
    },
    {
      "cell_type": "markdown",
      "metadata": {
        "id": "2AYe99fYoMtk"
      },
      "source": [
        "# matplotlib"
      ]
    },
    {
      "cell_type": "markdown",
      "metadata": {
        "id": "aVjXq0EsocMU"
      },
      "source": [
        "## pyplot"
      ]
    },
    {
      "cell_type": "code",
      "metadata": {
        "id": "LFkUzHXIoJce"
      },
      "source": [
        "import matplotlib.pyplot as plt\n",
        "plt.tight_layerout(pad=1.08,h_pad=None,w_pad=None,rec=None)\n",
        "# pad is used for padding between the figure edge and the edges of subplots, as a fraction of the font size\n",
        "# h_pad, w_pad is for height and width padding.\n",
        "# rect: This parameter is rectangle in the normalized figure coordinate that the whole subplots area will fit into."
      ],
      "execution_count": null,
      "outputs": []
    }
  ]
}