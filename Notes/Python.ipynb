{
  "nbformat": 4,
  "nbformat_minor": 0,
  "metadata": {
    "orig_nbformat": 2,
    "colab": {
      "name": "Python.ipynb",
      "provenance": [],
      "include_colab_link": true
    },
    "kernelspec": {
      "name": "python3",
      "display_name": "Python 3"
    }
  },
  "cells": [
    {
      "cell_type": "markdown",
      "metadata": {
        "id": "view-in-github",
        "colab_type": "text"
      },
      "source": [
        "<a href=\"https://colab.research.google.com/github/lahmuller/CS_Notes/blob/main/Notes/Python.ipynb\" target=\"_parent\"><img src=\"https://colab.research.google.com/assets/colab-badge.svg\" alt=\"Open In Colab\"/></a>"
      ]
    },
    {
      "cell_type": "markdown",
      "metadata": {
        "id": "S1a7xGWrkeD9"
      },
      "source": [
        "# String"
      ]
    },
    {
      "cell_type": "markdown",
      "metadata": {
        "id": "_ih_U4uMm4K8"
      },
      "source": [
        "You can use single or double quotes around the strings. This flexibility allows you to use quotes and apostrophes within your strings."
      ]
    },
    {
      "cell_type": "code",
      "metadata": {
        "id": "d8xCnJ-qkhWT",
        "outputId": "d535f5ba-72e8-445f-836b-c9d83b9e4725",
        "colab": {
          "base_uri": "https://localhost:8080/"
        }
      },
      "source": [
        "message='I told my friend, \"Python is my favorite lauguage!\"'\r\n",
        "print(message)\r\n",
        "message=\"The language 'Python' is named after Monty Python, not the snake\"\r\n",
        "print(message)"
      ],
      "execution_count": 2,
      "outputs": [
        {
          "output_type": "stream",
          "text": [
            "I told my friend, \"Python is my favorite lauguage!\"\n",
            "The language 'Python' is named after Monty Python, not the snake\n"
          ],
          "name": "stdout"
        }
      ]
    },
    {
      "cell_type": "markdown",
      "metadata": {
        "id": "k6VApFbzutOv"
      },
      "source": [
        "## Changing Case in a String with Methods"
      ]
    },
    {
      "cell_type": "code",
      "metadata": {
        "id": "ZEqGETR6pKeO",
        "outputId": "9476b700-5ca7-453f-90fe-0b60539dbc9d",
        "colab": {
          "base_uri": "https://localhost:8080/"
        }
      },
      "source": [
        "name=\"aDa loVelace\"\r\n",
        "print(name.title()) # each word begins with a capital letter\r\n",
        "print(name.upper())\r\n",
        "print(name.lower())"
      ],
      "execution_count": 4,
      "outputs": [
        {
          "output_type": "stream",
          "text": [
            "Ada Lovelace\n",
            "ADA LOVELACE\n",
            "ada lovelace\n"
          ],
          "name": "stdout"
        }
      ]
    },
    {
      "cell_type": "markdown",
      "metadata": {
        "id": "tqYSRlGatJdo"
      },
      "source": [
        "## Using variables in Strings\r\n",
        "To insert a variable's value into a string, place the letter *f* immediately before the opening quotation mark. Put braces around the name or the names of any variable. Python will replace each variable with its value when the string is displayed. "
      ]
    },
    {
      "cell_type": "code",
      "metadata": {
        "id": "-6zLuCMaqxXg",
        "outputId": "602e4b32-2892-408c-89e0-abeca83c6672",
        "colab": {
          "base_uri": "https://localhost:8080/"
        }
      },
      "source": [
        "first_name=\"ada\"\r\n",
        "last_name=\"lovelace\"\r\n",
        "full_name=f\"{first_name} {last_name}\"# This string is called f-string. The f is for format\r\n",
        "print(full_name)\r\n",
        "a=11\r\n",
        "print(f\"Hello, {full_name.title()} {a}\")"
      ],
      "execution_count": 6,
      "outputs": [
        {
          "output_type": "stream",
          "text": [
            "ada lovelace\n",
            "Hello, Ada Lovelace 11\n"
          ],
          "name": "stdout"
        }
      ]
    },
    {
      "cell_type": "markdown",
      "metadata": {
        "id": "_j2wGI6Pt008"
      },
      "source": [
        "F-string were first introduced in Python 3.6. In Python 3.5 or earlier, we need to use the ***format()*** method rather than this f syntax."
      ]
    },
    {
      "cell_type": "code",
      "metadata": {
        "id": "seFaYz6MuLNo",
        "outputId": "fb4b0b41-0397-4212-9352-8f705489aea4",
        "colab": {
          "base_uri": "https://localhost:8080/"
        }
      },
      "source": [
        "full_name=\"{} {}\".format(first_name,last_name)\r\n",
        "print(full_name)"
      ],
      "execution_count": 7,
      "outputs": [
        {
          "output_type": "stream",
          "text": [
            "ada lovelace\n"
          ],
          "name": "stdout"
        }
      ]
    },
    {
      "cell_type": "markdown",
      "metadata": {
        "id": "zTwPwDqIvAtk"
      },
      "source": [
        "## Adding Whitespace to Strings with Tabs or Newlines"
      ]
    },
    {
      "cell_type": "code",
      "metadata": {
        "id": "PJF2M2vzvJmu",
        "outputId": "1eb30e1e-c056-4268-c382-526f92fee987",
        "colab": {
          "base_uri": "https://localhost:8080/"
        }
      },
      "source": [
        "print(\"Python\\n\")\r\n",
        "print(\"\\tPython\\n\")\r\n",
        "print(\"Languages:\\nPython\\nC\\nJavaScript\\n\")\r\n",
        "print(\"Languages:\\n\\tPython\\n\\tC\\n\\tJavaScript\")"
      ],
      "execution_count": 9,
      "outputs": [
        {
          "output_type": "stream",
          "text": [
            "Python\n",
            "\n",
            "\tPython\n",
            "\n",
            "Languages:\n",
            "Python\n",
            "C\n",
            "JavaScript\n",
            "\n",
            "Languages:\n",
            "\tPython\n",
            "\tC\n",
            "\tJavaScript\n"
          ],
          "name": "stdout"
        }
      ]
    },
    {
      "cell_type": "markdown",
      "metadata": {
        "id": "tWhKwl2QxTD4"
      },
      "source": [
        "## Stripping Whitespace"
      ]
    },
    {
      "cell_type": "code",
      "metadata": {
        "id": "1Mib4vORxXpM",
        "outputId": "081db268-20c8-4d70-ed2c-590a50f2931a",
        "colab": {
          "base_uri": "https://localhost:8080/"
        }
      },
      "source": [
        "s='  python  '\r\n",
        "print(s.rstrip())# right\r\n",
        "print(s.lstrip())# left\r\n",
        "print(s.strip())# both side"
      ],
      "execution_count": 10,
      "outputs": [
        {
          "output_type": "stream",
          "text": [
            "  python\n",
            "python  \n",
            "python\n"
          ],
          "name": "stdout"
        }
      ]
    },
    {
      "cell_type": "markdown",
      "metadata": {
        "id": "CPznO63Qzlar"
      },
      "source": [
        "# Numbers"
      ]
    },
    {
      "cell_type": "markdown",
      "metadata": {
        "id": "E4Nwx9G7zymP"
      },
      "source": [
        "## Floats\r\n",
        "Python calls any number with a decimal point a ***float***"
      ]
    },
    {
      "cell_type": "code",
      "metadata": {
        "id": "eCSbpZhBz5RN",
        "outputId": "8afa92d4-513c-4e28-ef3d-8d6d04843b1d",
        "colab": {
          "base_uri": "https://localhost:8080/"
        }
      },
      "source": [
        "print(0.2+0.1) # This happens in all languages and is of little concern.\r\n",
        "# when you divide any two numbers, even if they are integers that result in a whole number, you'll always get a float\r\n",
        "print(4/2)"
      ],
      "execution_count": 13,
      "outputs": [
        {
          "output_type": "stream",
          "text": [
            "0.30000000000000004\n",
            "2.0\n"
          ],
          "name": "stdout"
        }
      ]
    },
    {
      "cell_type": "markdown",
      "metadata": {
        "id": "xWaf9kPQ1DpQ"
      },
      "source": [
        "When writing long numebrs, we can group digits using underscores to make large numbers more readable"
      ]
    },
    {
      "cell_type": "code",
      "metadata": {
        "id": "iSFPDJ7Y0sYc",
        "outputId": "4f98f040-04fa-4d24-a65f-12b514cc276f",
        "colab": {
          "base_uri": "https://localhost:8080/"
        }
      },
      "source": [
        "universe_age=14_000_000_000\r\n",
        "print(universe_age)"
      ],
      "execution_count": 14,
      "outputs": [
        {
          "output_type": "stream",
          "text": [
            "14000000000\n"
          ],
          "name": "stdout"
        }
      ]
    },
    {
      "cell_type": "markdown",
      "metadata": {
        "id": "z8xMnWVy1tc-"
      },
      "source": [
        "Multiple assignment"
      ]
    },
    {
      "cell_type": "code",
      "metadata": {
        "id": "DAW1VwnE1yZ_"
      },
      "source": [
        "x,y,z=0,0,0"
      ],
      "execution_count": null,
      "outputs": []
    },
    {
      "cell_type": "markdown",
      "metadata": {
        "id": "a3Tuj1vf2MN_"
      },
      "source": [
        "A constant is like a variable whose value stays the same throughout the life of a program. Python doesn’t have built-in constant types, but Python programmers use all capital letters to indicate a variable should be treated as a constant and never be changed"
      ]
    },
    {
      "cell_type": "code",
      "metadata": {
        "id": "h1mYPKkO2Rlf"
      },
      "source": [
        "MAX_CONNECTIONS=5000"
      ],
      "execution_count": null,
      "outputs": []
    },
    {
      "cell_type": "markdown",
      "metadata": {
        "id": "2AYe99fYoMtk"
      },
      "source": [
        "# matplotlib"
      ]
    },
    {
      "cell_type": "markdown",
      "metadata": {
        "id": "aVjXq0EsocMU"
      },
      "source": [
        "## pyplot"
      ]
    },
    {
      "cell_type": "code",
      "metadata": {
        "id": "LFkUzHXIoJce"
      },
      "source": [
        "import matplotlib.pyplot as plt\n",
        "plt.tight_layerout(pad=1.08,h_pad=None,w_pad=None,rec=None)\n",
        "# pad is used for padding between the figure edge and the edges of subplots, as a fraction of the font size\n",
        "# h_pad, w_pad is for height and width padding.\n",
        "# rect: This parameter is rectangle in the normalized figure coordinate that the whole subplots area will fit into."
      ],
      "execution_count": null,
      "outputs": []
    }
  ]
}